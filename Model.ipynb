{
 "cells": [
  {
   "cell_type": "markdown",
   "metadata": {},
   "source": [
    "<font color='black'><h1 align=\"center\"> Kia cars price prediction model </h1></font>\n",
    "<a id=\"Why\"></a>\n",
    "\n",
    "<right><img width=\"800\" src='https://i.pinimg.com/originals/15/c4/97/15c4976dfcab6c8984839b47b70ba861.jpg'></right>"
   ]
  },
  {
   "cell_type": "code",
   "execution_count": 1,
   "metadata": {
    "id": "W0XeJbakI3xj",
    "scrolled": true
   },
   "outputs": [],
   "source": [
    "import pandas as pd\n",
    "import numpy as np\n",
    "import matplotlib.pyplot as plt\n",
    "%matplotlib inline\n",
    "import pickle\n",
    "import seaborn as sns\n",
    "from scipy import stats\n",
    "from sklearn.model_selection import train_test_split\n",
    "from sklearn.linear_model import LinearRegression\n",
    "from sklearn.tree import DecisionTreeRegressor\n",
    "from sklearn.linear_model import Lasso\n",
    "from sklearn import metrics\n",
    "from sklearn.preprocessing import StandardScaler\n",
    "import plotly.express as px\n",
    "sns.set()"
   ]
  },
  {
   "cell_type": "markdown",
   "metadata": {
    "id": "BsMuO5X09eJf"
   },
   "source": [
    "# Data Exploration"
   ]
  },
  {
   "cell_type": "code",
   "execution_count": 1,
   "metadata": {
    "colab": {
     "base_uri": "https://localhost:8080/",
     "height": 0
    },
    "id": "Qz2kavZPRalL",
    "outputId": "4eb372c5-d121-4462-c14e-51a956dde1ef"
   },
   "outputs": [
    {
     "data": {
      "application/javascript": [
       "\n",
       "        if (window._pyforest_update_imports_cell) { window._pyforest_update_imports_cell('import pandas as pd'); }\n",
       "    "
      ],
      "text/plain": [
       "<IPython.core.display.Javascript object>"
      ]
     },
     "metadata": {},
     "output_type": "display_data"
    },
    {
     "data": {
      "text/html": [
       "<div>\n",
       "<style scoped>\n",
       "    .dataframe tbody tr th:only-of-type {\n",
       "        vertical-align: middle;\n",
       "    }\n",
       "\n",
       "    .dataframe tbody tr th {\n",
       "        vertical-align: top;\n",
       "    }\n",
       "\n",
       "    .dataframe thead th {\n",
       "        text-align: right;\n",
       "    }\n",
       "</style>\n",
       "<table border=\"1\" class=\"dataframe\">\n",
       "  <thead>\n",
       "    <tr style=\"text-align: right;\">\n",
       "      <th></th>\n",
       "      <th>city</th>\n",
       "      <th>year</th>\n",
       "      <th>brand</th>\n",
       "      <th>model</th>\n",
       "      <th>color</th>\n",
       "      <th>body_type</th>\n",
       "      <th>engine</th>\n",
       "      <th>engine_power</th>\n",
       "      <th>fuel_type</th>\n",
       "      <th>kilometrage</th>\n",
       "      <th>transmission</th>\n",
       "      <th>drivetrain</th>\n",
       "      <th>new</th>\n",
       "      <th>price</th>\n",
       "    </tr>\n",
       "  </thead>\n",
       "  <tbody>\n",
       "    <tr>\n",
       "      <th>0</th>\n",
       "      <td>Sumqayıt</td>\n",
       "      <td>2008</td>\n",
       "      <td>Kia</td>\n",
       "      <td>Ceed</td>\n",
       "      <td>Göy</td>\n",
       "      <td>Universal</td>\n",
       "      <td>1.6 L</td>\n",
       "      <td>115 a.g.</td>\n",
       "      <td>Dizel</td>\n",
       "      <td>167 055 km</td>\n",
       "      <td>Mexaniki</td>\n",
       "      <td>Ön</td>\n",
       "      <td>Xeyr</td>\n",
       "      <td>14 300 AZN</td>\n",
       "    </tr>\n",
       "    <tr>\n",
       "      <th>1</th>\n",
       "      <td>Bakı</td>\n",
       "      <td>2012</td>\n",
       "      <td>Kia</td>\n",
       "      <td>Sorento</td>\n",
       "      <td>Gümüşü</td>\n",
       "      <td>Offroader / SUV</td>\n",
       "      <td>2.0 L</td>\n",
       "      <td>170 a.g.</td>\n",
       "      <td>Dizel</td>\n",
       "      <td>154 000 km</td>\n",
       "      <td>Avtomat</td>\n",
       "      <td>Tam</td>\n",
       "      <td>Xeyr</td>\n",
       "      <td>32 700 AZN</td>\n",
       "    </tr>\n",
       "    <tr>\n",
       "      <th>2</th>\n",
       "      <td>Bakı</td>\n",
       "      <td>2015</td>\n",
       "      <td>Kia</td>\n",
       "      <td>Sorento</td>\n",
       "      <td>Ağ</td>\n",
       "      <td>Offroader / SUV</td>\n",
       "      <td>2.2 L</td>\n",
       "      <td>197 a.g.</td>\n",
       "      <td>Dizel</td>\n",
       "      <td>97 000 km</td>\n",
       "      <td>Avtomat</td>\n",
       "      <td>Tam</td>\n",
       "      <td>Xeyr</td>\n",
       "      <td>43 900 AZN</td>\n",
       "    </tr>\n",
       "    <tr>\n",
       "      <th>3</th>\n",
       "      <td>Sumqayıt</td>\n",
       "      <td>2008</td>\n",
       "      <td>Kia</td>\n",
       "      <td>Ceed</td>\n",
       "      <td>Gümüşü</td>\n",
       "      <td>Hetçbek / Liftbek</td>\n",
       "      <td>1.4 L</td>\n",
       "      <td>109 a.g.</td>\n",
       "      <td>Benzin</td>\n",
       "      <td>152 524 km</td>\n",
       "      <td>Mexaniki</td>\n",
       "      <td>Ön</td>\n",
       "      <td>Xeyr</td>\n",
       "      <td>13 200 AZN</td>\n",
       "    </tr>\n",
       "    <tr>\n",
       "      <th>4</th>\n",
       "      <td>Bakı</td>\n",
       "      <td>2013</td>\n",
       "      <td>Kia</td>\n",
       "      <td>Sorento</td>\n",
       "      <td>Ağ</td>\n",
       "      <td>Offroader / SUV</td>\n",
       "      <td>2.0 L</td>\n",
       "      <td>184 a.g.</td>\n",
       "      <td>Dizel</td>\n",
       "      <td>61 838 km</td>\n",
       "      <td>Avtomat</td>\n",
       "      <td>Tam</td>\n",
       "      <td>Xeyr</td>\n",
       "      <td>32 850 AZN</td>\n",
       "    </tr>\n",
       "  </tbody>\n",
       "</table>\n",
       "</div>"
      ],
      "text/plain": [
       "       city  year brand    model   color          body_type engine  \\\n",
       "0  Sumqayıt  2008   Kia     Ceed     Göy          Universal  1.6 L   \n",
       "1      Bakı  2012   Kia  Sorento  Gümüşü    Offroader / SUV  2.0 L   \n",
       "2      Bakı  2015   Kia  Sorento      Ağ    Offroader / SUV  2.2 L   \n",
       "3  Sumqayıt  2008   Kia     Ceed  Gümüşü  Hetçbek / Liftbek  1.4 L   \n",
       "4      Bakı  2013   Kia  Sorento      Ağ    Offroader / SUV  2.0 L   \n",
       "\n",
       "  engine_power fuel_type kilometrage transmission drivetrain   new       price  \n",
       "0     115 a.g.     Dizel  167 055 km     Mexaniki         Ön  Xeyr  14 300 AZN  \n",
       "1     170 a.g.     Dizel  154 000 km      Avtomat        Tam  Xeyr  32 700 AZN  \n",
       "2     197 a.g.     Dizel   97 000 km      Avtomat        Tam  Xeyr  43 900 AZN  \n",
       "3     109 a.g.    Benzin  152 524 km     Mexaniki         Ön  Xeyr  13 200 AZN  \n",
       "4     184 a.g.     Dizel   61 838 km      Avtomat        Tam  Xeyr  32 850 AZN  "
      ]
     },
     "execution_count": 1,
     "metadata": {},
     "output_type": "execute_result"
    }
   ],
   "source": [
    "df = pd.read_csv(r'C:\\Users\\CafarzadaAC\\Downloads\\aprojects\\KIA\\kia_cars.csv')\n",
    "df.head()"
   ]
  },
  {
   "cell_type": "code",
   "execution_count": 2,
   "metadata": {
    "colab": {
     "base_uri": "https://localhost:8080/"
    },
    "id": "27pQ0S9uR8DY",
    "outputId": "a9f03dd3-aa2b-46f2-d125-aeb00d04ac8e"
   },
   "outputs": [
    {
     "data": {
      "text/plain": [
       "(3867, 14)"
      ]
     },
     "execution_count": 2,
     "metadata": {},
     "output_type": "execute_result"
    }
   ],
   "source": [
    "df.shape"
   ]
  },
  {
   "cell_type": "markdown",
   "metadata": {},
   "source": [
    "We have 3867 rows and 14 columns in the dataset"
   ]
  },
  {
   "cell_type": "code",
   "execution_count": 3,
   "metadata": {},
   "outputs": [
    {
     "name": "stdout",
     "output_type": "stream",
     "text": [
      "<class 'pandas.core.frame.DataFrame'>\n",
      "RangeIndex: 3867 entries, 0 to 3866\n",
      "Data columns (total 14 columns):\n",
      " #   Column        Non-Null Count  Dtype \n",
      "---  ------        --------------  ----- \n",
      " 0   city          3867 non-null   object\n",
      " 1   year          3867 non-null   int64 \n",
      " 2   brand         3867 non-null   object\n",
      " 3   model         3867 non-null   object\n",
      " 4   color         3867 non-null   object\n",
      " 5   body_type     3867 non-null   object\n",
      " 6   engine        3867 non-null   object\n",
      " 7   engine_power  3867 non-null   object\n",
      " 8   fuel_type     3867 non-null   object\n",
      " 9   kilometrage   3867 non-null   object\n",
      " 10  transmission  3867 non-null   object\n",
      " 11  drivetrain    3867 non-null   object\n",
      " 12  new           3867 non-null   object\n",
      " 13  price         3867 non-null   object\n",
      "dtypes: int64(1), object(13)\n",
      "memory usage: 423.1+ KB\n"
     ]
    }
   ],
   "source": [
    "df.info()"
   ]
  },
  {
   "cell_type": "markdown",
   "metadata": {},
   "source": [
    "There are two formats of data types:<br>\n",
    "\n",
    "**object**: Object format means variables are categorical. Categorical variables in our dataset are all of the columns except year. Actually there is inconsistency here because some columns should be integer data type such as price. We will fix it soon. <br>\n",
    "**int64**: It represents the integer variables. year column is of this format."
   ]
  },
  {
   "cell_type": "markdown",
   "metadata": {
    "id": "6nbvdEOrTn49"
   },
   "source": [
    "# Data Cleaning"
   ]
  },
  {
   "cell_type": "markdown",
   "metadata": {
    "id": "Ik99mEjHT9DB"
   },
   "source": [
    "### Missing and Duplicate values"
   ]
  },
  {
   "cell_type": "code",
   "execution_count": 4,
   "metadata": {
    "colab": {
     "base_uri": "https://localhost:8080/"
    },
    "id": "oKjybQL39gVv",
    "outputId": "e95091b7-fd2b-4b2b-9b65-4bca8adc4d3e"
   },
   "outputs": [
    {
     "data": {
      "text/plain": [
       "0"
      ]
     },
     "execution_count": 4,
     "metadata": {},
     "output_type": "execute_result"
    }
   ],
   "source": [
    "df.isnull().sum().sum()\n",
    "# We don't have any null value"
   ]
  },
  {
   "cell_type": "code",
   "execution_count": 5,
   "metadata": {
    "colab": {
     "base_uri": "https://localhost:8080/"
    },
    "id": "ANxRB2Uq9rZY",
    "outputId": "ca902dac-409e-42ef-adbf-9192cfad6b1e"
   },
   "outputs": [
    {
     "data": {
      "text/plain": [
       "1297"
      ]
     },
     "execution_count": 5,
     "metadata": {},
     "output_type": "execute_result"
    }
   ],
   "source": [
    "# Check for duplicates\n",
    "df.duplicated().sum()"
   ]
  },
  {
   "cell_type": "code",
   "execution_count": 6,
   "metadata": {
    "id": "Lfy8PwotALPH"
   },
   "outputs": [],
   "source": [
    "# Remove duplicates\n",
    "df.drop_duplicates(inplace = True)"
   ]
  },
  {
   "cell_type": "code",
   "execution_count": 7,
   "metadata": {},
   "outputs": [
    {
     "data": {
      "text/plain": [
       "0"
      ]
     },
     "execution_count": 7,
     "metadata": {},
     "output_type": "execute_result"
    }
   ],
   "source": [
    "df.isnull().sum().sum()\n",
    "# We don't have any null value"
   ]
  },
  {
   "cell_type": "markdown",
   "metadata": {
    "id": "HB-FGFlUUA7k"
   },
   "source": [
    "### Fixing inconsistencies"
   ]
  },
  {
   "cell_type": "code",
   "execution_count": 8,
   "metadata": {
    "colab": {
     "base_uri": "https://localhost:8080/"
    },
    "id": "VoFpj-3lHZya",
    "outputId": "db206096-746d-43ac-c946-d84adf51ecd4",
    "scrolled": false
   },
   "outputs": [
    {
     "name": "stdout",
     "output_type": "stream",
     "text": [
      "<class 'pandas.core.frame.DataFrame'>\n",
      "Int64Index: 2570 entries, 0 to 3866\n",
      "Data columns (total 14 columns):\n",
      " #   Column        Non-Null Count  Dtype \n",
      "---  ------        --------------  ----- \n",
      " 0   city          2570 non-null   object\n",
      " 1   year          2570 non-null   int64 \n",
      " 2   brand         2570 non-null   object\n",
      " 3   model         2570 non-null   object\n",
      " 4   color         2570 non-null   object\n",
      " 5   body_type     2570 non-null   object\n",
      " 6   engine        2570 non-null   object\n",
      " 7   engine_power  2570 non-null   object\n",
      " 8   fuel_type     2570 non-null   object\n",
      " 9   kilometrage   2570 non-null   object\n",
      " 10  transmission  2570 non-null   object\n",
      " 11  drivetrain    2570 non-null   object\n",
      " 12  new           2570 non-null   object\n",
      " 13  price         2570 non-null   object\n",
      "dtypes: int64(1), object(13)\n",
      "memory usage: 301.2+ KB\n"
     ]
    }
   ],
   "source": [
    "df.info()"
   ]
  },
  {
   "cell_type": "markdown",
   "metadata": {
    "id": "9MBjrBFKB8ve"
   },
   "source": [
    "Let's look for inconsistencies in dataset. We can clearly see that when some columns should be numeric they are in object type. Such as `Price` , `Engine`, `Kilometrage`, `Engine_power`. Let's transform them to numeric columns first."
   ]
  },
  {
   "cell_type": "markdown",
   "metadata": {
    "id": "LPNZDqTEC7hU"
   },
   "source": [
    "`Price` column"
   ]
  },
  {
   "cell_type": "code",
   "execution_count": 9,
   "metadata": {
    "colab": {
     "base_uri": "https://localhost:8080/"
    },
    "id": "bm1AIfKTDI9O",
    "outputId": "71b97d74-1c04-4f1e-b22c-53590935e6b9"
   },
   "outputs": [],
   "source": [
    "# Since values in price column are in different currencies. We should convert all to AZN\n",
    "df['currency_price'] = df['price']"
   ]
  },
  {
   "cell_type": "code",
   "execution_count": 16,
   "metadata": {},
   "outputs": [
    {
     "data": {
      "text/html": [
       "<div>\n",
       "<style scoped>\n",
       "    .dataframe tbody tr th:only-of-type {\n",
       "        vertical-align: middle;\n",
       "    }\n",
       "\n",
       "    .dataframe tbody tr th {\n",
       "        vertical-align: top;\n",
       "    }\n",
       "\n",
       "    .dataframe thead th {\n",
       "        text-align: right;\n",
       "    }\n",
       "</style>\n",
       "<table border=\"1\" class=\"dataframe\">\n",
       "  <thead>\n",
       "    <tr style=\"text-align: right;\">\n",
       "      <th></th>\n",
       "      <th>city</th>\n",
       "      <th>year</th>\n",
       "      <th>brand</th>\n",
       "      <th>model</th>\n",
       "      <th>color</th>\n",
       "      <th>body_type</th>\n",
       "      <th>engine</th>\n",
       "      <th>engine_power</th>\n",
       "      <th>fuel_type</th>\n",
       "      <th>kilometrage</th>\n",
       "      <th>transmission</th>\n",
       "      <th>drivetrain</th>\n",
       "      <th>new</th>\n",
       "      <th>price</th>\n",
       "      <th>currency_price</th>\n",
       "    </tr>\n",
       "  </thead>\n",
       "  <tbody>\n",
       "    <tr>\n",
       "      <th>0</th>\n",
       "      <td>Sumqayıt</td>\n",
       "      <td>2008</td>\n",
       "      <td>Kia</td>\n",
       "      <td>Ceed</td>\n",
       "      <td>Göy</td>\n",
       "      <td>Universal</td>\n",
       "      <td>1.6 L</td>\n",
       "      <td>115 a.g.</td>\n",
       "      <td>Dizel</td>\n",
       "      <td>167 055 km</td>\n",
       "      <td>Mexaniki</td>\n",
       "      <td>Ön</td>\n",
       "      <td>Xeyr</td>\n",
       "      <td>14 300 AZN</td>\n",
       "      <td>14 300 AZN</td>\n",
       "    </tr>\n",
       "    <tr>\n",
       "      <th>1</th>\n",
       "      <td>Bakı</td>\n",
       "      <td>2012</td>\n",
       "      <td>Kia</td>\n",
       "      <td>Sorento</td>\n",
       "      <td>Gümüşü</td>\n",
       "      <td>Offroader / SUV</td>\n",
       "      <td>2.0 L</td>\n",
       "      <td>170 a.g.</td>\n",
       "      <td>Dizel</td>\n",
       "      <td>154 000 km</td>\n",
       "      <td>Avtomat</td>\n",
       "      <td>Tam</td>\n",
       "      <td>Xeyr</td>\n",
       "      <td>32 700 AZN</td>\n",
       "      <td>32 700 AZN</td>\n",
       "    </tr>\n",
       "    <tr>\n",
       "      <th>2</th>\n",
       "      <td>Bakı</td>\n",
       "      <td>2015</td>\n",
       "      <td>Kia</td>\n",
       "      <td>Sorento</td>\n",
       "      <td>Ağ</td>\n",
       "      <td>Offroader / SUV</td>\n",
       "      <td>2.2 L</td>\n",
       "      <td>197 a.g.</td>\n",
       "      <td>Dizel</td>\n",
       "      <td>97 000 km</td>\n",
       "      <td>Avtomat</td>\n",
       "      <td>Tam</td>\n",
       "      <td>Xeyr</td>\n",
       "      <td>43 900 AZN</td>\n",
       "      <td>43 900 AZN</td>\n",
       "    </tr>\n",
       "    <tr>\n",
       "      <th>3</th>\n",
       "      <td>Sumqayıt</td>\n",
       "      <td>2008</td>\n",
       "      <td>Kia</td>\n",
       "      <td>Ceed</td>\n",
       "      <td>Gümüşü</td>\n",
       "      <td>Hetçbek / Liftbek</td>\n",
       "      <td>1.4 L</td>\n",
       "      <td>109 a.g.</td>\n",
       "      <td>Benzin</td>\n",
       "      <td>152 524 km</td>\n",
       "      <td>Mexaniki</td>\n",
       "      <td>Ön</td>\n",
       "      <td>Xeyr</td>\n",
       "      <td>13 200 AZN</td>\n",
       "      <td>13 200 AZN</td>\n",
       "    </tr>\n",
       "    <tr>\n",
       "      <th>4</th>\n",
       "      <td>Bakı</td>\n",
       "      <td>2013</td>\n",
       "      <td>Kia</td>\n",
       "      <td>Sorento</td>\n",
       "      <td>Ağ</td>\n",
       "      <td>Offroader / SUV</td>\n",
       "      <td>2.0 L</td>\n",
       "      <td>184 a.g.</td>\n",
       "      <td>Dizel</td>\n",
       "      <td>61 838 km</td>\n",
       "      <td>Avtomat</td>\n",
       "      <td>Tam</td>\n",
       "      <td>Xeyr</td>\n",
       "      <td>32 850 AZN</td>\n",
       "      <td>32 850 AZN</td>\n",
       "    </tr>\n",
       "  </tbody>\n",
       "</table>\n",
       "</div>"
      ],
      "text/plain": [
       "       city  year brand    model   color          body_type engine  \\\n",
       "0  Sumqayıt  2008   Kia     Ceed     Göy          Universal  1.6 L   \n",
       "1      Bakı  2012   Kia  Sorento  Gümüşü    Offroader / SUV  2.0 L   \n",
       "2      Bakı  2015   Kia  Sorento      Ağ    Offroader / SUV  2.2 L   \n",
       "3  Sumqayıt  2008   Kia     Ceed  Gümüşü  Hetçbek / Liftbek  1.4 L   \n",
       "4      Bakı  2013   Kia  Sorento      Ağ    Offroader / SUV  2.0 L   \n",
       "\n",
       "  engine_power fuel_type kilometrage transmission drivetrain   new  \\\n",
       "0     115 a.g.     Dizel  167 055 km     Mexaniki         Ön  Xeyr   \n",
       "1     170 a.g.     Dizel  154 000 km      Avtomat        Tam  Xeyr   \n",
       "2     197 a.g.     Dizel   97 000 km      Avtomat        Tam  Xeyr   \n",
       "3     109 a.g.    Benzin  152 524 km     Mexaniki         Ön  Xeyr   \n",
       "4     184 a.g.     Dizel   61 838 km      Avtomat        Tam  Xeyr   \n",
       "\n",
       "        price currency_price  \n",
       "0  14 300 AZN     14 300 AZN  \n",
       "1  32 700 AZN     32 700 AZN  \n",
       "2  43 900 AZN     43 900 AZN  \n",
       "3  13 200 AZN     13 200 AZN  \n",
       "4  32 850 AZN     32 850 AZN  "
      ]
     },
     "execution_count": 16,
     "metadata": {},
     "output_type": "execute_result"
    }
   ],
   "source": [
    "df.head()"
   ]
  },
  {
   "cell_type": "code",
   "execution_count": 17,
   "metadata": {
    "colab": {
     "base_uri": "https://localhost:8080/"
    },
    "id": "AMh1Rp6PhF7A",
    "outputId": "40e4f693-6264-4258-c8c4-5b1f7caa8581"
   },
   "outputs": [],
   "source": [
    "df['price'] = df['price'].apply(lambda x: int(x.replace(' ','').replace('AZN', '').replace('$', '').replace('€','')))"
   ]
  },
  {
   "cell_type": "code",
   "execution_count": 18,
   "metadata": {},
   "outputs": [
    {
     "data": {
      "text/html": [
       "<div>\n",
       "<style scoped>\n",
       "    .dataframe tbody tr th:only-of-type {\n",
       "        vertical-align: middle;\n",
       "    }\n",
       "\n",
       "    .dataframe tbody tr th {\n",
       "        vertical-align: top;\n",
       "    }\n",
       "\n",
       "    .dataframe thead th {\n",
       "        text-align: right;\n",
       "    }\n",
       "</style>\n",
       "<table border=\"1\" class=\"dataframe\">\n",
       "  <thead>\n",
       "    <tr style=\"text-align: right;\">\n",
       "      <th></th>\n",
       "      <th>city</th>\n",
       "      <th>year</th>\n",
       "      <th>brand</th>\n",
       "      <th>model</th>\n",
       "      <th>color</th>\n",
       "      <th>body_type</th>\n",
       "      <th>engine</th>\n",
       "      <th>engine_power</th>\n",
       "      <th>fuel_type</th>\n",
       "      <th>kilometrage</th>\n",
       "      <th>transmission</th>\n",
       "      <th>drivetrain</th>\n",
       "      <th>new</th>\n",
       "      <th>price</th>\n",
       "      <th>currency_price</th>\n",
       "    </tr>\n",
       "  </thead>\n",
       "  <tbody>\n",
       "    <tr>\n",
       "      <th>0</th>\n",
       "      <td>Sumqayıt</td>\n",
       "      <td>2008</td>\n",
       "      <td>Kia</td>\n",
       "      <td>Ceed</td>\n",
       "      <td>Göy</td>\n",
       "      <td>Universal</td>\n",
       "      <td>1.6 L</td>\n",
       "      <td>115 a.g.</td>\n",
       "      <td>Dizel</td>\n",
       "      <td>167 055 km</td>\n",
       "      <td>Mexaniki</td>\n",
       "      <td>Ön</td>\n",
       "      <td>Xeyr</td>\n",
       "      <td>14300</td>\n",
       "      <td>14 300 AZN</td>\n",
       "    </tr>\n",
       "    <tr>\n",
       "      <th>1</th>\n",
       "      <td>Bakı</td>\n",
       "      <td>2012</td>\n",
       "      <td>Kia</td>\n",
       "      <td>Sorento</td>\n",
       "      <td>Gümüşü</td>\n",
       "      <td>Offroader / SUV</td>\n",
       "      <td>2.0 L</td>\n",
       "      <td>170 a.g.</td>\n",
       "      <td>Dizel</td>\n",
       "      <td>154 000 km</td>\n",
       "      <td>Avtomat</td>\n",
       "      <td>Tam</td>\n",
       "      <td>Xeyr</td>\n",
       "      <td>32700</td>\n",
       "      <td>32 700 AZN</td>\n",
       "    </tr>\n",
       "    <tr>\n",
       "      <th>2</th>\n",
       "      <td>Bakı</td>\n",
       "      <td>2015</td>\n",
       "      <td>Kia</td>\n",
       "      <td>Sorento</td>\n",
       "      <td>Ağ</td>\n",
       "      <td>Offroader / SUV</td>\n",
       "      <td>2.2 L</td>\n",
       "      <td>197 a.g.</td>\n",
       "      <td>Dizel</td>\n",
       "      <td>97 000 km</td>\n",
       "      <td>Avtomat</td>\n",
       "      <td>Tam</td>\n",
       "      <td>Xeyr</td>\n",
       "      <td>43900</td>\n",
       "      <td>43 900 AZN</td>\n",
       "    </tr>\n",
       "    <tr>\n",
       "      <th>3</th>\n",
       "      <td>Sumqayıt</td>\n",
       "      <td>2008</td>\n",
       "      <td>Kia</td>\n",
       "      <td>Ceed</td>\n",
       "      <td>Gümüşü</td>\n",
       "      <td>Hetçbek / Liftbek</td>\n",
       "      <td>1.4 L</td>\n",
       "      <td>109 a.g.</td>\n",
       "      <td>Benzin</td>\n",
       "      <td>152 524 km</td>\n",
       "      <td>Mexaniki</td>\n",
       "      <td>Ön</td>\n",
       "      <td>Xeyr</td>\n",
       "      <td>13200</td>\n",
       "      <td>13 200 AZN</td>\n",
       "    </tr>\n",
       "    <tr>\n",
       "      <th>4</th>\n",
       "      <td>Bakı</td>\n",
       "      <td>2013</td>\n",
       "      <td>Kia</td>\n",
       "      <td>Sorento</td>\n",
       "      <td>Ağ</td>\n",
       "      <td>Offroader / SUV</td>\n",
       "      <td>2.0 L</td>\n",
       "      <td>184 a.g.</td>\n",
       "      <td>Dizel</td>\n",
       "      <td>61 838 km</td>\n",
       "      <td>Avtomat</td>\n",
       "      <td>Tam</td>\n",
       "      <td>Xeyr</td>\n",
       "      <td>32850</td>\n",
       "      <td>32 850 AZN</td>\n",
       "    </tr>\n",
       "  </tbody>\n",
       "</table>\n",
       "</div>"
      ],
      "text/plain": [
       "       city  year brand    model   color          body_type engine  \\\n",
       "0  Sumqayıt  2008   Kia     Ceed     Göy          Universal  1.6 L   \n",
       "1      Bakı  2012   Kia  Sorento  Gümüşü    Offroader / SUV  2.0 L   \n",
       "2      Bakı  2015   Kia  Sorento      Ağ    Offroader / SUV  2.2 L   \n",
       "3  Sumqayıt  2008   Kia     Ceed  Gümüşü  Hetçbek / Liftbek  1.4 L   \n",
       "4      Bakı  2013   Kia  Sorento      Ağ    Offroader / SUV  2.0 L   \n",
       "\n",
       "  engine_power fuel_type kilometrage transmission drivetrain   new  price  \\\n",
       "0     115 a.g.     Dizel  167 055 km     Mexaniki         Ön  Xeyr  14300   \n",
       "1     170 a.g.     Dizel  154 000 km      Avtomat        Tam  Xeyr  32700   \n",
       "2     197 a.g.     Dizel   97 000 km      Avtomat        Tam  Xeyr  43900   \n",
       "3     109 a.g.    Benzin  152 524 km     Mexaniki         Ön  Xeyr  13200   \n",
       "4     184 a.g.     Dizel   61 838 km      Avtomat        Tam  Xeyr  32850   \n",
       "\n",
       "  currency_price  \n",
       "0     14 300 AZN  \n",
       "1     32 700 AZN  \n",
       "2     43 900 AZN  \n",
       "3     13 200 AZN  \n",
       "4     32 850 AZN  "
      ]
     },
     "execution_count": 18,
     "metadata": {},
     "output_type": "execute_result"
    }
   ],
   "source": [
    "df.head()"
   ]
  },
  {
   "cell_type": "code",
   "execution_count": 22,
   "metadata": {
    "colab": {
     "base_uri": "https://localhost:8080/"
    },
    "id": "Jyo3iU3wE5dt",
    "outputId": "40b7a959-1992-42de-b6d5-28539582f42f"
   },
   "outputs": [],
   "source": [
    "df.loc[df['currency_price'].str.contains('\\$'), 'price'] = df['price'] * 1.7\n",
    "# Right now US Dollars to Azerbaijan Manats Exchange Rate is 1.7\n",
    "df.loc[df['currency_price'].str.contains('€'), 'price'] = df['price'] * 1.94\n",
    "# Right now Euros to Azerbaijan Manats Exchange Rate is 1.94"
   ]
  },
  {
   "cell_type": "code",
   "execution_count": 25,
   "metadata": {},
   "outputs": [],
   "source": [
    "# Rename name of price columns that shows currency of column\n",
    "df.rename(columns = {'price':'price(AZN)'},inplace = True)"
   ]
  },
  {
   "cell_type": "code",
   "execution_count": 27,
   "metadata": {
    "colab": {
     "base_uri": "https://localhost:8080/"
    },
    "id": "UCaj35C_H9GV",
    "outputId": "d7b28719-6b70-4327-cac8-b60433ffd64a"
   },
   "outputs": [],
   "source": [
    "# drop currency price column\n",
    "df.drop(['currency_price'],axis = 'columns', inplace = True)"
   ]
  },
  {
   "cell_type": "code",
   "execution_count": 28,
   "metadata": {},
   "outputs": [
    {
     "data": {
      "text/html": [
       "<div>\n",
       "<style scoped>\n",
       "    .dataframe tbody tr th:only-of-type {\n",
       "        vertical-align: middle;\n",
       "    }\n",
       "\n",
       "    .dataframe tbody tr th {\n",
       "        vertical-align: top;\n",
       "    }\n",
       "\n",
       "    .dataframe thead th {\n",
       "        text-align: right;\n",
       "    }\n",
       "</style>\n",
       "<table border=\"1\" class=\"dataframe\">\n",
       "  <thead>\n",
       "    <tr style=\"text-align: right;\">\n",
       "      <th></th>\n",
       "      <th>city</th>\n",
       "      <th>year</th>\n",
       "      <th>brand</th>\n",
       "      <th>model</th>\n",
       "      <th>color</th>\n",
       "      <th>body_type</th>\n",
       "      <th>engine</th>\n",
       "      <th>engine_power</th>\n",
       "      <th>fuel_type</th>\n",
       "      <th>kilometrage</th>\n",
       "      <th>transmission</th>\n",
       "      <th>drivetrain</th>\n",
       "      <th>new</th>\n",
       "      <th>price(AZN)</th>\n",
       "    </tr>\n",
       "  </thead>\n",
       "  <tbody>\n",
       "    <tr>\n",
       "      <th>0</th>\n",
       "      <td>Sumqayıt</td>\n",
       "      <td>2008</td>\n",
       "      <td>Kia</td>\n",
       "      <td>Ceed</td>\n",
       "      <td>Göy</td>\n",
       "      <td>Universal</td>\n",
       "      <td>1.6 L</td>\n",
       "      <td>115 a.g.</td>\n",
       "      <td>Dizel</td>\n",
       "      <td>167 055 km</td>\n",
       "      <td>Mexaniki</td>\n",
       "      <td>Ön</td>\n",
       "      <td>Xeyr</td>\n",
       "      <td>14300.0</td>\n",
       "    </tr>\n",
       "    <tr>\n",
       "      <th>1</th>\n",
       "      <td>Bakı</td>\n",
       "      <td>2012</td>\n",
       "      <td>Kia</td>\n",
       "      <td>Sorento</td>\n",
       "      <td>Gümüşü</td>\n",
       "      <td>Offroader / SUV</td>\n",
       "      <td>2.0 L</td>\n",
       "      <td>170 a.g.</td>\n",
       "      <td>Dizel</td>\n",
       "      <td>154 000 km</td>\n",
       "      <td>Avtomat</td>\n",
       "      <td>Tam</td>\n",
       "      <td>Xeyr</td>\n",
       "      <td>32700.0</td>\n",
       "    </tr>\n",
       "    <tr>\n",
       "      <th>2</th>\n",
       "      <td>Bakı</td>\n",
       "      <td>2015</td>\n",
       "      <td>Kia</td>\n",
       "      <td>Sorento</td>\n",
       "      <td>Ağ</td>\n",
       "      <td>Offroader / SUV</td>\n",
       "      <td>2.2 L</td>\n",
       "      <td>197 a.g.</td>\n",
       "      <td>Dizel</td>\n",
       "      <td>97 000 km</td>\n",
       "      <td>Avtomat</td>\n",
       "      <td>Tam</td>\n",
       "      <td>Xeyr</td>\n",
       "      <td>43900.0</td>\n",
       "    </tr>\n",
       "    <tr>\n",
       "      <th>3</th>\n",
       "      <td>Sumqayıt</td>\n",
       "      <td>2008</td>\n",
       "      <td>Kia</td>\n",
       "      <td>Ceed</td>\n",
       "      <td>Gümüşü</td>\n",
       "      <td>Hetçbek / Liftbek</td>\n",
       "      <td>1.4 L</td>\n",
       "      <td>109 a.g.</td>\n",
       "      <td>Benzin</td>\n",
       "      <td>152 524 km</td>\n",
       "      <td>Mexaniki</td>\n",
       "      <td>Ön</td>\n",
       "      <td>Xeyr</td>\n",
       "      <td>13200.0</td>\n",
       "    </tr>\n",
       "    <tr>\n",
       "      <th>4</th>\n",
       "      <td>Bakı</td>\n",
       "      <td>2013</td>\n",
       "      <td>Kia</td>\n",
       "      <td>Sorento</td>\n",
       "      <td>Ağ</td>\n",
       "      <td>Offroader / SUV</td>\n",
       "      <td>2.0 L</td>\n",
       "      <td>184 a.g.</td>\n",
       "      <td>Dizel</td>\n",
       "      <td>61 838 km</td>\n",
       "      <td>Avtomat</td>\n",
       "      <td>Tam</td>\n",
       "      <td>Xeyr</td>\n",
       "      <td>32850.0</td>\n",
       "    </tr>\n",
       "  </tbody>\n",
       "</table>\n",
       "</div>"
      ],
      "text/plain": [
       "       city  year brand    model   color          body_type engine  \\\n",
       "0  Sumqayıt  2008   Kia     Ceed     Göy          Universal  1.6 L   \n",
       "1      Bakı  2012   Kia  Sorento  Gümüşü    Offroader / SUV  2.0 L   \n",
       "2      Bakı  2015   Kia  Sorento      Ağ    Offroader / SUV  2.2 L   \n",
       "3  Sumqayıt  2008   Kia     Ceed  Gümüşü  Hetçbek / Liftbek  1.4 L   \n",
       "4      Bakı  2013   Kia  Sorento      Ağ    Offroader / SUV  2.0 L   \n",
       "\n",
       "  engine_power fuel_type kilometrage transmission drivetrain   new  price(AZN)  \n",
       "0     115 a.g.     Dizel  167 055 km     Mexaniki         Ön  Xeyr     14300.0  \n",
       "1     170 a.g.     Dizel  154 000 km      Avtomat        Tam  Xeyr     32700.0  \n",
       "2     197 a.g.     Dizel   97 000 km      Avtomat        Tam  Xeyr     43900.0  \n",
       "3     109 a.g.    Benzin  152 524 km     Mexaniki         Ön  Xeyr     13200.0  \n",
       "4     184 a.g.     Dizel   61 838 km      Avtomat        Tam  Xeyr     32850.0  "
      ]
     },
     "execution_count": 28,
     "metadata": {},
     "output_type": "execute_result"
    }
   ],
   "source": [
    "df.head()"
   ]
  },
  {
   "cell_type": "markdown",
   "metadata": {
    "id": "8NGU-0TUIlhV"
   },
   "source": [
    "**`Engine` column**"
   ]
  },
  {
   "cell_type": "code",
   "execution_count": 29,
   "metadata": {
    "colab": {
     "base_uri": "https://localhost:8080/"
    },
    "id": "CXW99JMGIl2_",
    "outputId": "e02eb4b7-d53b-4690-e58b-26ee2fb5b382"
   },
   "outputs": [
    {
     "data": {
      "text/plain": [
       "array(['1.6 L', '2.0 L', '2.2 L', '1.4 L', '2.4 L', '1.5 L', '1.1 L',\n",
       "       '1.7 L', '1.8 L', '2.5 L', '3.8 L', '3.3 L', '3.0 L', '1.0 L',\n",
       "       '3.5 L', '2.7 L', '1.3 L', '1.2 L', '2.8 L', '2.9 L'], dtype=object)"
      ]
     },
     "execution_count": 29,
     "metadata": {},
     "output_type": "execute_result"
    }
   ],
   "source": [
    "df['engine'].unique()"
   ]
  },
  {
   "cell_type": "code",
   "execution_count": 30,
   "metadata": {
    "colab": {
     "base_uri": "https://localhost:8080/"
    },
    "id": "tJNFMpjh92oe",
    "outputId": "9c0168d9-65ee-4f19-d135-023838e4fd27"
   },
   "outputs": [],
   "source": [
    "df['engine(L)'] = df['engine'].apply(lambda x: float(x.replace(' L','')))\n",
    "df.drop(['engine'], axis = 1, inplace = True)"
   ]
  },
  {
   "cell_type": "code",
   "execution_count": 31,
   "metadata": {},
   "outputs": [
    {
     "data": {
      "text/html": [
       "<div>\n",
       "<style scoped>\n",
       "    .dataframe tbody tr th:only-of-type {\n",
       "        vertical-align: middle;\n",
       "    }\n",
       "\n",
       "    .dataframe tbody tr th {\n",
       "        vertical-align: top;\n",
       "    }\n",
       "\n",
       "    .dataframe thead th {\n",
       "        text-align: right;\n",
       "    }\n",
       "</style>\n",
       "<table border=\"1\" class=\"dataframe\">\n",
       "  <thead>\n",
       "    <tr style=\"text-align: right;\">\n",
       "      <th></th>\n",
       "      <th>city</th>\n",
       "      <th>year</th>\n",
       "      <th>brand</th>\n",
       "      <th>model</th>\n",
       "      <th>color</th>\n",
       "      <th>body_type</th>\n",
       "      <th>engine_power</th>\n",
       "      <th>fuel_type</th>\n",
       "      <th>kilometrage</th>\n",
       "      <th>transmission</th>\n",
       "      <th>drivetrain</th>\n",
       "      <th>new</th>\n",
       "      <th>price(AZN)</th>\n",
       "      <th>engine(L)</th>\n",
       "    </tr>\n",
       "  </thead>\n",
       "  <tbody>\n",
       "    <tr>\n",
       "      <th>0</th>\n",
       "      <td>Sumqayıt</td>\n",
       "      <td>2008</td>\n",
       "      <td>Kia</td>\n",
       "      <td>Ceed</td>\n",
       "      <td>Göy</td>\n",
       "      <td>Universal</td>\n",
       "      <td>115 a.g.</td>\n",
       "      <td>Dizel</td>\n",
       "      <td>167 055 km</td>\n",
       "      <td>Mexaniki</td>\n",
       "      <td>Ön</td>\n",
       "      <td>Xeyr</td>\n",
       "      <td>14300.0</td>\n",
       "      <td>1.6</td>\n",
       "    </tr>\n",
       "    <tr>\n",
       "      <th>1</th>\n",
       "      <td>Bakı</td>\n",
       "      <td>2012</td>\n",
       "      <td>Kia</td>\n",
       "      <td>Sorento</td>\n",
       "      <td>Gümüşü</td>\n",
       "      <td>Offroader / SUV</td>\n",
       "      <td>170 a.g.</td>\n",
       "      <td>Dizel</td>\n",
       "      <td>154 000 km</td>\n",
       "      <td>Avtomat</td>\n",
       "      <td>Tam</td>\n",
       "      <td>Xeyr</td>\n",
       "      <td>32700.0</td>\n",
       "      <td>2.0</td>\n",
       "    </tr>\n",
       "    <tr>\n",
       "      <th>2</th>\n",
       "      <td>Bakı</td>\n",
       "      <td>2015</td>\n",
       "      <td>Kia</td>\n",
       "      <td>Sorento</td>\n",
       "      <td>Ağ</td>\n",
       "      <td>Offroader / SUV</td>\n",
       "      <td>197 a.g.</td>\n",
       "      <td>Dizel</td>\n",
       "      <td>97 000 km</td>\n",
       "      <td>Avtomat</td>\n",
       "      <td>Tam</td>\n",
       "      <td>Xeyr</td>\n",
       "      <td>43900.0</td>\n",
       "      <td>2.2</td>\n",
       "    </tr>\n",
       "    <tr>\n",
       "      <th>3</th>\n",
       "      <td>Sumqayıt</td>\n",
       "      <td>2008</td>\n",
       "      <td>Kia</td>\n",
       "      <td>Ceed</td>\n",
       "      <td>Gümüşü</td>\n",
       "      <td>Hetçbek / Liftbek</td>\n",
       "      <td>109 a.g.</td>\n",
       "      <td>Benzin</td>\n",
       "      <td>152 524 km</td>\n",
       "      <td>Mexaniki</td>\n",
       "      <td>Ön</td>\n",
       "      <td>Xeyr</td>\n",
       "      <td>13200.0</td>\n",
       "      <td>1.4</td>\n",
       "    </tr>\n",
       "    <tr>\n",
       "      <th>4</th>\n",
       "      <td>Bakı</td>\n",
       "      <td>2013</td>\n",
       "      <td>Kia</td>\n",
       "      <td>Sorento</td>\n",
       "      <td>Ağ</td>\n",
       "      <td>Offroader / SUV</td>\n",
       "      <td>184 a.g.</td>\n",
       "      <td>Dizel</td>\n",
       "      <td>61 838 km</td>\n",
       "      <td>Avtomat</td>\n",
       "      <td>Tam</td>\n",
       "      <td>Xeyr</td>\n",
       "      <td>32850.0</td>\n",
       "      <td>2.0</td>\n",
       "    </tr>\n",
       "  </tbody>\n",
       "</table>\n",
       "</div>"
      ],
      "text/plain": [
       "       city  year brand    model   color          body_type engine_power  \\\n",
       "0  Sumqayıt  2008   Kia     Ceed     Göy          Universal     115 a.g.   \n",
       "1      Bakı  2012   Kia  Sorento  Gümüşü    Offroader / SUV     170 a.g.   \n",
       "2      Bakı  2015   Kia  Sorento      Ağ    Offroader / SUV     197 a.g.   \n",
       "3  Sumqayıt  2008   Kia     Ceed  Gümüşü  Hetçbek / Liftbek     109 a.g.   \n",
       "4      Bakı  2013   Kia  Sorento      Ağ    Offroader / SUV     184 a.g.   \n",
       "\n",
       "  fuel_type kilometrage transmission drivetrain   new  price(AZN)  engine(L)  \n",
       "0     Dizel  167 055 km     Mexaniki         Ön  Xeyr     14300.0        1.6  \n",
       "1     Dizel  154 000 km      Avtomat        Tam  Xeyr     32700.0        2.0  \n",
       "2     Dizel   97 000 km      Avtomat        Tam  Xeyr     43900.0        2.2  \n",
       "3    Benzin  152 524 km     Mexaniki         Ön  Xeyr     13200.0        1.4  \n",
       "4     Dizel   61 838 km      Avtomat        Tam  Xeyr     32850.0        2.0  "
      ]
     },
     "execution_count": 31,
     "metadata": {},
     "output_type": "execute_result"
    }
   ],
   "source": [
    "df.head()"
   ]
  },
  {
   "cell_type": "markdown",
   "metadata": {
    "id": "tIhgIxk8JcMg"
   },
   "source": [
    "`Kilometrage` column"
   ]
  },
  {
   "cell_type": "code",
   "execution_count": 32,
   "metadata": {
    "colab": {
     "base_uri": "https://localhost:8080/"
    },
    "id": "A0HgkPzYJbsx",
    "outputId": "a9c07a28-69e3-4f2b-8743-c341ffed2f34"
   },
   "outputs": [
    {
     "data": {
      "text/plain": [
       "array(['167 055 km', '154 000 km', '97 000 km', ..., '32 992 km',\n",
       "       '364 518 km', '339 000 km'], dtype=object)"
      ]
     },
     "execution_count": 32,
     "metadata": {},
     "output_type": "execute_result"
    }
   ],
   "source": [
    "df['kilometrage'].unique()"
   ]
  },
  {
   "cell_type": "code",
   "execution_count": 33,
   "metadata": {
    "id": "KIrzWn_x-oFA"
   },
   "outputs": [],
   "source": [
    "df['kilometrage'] = df['kilometrage'].apply(lambda x: int(x.replace(' km', '').replace(' ', '')))"
   ]
  },
  {
   "cell_type": "markdown",
   "metadata": {
    "id": "GlwiQKYdKMzj"
   },
   "source": [
    "`Engine_power` column"
   ]
  },
  {
   "cell_type": "code",
   "execution_count": 35,
   "metadata": {
    "colab": {
     "base_uri": "https://localhost:8080/"
    },
    "id": "J0oOKAH6ImAr",
    "outputId": "46ab1766-3382-43ca-f6f8-64117f79fb32"
   },
   "outputs": [
    {
     "data": {
      "text/plain": [
       "array(['115 a.g.', '170 a.g.', '197 a.g.', '109 a.g.', '184 a.g.',\n",
       "       '180 a.g.', '274 a.g.', '188 a.g.', '202 a.g.', '65 a.g.',\n",
       "       '166 a.g.', '97 a.g.', '165 a.g.', '174 a.g.', '150 a.g.',\n",
       "       '90 a.g.', '123 a.g.', '247 a.g.', '143 a.g.', '163 a.g.',\n",
       "       '141 a.g.', '110 a.g.', '125 a.g.', '116 a.g.', '132 a.g.',\n",
       "       '175 a.g.', '126 a.g.', '200 a.g.', '140 a.g.', '107 a.g.',\n",
       "       '177 a.g.', '124 a.g.', '100 a.g.', '293 a.g.', '149 a.g.',\n",
       "       '94 a.g.', '130 a.g.', '136 a.g.', '148 a.g.', '82 a.g.',\n",
       "       '242 a.g.', '99 a.g.', '112 a.g.', '80 a.g.', '186 a.g.',\n",
       "       '266 a.g.', '75 a.g.', '105 a.g.', '185 a.g.', '290 a.g.',\n",
       "       '178 a.g.', '204 a.g.', '69 a.g.', '194 a.g.', '156 a.g.',\n",
       "       '122 a.g.', '145 a.g.', '240 a.g.', '85 a.g.', '60 a.g.',\n",
       "       '106 a.g.', '181 a.g.', '83 a.g.', '101 a.g.', '64 a.g.',\n",
       "       '176 a.g.', '157 a.g.', '245 a.g.', '333 a.g.', '139 a.g.',\n",
       "       '133 a.g.', '164 a.g.', '294 a.g.', '260 a.g.', '15 a.g.',\n",
       "       '201 a.g.', '144 a.g.', '87 a.g.', '278 a.g.', '187 a.g.',\n",
       "       '127 a.g.', '128 a.g.', '78 a.g.', '189 a.g.', '129 a.g.',\n",
       "       '275 a.g.', '276 a.g.', '190 a.g.', '198 a.g.', '84 a.g.',\n",
       "       '262 a.g.', '121 a.g.', '118 a.g.', '95 a.g.', '96 a.g.',\n",
       "       '261 a.g.', '195 a.g.', '192 a.g.', '277 a.g.', '88 a.g.',\n",
       "       '92 a.g.', '154 a.g.', '248 a.g.', '183 a.g.', '102 a.g.',\n",
       "       '167 a.g.', '370 a.g.', '160 a.g.', '250 a.g.', '243 a.g.'],\n",
       "      dtype=object)"
      ]
     },
     "execution_count": 35,
     "metadata": {},
     "output_type": "execute_result"
    }
   ],
   "source": [
    "df['engine_power'].unique()"
   ]
  },
  {
   "cell_type": "code",
   "execution_count": 36,
   "metadata": {
    "id": "EK3kZAC3_DmH"
   },
   "outputs": [],
   "source": [
    "df['engine_power(hp)'] = df['engine_power'].apply(lambda x: int(x.replace(' a.g.', '')))\n",
    "df.drop(['engine_power'],axis = 'columns', inplace = True)"
   ]
  },
  {
   "cell_type": "markdown",
   "metadata": {},
   "source": [
    "Now let's look at how data look like after cleaning and changes"
   ]
  },
  {
   "cell_type": "code",
   "execution_count": 37,
   "metadata": {
    "colab": {
     "base_uri": "https://localhost:8080/",
     "height": 0
    },
    "id": "JSJaY6wFAZ5o",
    "outputId": "2393451a-452e-4ace-a032-a8a75bf8ac48"
   },
   "outputs": [
    {
     "data": {
      "text/html": [
       "<div>\n",
       "<style scoped>\n",
       "    .dataframe tbody tr th:only-of-type {\n",
       "        vertical-align: middle;\n",
       "    }\n",
       "\n",
       "    .dataframe tbody tr th {\n",
       "        vertical-align: top;\n",
       "    }\n",
       "\n",
       "    .dataframe thead th {\n",
       "        text-align: right;\n",
       "    }\n",
       "</style>\n",
       "<table border=\"1\" class=\"dataframe\">\n",
       "  <thead>\n",
       "    <tr style=\"text-align: right;\">\n",
       "      <th></th>\n",
       "      <th>city</th>\n",
       "      <th>year</th>\n",
       "      <th>brand</th>\n",
       "      <th>model</th>\n",
       "      <th>color</th>\n",
       "      <th>body_type</th>\n",
       "      <th>fuel_type</th>\n",
       "      <th>kilometrage</th>\n",
       "      <th>transmission</th>\n",
       "      <th>drivetrain</th>\n",
       "      <th>new</th>\n",
       "      <th>price(AZN)</th>\n",
       "      <th>engine(L)</th>\n",
       "      <th>engine_power(hp)</th>\n",
       "    </tr>\n",
       "  </thead>\n",
       "  <tbody>\n",
       "    <tr>\n",
       "      <th>0</th>\n",
       "      <td>Sumqayıt</td>\n",
       "      <td>2008</td>\n",
       "      <td>Kia</td>\n",
       "      <td>Ceed</td>\n",
       "      <td>Göy</td>\n",
       "      <td>Universal</td>\n",
       "      <td>Dizel</td>\n",
       "      <td>167055</td>\n",
       "      <td>Mexaniki</td>\n",
       "      <td>Ön</td>\n",
       "      <td>Xeyr</td>\n",
       "      <td>14300.0</td>\n",
       "      <td>1.6</td>\n",
       "      <td>115</td>\n",
       "    </tr>\n",
       "    <tr>\n",
       "      <th>1</th>\n",
       "      <td>Bakı</td>\n",
       "      <td>2012</td>\n",
       "      <td>Kia</td>\n",
       "      <td>Sorento</td>\n",
       "      <td>Gümüşü</td>\n",
       "      <td>Offroader / SUV</td>\n",
       "      <td>Dizel</td>\n",
       "      <td>154000</td>\n",
       "      <td>Avtomat</td>\n",
       "      <td>Tam</td>\n",
       "      <td>Xeyr</td>\n",
       "      <td>32700.0</td>\n",
       "      <td>2.0</td>\n",
       "      <td>170</td>\n",
       "    </tr>\n",
       "    <tr>\n",
       "      <th>2</th>\n",
       "      <td>Bakı</td>\n",
       "      <td>2015</td>\n",
       "      <td>Kia</td>\n",
       "      <td>Sorento</td>\n",
       "      <td>Ağ</td>\n",
       "      <td>Offroader / SUV</td>\n",
       "      <td>Dizel</td>\n",
       "      <td>97000</td>\n",
       "      <td>Avtomat</td>\n",
       "      <td>Tam</td>\n",
       "      <td>Xeyr</td>\n",
       "      <td>43900.0</td>\n",
       "      <td>2.2</td>\n",
       "      <td>197</td>\n",
       "    </tr>\n",
       "    <tr>\n",
       "      <th>3</th>\n",
       "      <td>Sumqayıt</td>\n",
       "      <td>2008</td>\n",
       "      <td>Kia</td>\n",
       "      <td>Ceed</td>\n",
       "      <td>Gümüşü</td>\n",
       "      <td>Hetçbek / Liftbek</td>\n",
       "      <td>Benzin</td>\n",
       "      <td>152524</td>\n",
       "      <td>Mexaniki</td>\n",
       "      <td>Ön</td>\n",
       "      <td>Xeyr</td>\n",
       "      <td>13200.0</td>\n",
       "      <td>1.4</td>\n",
       "      <td>109</td>\n",
       "    </tr>\n",
       "    <tr>\n",
       "      <th>4</th>\n",
       "      <td>Bakı</td>\n",
       "      <td>2013</td>\n",
       "      <td>Kia</td>\n",
       "      <td>Sorento</td>\n",
       "      <td>Ağ</td>\n",
       "      <td>Offroader / SUV</td>\n",
       "      <td>Dizel</td>\n",
       "      <td>61838</td>\n",
       "      <td>Avtomat</td>\n",
       "      <td>Tam</td>\n",
       "      <td>Xeyr</td>\n",
       "      <td>32850.0</td>\n",
       "      <td>2.0</td>\n",
       "      <td>184</td>\n",
       "    </tr>\n",
       "  </tbody>\n",
       "</table>\n",
       "</div>"
      ],
      "text/plain": [
       "       city  year brand    model   color          body_type fuel_type  \\\n",
       "0  Sumqayıt  2008   Kia     Ceed     Göy          Universal     Dizel   \n",
       "1      Bakı  2012   Kia  Sorento  Gümüşü    Offroader / SUV     Dizel   \n",
       "2      Bakı  2015   Kia  Sorento      Ağ    Offroader / SUV     Dizel   \n",
       "3  Sumqayıt  2008   Kia     Ceed  Gümüşü  Hetçbek / Liftbek    Benzin   \n",
       "4      Bakı  2013   Kia  Sorento      Ağ    Offroader / SUV     Dizel   \n",
       "\n",
       "   kilometrage transmission drivetrain   new  price(AZN)  engine(L)  \\\n",
       "0       167055     Mexaniki         Ön  Xeyr     14300.0        1.6   \n",
       "1       154000      Avtomat        Tam  Xeyr     32700.0        2.0   \n",
       "2        97000      Avtomat        Tam  Xeyr     43900.0        2.2   \n",
       "3       152524     Mexaniki         Ön  Xeyr     13200.0        1.4   \n",
       "4        61838      Avtomat        Tam  Xeyr     32850.0        2.0   \n",
       "\n",
       "   engine_power(hp)  \n",
       "0               115  \n",
       "1               170  \n",
       "2               197  \n",
       "3               109  \n",
       "4               184  "
      ]
     },
     "execution_count": 37,
     "metadata": {},
     "output_type": "execute_result"
    }
   ],
   "source": [
    "df.head()"
   ]
  },
  {
   "cell_type": "markdown",
   "metadata": {
    "id": "GAGopRXWMZEt"
   },
   "source": [
    "# Exploratory Analysis and Visualization"
   ]
  },
  {
   "cell_type": "markdown",
   "metadata": {
    "id": "MgL_mYLQM3fH"
   },
   "source": [
    "Let's analyse the numeric columns and their statistics"
   ]
  },
  {
   "cell_type": "code",
   "execution_count": 298,
   "metadata": {
    "colab": {
     "base_uri": "https://localhost:8080/",
     "height": 0
    },
    "id": "_jb6MCuELivc",
    "outputId": "f34f9e3e-51f2-4964-db36-5dd0fcc4d521"
   },
   "outputs": [
    {
     "data": {
      "text/html": [
       "\n",
       "  <div id=\"df-66147b20-17c5-49ba-b61d-35826ff5a37b\">\n",
       "    <div class=\"colab-df-container\">\n",
       "      <div>\n",
       "<style scoped>\n",
       "    .dataframe tbody tr th:only-of-type {\n",
       "        vertical-align: middle;\n",
       "    }\n",
       "\n",
       "    .dataframe tbody tr th {\n",
       "        vertical-align: top;\n",
       "    }\n",
       "\n",
       "    .dataframe thead th {\n",
       "        text-align: right;\n",
       "    }\n",
       "</style>\n",
       "<table border=\"1\" class=\"dataframe\">\n",
       "  <thead>\n",
       "    <tr style=\"text-align: right;\">\n",
       "      <th></th>\n",
       "      <th>year</th>\n",
       "      <th>kilometrage</th>\n",
       "      <th>price(AZN)</th>\n",
       "      <th>engine(L)</th>\n",
       "      <th>engine_power(hp)</th>\n",
       "    </tr>\n",
       "  </thead>\n",
       "  <tbody>\n",
       "    <tr>\n",
       "      <th>count</th>\n",
       "      <td>2570.000000</td>\n",
       "      <td>2.570000e+03</td>\n",
       "      <td>2570.000000</td>\n",
       "      <td>2570.000000</td>\n",
       "      <td>2570.000000</td>\n",
       "    </tr>\n",
       "    <tr>\n",
       "      <th>mean</th>\n",
       "      <td>2010.442802</td>\n",
       "      <td>1.610973e+05</td>\n",
       "      <td>20328.645642</td>\n",
       "      <td>1.814008</td>\n",
       "      <td>151.392607</td>\n",
       "    </tr>\n",
       "    <tr>\n",
       "      <th>std</th>\n",
       "      <td>3.966583</td>\n",
       "      <td>8.665278e+04</td>\n",
       "      <td>9940.820596</td>\n",
       "      <td>0.414958</td>\n",
       "      <td>54.184692</td>\n",
       "    </tr>\n",
       "    <tr>\n",
       "      <th>min</th>\n",
       "      <td>1995.000000</td>\n",
       "      <td>0.000000e+00</td>\n",
       "      <td>1950.000000</td>\n",
       "      <td>1.000000</td>\n",
       "      <td>15.000000</td>\n",
       "    </tr>\n",
       "    <tr>\n",
       "      <th>25%</th>\n",
       "      <td>2007.000000</td>\n",
       "      <td>1.125000e+05</td>\n",
       "      <td>13000.000000</td>\n",
       "      <td>1.500000</td>\n",
       "      <td>109.000000</td>\n",
       "    </tr>\n",
       "    <tr>\n",
       "      <th>50%</th>\n",
       "      <td>2010.000000</td>\n",
       "      <td>1.620000e+05</td>\n",
       "      <td>17500.000000</td>\n",
       "      <td>1.800000</td>\n",
       "      <td>140.000000</td>\n",
       "    </tr>\n",
       "    <tr>\n",
       "      <th>75%</th>\n",
       "      <td>2013.000000</td>\n",
       "      <td>2.000000e+05</td>\n",
       "      <td>25600.000000</td>\n",
       "      <td>2.000000</td>\n",
       "      <td>184.000000</td>\n",
       "    </tr>\n",
       "    <tr>\n",
       "      <th>max</th>\n",
       "      <td>2022.000000</td>\n",
       "      <td>2.670000e+06</td>\n",
       "      <td>110500.000000</td>\n",
       "      <td>3.800000</td>\n",
       "      <td>370.000000</td>\n",
       "    </tr>\n",
       "  </tbody>\n",
       "</table>\n",
       "</div>\n",
       "      <button class=\"colab-df-convert\" onclick=\"convertToInteractive('df-66147b20-17c5-49ba-b61d-35826ff5a37b')\"\n",
       "              title=\"Convert this dataframe to an interactive table.\"\n",
       "              style=\"display:none;\">\n",
       "        \n",
       "  <svg xmlns=\"http://www.w3.org/2000/svg\" height=\"24px\"viewBox=\"0 0 24 24\"\n",
       "       width=\"24px\">\n",
       "    <path d=\"M0 0h24v24H0V0z\" fill=\"none\"/>\n",
       "    <path d=\"M18.56 5.44l.94 2.06.94-2.06 2.06-.94-2.06-.94-.94-2.06-.94 2.06-2.06.94zm-11 1L8.5 8.5l.94-2.06 2.06-.94-2.06-.94L8.5 2.5l-.94 2.06-2.06.94zm10 10l.94 2.06.94-2.06 2.06-.94-2.06-.94-.94-2.06-.94 2.06-2.06.94z\"/><path d=\"M17.41 7.96l-1.37-1.37c-.4-.4-.92-.59-1.43-.59-.52 0-1.04.2-1.43.59L10.3 9.45l-7.72 7.72c-.78.78-.78 2.05 0 2.83L4 21.41c.39.39.9.59 1.41.59.51 0 1.02-.2 1.41-.59l7.78-7.78 2.81-2.81c.8-.78.8-2.07 0-2.86zM5.41 20L4 18.59l7.72-7.72 1.47 1.35L5.41 20z\"/>\n",
       "  </svg>\n",
       "      </button>\n",
       "      \n",
       "  <style>\n",
       "    .colab-df-container {\n",
       "      display:flex;\n",
       "      flex-wrap:wrap;\n",
       "      gap: 12px;\n",
       "    }\n",
       "\n",
       "    .colab-df-convert {\n",
       "      background-color: #E8F0FE;\n",
       "      border: none;\n",
       "      border-radius: 50%;\n",
       "      cursor: pointer;\n",
       "      display: none;\n",
       "      fill: #1967D2;\n",
       "      height: 32px;\n",
       "      padding: 0 0 0 0;\n",
       "      width: 32px;\n",
       "    }\n",
       "\n",
       "    .colab-df-convert:hover {\n",
       "      background-color: #E2EBFA;\n",
       "      box-shadow: 0px 1px 2px rgba(60, 64, 67, 0.3), 0px 1px 3px 1px rgba(60, 64, 67, 0.15);\n",
       "      fill: #174EA6;\n",
       "    }\n",
       "\n",
       "    [theme=dark] .colab-df-convert {\n",
       "      background-color: #3B4455;\n",
       "      fill: #D2E3FC;\n",
       "    }\n",
       "\n",
       "    [theme=dark] .colab-df-convert:hover {\n",
       "      background-color: #434B5C;\n",
       "      box-shadow: 0px 1px 3px 1px rgba(0, 0, 0, 0.15);\n",
       "      filter: drop-shadow(0px 1px 2px rgba(0, 0, 0, 0.3));\n",
       "      fill: #FFFFFF;\n",
       "    }\n",
       "  </style>\n",
       "\n",
       "      <script>\n",
       "        const buttonEl =\n",
       "          document.querySelector('#df-66147b20-17c5-49ba-b61d-35826ff5a37b button.colab-df-convert');\n",
       "        buttonEl.style.display =\n",
       "          google.colab.kernel.accessAllowed ? 'block' : 'none';\n",
       "\n",
       "        async function convertToInteractive(key) {\n",
       "          const element = document.querySelector('#df-66147b20-17c5-49ba-b61d-35826ff5a37b');\n",
       "          const dataTable =\n",
       "            await google.colab.kernel.invokeFunction('convertToInteractive',\n",
       "                                                     [key], {});\n",
       "          if (!dataTable) return;\n",
       "\n",
       "          const docLinkHtml = 'Like what you see? Visit the ' +\n",
       "            '<a target=\"_blank\" href=https://colab.research.google.com/notebooks/data_table.ipynb>data table notebook</a>'\n",
       "            + ' to learn more about interactive tables.';\n",
       "          element.innerHTML = '';\n",
       "          dataTable['output_type'] = 'display_data';\n",
       "          await google.colab.output.renderOutput(dataTable, element);\n",
       "          const docLink = document.createElement('div');\n",
       "          docLink.innerHTML = docLinkHtml;\n",
       "          element.appendChild(docLink);\n",
       "        }\n",
       "      </script>\n",
       "    </div>\n",
       "  </div>\n",
       "  "
      ],
      "text/plain": [
       "              year   kilometrage     price(AZN)    engine(L)  engine_power(hp)\n",
       "count  2570.000000  2.570000e+03    2570.000000  2570.000000       2570.000000\n",
       "mean   2010.442802  1.610973e+05   20328.645642     1.814008        151.392607\n",
       "std       3.966583  8.665278e+04    9940.820596     0.414958         54.184692\n",
       "min    1995.000000  0.000000e+00    1950.000000     1.000000         15.000000\n",
       "25%    2007.000000  1.125000e+05   13000.000000     1.500000        109.000000\n",
       "50%    2010.000000  1.620000e+05   17500.000000     1.800000        140.000000\n",
       "75%    2013.000000  2.000000e+05   25600.000000     2.000000        184.000000\n",
       "max    2022.000000  2.670000e+06  110500.000000     3.800000        370.000000"
      ]
     },
     "execution_count": 298,
     "metadata": {},
     "output_type": "execute_result"
    }
   ],
   "source": [
    "df.describe()"
   ]
  },
  {
   "cell_type": "markdown",
   "metadata": {
    "id": "jYHeq5ivNA4g"
   },
   "source": [
    "**Insights:**<br>\n",
    "`price(AZN):` The average price for second hand Kia car in Azerbaijan is around 20 320 AZN, highest price is 110 500 AZN but also cheapest ones around 1950 AZN can be found.\n",
    "\n",
    "`kilometrage:` The mean kilometrage for used KIA cars are 161k km and highest one is 2 mln km. There also new cars as well with 0 kilometrage.\n",
    "\n",
    "`engine_power(hp):` The average horsepower is around 151. Most powerful car has a horsepower of 370 while the least power car has a horsepower around 15.\n",
    "\n"
   ]
  },
  {
   "cell_type": "code",
   "execution_count": 299,
   "metadata": {
    "colab": {
     "base_uri": "https://localhost:8080/",
     "height": 0
    },
    "id": "Fb9Lim6nXpZA",
    "outputId": "d2b42739-30ba-4aea-9f64-fd52fc066a15"
   },
   "outputs": [
    {
     "data": {
      "text/html": [
       "\n",
       "  <div id=\"df-58551fe7-f825-4c86-838b-9b1f3df580b9\">\n",
       "    <div class=\"colab-df-container\">\n",
       "      <div>\n",
       "<style scoped>\n",
       "    .dataframe tbody tr th:only-of-type {\n",
       "        vertical-align: middle;\n",
       "    }\n",
       "\n",
       "    .dataframe tbody tr th {\n",
       "        vertical-align: top;\n",
       "    }\n",
       "\n",
       "    .dataframe thead th {\n",
       "        text-align: right;\n",
       "    }\n",
       "</style>\n",
       "<table border=\"1\" class=\"dataframe\">\n",
       "  <thead>\n",
       "    <tr style=\"text-align: right;\">\n",
       "      <th></th>\n",
       "      <th>year</th>\n",
       "      <th>kilometrage</th>\n",
       "      <th>price(AZN)</th>\n",
       "      <th>engine(L)</th>\n",
       "      <th>engine_power(hp)</th>\n",
       "    </tr>\n",
       "  </thead>\n",
       "  <tbody>\n",
       "    <tr>\n",
       "      <th>year</th>\n",
       "      <td>1.000000</td>\n",
       "      <td>-0.509379</td>\n",
       "      <td>0.751983</td>\n",
       "      <td>0.213164</td>\n",
       "      <td>0.484675</td>\n",
       "    </tr>\n",
       "    <tr>\n",
       "      <th>kilometrage</th>\n",
       "      <td>-0.509379</td>\n",
       "      <td>1.000000</td>\n",
       "      <td>-0.423914</td>\n",
       "      <td>-0.028237</td>\n",
       "      <td>-0.231065</td>\n",
       "    </tr>\n",
       "    <tr>\n",
       "      <th>price(AZN)</th>\n",
       "      <td>0.751983</td>\n",
       "      <td>-0.423914</td>\n",
       "      <td>1.000000</td>\n",
       "      <td>0.453639</td>\n",
       "      <td>0.584105</td>\n",
       "    </tr>\n",
       "    <tr>\n",
       "      <th>engine(L)</th>\n",
       "      <td>0.213164</td>\n",
       "      <td>-0.028237</td>\n",
       "      <td>0.453639</td>\n",
       "      <td>1.000000</td>\n",
       "      <td>0.689972</td>\n",
       "    </tr>\n",
       "    <tr>\n",
       "      <th>engine_power(hp)</th>\n",
       "      <td>0.484675</td>\n",
       "      <td>-0.231065</td>\n",
       "      <td>0.584105</td>\n",
       "      <td>0.689972</td>\n",
       "      <td>1.000000</td>\n",
       "    </tr>\n",
       "  </tbody>\n",
       "</table>\n",
       "</div>\n",
       "      <button class=\"colab-df-convert\" onclick=\"convertToInteractive('df-58551fe7-f825-4c86-838b-9b1f3df580b9')\"\n",
       "              title=\"Convert this dataframe to an interactive table.\"\n",
       "              style=\"display:none;\">\n",
       "        \n",
       "  <svg xmlns=\"http://www.w3.org/2000/svg\" height=\"24px\"viewBox=\"0 0 24 24\"\n",
       "       width=\"24px\">\n",
       "    <path d=\"M0 0h24v24H0V0z\" fill=\"none\"/>\n",
       "    <path d=\"M18.56 5.44l.94 2.06.94-2.06 2.06-.94-2.06-.94-.94-2.06-.94 2.06-2.06.94zm-11 1L8.5 8.5l.94-2.06 2.06-.94-2.06-.94L8.5 2.5l-.94 2.06-2.06.94zm10 10l.94 2.06.94-2.06 2.06-.94-2.06-.94-.94-2.06-.94 2.06-2.06.94z\"/><path d=\"M17.41 7.96l-1.37-1.37c-.4-.4-.92-.59-1.43-.59-.52 0-1.04.2-1.43.59L10.3 9.45l-7.72 7.72c-.78.78-.78 2.05 0 2.83L4 21.41c.39.39.9.59 1.41.59.51 0 1.02-.2 1.41-.59l7.78-7.78 2.81-2.81c.8-.78.8-2.07 0-2.86zM5.41 20L4 18.59l7.72-7.72 1.47 1.35L5.41 20z\"/>\n",
       "  </svg>\n",
       "      </button>\n",
       "      \n",
       "  <style>\n",
       "    .colab-df-container {\n",
       "      display:flex;\n",
       "      flex-wrap:wrap;\n",
       "      gap: 12px;\n",
       "    }\n",
       "\n",
       "    .colab-df-convert {\n",
       "      background-color: #E8F0FE;\n",
       "      border: none;\n",
       "      border-radius: 50%;\n",
       "      cursor: pointer;\n",
       "      display: none;\n",
       "      fill: #1967D2;\n",
       "      height: 32px;\n",
       "      padding: 0 0 0 0;\n",
       "      width: 32px;\n",
       "    }\n",
       "\n",
       "    .colab-df-convert:hover {\n",
       "      background-color: #E2EBFA;\n",
       "      box-shadow: 0px 1px 2px rgba(60, 64, 67, 0.3), 0px 1px 3px 1px rgba(60, 64, 67, 0.15);\n",
       "      fill: #174EA6;\n",
       "    }\n",
       "\n",
       "    [theme=dark] .colab-df-convert {\n",
       "      background-color: #3B4455;\n",
       "      fill: #D2E3FC;\n",
       "    }\n",
       "\n",
       "    [theme=dark] .colab-df-convert:hover {\n",
       "      background-color: #434B5C;\n",
       "      box-shadow: 0px 1px 3px 1px rgba(0, 0, 0, 0.15);\n",
       "      filter: drop-shadow(0px 1px 2px rgba(0, 0, 0, 0.3));\n",
       "      fill: #FFFFFF;\n",
       "    }\n",
       "  </style>\n",
       "\n",
       "      <script>\n",
       "        const buttonEl =\n",
       "          document.querySelector('#df-58551fe7-f825-4c86-838b-9b1f3df580b9 button.colab-df-convert');\n",
       "        buttonEl.style.display =\n",
       "          google.colab.kernel.accessAllowed ? 'block' : 'none';\n",
       "\n",
       "        async function convertToInteractive(key) {\n",
       "          const element = document.querySelector('#df-58551fe7-f825-4c86-838b-9b1f3df580b9');\n",
       "          const dataTable =\n",
       "            await google.colab.kernel.invokeFunction('convertToInteractive',\n",
       "                                                     [key], {});\n",
       "          if (!dataTable) return;\n",
       "\n",
       "          const docLinkHtml = 'Like what you see? Visit the ' +\n",
       "            '<a target=\"_blank\" href=https://colab.research.google.com/notebooks/data_table.ipynb>data table notebook</a>'\n",
       "            + ' to learn more about interactive tables.';\n",
       "          element.innerHTML = '';\n",
       "          dataTable['output_type'] = 'display_data';\n",
       "          await google.colab.output.renderOutput(dataTable, element);\n",
       "          const docLink = document.createElement('div');\n",
       "          docLink.innerHTML = docLinkHtml;\n",
       "          element.appendChild(docLink);\n",
       "        }\n",
       "      </script>\n",
       "    </div>\n",
       "  </div>\n",
       "  "
      ],
      "text/plain": [
       "                      year  kilometrage  ...  engine(L)  engine_power(hp)\n",
       "year              1.000000    -0.509379  ...   0.213164          0.484675\n",
       "kilometrage      -0.509379     1.000000  ...  -0.028237         -0.231065\n",
       "price(AZN)        0.751983    -0.423914  ...   0.453639          0.584105\n",
       "engine(L)         0.213164    -0.028237  ...   1.000000          0.689972\n",
       "engine_power(hp)  0.484675    -0.231065  ...   0.689972          1.000000\n",
       "\n",
       "[5 rows x 5 columns]"
      ]
     },
     "execution_count": 299,
     "metadata": {},
     "output_type": "execute_result"
    }
   ],
   "source": [
    "df.corr()"
   ]
  },
  {
   "cell_type": "code",
   "execution_count": 300,
   "metadata": {
    "colab": {
     "base_uri": "https://localhost:8080/",
     "height": 0
    },
    "id": "jwhNTuXGXYfp",
    "outputId": "afcd458e-e2c8-4c32-b6d0-8fb7349b94a8"
   },
   "outputs": [
    {
     "data": {
      "text/plain": [
       "<matplotlib.axes._subplots.AxesSubplot at 0x7fc4f57d2a90>"
      ]
     },
     "execution_count": 300,
     "metadata": {},
     "output_type": "execute_result"
    },
    {
     "data": {
      "image/png": "[encoded data removed]",
      "text/plain": [
       "<Figure size 504x360 with 2 Axes>"
      ]
     },
     "metadata": {
      "needs_background": "light"
     },
     "output_type": "display_data"
    }
   ],
   "source": [
    "plt.figure(figsize = (7,5))\n",
    "sns.heatmap(df.corr(), annot = True, cmap = 'RdBu', vmin = -1, vmax = 1)"
   ]
  },
  {
   "cell_type": "markdown",
   "metadata": {
    "id": "5vd8U8rWY9Op"
   },
   "source": [
    "#### The following inferences can be made from correlation heatmap:\n",
    "Price is highly (positively) correlated to the `year`, `engine(L)` and `engine_power(hp)` columns. New model cars cost high as expected\n",
    "<br>\n",
    "Price is negatively correlated to `kilometrage`. Means if car has been used for long time price decreases\n"
   ]
  },
  {
   "cell_type": "code",
   "execution_count": 43,
   "metadata": {
    "colab": {
     "base_uri": "https://localhost:8080/",
     "height": 0
    },
    "id": "WAZxRn7jSXLq",
    "outputId": "8e757020-7b53-4835-a6e1-be77b8d0497f"
   },
   "outputs": [
    {
     "data": {
      "text/plain": [
       "Text(0.5, 1.0, 'Number of Cars Per Model')"
      ]
     },
     "execution_count": 43,
     "metadata": {},
     "output_type": "execute_result"
    },
    {
     "data": {
      "image/png": "[encoded data removed]",
      "text/plain": [
       "<Figure size 1296x432 with 1 Axes>"
      ]
     },
     "metadata": {},
     "output_type": "display_data"
    }
   ],
   "source": [
    "# Firstly, let's look at number of cars per model \n",
    "df['model'].value_counts().plot(kind = 'bar', figsize = (18,6),fontsize = 12.5)\n",
    "plt.xlabel('Model',fontsize = 13.5,color = 'blue')\n",
    "plt.title('Number of Cars Per Model',fontsize=15, color = 'blue')"
   ]
  },
  {
   "cell_type": "markdown",
   "metadata": {
    "id": "3Cz3KgHDaOtU"
   },
   "source": [
    " Most of the car models for sale are `Rio`, `Optima`, `Sorento`, `Ceed` and `Sportage` "
   ]
  },
  {
   "cell_type": "code",
   "execution_count": 44,
   "metadata": {
    "colab": {
     "base_uri": "https://localhost:8080/",
     "height": 0
    },
    "id": "ASke736sfohb",
    "outputId": "0b5266c9-de53-4e91-e80d-ac0d017cd858"
   },
   "outputs": [
    {
     "data": {
      "image/png": "[encoded data removed]",
      "text/plain": [
       "<Figure size 576x576 with 1 Axes>"
      ]
     },
     "metadata": {},
     "output_type": "display_data"
    }
   ],
   "source": [
    "regions = df['city'].value_counts()\n",
    "more_cars_regions = regions[regions > 10]\n",
    "more_cars_regions.plot(kind = 'pie', figsize = (8,8),fontsize = 12.5, \n",
    "                                     explode = (0.05, 0.05,0.05, 0.05,0.05), \n",
    "                                     ylabel = '', \n",
    "                                     legend=True, \n",
    "                                     startangle= 160)\n",
    "plt.title('Cars by Region with More Than 10',fontsize=15, color = '#006400')\n",
    "plt.savefig('regions')"
   ]
  },
  {
   "cell_type": "markdown",
   "metadata": {
    "id": "xaha1uYmfyVS"
   },
   "source": [
    "Regions with most of the cars are `Bakı`, `Sumqayıt`, `Gəncə`, `Xırdalan`and `Şəmkir`"
   ]
  },
  {
   "cell_type": "code",
   "execution_count": 45,
   "metadata": {
    "colab": {
     "base_uri": "https://localhost:8080/",
     "height": 0
    },
    "id": "pmtgauy_jA7j",
    "outputId": "4eb67cbf-55a6-4dc0-94dd-366ebdc4ca38"
   },
   "outputs": [
    {
     "data": {
      "image/png": "[encoded data removed]",
      "text/plain": [
       "<Figure size 1296x432 with 2 Axes>"
      ]
     },
     "metadata": {},
     "output_type": "display_data"
    }
   ],
   "source": [
    "plt.subplot(1,2,1)\n",
    "df['year'].value_counts().plot(kind = 'bar', figsize = (18,6),fontsize = 12.5,color = '#006400')\n",
    "plt.xlabel('Year',fontsize = 13.5,color = '#006400')\n",
    "plt.title('Cars by Model Year',fontsize=15, color = '#006400')\n",
    "plt.subplot(1,2,2)\n",
    "df['color'].value_counts().plot(kind = 'bar', figsize = (18,6),fontsize = 12.5,color = '#702963')\n",
    "plt.xlabel('Color',fontsize = 13.5, color = '#006400')\n",
    "plt.title('Cars by Color', fontsize=15, color = '#006400')\n",
    "plt.savefig('cars by model and color')"
   ]
  },
  {
   "cell_type": "markdown",
   "metadata": {
    "id": "cQnOcRH-a-y9"
   },
   "source": [
    "The following inferences can be made from the above bar plots:<br>\n",
    "\n",
    "Model year of most of the cars are `2008`, `2007`, `2013`, `2012` and `2011` \n",
    "<br> And color of most of the cars are `'Qara'`, `'Ağ'`, `'Gümüşü'`, `Yaş Asfalt`and `Göy`"
   ]
  },
  {
   "cell_type": "code",
   "execution_count": 46,
   "metadata": {
    "colab": {
     "base_uri": "https://localhost:8080/",
     "height": 0
    },
    "id": "uZSDWLBCkjZm",
    "outputId": "0aa41bae-0885-4112-ac2d-68b2e6141c65"
   },
   "outputs": [
    {
     "data": {
      "text/plain": [
       "Text(0.5, 1.0, 'Most expensive cars')"
      ]
     },
     "execution_count": 46,
     "metadata": {},
     "output_type": "execute_result"
    },
    {
     "data": {
      "image/png": "[encoded data removed]",
      "text/plain": [
       "<Figure size 432x288 with 1 Axes>"
      ]
     },
     "metadata": {},
     "output_type": "display_data"
    }
   ],
   "source": [
    "expensive_models = df.sort_values('price(AZN)', ascending = False).head(10)\n",
    "expensive_models.groupby(['model'])['price(AZN)'].agg('count').sort_values(ascending = False).plot(kind = 'bar')\n",
    "plt.title('Most expensive cars',fontsize=15, color = '#702963')"
   ]
  },
  {
   "cell_type": "markdown",
   "metadata": {
    "id": "GGCuYQE5De6d"
   },
   "source": [
    "Most expensive KIA cars are `Stinger`, `Sorento` and `Carnival`"
   ]
  },
  {
   "cell_type": "code",
   "execution_count": 7,
   "metadata": {
    "colab": {
     "base_uri": "https://localhost:8080/",
     "height": 0
    },
    "id": "pvWHFzdWi7JM",
    "outputId": "8c0735a9-601f-4fb8-a6e2-d0b1338d8c5e"
   },
   "outputs": [
    {
     "data": {
      "application/javascript": [
       "\n",
       "        if (window._pyforest_update_imports_cell) { window._pyforest_update_imports_cell('import plotly.express as px\\nimport pandas as pd'); }\n",
       "    "
      ],
      "text/plain": [
       "<IPython.core.display.Javascript object>"
      ]
     },
     "metadata": {},
     "output_type": "display_data"
    },
    {
     "ename": "ValueError",
     "evalue": "Value of 'x' is not the name of a column in 'data_frame'. Expected one of ['city', 'year', 'brand', 'model', 'color', 'body_type', 'engine', 'engine_power', 'fuel_type', 'kilometrage', 'transmission', 'drivetrain', 'new', 'price'] but received: price(AZN)",
     "output_type": "error",
     "traceback": [
      "\u001b[1;31m---------------------------------------------------------------------------\u001b[0m",
      "\u001b[1;31mValueError\u001b[0m                                Traceback (most recent call last)",
      "\u001b[1;32m~\\AppData\\Local\\Temp\\ipykernel_18120\\103579582.py\u001b[0m in \u001b[0;36m<module>\u001b[1;34m\u001b[0m\n\u001b[1;32m----> 1\u001b[1;33m \u001b[0mfig\u001b[0m \u001b[1;33m=\u001b[0m \u001b[0mpx\u001b[0m\u001b[1;33m.\u001b[0m\u001b[0mhistogram\u001b[0m\u001b[1;33m(\u001b[0m\u001b[0mdf\u001b[0m\u001b[1;33m,\u001b[0m \u001b[0mx\u001b[0m\u001b[1;33m=\u001b[0m\u001b[1;34m\"price(AZN)\"\u001b[0m\u001b[1;33m,\u001b[0m \u001b[0mmarginal\u001b[0m\u001b[1;33m=\u001b[0m\u001b[1;34m\"box\"\u001b[0m\u001b[1;33m,\u001b[0m \u001b[0mtitle\u001b[0m\u001b[1;33m=\u001b[0m\u001b[1;34m'Price Distribution of Second Hand Kia Cars in Azerbaijan'\u001b[0m\u001b[1;33m)\u001b[0m\u001b[1;33m\u001b[0m\u001b[1;33m\u001b[0m\u001b[0m\n\u001b[0m\u001b[0;32m      2\u001b[0m \u001b[0mfig\u001b[0m\u001b[1;33m.\u001b[0m\u001b[0mupdate_layout\u001b[0m\u001b[1;33m(\u001b[0m\u001b[0myaxis_title\u001b[0m \u001b[1;33m=\u001b[0m \u001b[1;34m'Number of cars'\u001b[0m\u001b[1;33m)\u001b[0m\u001b[1;33m\u001b[0m\u001b[1;33m\u001b[0m\u001b[0m\n\u001b[0;32m      3\u001b[0m \u001b[0mfig\u001b[0m\u001b[1;33m.\u001b[0m\u001b[0mupdate_layout\u001b[0m\u001b[1;33m(\u001b[0m\u001b[0mxaxis_title\u001b[0m \u001b[1;33m=\u001b[0m \u001b[1;34m'Price (AZN)'\u001b[0m\u001b[1;33m)\u001b[0m\u001b[1;33m\u001b[0m\u001b[1;33m\u001b[0m\u001b[0m\n",
      "\u001b[1;32mC:\\Program Files\\Anaconda3\\lib\\site-packages\\plotly\\express\\_chart_types.py\u001b[0m in \u001b[0;36mhistogram\u001b[1;34m(data_frame, x, y, color, pattern_shape, facet_row, facet_col, facet_col_wrap, facet_row_spacing, facet_col_spacing, hover_name, hover_data, animation_frame, animation_group, category_orders, labels, color_discrete_sequence, color_discrete_map, pattern_shape_sequence, pattern_shape_map, marginal, opacity, orientation, barmode, barnorm, histnorm, log_x, log_y, range_x, range_y, histfunc, cumulative, nbins, text_auto, title, template, width, height)\u001b[0m\n\u001b[0;32m    478\u001b[0m     `orientation` is `'h'`).\n\u001b[0;32m    479\u001b[0m     \"\"\"\n\u001b[1;32m--> 480\u001b[1;33m     return make_figure(\n\u001b[0m\u001b[0;32m    481\u001b[0m         \u001b[0margs\u001b[0m\u001b[1;33m=\u001b[0m\u001b[0mlocals\u001b[0m\u001b[1;33m(\u001b[0m\u001b[1;33m)\u001b[0m\u001b[1;33m,\u001b[0m\u001b[1;33m\u001b[0m\u001b[1;33m\u001b[0m\u001b[0m\n\u001b[0;32m    482\u001b[0m         \u001b[0mconstructor\u001b[0m\u001b[1;33m=\u001b[0m\u001b[0mgo\u001b[0m\u001b[1;33m.\u001b[0m\u001b[0mHistogram\u001b[0m\u001b[1;33m,\u001b[0m\u001b[1;33m\u001b[0m\u001b[1;33m\u001b[0m\u001b[0m\n",
      "\u001b[1;32mC:\\Program Files\\Anaconda3\\lib\\site-packages\\plotly\\express\\_core.py\u001b[0m in \u001b[0;36mmake_figure\u001b[1;34m(args, constructor, trace_patch, layout_patch)\u001b[0m\n\u001b[0;32m   1988\u001b[0m     \u001b[0mapply_default_cascade\u001b[0m\u001b[1;33m(\u001b[0m\u001b[0margs\u001b[0m\u001b[1;33m)\u001b[0m\u001b[1;33m\u001b[0m\u001b[1;33m\u001b[0m\u001b[0m\n\u001b[0;32m   1989\u001b[0m \u001b[1;33m\u001b[0m\u001b[0m\n\u001b[1;32m-> 1990\u001b[1;33m     \u001b[0margs\u001b[0m \u001b[1;33m=\u001b[0m \u001b[0mbuild_dataframe\u001b[0m\u001b[1;33m(\u001b[0m\u001b[0margs\u001b[0m\u001b[1;33m,\u001b[0m \u001b[0mconstructor\u001b[0m\u001b[1;33m)\u001b[0m\u001b[1;33m\u001b[0m\u001b[1;33m\u001b[0m\u001b[0m\n\u001b[0m\u001b[0;32m   1991\u001b[0m     \u001b[1;32mif\u001b[0m \u001b[0mconstructor\u001b[0m \u001b[1;32min\u001b[0m \u001b[1;33m[\u001b[0m\u001b[0mgo\u001b[0m\u001b[1;33m.\u001b[0m\u001b[0mTreemap\u001b[0m\u001b[1;33m,\u001b[0m \u001b[0mgo\u001b[0m\u001b[1;33m.\u001b[0m\u001b[0mSunburst\u001b[0m\u001b[1;33m,\u001b[0m \u001b[0mgo\u001b[0m\u001b[1;33m.\u001b[0m\u001b[0mIcicle\u001b[0m\u001b[1;33m]\u001b[0m \u001b[1;32mand\u001b[0m \u001b[0margs\u001b[0m\u001b[1;33m[\u001b[0m\u001b[1;34m\"path\"\u001b[0m\u001b[1;33m]\u001b[0m \u001b[1;32mis\u001b[0m \u001b[1;32mnot\u001b[0m \u001b[1;32mNone\u001b[0m\u001b[1;33m:\u001b[0m\u001b[1;33m\u001b[0m\u001b[1;33m\u001b[0m\u001b[0m\n\u001b[0;32m   1992\u001b[0m         \u001b[0margs\u001b[0m \u001b[1;33m=\u001b[0m \u001b[0mprocess_dataframe_hierarchy\u001b[0m\u001b[1;33m(\u001b[0m\u001b[0margs\u001b[0m\u001b[1;33m)\u001b[0m\u001b[1;33m\u001b[0m\u001b[1;33m\u001b[0m\u001b[0m\n",
      "\u001b[1;32mC:\\Program Files\\Anaconda3\\lib\\site-packages\\plotly\\express\\_core.py\u001b[0m in \u001b[0;36mbuild_dataframe\u001b[1;34m(args, constructor)\u001b[0m\n\u001b[0;32m   1403\u001b[0m     \u001b[1;31m# now that things have been prepped, we do the systematic rewriting of `args`\u001b[0m\u001b[1;33m\u001b[0m\u001b[1;33m\u001b[0m\u001b[0m\n\u001b[0;32m   1404\u001b[0m \u001b[1;33m\u001b[0m\u001b[0m\n\u001b[1;32m-> 1405\u001b[1;33m     df_output, wide_id_vars = process_args_into_dataframe(\n\u001b[0m\u001b[0;32m   1406\u001b[0m         \u001b[0margs\u001b[0m\u001b[1;33m,\u001b[0m \u001b[0mwide_mode\u001b[0m\u001b[1;33m,\u001b[0m \u001b[0mvar_name\u001b[0m\u001b[1;33m,\u001b[0m \u001b[0mvalue_name\u001b[0m\u001b[1;33m\u001b[0m\u001b[1;33m\u001b[0m\u001b[0m\n\u001b[0;32m   1407\u001b[0m     )\n",
      "\u001b[1;32mC:\\Program Files\\Anaconda3\\lib\\site-packages\\plotly\\express\\_core.py\u001b[0m in \u001b[0;36mprocess_args_into_dataframe\u001b[1;34m(args, wide_mode, var_name, value_name)\u001b[0m\n\u001b[0;32m   1205\u001b[0m                         \u001b[1;32mif\u001b[0m \u001b[0margument\u001b[0m \u001b[1;33m==\u001b[0m \u001b[1;34m\"index\"\u001b[0m\u001b[1;33m:\u001b[0m\u001b[1;33m\u001b[0m\u001b[1;33m\u001b[0m\u001b[0m\n\u001b[0;32m   1206\u001b[0m                             \u001b[0merr_msg\u001b[0m \u001b[1;33m+=\u001b[0m \u001b[1;34m\"\\n To use the index, pass it in directly as `df.index`.\"\u001b[0m\u001b[1;33m\u001b[0m\u001b[1;33m\u001b[0m\u001b[0m\n\u001b[1;32m-> 1207\u001b[1;33m                         \u001b[1;32mraise\u001b[0m \u001b[0mValueError\u001b[0m\u001b[1;33m(\u001b[0m\u001b[0merr_msg\u001b[0m\u001b[1;33m)\u001b[0m\u001b[1;33m\u001b[0m\u001b[1;33m\u001b[0m\u001b[0m\n\u001b[0m\u001b[0;32m   1208\u001b[0m                 \u001b[1;32melif\u001b[0m \u001b[0mlength\u001b[0m \u001b[1;32mand\u001b[0m \u001b[0mlen\u001b[0m\u001b[1;33m(\u001b[0m\u001b[0mdf_input\u001b[0m\u001b[1;33m[\u001b[0m\u001b[0margument\u001b[0m\u001b[1;33m]\u001b[0m\u001b[1;33m)\u001b[0m \u001b[1;33m!=\u001b[0m \u001b[0mlength\u001b[0m\u001b[1;33m:\u001b[0m\u001b[1;33m\u001b[0m\u001b[1;33m\u001b[0m\u001b[0m\n\u001b[0;32m   1209\u001b[0m                     raise ValueError(\n",
      "\u001b[1;31mValueError\u001b[0m: Value of 'x' is not the name of a column in 'data_frame'. Expected one of ['city', 'year', 'brand', 'model', 'color', 'body_type', 'engine', 'engine_power', 'fuel_type', 'kilometrage', 'transmission', 'drivetrain', 'new', 'price'] but received: price(AZN)"
     ]
    }
   ],
   "source": [
    "fig = px.histogram(df, x=\"price(AZN)\", marginal=\"box\", title='Price Distribution of Second Hand Kia Cars in Azerbaijan')\n",
    "fig.update_layout(yaxis_title = 'Number of cars')\n",
    "fig.update_layout(xaxis_title = 'Price (AZN)')"
   ]
  },
  {
   "cell_type": "markdown",
   "metadata": {
    "id": "ezTRfsttsLRi"
   },
   "source": [
    "# Feature Engineering"
   ]
  },
  {
   "cell_type": "markdown",
   "metadata": {
    "id": "zeyYA5SAsl0b"
   },
   "source": [
    "### Normalization"
   ]
  },
  {
   "cell_type": "markdown",
   "metadata": {
    "id": "oBganPk6snzG"
   },
   "source": [
    "**Price Column**"
   ]
  },
  {
   "cell_type": "code",
   "execution_count": 49,
   "metadata": {
    "colab": {
     "base_uri": "https://localhost:8080/",
     "height": 0
    },
    "id": "bokOLlF3srdU",
    "outputId": "65db22ba-70d8-4bdc-e86f-c03b8dee7e4b"
   },
   "outputs": [
    {
     "data": {
      "text/plain": [
       "Text(0.5, 1.0, 'Normalized Price Distribution')"
      ]
     },
     "execution_count": 49,
     "metadata": {},
     "output_type": "execute_result"
    },
    {
     "data": {
      "image/png": "[encoded data removed]",
      "text/plain": [
       "<Figure size 1080x432 with 2 Axes>"
      ]
     },
     "metadata": {},
     "output_type": "display_data"
    }
   ],
   "source": [
    "# Let's compare Price distribution before and after\n",
    "normalized_price = stats.boxcox(df['price(AZN)'].loc[df['price(AZN)'] > 0 ])[0]\n",
    "fig, ax = plt.subplots(1,2, figsize = (15,6))\n",
    "sns.histplot(df['price(AZN)'],ax = ax[0], kde = True)\n",
    "ax[0].set_title('Original Price Distribution')\n",
    "sns.histplot(normalized_price, ax = ax[1], kde = True)\n",
    "ax[1].set_title('Normalized Price Distribution')"
   ]
  },
  {
   "cell_type": "code",
   "execution_count": 50,
   "metadata": {
    "id": "EyjEom1WstZ5"
   },
   "outputs": [],
   "source": [
    "df['price(AZN)'] = stats.boxcox(df['price(AZN)'])[0]"
   ]
  },
  {
   "cell_type": "markdown",
   "metadata": {
    "id": "JpwyaYJzsxIk"
   },
   "source": [
    "**Kilometrage Column**"
   ]
  },
  {
   "cell_type": "code",
   "execution_count": 56,
   "metadata": {
    "colab": {
     "base_uri": "https://localhost:8080/",
     "height": 0
    },
    "id": "DGH6zrK0syyR",
    "outputId": "e92ef46a-8002-4cde-c328-37d3bbf10f1d"
   },
   "outputs": [
    {
     "data": {
      "text/plain": [
       "Text(0.5, 1.0, 'Normalized Kilometrage Distribution')"
      ]
     },
     "execution_count": 56,
     "metadata": {},
     "output_type": "execute_result"
    },
    {
     "data": {
      "image/png": "[encoded data removed]",
      "text/plain": [
       "<Figure size 1080x432 with 2 Axes>"
      ]
     },
     "metadata": {},
     "output_type": "display_data"
    }
   ],
   "source": [
    "scaling = StandardScaler()\n",
    "fig, ax = plt.subplots(1,2, figsize = (15,6))\n",
    "sns.histplot(df['kilometrage'], ax = ax[0], kde = True)\n",
    "ax[0].set_title('Original Kilometrage Distribution')\n",
    "sns.histplot(scaling.fit_transform(df[['kilometrage']]), ax = ax[1], kde = True)\n",
    "ax[1].set_title('Normalized Kilometrage Distribution')"
   ]
  },
  {
   "cell_type": "code",
   "execution_count": 309,
   "metadata": {
    "id": "Zb5mBuMosy_1"
   },
   "outputs": [],
   "source": [
    "df['kilometrage'] = scaling.fit_transform(df[['kilometrage']])"
   ]
  },
  {
   "cell_type": "markdown",
   "metadata": {
    "id": "QrQFofsgDIuw"
   },
   "source": [
    "### Outlier detection"
   ]
  },
  {
   "cell_type": "markdown",
   "metadata": {
    "id": "nC6lA2QGDJw-"
   },
   "source": [
    "**Price Column**"
   ]
  },
  {
   "cell_type": "code",
   "execution_count": 58,
   "metadata": {
    "colab": {
     "base_uri": "https://localhost:8080/",
     "height": 0
    },
    "id": "0YsFIpVKDHpA",
    "outputId": "39a12e25-8ca9-40d1-e879-89504975fd9d"
   },
   "outputs": [
    {
     "data": {
      "text/plain": [
       "<AxesSubplot:xlabel='price(AZN)'>"
      ]
     },
     "execution_count": 58,
     "metadata": {},
     "output_type": "execute_result"
    },
    {
     "data": {
      "image/png": "[encoded data removed]",
      "text/plain": [
       "<Figure size 432x288 with 1 Axes>"
      ]
     },
     "metadata": {},
     "output_type": "display_data"
    }
   ],
   "source": [
    "sns.boxplot(x=df['price(AZN)'])"
   ]
  },
  {
   "cell_type": "code",
   "execution_count": 59,
   "metadata": {
    "id": "yxQhrOf7DL8D"
   },
   "outputs": [],
   "source": [
    "lower_limit, upper_limit = (df['price(AZN)'].mean() - 2*df['price(AZN)'].std(), df['price(AZN)'].mean() + 2*df['price(AZN)'].std())\n",
    "df = df[(df['price(AZN)']>lower_limit) & (df['price(AZN)'] < upper_limit)]"
   ]
  },
  {
   "cell_type": "markdown",
   "metadata": {
    "id": "E8rVFyhrDQGX"
   },
   "source": [
    "**Kilometrage Column**"
   ]
  },
  {
   "cell_type": "code",
   "execution_count": 61,
   "metadata": {
    "colab": {
     "base_uri": "https://localhost:8080/",
     "height": 0
    },
    "id": "p36fjbCBDNsj",
    "outputId": "4646d0cc-e31d-48ec-c4b3-87f49b5d346c"
   },
   "outputs": [
    {
     "data": {
      "text/plain": [
       "<AxesSubplot:xlabel='kilometrage'>"
      ]
     },
     "execution_count": 61,
     "metadata": {},
     "output_type": "execute_result"
    },
    {
     "data": {
      "image/png": "[encoded data removed]",
      "text/plain": [
       "<Figure size 432x288 with 1 Axes>"
      ]
     },
     "metadata": {},
     "output_type": "display_data"
    }
   ],
   "source": [
    "sns.boxplot(x = df['kilometrage'])"
   ]
  },
  {
   "cell_type": "code",
   "execution_count": 66,
   "metadata": {
    "id": "Kfm1jpzjDR1l"
   },
   "outputs": [],
   "source": [
    "lower_limit2, upper_limit2 = (df['kilometrage'].mean()-2*df['kilometrage'].std(), df['kilometrage'].mean()+2*df['kilometrage'].std())\n",
    "df2 = df[(df['kilometrage'] > lower_limit2) & (df['kilometrage'] < upper_limit2)]"
   ]
  },
  {
   "cell_type": "markdown",
   "metadata": {
    "id": "p6WwOhbVtD2g"
   },
   "source": [
    "### Reducing cardinality"
   ]
  },
  {
   "cell_type": "code",
   "execution_count": 67,
   "metadata": {
    "colab": {
     "base_uri": "https://localhost:8080/"
    },
    "id": "deg_0MFxtE2O",
    "outputId": "a70b3c8c-9416-4572-cf03-61ecdad2a06f"
   },
   "outputs": [
    {
     "name": "stdout",
     "output_type": "stream",
     "text": [
      "Number of unique values in column city 47\n",
      "Number of unique values in column brand 1\n",
      "Number of unique values in column model 32\n",
      "Number of unique values in column color 17\n",
      "Number of unique values in column body_type 9\n",
      "Number of unique values in column fuel_type 4\n",
      "Number of unique values in column transmission 2\n",
      "Number of unique values in column drivetrain 3\n",
      "Number of unique values in column new 2\n"
     ]
    }
   ],
   "source": [
    "object_columns = df.select_dtypes('object').columns\n",
    "for col in object_columns:\n",
    "    print('Number of unique values in column',col, df[col].nunique())"
   ]
  },
  {
   "cell_type": "markdown",
   "metadata": {
    "id": "tqXw3mueC69x"
   },
   "source": [
    "**City column**"
   ]
  },
  {
   "cell_type": "code",
   "execution_count": 68,
   "metadata": {
    "colab": {
     "base_uri": "https://localhost:8080/"
    },
    "id": "qRXNdHSjtF7O",
    "outputId": "5e9abdd7-f37c-4d0f-d5b9-616fb89d2f2f"
   },
   "outputs": [
    {
     "data": {
      "text/plain": [
       "Bakı          2020\n",
       "Sumqayıt       205\n",
       "Gəncə           62\n",
       "Xırdalan        27\n",
       "Şəmkir          11\n",
       "Lənkəran         8\n",
       "Naxçıvan         7\n",
       "Tovuz            7\n",
       "Şəki             7\n",
       "Şirvan           6\n",
       "Beyləqan         5\n",
       "Bərdə            5\n",
       "Şabran           5\n",
       "Quba             5\n",
       "Xaçmaz           5\n",
       "Mingəçevir       5\n",
       "Göyçay           5\n",
       "Kürdəmir         4\n",
       "Salyan           4\n",
       "Masallı          4\n",
       "Şamaxı           4\n",
       "Qəbələ           3\n",
       "Sabirabad        3\n",
       "İmişli           3\n",
       "Biləsuvar        3\n",
       "Göygöl           3\n",
       "Astara           3\n",
       "İsmayıllı        3\n",
       "Cəlilabad        3\n",
       "Qax              2\n",
       "Ağstafa          2\n",
       "Tərtər           2\n",
       "Ağdaş            2\n",
       "Balakən          2\n",
       "Neftçala         2\n",
       "Goranboy         2\n",
       "Qusar            2\n",
       "Zaqatala         1\n",
       "Ağcabədi         1\n",
       "Ucar             1\n",
       "Füzuli           1\n",
       "Qazax            1\n",
       "Cəbrayıl         1\n",
       "Yevlax           1\n",
       "Ağsu             1\n",
       "Xudat            1\n",
       "Qobustan         1\n",
       "Name: city, dtype: int64"
      ]
     },
     "execution_count": 68,
     "metadata": {},
     "output_type": "execute_result"
    }
   ],
   "source": [
    "city_unique_values = df['city'].value_counts()\n",
    "city_unique_values"
   ]
  },
  {
   "cell_type": "code",
   "execution_count": 69,
   "metadata": {
    "id": "-uhijtIbtG63"
   },
   "outputs": [],
   "source": [
    "city_less_than_10 = city_unique_values[city_unique_values < 8]\n",
    "df['city'] = df['city'].apply(lambda x: 'Başqa Bölgə' if x in city_less_than_10 else x)"
   ]
  },
  {
   "cell_type": "code",
   "execution_count": 70,
   "metadata": {
    "colab": {
     "base_uri": "https://localhost:8080/"
    },
    "id": "oBSn14FLtH7N",
    "outputId": "5d92fb9c-19f5-4b06-a0c7-a8b4046a497d"
   },
   "outputs": [
    {
     "data": {
      "text/plain": [
       "7"
      ]
     },
     "execution_count": 70,
     "metadata": {},
     "output_type": "execute_result"
    }
   ],
   "source": [
    "df['city'].nunique()"
   ]
  },
  {
   "cell_type": "markdown",
   "metadata": {
    "id": "5E79ix8uC2sb"
   },
   "source": [
    "**Color column**"
   ]
  },
  {
   "cell_type": "code",
   "execution_count": 71,
   "metadata": {
    "colab": {
     "base_uri": "https://localhost:8080/"
    },
    "id": "suL7d_P3-qY3",
    "outputId": "4504f436-2243-4186-f663-855700e182c7"
   },
   "outputs": [
    {
     "data": {
      "text/plain": [
       "Qara            714\n",
       "Ağ              604\n",
       "Gümüşü          406\n",
       "Yaş Asfalt      242\n",
       "Göy             135\n",
       "Boz             134\n",
       "Qırmızı          58\n",
       "Tünd qırmızı     47\n",
       "Qəhvəyi          29\n",
       "Mavi             27\n",
       "Qızılı           21\n",
       "Narıncı          18\n",
       "Bej              11\n",
       "Yaşıl            10\n",
       "Bənövşəyi         2\n",
       "Sarı              2\n",
       "Çəhrayı           1\n",
       "Name: color, dtype: int64"
      ]
     },
     "execution_count": 71,
     "metadata": {},
     "output_type": "execute_result"
    }
   ],
   "source": [
    "color_unique_values = df['color'].value_counts()\n",
    "color_unique_values"
   ]
  },
  {
   "cell_type": "code",
   "execution_count": 72,
   "metadata": {
    "id": "waiIWfbL-qba"
   },
   "outputs": [],
   "source": [
    "color_less_than_50 = color_unique_values[color_unique_values< 50]\n",
    "df['color'] = df['color'].apply(lambda x: 'Başqa rəng' if x in color_less_than_50 else x)"
   ]
  },
  {
   "cell_type": "code",
   "execution_count": 73,
   "metadata": {
    "colab": {
     "base_uri": "https://localhost:8080/"
    },
    "id": "7Li4-2_2_a4w",
    "outputId": "029ff1cc-cd3a-4e7e-e126-59945ec95665"
   },
   "outputs": [
    {
     "data": {
      "text/plain": [
       "8"
      ]
     },
     "execution_count": 73,
     "metadata": {},
     "output_type": "execute_result"
    }
   ],
   "source": [
    "df['color'].nunique()"
   ]
  },
  {
   "cell_type": "markdown",
   "metadata": {
    "id": "-vuHGSlcDE3h"
   },
   "source": [
    "**Model column**"
   ]
  },
  {
   "cell_type": "code",
   "execution_count": 74,
   "metadata": {
    "colab": {
     "base_uri": "https://localhost:8080/"
    },
    "id": "PPoCMoL7DFG6",
    "outputId": "a2201725-7517-4cd3-9013-fa3d07e3b301"
   },
   "outputs": [
    {
     "data": {
      "text/plain": [
       "Rio            654\n",
       "Optima         462\n",
       "Sorento        415\n",
       "Ceed           371\n",
       "Cerato         188\n",
       "Sportage       187\n",
       "Picanto         40\n",
       "Soul            20\n",
       "Carens          19\n",
       "Cadenza         15\n",
       "Carnival        14\n",
       "Pride           11\n",
       "Morning          9\n",
       "Magentis         8\n",
       "K5               8\n",
       "Rio X-Line       5\n",
       "Pregio           5\n",
       "Mohave           5\n",
       "Bongo            4\n",
       "Cerato Koup      4\n",
       "Opirus           4\n",
       "Quoris           3\n",
       "Venga            1\n",
       "Stinger          1\n",
       "K2700            1\n",
       "Seltos           1\n",
       "Sephia           1\n",
       "Niro             1\n",
       "Ray              1\n",
       "Spectra          1\n",
       "K3               1\n",
       "Stonic           1\n",
       "Name: model, dtype: int64"
      ]
     },
     "execution_count": 74,
     "metadata": {},
     "output_type": "execute_result"
    }
   ],
   "source": [
    "model_unique_values = df['model'].value_counts()\n",
    "model_unique_values"
   ]
  },
  {
   "cell_type": "code",
   "execution_count": 75,
   "metadata": {
    "id": "lTS_tsSIDOFH"
   },
   "outputs": [],
   "source": [
    "models_less_12 =  model_unique_values[model_unique_values < 20]\n",
    "df['model'] = df['model'].apply(lambda x: 'Başqa Model' if x in models_less_12 else x)"
   ]
  },
  {
   "cell_type": "code",
   "execution_count": 76,
   "metadata": {
    "colab": {
     "base_uri": "https://localhost:8080/"
    },
    "id": "_9AQhBU7DFJ2",
    "outputId": "c42d8d78-527b-4642-9c95-5fd41b319703"
   },
   "outputs": [
    {
     "data": {
      "text/plain": [
       "9"
      ]
     },
     "execution_count": 76,
     "metadata": {},
     "output_type": "execute_result"
    }
   ],
   "source": [
    "df['model'].nunique()"
   ]
  },
  {
   "cell_type": "markdown",
   "metadata": {
    "id": "q9yztXLetKCC"
   },
   "source": [
    "### Categorical data Encoding"
   ]
  },
  {
   "cell_type": "code",
   "execution_count": 79,
   "metadata": {
    "colab": {
     "base_uri": "https://localhost:8080/",
     "height": 0
    },
    "id": "CQo54l9ctXeg",
    "outputId": "19771432-cf61-40de-d937-eb0944437a88"
   },
   "outputs": [
    {
     "data": {
      "text/html": [
       "<div>\n",
       "<style scoped>\n",
       "    .dataframe tbody tr th:only-of-type {\n",
       "        vertical-align: middle;\n",
       "    }\n",
       "\n",
       "    .dataframe tbody tr th {\n",
       "        vertical-align: top;\n",
       "    }\n",
       "\n",
       "    .dataframe thead th {\n",
       "        text-align: right;\n",
       "    }\n",
       "</style>\n",
       "<table border=\"1\" class=\"dataframe\">\n",
       "  <thead>\n",
       "    <tr style=\"text-align: right;\">\n",
       "      <th></th>\n",
       "      <th>year</th>\n",
       "      <th>brand</th>\n",
       "      <th>kilometrage</th>\n",
       "      <th>new</th>\n",
       "      <th>price(AZN)</th>\n",
       "      <th>engine(L)</th>\n",
       "      <th>engine_power(hp)</th>\n",
       "      <th>Hetçbek / Liftbek</th>\n",
       "      <th>Kupe</th>\n",
       "      <th>Mikroavtobus</th>\n",
       "      <th>...</th>\n",
       "      <th>Qırmızı</th>\n",
       "      <th>Yaş Asfalt</th>\n",
       "      <th>Ceed</th>\n",
       "      <th>Cerato</th>\n",
       "      <th>Optima</th>\n",
       "      <th>Picanto</th>\n",
       "      <th>Rio</th>\n",
       "      <th>Sorento</th>\n",
       "      <th>Soul</th>\n",
       "      <th>Sportage</th>\n",
       "    </tr>\n",
       "  </thead>\n",
       "  <tbody>\n",
       "    <tr>\n",
       "      <th>0</th>\n",
       "      <td>2008</td>\n",
       "      <td>Kia</td>\n",
       "      <td>167055</td>\n",
       "      <td>Xeyr</td>\n",
       "      <td>7.558577</td>\n",
       "      <td>1.6</td>\n",
       "      <td>115</td>\n",
       "      <td>0</td>\n",
       "      <td>0</td>\n",
       "      <td>0</td>\n",
       "      <td>...</td>\n",
       "      <td>0</td>\n",
       "      <td>0</td>\n",
       "      <td>1</td>\n",
       "      <td>0</td>\n",
       "      <td>0</td>\n",
       "      <td>0</td>\n",
       "      <td>0</td>\n",
       "      <td>0</td>\n",
       "      <td>0</td>\n",
       "      <td>0</td>\n",
       "    </tr>\n",
       "    <tr>\n",
       "      <th>1</th>\n",
       "      <td>2012</td>\n",
       "      <td>Kia</td>\n",
       "      <td>154000</td>\n",
       "      <td>Xeyr</td>\n",
       "      <td>8.053890</td>\n",
       "      <td>2.0</td>\n",
       "      <td>170</td>\n",
       "      <td>0</td>\n",
       "      <td>0</td>\n",
       "      <td>0</td>\n",
       "      <td>...</td>\n",
       "      <td>0</td>\n",
       "      <td>0</td>\n",
       "      <td>0</td>\n",
       "      <td>0</td>\n",
       "      <td>0</td>\n",
       "      <td>0</td>\n",
       "      <td>0</td>\n",
       "      <td>1</td>\n",
       "      <td>0</td>\n",
       "      <td>0</td>\n",
       "    </tr>\n",
       "    <tr>\n",
       "      <th>2</th>\n",
       "      <td>2015</td>\n",
       "      <td>Kia</td>\n",
       "      <td>97000</td>\n",
       "      <td>Xeyr</td>\n",
       "      <td>8.225252</td>\n",
       "      <td>2.2</td>\n",
       "      <td>197</td>\n",
       "      <td>0</td>\n",
       "      <td>0</td>\n",
       "      <td>0</td>\n",
       "      <td>...</td>\n",
       "      <td>0</td>\n",
       "      <td>0</td>\n",
       "      <td>0</td>\n",
       "      <td>0</td>\n",
       "      <td>0</td>\n",
       "      <td>0</td>\n",
       "      <td>0</td>\n",
       "      <td>1</td>\n",
       "      <td>0</td>\n",
       "      <td>0</td>\n",
       "    </tr>\n",
       "    <tr>\n",
       "      <th>3</th>\n",
       "      <td>2008</td>\n",
       "      <td>Kia</td>\n",
       "      <td>152524</td>\n",
       "      <td>Xeyr</td>\n",
       "      <td>7.509518</td>\n",
       "      <td>1.4</td>\n",
       "      <td>109</td>\n",
       "      <td>1</td>\n",
       "      <td>0</td>\n",
       "      <td>0</td>\n",
       "      <td>...</td>\n",
       "      <td>0</td>\n",
       "      <td>0</td>\n",
       "      <td>1</td>\n",
       "      <td>0</td>\n",
       "      <td>0</td>\n",
       "      <td>0</td>\n",
       "      <td>0</td>\n",
       "      <td>0</td>\n",
       "      <td>0</td>\n",
       "      <td>0</td>\n",
       "    </tr>\n",
       "    <tr>\n",
       "      <th>4</th>\n",
       "      <td>2013</td>\n",
       "      <td>Kia</td>\n",
       "      <td>61838</td>\n",
       "      <td>Xeyr</td>\n",
       "      <td>8.056573</td>\n",
       "      <td>2.0</td>\n",
       "      <td>184</td>\n",
       "      <td>0</td>\n",
       "      <td>0</td>\n",
       "      <td>0</td>\n",
       "      <td>...</td>\n",
       "      <td>0</td>\n",
       "      <td>0</td>\n",
       "      <td>0</td>\n",
       "      <td>0</td>\n",
       "      <td>0</td>\n",
       "      <td>0</td>\n",
       "      <td>0</td>\n",
       "      <td>1</td>\n",
       "      <td>0</td>\n",
       "      <td>0</td>\n",
       "    </tr>\n",
       "  </tbody>\n",
       "</table>\n",
       "<p>5 rows × 42 columns</p>\n",
       "</div>"
      ],
      "text/plain": [
       "   year brand  kilometrage   new  price(AZN)  engine(L)  engine_power(hp)  \\\n",
       "0  2008   Kia       167055  Xeyr    7.558577        1.6               115   \n",
       "1  2012   Kia       154000  Xeyr    8.053890        2.0               170   \n",
       "2  2015   Kia        97000  Xeyr    8.225252        2.2               197   \n",
       "3  2008   Kia       152524  Xeyr    7.509518        1.4               109   \n",
       "4  2013   Kia        61838  Xeyr    8.056573        2.0               184   \n",
       "\n",
       "   Hetçbek / Liftbek  Kupe  Mikroavtobus  ...  Qırmızı  Yaş Asfalt  Ceed  \\\n",
       "0                  0     0             0  ...        0           0     1   \n",
       "1                  0     0             0  ...        0           0     0   \n",
       "2                  0     0             0  ...        0           0     0   \n",
       "3                  1     0             0  ...        0           0     1   \n",
       "4                  0     0             0  ...        0           0     0   \n",
       "\n",
       "   Cerato  Optima  Picanto  Rio  Sorento  Soul  Sportage  \n",
       "0       0       0        0    0        0     0         0  \n",
       "1       0       0        0    0        1     0         0  \n",
       "2       0       0        0    0        1     0         0  \n",
       "3       0       0        0    0        0     0         0  \n",
       "4       0       0        0    0        1     0         0  \n",
       "\n",
       "[5 rows x 42 columns]"
      ]
     },
     "execution_count": 79,
     "metadata": {},
     "output_type": "execute_result"
    }
   ],
   "source": [
    "body_type = pd.get_dummies(df['body_type'], drop_first = True)\n",
    "fuel_type = pd.get_dummies(df['fuel_type'], drop_first = True)\n",
    "transmission = pd.get_dummies(df['transmission'], drop_first = True)\n",
    "drivetrain = pd.get_dummies(df['drivetrain'], drop_first = True)\n",
    "city = pd.get_dummies(df['city'], drop_first = True)\n",
    "color = pd.get_dummies(df['color'], drop_first = True)\n",
    "model = pd.get_dummies(df['model'], drop_first = True)\n",
    "df.drop(['body_type', 'fuel_type', 'transmission', 'drivetrain','city', 'color', 'model'], axis = 1, inplace = True)\n",
    "df = pd.concat([df, body_type,fuel_type,transmission,drivetrain,city,color, model], axis = 1)\n",
    "df.head()"
   ]
  },
  {
   "cell_type": "markdown",
   "metadata": {
    "id": "9czMo6UpUE6n"
   },
   "source": [
    "# Splitting data to train and test "
   ]
  },
  {
   "cell_type": "code",
   "execution_count": 80,
   "metadata": {
    "id": "bJSs7ygSK6DX"
   },
   "outputs": [],
   "source": [
    "X = df.drop(['brand','new','price(AZN)'], axis = 1)\n",
    "y = df['price(AZN)']"
   ]
  },
  {
   "cell_type": "code",
   "execution_count": 81,
   "metadata": {
    "id": "Xjjeh6zLpA0L"
   },
   "outputs": [],
   "source": [
    "X_train, X_test, y_train, y_test = train_test_split(X,y, test_size = 0.2, random_state = 0)"
   ]
  },
  {
   "cell_type": "markdown",
   "metadata": {
    "id": "gIcXLSQ0Ds78"
   },
   "source": [
    "# Choosing best model"
   ]
  },
  {
   "cell_type": "markdown",
   "metadata": {
    "id": "Y3q2iadFphm5"
   },
   "source": [
    "### Linear Regression Model"
   ]
  },
  {
   "cell_type": "code",
   "execution_count": 82,
   "metadata": {
    "colab": {
     "base_uri": "https://localhost:8080/"
    },
    "id": "lEhUhUE5pZF7",
    "outputId": "1af5e912-12f3-4a22-a75e-f7b3b91e2601"
   },
   "outputs": [
    {
     "data": {
      "text/plain": [
       "LinearRegression(copy_X=True, fit_intercept=True, n_jobs=None, normalize=False)"
      ]
     },
     "execution_count": 82,
     "metadata": {},
     "output_type": "execute_result"
    }
   ],
   "source": [
    "lin_model = LinearRegression()\n",
    "lin_model.fit(X_train, y_train)"
   ]
  },
  {
   "cell_type": "code",
   "execution_count": 83,
   "metadata": {
    "id": "4Zsw3BilpwB3"
   },
   "outputs": [],
   "source": [
    "# Prediction on test data\n",
    "test_pred_lin = lin_model.predict(X_test)"
   ]
  },
  {
   "cell_type": "code",
   "execution_count": 84,
   "metadata": {
    "colab": {
     "base_uri": "https://localhost:8080/"
    },
    "id": "fuAIkudnpf7U",
    "outputId": "e7a1641c-a755-4bae-8b50-9d3f79f85934"
   },
   "outputs": [
    {
     "data": {
      "text/plain": [
       "0.893"
      ]
     },
     "execution_count": 84,
     "metadata": {},
     "output_type": "execute_result"
    }
   ],
   "source": [
    "accuracy_lr = round(lin_model.score(X_test, y_test),3)\n",
    "accuracy_lr"
   ]
  },
  {
   "cell_type": "code",
   "execution_count": 85,
   "metadata": {
    "colab": {
     "base_uri": "https://localhost:8080/",
     "height": 0
    },
    "id": "yigqYWIIqwYE",
    "outputId": "e84766f2-8639-4126-cc61-ea08b5d8adce"
   },
   "outputs": [
    {
     "data": {
      "text/html": [
       "<div>\n",
       "<style scoped>\n",
       "    .dataframe tbody tr th:only-of-type {\n",
       "        vertical-align: middle;\n",
       "    }\n",
       "\n",
       "    .dataframe tbody tr th {\n",
       "        vertical-align: top;\n",
       "    }\n",
       "\n",
       "    .dataframe thead th {\n",
       "        text-align: right;\n",
       "    }\n",
       "</style>\n",
       "<table border=\"1\" class=\"dataframe\">\n",
       "  <thead>\n",
       "    <tr style=\"text-align: right;\">\n",
       "      <th></th>\n",
       "      <th>Actual</th>\n",
       "      <th>Predicted</th>\n",
       "    </tr>\n",
       "  </thead>\n",
       "  <tbody>\n",
       "    <tr>\n",
       "      <th>2532</th>\n",
       "      <td>7.981243</td>\n",
       "      <td>7.939474</td>\n",
       "    </tr>\n",
       "    <tr>\n",
       "      <th>2590</th>\n",
       "      <td>8.106861</td>\n",
       "      <td>8.036913</td>\n",
       "    </tr>\n",
       "    <tr>\n",
       "      <th>171</th>\n",
       "      <td>7.987334</td>\n",
       "      <td>8.009610</td>\n",
       "    </tr>\n",
       "    <tr>\n",
       "      <th>3186</th>\n",
       "      <td>7.476006</td>\n",
       "      <td>7.473806</td>\n",
       "    </tr>\n",
       "    <tr>\n",
       "      <th>3450</th>\n",
       "      <td>8.050293</td>\n",
       "      <td>8.055720</td>\n",
       "    </tr>\n",
       "  </tbody>\n",
       "</table>\n",
       "</div>"
      ],
      "text/plain": [
       "        Actual  Predicted\n",
       "2532  7.981243   7.939474\n",
       "2590  8.106861   8.036913\n",
       "171   7.987334   8.009610\n",
       "3186  7.476006   7.473806\n",
       "3450  8.050293   8.055720"
      ]
     },
     "execution_count": 85,
     "metadata": {},
     "output_type": "execute_result"
    }
   ],
   "source": [
    "# Let's visualize how close the predicted values to real prices\n",
    "eval_df = pd.DataFrame({'Actual': y_test, 'Predicted': test_pred_lin})\n",
    "eval_df.head()"
   ]
  },
  {
   "cell_type": "code",
   "execution_count": 86,
   "metadata": {
    "colab": {
     "base_uri": "https://localhost:8080/"
    },
    "id": "P6KSp4pBhhf5",
    "outputId": "5d3aede6-9bfd-4e95-d7fb-9254cb1ebe2a"
   },
   "outputs": [
    {
     "name": "stdout",
     "output_type": "stream",
     "text": [
      "Accuracy of model: 0.8933945777360591\n",
      "Root Mean Squared Error: 0.0808840386179632\n"
     ]
    }
   ],
   "source": [
    "print('Accuracy of model:', lin_model.score(X_test, y_test))\n",
    "print('Root Mean Squared Error:', np.sqrt(metrics.mean_squared_error(y_test, test_pred_lin)))"
   ]
  },
  {
   "cell_type": "code",
   "execution_count": 87,
   "metadata": {
    "colab": {
     "base_uri": "https://localhost:8080/",
     "height": 0
    },
    "id": "jt4Ni01QDsDd",
    "outputId": "2755f8b4-24c5-467a-ed78-8adca96ad6e2"
   },
   "outputs": [
    {
     "data": {
      "text/plain": [
       "<seaborn.axisgrid.JointGrid at 0x164b2481688>"
      ]
     },
     "execution_count": 87,
     "metadata": {},
     "output_type": "execute_result"
    },
    {
     "data": {
      "image/png": "[encoded data removed]",
      "text/plain": [
       "<Figure size 432x432 with 3 Axes>"
      ]
     },
     "metadata": {},
     "output_type": "display_data"
    }
   ],
   "source": [
    "sns.jointplot(x = 'Actual', y = 'Predicted', data = eval_df, kind = 'reg')"
   ]
  },
  {
   "cell_type": "code",
   "execution_count": 90,
   "metadata": {
    "id": "_StdmWAtNIPf"
   },
   "outputs": [],
   "source": [
    "# Save the model\n",
    "import pickle\n",
    "with open('model_pickle', 'wb') as f:\n",
    "    pickle.dump(lin_model, f)"
   ]
  },
  {
   "cell_type": "code",
   "execution_count": 92,
   "metadata": {
    "id": "I6xi7E88P1y6"
   },
   "outputs": [],
   "source": [
    "with open('model_pickle', 'rb') as f:\n",
    "    model = pickle.load(f)"
   ]
  },
  {
   "cell_type": "markdown",
   "metadata": {
    "id": "X4ibqdKI0G3_"
   },
   "source": [
    "### Lasso Regression Model"
   ]
  },
  {
   "cell_type": "code",
   "execution_count": 93,
   "metadata": {
    "colab": {
     "base_uri": "https://localhost:8080/"
    },
    "id": "jW77X9S9xTOD",
    "outputId": "e4a9ed54-5c9f-4a9d-e2fb-cc5268b62b88"
   },
   "outputs": [
    {
     "data": {
      "text/plain": [
       "Lasso(alpha=1.0, copy_X=True, fit_intercept=True, max_iter=1000,\n",
       "      normalize=False, positive=False, precompute=False, random_state=None,\n",
       "      selection='cyclic', tol=0.0001, warm_start=False)"
      ]
     },
     "execution_count": 93,
     "metadata": {},
     "output_type": "execute_result"
    }
   ],
   "source": [
    "lasso_model = Lasso()\n",
    "lasso_model.fit(X_train,y_train)"
   ]
  },
  {
   "cell_type": "code",
   "execution_count": 94,
   "metadata": {
    "id": "2a1Xp2Gr0NV_"
   },
   "outputs": [],
   "source": [
    "test_pred_lasso = lasso_model.predict(X_test)"
   ]
  },
  {
   "cell_type": "code",
   "execution_count": 95,
   "metadata": {
    "colab": {
     "base_uri": "https://localhost:8080/"
    },
    "id": "lENZPtJWpoEa",
    "outputId": "5233bee7-0f3d-4327-800d-a9a1242e915b"
   },
   "outputs": [
    {
     "data": {
      "text/plain": [
       "0.522"
      ]
     },
     "execution_count": 95,
     "metadata": {},
     "output_type": "execute_result"
    }
   ],
   "source": [
    "accuracy_lasso = round(lasso_model.score(X_test, y_test),3)\n",
    "accuracy_lasso"
   ]
  },
  {
   "cell_type": "code",
   "execution_count": 96,
   "metadata": {
    "colab": {
     "base_uri": "https://localhost:8080/",
     "height": 0
    },
    "id": "lGBPOxHk0T66",
    "outputId": "e9ad9f8d-ca97-43ef-dff6-1679f238b8ee"
   },
   "outputs": [
    {
     "data": {
      "text/html": [
       "<div>\n",
       "<style scoped>\n",
       "    .dataframe tbody tr th:only-of-type {\n",
       "        vertical-align: middle;\n",
       "    }\n",
       "\n",
       "    .dataframe tbody tr th {\n",
       "        vertical-align: top;\n",
       "    }\n",
       "\n",
       "    .dataframe thead th {\n",
       "        text-align: right;\n",
       "    }\n",
       "</style>\n",
       "<table border=\"1\" class=\"dataframe\">\n",
       "  <thead>\n",
       "    <tr style=\"text-align: right;\">\n",
       "      <th></th>\n",
       "      <th>Actual</th>\n",
       "      <th>Predicted</th>\n",
       "    </tr>\n",
       "  </thead>\n",
       "  <tbody>\n",
       "    <tr>\n",
       "      <th>2532</th>\n",
       "      <td>7.981243</td>\n",
       "      <td>7.849902</td>\n",
       "    </tr>\n",
       "    <tr>\n",
       "      <th>2590</th>\n",
       "      <td>8.106861</td>\n",
       "      <td>7.813233</td>\n",
       "    </tr>\n",
       "    <tr>\n",
       "      <th>171</th>\n",
       "      <td>7.987334</td>\n",
       "      <td>7.737945</td>\n",
       "    </tr>\n",
       "    <tr>\n",
       "      <th>3186</th>\n",
       "      <td>7.476006</td>\n",
       "      <td>7.591680</td>\n",
       "    </tr>\n",
       "    <tr>\n",
       "      <th>3450</th>\n",
       "      <td>8.050293</td>\n",
       "      <td>7.790722</td>\n",
       "    </tr>\n",
       "  </tbody>\n",
       "</table>\n",
       "</div>"
      ],
      "text/plain": [
       "        Actual  Predicted\n",
       "2532  7.981243   7.849902\n",
       "2590  8.106861   7.813233\n",
       "171   7.987334   7.737945\n",
       "3186  7.476006   7.591680\n",
       "3450  8.050293   7.790722"
      ]
     },
     "execution_count": 96,
     "metadata": {},
     "output_type": "execute_result"
    }
   ],
   "source": [
    "eval_df = pd.DataFrame({'Actual': y_test, 'Predicted': test_pred_lasso})\n",
    "eval_df.head()"
   ]
  },
  {
   "cell_type": "code",
   "execution_count": 97,
   "metadata": {
    "colab": {
     "base_uri": "https://localhost:8080/"
    },
    "id": "AcDdL_n_bD_-",
    "outputId": "d08ab9b9-3935-4c9e-d139-5dde0a72c362"
   },
   "outputs": [
    {
     "name": "stdout",
     "output_type": "stream",
     "text": [
      "Accuracy: 0.5216824943045393\n",
      "Root Mean Squared Error: 0.17132917290990393\n"
     ]
    }
   ],
   "source": [
    "print('Accuracy:',lasso_model.score(X_test, y_test))\n",
    "print('Root Mean Squared Error:', np.sqrt(metrics.mean_squared_error(y_test, test_pred_lasso)))"
   ]
  },
  {
   "cell_type": "code",
   "execution_count": 98,
   "metadata": {
    "colab": {
     "base_uri": "https://localhost:8080/",
     "height": 0
    },
    "id": "o9bUofwrD-0t",
    "outputId": "7be38830-b613-42aa-bcef-fd059bca4020"
   },
   "outputs": [
    {
     "data": {
      "text/plain": [
       "<seaborn.axisgrid.JointGrid at 0x164b2461788>"
      ]
     },
     "execution_count": 98,
     "metadata": {},
     "output_type": "execute_result"
    },
    {
     "data": {
      "image/png": "[encoded data removed]",
      "text/plain": [
       "<Figure size 432x432 with 3 Axes>"
      ]
     },
     "metadata": {},
     "output_type": "display_data"
    }
   ],
   "source": [
    "sns.jointplot(x = 'Actual', y = 'Predicted', data = eval_df, kind = 'reg', color = 'green')"
   ]
  },
  {
   "cell_type": "markdown",
   "metadata": {
    "id": "Yhi6bmETLjpE"
   },
   "source": [
    "### DecisionTreeRegressor"
   ]
  },
  {
   "cell_type": "code",
   "execution_count": 99,
   "metadata": {
    "colab": {
     "base_uri": "https://localhost:8080/"
    },
    "id": "pXCfN-FyC7cB",
    "outputId": "fb1a943e-4851-49a0-e93e-6aa9c10fb7b2"
   },
   "outputs": [
    {
     "data": {
      "text/plain": [
       "DecisionTreeRegressor(criterion='mse', max_depth=None, max_features=None,\n",
       "                      max_leaf_nodes=None, min_impurity_decrease=0.0,\n",
       "                      min_impurity_split=None, min_samples_leaf=1,\n",
       "                      min_samples_split=2, min_weight_fraction_leaf=0.0,\n",
       "                      presort=False, random_state=None, splitter='best')"
      ]
     },
     "execution_count": 99,
     "metadata": {},
     "output_type": "execute_result"
    }
   ],
   "source": [
    "dtr_model = DecisionTreeRegressor()\n",
    "dtr_model.fit(X_train,y_train)"
   ]
  },
  {
   "cell_type": "code",
   "execution_count": 100,
   "metadata": {
    "id": "AHFe1G-_L_Pf"
   },
   "outputs": [],
   "source": [
    "test_pred_dtr = dtr_model.predict(X_test)"
   ]
  },
  {
   "cell_type": "code",
   "execution_count": 101,
   "metadata": {
    "colab": {
     "base_uri": "https://localhost:8080/"
    },
    "id": "q3yG-BaHptQx",
    "outputId": "1fb18c03-d9dc-4f92-e1fc-0f36d7a1e1f5"
   },
   "outputs": [
    {
     "data": {
      "text/plain": [
       "0.9"
      ]
     },
     "execution_count": 101,
     "metadata": {},
     "output_type": "execute_result"
    }
   ],
   "source": [
    "accuracy_dtr = round(dtr_model.score(X_test, y_test),3)\n",
    "accuracy_dtr"
   ]
  },
  {
   "cell_type": "code",
   "execution_count": 102,
   "metadata": {
    "colab": {
     "base_uri": "https://localhost:8080/",
     "height": 0
    },
    "id": "HUhtOAAcMSH3",
    "outputId": "f401a3a4-69ae-41ba-a0ae-3b251e702847"
   },
   "outputs": [
    {
     "data": {
      "text/html": [
       "<div>\n",
       "<style scoped>\n",
       "    .dataframe tbody tr th:only-of-type {\n",
       "        vertical-align: middle;\n",
       "    }\n",
       "\n",
       "    .dataframe tbody tr th {\n",
       "        vertical-align: top;\n",
       "    }\n",
       "\n",
       "    .dataframe thead th {\n",
       "        text-align: right;\n",
       "    }\n",
       "</style>\n",
       "<table border=\"1\" class=\"dataframe\">\n",
       "  <thead>\n",
       "    <tr style=\"text-align: right;\">\n",
       "      <th></th>\n",
       "      <th>Actual</th>\n",
       "      <th>Predicted</th>\n",
       "    </tr>\n",
       "  </thead>\n",
       "  <tbody>\n",
       "    <tr>\n",
       "      <th>2532</th>\n",
       "      <td>7.981243</td>\n",
       "      <td>7.929983</td>\n",
       "    </tr>\n",
       "    <tr>\n",
       "      <th>2590</th>\n",
       "      <td>8.106861</td>\n",
       "      <td>7.989350</td>\n",
       "    </tr>\n",
       "    <tr>\n",
       "      <th>171</th>\n",
       "      <td>7.987334</td>\n",
       "      <td>7.987334</td>\n",
       "    </tr>\n",
       "    <tr>\n",
       "      <th>3186</th>\n",
       "      <td>7.476006</td>\n",
       "      <td>7.471058</td>\n",
       "    </tr>\n",
       "    <tr>\n",
       "      <th>3450</th>\n",
       "      <td>8.050293</td>\n",
       "      <td>8.164104</td>\n",
       "    </tr>\n",
       "  </tbody>\n",
       "</table>\n",
       "</div>"
      ],
      "text/plain": [
       "        Actual  Predicted\n",
       "2532  7.981243   7.929983\n",
       "2590  8.106861   7.989350\n",
       "171   7.987334   7.987334\n",
       "3186  7.476006   7.471058\n",
       "3450  8.050293   8.164104"
      ]
     },
     "execution_count": 102,
     "metadata": {},
     "output_type": "execute_result"
    }
   ],
   "source": [
    "eval_df = pd.DataFrame({'Actual': y_test, 'Predicted': test_pred_dtr})\n",
    "eval_df.head()"
   ]
  },
  {
   "cell_type": "code",
   "execution_count": 103,
   "metadata": {
    "colab": {
     "base_uri": "https://localhost:8080/"
    },
    "id": "LxMDrfAzMEP6",
    "outputId": "f218aced-eeee-4cd3-8d31-7f60501fe8b6"
   },
   "outputs": [
    {
     "name": "stdout",
     "output_type": "stream",
     "text": [
      "Accuracy: 0.9004590090007085\n",
      "Root Mean Squared Error: 0.07815813010658378\n"
     ]
    }
   ],
   "source": [
    "print('Accuracy:',dtr_model.score(X_test, y_test))\n",
    "print('Root Mean Squared Error:', np.sqrt(metrics.mean_squared_error(y_test, test_pred_dtr)))"
   ]
  },
  {
   "cell_type": "code",
   "execution_count": 104,
   "metadata": {
    "colab": {
     "base_uri": "https://localhost:8080/",
     "height": 0
    },
    "id": "m49Didhsqen1",
    "outputId": "ecb6cd9c-27cf-4378-e4cc-f6badd717d92"
   },
   "outputs": [
    {
     "data": {
      "text/plain": [
       "<seaborn.axisgrid.JointGrid at 0x164b27aa448>"
      ]
     },
     "execution_count": 104,
     "metadata": {},
     "output_type": "execute_result"
    },
    {
     "data": {
      "image/png": "[encoded data removed]",
      "text/plain": [
       "<Figure size 432x432 with 3 Axes>"
      ]
     },
     "metadata": {},
     "output_type": "display_data"
    }
   ],
   "source": [
    "sns.jointplot(x = 'Actual', y = 'Predicted', data = eval_df, kind = 'reg', color = 'purple')"
   ]
  },
  {
   "cell_type": "markdown",
   "metadata": {
    "id": "B1v2O9t4D03Z"
   },
   "source": [
    "### Comparision"
   ]
  },
  {
   "cell_type": "code",
   "execution_count": 105,
   "metadata": {
    "colab": {
     "base_uri": "https://localhost:8080/",
     "height": 295
    },
    "id": "ku2JKeD1A2Vr",
    "outputId": "c6562c21-720e-40cd-a0a3-7f98239e1b75"
   },
   "outputs": [
    {
     "data": {
      "image/png": "[encoded data removed]",
      "text/plain": [
       "<Figure size 1080x288 with 2 Axes>"
      ]
     },
     "metadata": {},
     "output_type": "display_data"
    }
   ],
   "source": [
    "def addlabels(x,y):\n",
    "    for i in range(len(x)):\n",
    "        plt.text(i, y[i], y[i], ha = 'center',fontweight='bold',color='white',\n",
    "                 bbox = dict(facecolor = 'green', alpha =.8))\n",
    "plt.subplots(figsize=(15,4))\n",
    "plt.subplot(1,2,1)\n",
    "x1 = ['Accuracy of\\nLinearRegression','Accuracy of\\nLasso','Accuracy of\\nDecisionTreeRegressor']\n",
    "y1 = [accuracy_lr,accuracy_lasso,accuracy_dtr]\n",
    "plt.bar(x1,y1)\n",
    "plt.title('Comparision of Accurancies of 3 Models')\n",
    "addlabels(x1,y1)\n",
    "plt.subplot(1,2,2)\n",
    "x = ['RMSE of\\nLinearRegression','RMSE of\\nLasso','RMSE of\\nDecisionTreeRegressor']\n",
    "y = [round(np.sqrt(metrics.mean_squared_error(y_test, test_pred_lin)),3),\n",
    "     round(np.sqrt(metrics.mean_squared_error(y_test, test_pred_lasso)),3),\n",
    "     round(np.sqrt(metrics.mean_squared_error(y_test, test_pred_dtr)),3)]\n",
    "plt.bar(x,y)\n",
    "plt.title('Comparision of Root Mean Squared Errors of 3 Models')\n",
    "addlabels(x, y)\n",
    "plt.savefig('comparision')"
   ]
  },
  {
   "cell_type": "markdown",
   "metadata": {
    "id": "Z0i94Qt1CC0x"
   },
   "source": [
    "As we can see from graph above both in terms of Accuracy and RMSE DecisionTreeRegressor Model performs better. So we are going to use DecisionTreeRegressor"
   ]
  }
 ],
 "metadata": {
  "colab": {
   "collapsed_sections": [
    "BsMuO5X09eJf",
    "6nbvdEOrTn49",
    "GAGopRXWMZEt",
    "zeyYA5SAsl0b",
    "QrQFofsgDIuw",
    "p6WwOhbVtD2g",
    "q9yztXLetKCC",
    "9czMo6UpUE6n",
    "Y3q2iadFphm5",
    "X4ibqdKI0G3_",
    "Yhi6bmETLjpE"
   ],
   "name": "EDA_kia.ipynb",
   "provenance": []
  },
  "kernelspec": {
   "display_name": "Python 3 (ipykernel)",
   "language": "python",
   "name": "python3"
  },
  "language_info": {
   "codemirror_mode": {
    "name": "ipython",
    "version": 3
   },
   "file_extension": ".py",
   "mimetype": "text/x-python",
   "name": "python",
   "nbconvert_exporter": "python",
   "pygments_lexer": "ipython3",
   "version": "3.9.13"
  }
 },
 "nbformat": 4,
 "nbformat_minor": 1
}
