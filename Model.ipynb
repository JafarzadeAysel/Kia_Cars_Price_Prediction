{
  "nbformat": 4,
  "nbformat_minor": 0,
  "metadata": {
    "colab": {
      "name": "EDA_kia.ipynb",
      "provenance": [],
      "collapsed_sections": [
        "BsMuO5X09eJf",
        "6nbvdEOrTn49",
        "GAGopRXWMZEt",
        "zeyYA5SAsl0b",
        "QrQFofsgDIuw",
        "p6WwOhbVtD2g",
        "q9yztXLetKCC",
        "9czMo6UpUE6n",
        "Y3q2iadFphm5",
        "X4ibqdKI0G3_",
        "Yhi6bmETLjpE"
      ]
    },
    "kernelspec": {
      "name": "python3",
      "display_name": "Python 3"
    },
    "language_info": {
      "name": "python"
    }
  },
  "cells": [
    {
      "cell_type": "code",
      "execution_count": 1,
      "metadata": {
        "id": "W0XeJbakI3xj"
      },
      "outputs": [],
      "source": [
        "import pandas as pd\n",
        "import numpy as np\n",
        "import matplotlib.pyplot as plt\n",
        "%matplotlib inline\n",
        "import pickle\n",
        "import seaborn as sns\n",
        "from scipy import stats\n",
        "from sklearn.model_selection import train_test_split\n",
        "from sklearn.linear_model import LinearRegression\n",
        "from sklearn.tree import DecisionTreeRegressor\n",
        "from sklearn.linear_model import Lasso\n",
        "from sklearn import metrics\n",
        "from sklearn.preprocessing import StandardScaler\n",
        "import plotly.express as px\n",
        "sns.set()"
      ]
    },
    {
      "cell_type": "markdown",
      "source": [
        "# Data Exploration"
      ],
      "metadata": {
        "id": "BsMuO5X09eJf"
      }
    },
    {
      "cell_type": "code",
      "source": [
        "df = pd.read_csv('/content/kia_cars2.csv')\n",
        "df.head()"
      ],
      "metadata": {
        "colab": {
          "base_uri": "https://localhost:8080/",
          "height": 0
        },
        "id": "Qz2kavZPRalL",
        "outputId": "4eb372c5-d121-4462-c14e-51a956dde1ef"
      },
      "execution_count": 281,
      "outputs": [
        {
          "output_type": "execute_result",
          "data": {
            "text/html": [
              "\n",
              "  <div id=\"df-8f8690ee-cc0f-431b-98c7-326cb4db3984\">\n",
              "    <div class=\"colab-df-container\">\n",
              "      <div>\n",
              "<style scoped>\n",
              "    .dataframe tbody tr th:only-of-type {\n",
              "        vertical-align: middle;\n",
              "    }\n",
              "\n",
              "    .dataframe tbody tr th {\n",
              "        vertical-align: top;\n",
              "    }\n",
              "\n",
              "    .dataframe thead th {\n",
              "        text-align: right;\n",
              "    }\n",
              "</style>\n",
              "<table border=\"1\" class=\"dataframe\">\n",
              "  <thead>\n",
              "    <tr style=\"text-align: right;\">\n",
              "      <th></th>\n",
              "      <th>city</th>\n",
              "      <th>year</th>\n",
              "      <th>brand</th>\n",
              "      <th>model</th>\n",
              "      <th>color</th>\n",
              "      <th>body_type</th>\n",
              "      <th>engine</th>\n",
              "      <th>engine_power</th>\n",
              "      <th>fuel_type</th>\n",
              "      <th>kilometrage</th>\n",
              "      <th>transmission</th>\n",
              "      <th>drivetrain</th>\n",
              "      <th>new</th>\n",
              "      <th>price</th>\n",
              "    </tr>\n",
              "  </thead>\n",
              "  <tbody>\n",
              "    <tr>\n",
              "      <th>0</th>\n",
              "      <td>Sumqayıt</td>\n",
              "      <td>2008</td>\n",
              "      <td>Kia</td>\n",
              "      <td>Ceed</td>\n",
              "      <td>Göy</td>\n",
              "      <td>Universal</td>\n",
              "      <td>1.6 L</td>\n",
              "      <td>115 a.g.</td>\n",
              "      <td>Dizel</td>\n",
              "      <td>167 055 km</td>\n",
              "      <td>Mexaniki</td>\n",
              "      <td>Ön</td>\n",
              "      <td>Xeyr</td>\n",
              "      <td>14 300 AZN</td>\n",
              "    </tr>\n",
              "    <tr>\n",
              "      <th>1</th>\n",
              "      <td>Bakı</td>\n",
              "      <td>2012</td>\n",
              "      <td>Kia</td>\n",
              "      <td>Sorento</td>\n",
              "      <td>Gümüşü</td>\n",
              "      <td>Offroader / SUV</td>\n",
              "      <td>2.0 L</td>\n",
              "      <td>170 a.g.</td>\n",
              "      <td>Dizel</td>\n",
              "      <td>154 000 km</td>\n",
              "      <td>Avtomat</td>\n",
              "      <td>Tam</td>\n",
              "      <td>Xeyr</td>\n",
              "      <td>32 700 AZN</td>\n",
              "    </tr>\n",
              "    <tr>\n",
              "      <th>2</th>\n",
              "      <td>Bakı</td>\n",
              "      <td>2015</td>\n",
              "      <td>Kia</td>\n",
              "      <td>Sorento</td>\n",
              "      <td>Ağ</td>\n",
              "      <td>Offroader / SUV</td>\n",
              "      <td>2.2 L</td>\n",
              "      <td>197 a.g.</td>\n",
              "      <td>Dizel</td>\n",
              "      <td>97 000 km</td>\n",
              "      <td>Avtomat</td>\n",
              "      <td>Tam</td>\n",
              "      <td>Xeyr</td>\n",
              "      <td>43 900 AZN</td>\n",
              "    </tr>\n",
              "    <tr>\n",
              "      <th>3</th>\n",
              "      <td>Sumqayıt</td>\n",
              "      <td>2008</td>\n",
              "      <td>Kia</td>\n",
              "      <td>Ceed</td>\n",
              "      <td>Gümüşü</td>\n",
              "      <td>Hetçbek / Liftbek</td>\n",
              "      <td>1.4 L</td>\n",
              "      <td>109 a.g.</td>\n",
              "      <td>Benzin</td>\n",
              "      <td>152 524 km</td>\n",
              "      <td>Mexaniki</td>\n",
              "      <td>Ön</td>\n",
              "      <td>Xeyr</td>\n",
              "      <td>13 200 AZN</td>\n",
              "    </tr>\n",
              "    <tr>\n",
              "      <th>4</th>\n",
              "      <td>Bakı</td>\n",
              "      <td>2013</td>\n",
              "      <td>Kia</td>\n",
              "      <td>Sorento</td>\n",
              "      <td>Ağ</td>\n",
              "      <td>Offroader / SUV</td>\n",
              "      <td>2.0 L</td>\n",
              "      <td>184 a.g.</td>\n",
              "      <td>Dizel</td>\n",
              "      <td>61 838 km</td>\n",
              "      <td>Avtomat</td>\n",
              "      <td>Tam</td>\n",
              "      <td>Xeyr</td>\n",
              "      <td>32 850 AZN</td>\n",
              "    </tr>\n",
              "  </tbody>\n",
              "</table>\n",
              "</div>\n",
              "      <button class=\"colab-df-convert\" onclick=\"convertToInteractive('df-8f8690ee-cc0f-431b-98c7-326cb4db3984')\"\n",
              "              title=\"Convert this dataframe to an interactive table.\"\n",
              "              style=\"display:none;\">\n",
              "        \n",
              "  <svg xmlns=\"http://www.w3.org/2000/svg\" height=\"24px\"viewBox=\"0 0 24 24\"\n",
              "       width=\"24px\">\n",
              "    <path d=\"M0 0h24v24H0V0z\" fill=\"none\"/>\n",
              "    <path d=\"M18.56 5.44l.94 2.06.94-2.06 2.06-.94-2.06-.94-.94-2.06-.94 2.06-2.06.94zm-11 1L8.5 8.5l.94-2.06 2.06-.94-2.06-.94L8.5 2.5l-.94 2.06-2.06.94zm10 10l.94 2.06.94-2.06 2.06-.94-2.06-.94-.94-2.06-.94 2.06-2.06.94z\"/><path d=\"M17.41 7.96l-1.37-1.37c-.4-.4-.92-.59-1.43-.59-.52 0-1.04.2-1.43.59L10.3 9.45l-7.72 7.72c-.78.78-.78 2.05 0 2.83L4 21.41c.39.39.9.59 1.41.59.51 0 1.02-.2 1.41-.59l7.78-7.78 2.81-2.81c.8-.78.8-2.07 0-2.86zM5.41 20L4 18.59l7.72-7.72 1.47 1.35L5.41 20z\"/>\n",
              "  </svg>\n",
              "      </button>\n",
              "      \n",
              "  <style>\n",
              "    .colab-df-container {\n",
              "      display:flex;\n",
              "      flex-wrap:wrap;\n",
              "      gap: 12px;\n",
              "    }\n",
              "\n",
              "    .colab-df-convert {\n",
              "      background-color: #E8F0FE;\n",
              "      border: none;\n",
              "      border-radius: 50%;\n",
              "      cursor: pointer;\n",
              "      display: none;\n",
              "      fill: #1967D2;\n",
              "      height: 32px;\n",
              "      padding: 0 0 0 0;\n",
              "      width: 32px;\n",
              "    }\n",
              "\n",
              "    .colab-df-convert:hover {\n",
              "      background-color: #E2EBFA;\n",
              "      box-shadow: 0px 1px 2px rgba(60, 64, 67, 0.3), 0px 1px 3px 1px rgba(60, 64, 67, 0.15);\n",
              "      fill: #174EA6;\n",
              "    }\n",
              "\n",
              "    [theme=dark] .colab-df-convert {\n",
              "      background-color: #3B4455;\n",
              "      fill: #D2E3FC;\n",
              "    }\n",
              "\n",
              "    [theme=dark] .colab-df-convert:hover {\n",
              "      background-color: #434B5C;\n",
              "      box-shadow: 0px 1px 3px 1px rgba(0, 0, 0, 0.15);\n",
              "      filter: drop-shadow(0px 1px 2px rgba(0, 0, 0, 0.3));\n",
              "      fill: #FFFFFF;\n",
              "    }\n",
              "  </style>\n",
              "\n",
              "      <script>\n",
              "        const buttonEl =\n",
              "          document.querySelector('#df-8f8690ee-cc0f-431b-98c7-326cb4db3984 button.colab-df-convert');\n",
              "        buttonEl.style.display =\n",
              "          google.colab.kernel.accessAllowed ? 'block' : 'none';\n",
              "\n",
              "        async function convertToInteractive(key) {\n",
              "          const element = document.querySelector('#df-8f8690ee-cc0f-431b-98c7-326cb4db3984');\n",
              "          const dataTable =\n",
              "            await google.colab.kernel.invokeFunction('convertToInteractive',\n",
              "                                                     [key], {});\n",
              "          if (!dataTable) return;\n",
              "\n",
              "          const docLinkHtml = 'Like what you see? Visit the ' +\n",
              "            '<a target=\"_blank\" href=https://colab.research.google.com/notebooks/data_table.ipynb>data table notebook</a>'\n",
              "            + ' to learn more about interactive tables.';\n",
              "          element.innerHTML = '';\n",
              "          dataTable['output_type'] = 'display_data';\n",
              "          await google.colab.output.renderOutput(dataTable, element);\n",
              "          const docLink = document.createElement('div');\n",
              "          docLink.innerHTML = docLinkHtml;\n",
              "          element.appendChild(docLink);\n",
              "        }\n",
              "      </script>\n",
              "    </div>\n",
              "  </div>\n",
              "  "
            ],
            "text/plain": [
              "       city  year brand    model  ... transmission drivetrain   new       price\n",
              "0  Sumqayıt  2008   Kia     Ceed  ...     Mexaniki         Ön  Xeyr  14 300 AZN\n",
              "1      Bakı  2012   Kia  Sorento  ...      Avtomat        Tam  Xeyr  32 700 AZN\n",
              "2      Bakı  2015   Kia  Sorento  ...      Avtomat        Tam  Xeyr  43 900 AZN\n",
              "3  Sumqayıt  2008   Kia     Ceed  ...     Mexaniki         Ön  Xeyr  13 200 AZN\n",
              "4      Bakı  2013   Kia  Sorento  ...      Avtomat        Tam  Xeyr  32 850 AZN\n",
              "\n",
              "[5 rows x 14 columns]"
            ]
          },
          "metadata": {},
          "execution_count": 281
        }
      ]
    },
    {
      "cell_type": "code",
      "source": [
        "df.shape"
      ],
      "metadata": {
        "colab": {
          "base_uri": "https://localhost:8080/"
        },
        "id": "27pQ0S9uR8DY",
        "outputId": "a9f03dd3-aa2b-46f2-d125-aeb00d04ac8e"
      },
      "execution_count": 282,
      "outputs": [
        {
          "output_type": "execute_result",
          "data": {
            "text/plain": [
              "(3867, 14)"
            ]
          },
          "metadata": {},
          "execution_count": 282
        }
      ]
    },
    {
      "cell_type": "markdown",
      "source": [
        "# Data Cleaning"
      ],
      "metadata": {
        "id": "6nbvdEOrTn49"
      }
    },
    {
      "cell_type": "markdown",
      "source": [
        "### Missing and Duplicate values"
      ],
      "metadata": {
        "id": "Ik99mEjHT9DB"
      }
    },
    {
      "cell_type": "code",
      "source": [
        "df.isnull().sum().sum()\n",
        "# We don't have any null value"
      ],
      "metadata": {
        "colab": {
          "base_uri": "https://localhost:8080/"
        },
        "id": "oKjybQL39gVv",
        "outputId": "e95091b7-fd2b-4b2b-9b65-4bca8adc4d3e"
      },
      "execution_count": 283,
      "outputs": [
        {
          "output_type": "execute_result",
          "data": {
            "text/plain": [
              "0"
            ]
          },
          "metadata": {},
          "execution_count": 283
        }
      ]
    },
    {
      "cell_type": "code",
      "source": [
        "# Check for duplicates\n",
        "df.duplicated().sum()"
      ],
      "metadata": {
        "colab": {
          "base_uri": "https://localhost:8080/"
        },
        "id": "ANxRB2Uq9rZY",
        "outputId": "ca902dac-409e-42ef-adbf-9192cfad6b1e"
      },
      "execution_count": 284,
      "outputs": [
        {
          "output_type": "execute_result",
          "data": {
            "text/plain": [
              "1297"
            ]
          },
          "metadata": {},
          "execution_count": 284
        }
      ]
    },
    {
      "cell_type": "code",
      "source": [
        "# Remove duplicates\n",
        "df = df.drop_duplicates()"
      ],
      "metadata": {
        "id": "Lfy8PwotALPH"
      },
      "execution_count": 285,
      "outputs": []
    },
    {
      "cell_type": "markdown",
      "source": [
        "### Fixing inconsistencies"
      ],
      "metadata": {
        "id": "HB-FGFlUUA7k"
      }
    },
    {
      "cell_type": "code",
      "source": [
        "df.info()"
      ],
      "metadata": {
        "colab": {
          "base_uri": "https://localhost:8080/"
        },
        "id": "VoFpj-3lHZya",
        "outputId": "db206096-746d-43ac-c946-d84adf51ecd4"
      },
      "execution_count": 286,
      "outputs": [
        {
          "output_type": "stream",
          "name": "stdout",
          "text": [
            "<class 'pandas.core.frame.DataFrame'>\n",
            "Int64Index: 2570 entries, 0 to 3866\n",
            "Data columns (total 14 columns):\n",
            " #   Column        Non-Null Count  Dtype \n",
            "---  ------        --------------  ----- \n",
            " 0   city          2570 non-null   object\n",
            " 1   year          2570 non-null   int64 \n",
            " 2   brand         2570 non-null   object\n",
            " 3   model         2570 non-null   object\n",
            " 4   color         2570 non-null   object\n",
            " 5   body_type     2570 non-null   object\n",
            " 6   engine        2570 non-null   object\n",
            " 7   engine_power  2570 non-null   object\n",
            " 8   fuel_type     2570 non-null   object\n",
            " 9   kilometrage   2570 non-null   object\n",
            " 10  transmission  2570 non-null   object\n",
            " 11  drivetrain    2570 non-null   object\n",
            " 12  new           2570 non-null   object\n",
            " 13  price         2570 non-null   object\n",
            "dtypes: int64(1), object(13)\n",
            "memory usage: 301.2+ KB\n"
          ]
        }
      ]
    },
    {
      "cell_type": "markdown",
      "source": [
        "Let's look for inconsistencies in dataset. We can clearly see that when some columns should be numeric they are in object type. Such as `Price` , `Engine`, `Kilometrage`, `Engine_power`. Let's transform them to numeric columns first."
      ],
      "metadata": {
        "id": "9MBjrBFKB8ve"
      }
    },
    {
      "cell_type": "markdown",
      "source": [
        "`Price` column"
      ],
      "metadata": {
        "id": "LPNZDqTEC7hU"
      }
    },
    {
      "cell_type": "code",
      "source": [
        "# Since values in price column are in different currencies. We should convert all to AZN\n",
        "df['currency_price'] = df.loc[df['price']]"
      ],
      "metadata": {
        "id": "bm1AIfKTDI9O",
        "colab": {
          "base_uri": "https://localhost:8080/"
        },
        "outputId": "71b97d74-1c04-4f1e-b22c-53590935e6b9"
      },
      "execution_count": 287,
      "outputs": [
        {
          "output_type": "stream",
          "name": "stderr",
          "text": [
            "/usr/local/lib/python3.7/dist-packages/ipykernel_launcher.py:2: SettingWithCopyWarning:\n",
            "\n",
            "\n",
            "A value is trying to be set on a copy of a slice from a DataFrame.\n",
            "Try using .loc[row_indexer,col_indexer] = value instead\n",
            "\n",
            "See the caveats in the documentation: https://pandas.pydata.org/pandas-docs/stable/user_guide/indexing.html#returning-a-view-versus-a-copy\n",
            "\n"
          ]
        }
      ]
    },
    {
      "cell_type": "code",
      "source": [
        "df['price'] = df['price'].apply(lambda x: x.replace(' ',''))\n",
        "df['price'] = df['price'].apply(lambda x: x.replace('AZN', ''))\n",
        "df['price'] = df['price'].apply(lambda x: x.replace('$', ''))\n",
        "df['price'] = df['price'].apply(lambda x: int(x.replace('€','')))"
      ],
      "metadata": {
        "id": "AMh1Rp6PhF7A",
        "colab": {
          "base_uri": "https://localhost:8080/"
        },
        "outputId": "40e4f693-6264-4258-c8c4-5b1f7caa8581"
      },
      "execution_count": 288,
      "outputs": [
        {
          "output_type": "stream",
          "name": "stderr",
          "text": [
            "/usr/local/lib/python3.7/dist-packages/ipykernel_launcher.py:1: SettingWithCopyWarning:\n",
            "\n",
            "\n",
            "A value is trying to be set on a copy of a slice from a DataFrame.\n",
            "Try using .loc[row_indexer,col_indexer] = value instead\n",
            "\n",
            "See the caveats in the documentation: https://pandas.pydata.org/pandas-docs/stable/user_guide/indexing.html#returning-a-view-versus-a-copy\n",
            "\n",
            "/usr/local/lib/python3.7/dist-packages/ipykernel_launcher.py:2: SettingWithCopyWarning:\n",
            "\n",
            "\n",
            "A value is trying to be set on a copy of a slice from a DataFrame.\n",
            "Try using .loc[row_indexer,col_indexer] = value instead\n",
            "\n",
            "See the caveats in the documentation: https://pandas.pydata.org/pandas-docs/stable/user_guide/indexing.html#returning-a-view-versus-a-copy\n",
            "\n",
            "/usr/local/lib/python3.7/dist-packages/ipykernel_launcher.py:3: SettingWithCopyWarning:\n",
            "\n",
            "\n",
            "A value is trying to be set on a copy of a slice from a DataFrame.\n",
            "Try using .loc[row_indexer,col_indexer] = value instead\n",
            "\n",
            "See the caveats in the documentation: https://pandas.pydata.org/pandas-docs/stable/user_guide/indexing.html#returning-a-view-versus-a-copy\n",
            "\n",
            "/usr/local/lib/python3.7/dist-packages/ipykernel_launcher.py:4: SettingWithCopyWarning:\n",
            "\n",
            "\n",
            "A value is trying to be set on a copy of a slice from a DataFrame.\n",
            "Try using .loc[row_indexer,col_indexer] = value instead\n",
            "\n",
            "See the caveats in the documentation: https://pandas.pydata.org/pandas-docs/stable/user_guide/indexing.html#returning-a-view-versus-a-copy\n",
            "\n"
          ]
        }
      ]
    },
    {
      "cell_type": "code",
      "source": [
        "df.loc[df['currency_price'].str.contains('\\$'), 'price'] = df['price'] * 1.7\n",
        "# Right now US Dollars to Azerbaijan Manats Exchange Rate is 1.7\n",
        "df.loc[df['currency_price'].str.contains('€'), 'price'] = df['price'] * 1.94\n",
        "# Right now Euros to Azerbaijan Manats Exchange Rate is 1.94"
      ],
      "metadata": {
        "id": "Jyo3iU3wE5dt",
        "colab": {
          "base_uri": "https://localhost:8080/"
        },
        "outputId": "40b7a959-1992-42de-b6d5-28539582f42f"
      },
      "execution_count": 289,
      "outputs": [
        {
          "output_type": "stream",
          "name": "stderr",
          "text": [
            "/usr/local/lib/python3.7/dist-packages/pandas/core/indexing.py:1773: SettingWithCopyWarning:\n",
            "\n",
            "\n",
            "A value is trying to be set on a copy of a slice from a DataFrame.\n",
            "Try using .loc[row_indexer,col_indexer] = value instead\n",
            "\n",
            "See the caveats in the documentation: https://pandas.pydata.org/pandas-docs/stable/user_guide/indexing.html#returning-a-view-versus-a-copy\n",
            "\n"
          ]
        }
      ]
    },
    {
      "cell_type": "code",
      "source": [
        "df['price(AZN)'] = df['price']\n",
        "df.drop(['currency_price', 'price'],axis = 1, inplace = True)"
      ],
      "metadata": {
        "id": "UCaj35C_H9GV",
        "colab": {
          "base_uri": "https://localhost:8080/"
        },
        "outputId": "d7b28719-6b70-4327-cac8-b60433ffd64a"
      },
      "execution_count": 290,
      "outputs": [
        {
          "output_type": "stream",
          "name": "stderr",
          "text": [
            "/usr/local/lib/python3.7/dist-packages/ipykernel_launcher.py:1: SettingWithCopyWarning:\n",
            "\n",
            "\n",
            "A value is trying to be set on a copy of a slice from a DataFrame.\n",
            "Try using .loc[row_indexer,col_indexer] = value instead\n",
            "\n",
            "See the caveats in the documentation: https://pandas.pydata.org/pandas-docs/stable/user_guide/indexing.html#returning-a-view-versus-a-copy\n",
            "\n",
            "/usr/local/lib/python3.7/dist-packages/pandas/core/frame.py:4913: SettingWithCopyWarning:\n",
            "\n",
            "\n",
            "A value is trying to be set on a copy of a slice from a DataFrame\n",
            "\n",
            "See the caveats in the documentation: https://pandas.pydata.org/pandas-docs/stable/user_guide/indexing.html#returning-a-view-versus-a-copy\n",
            "\n"
          ]
        }
      ]
    },
    {
      "cell_type": "markdown",
      "source": [
        "**`Engine` column**"
      ],
      "metadata": {
        "id": "8NGU-0TUIlhV"
      }
    },
    {
      "cell_type": "code",
      "source": [
        "df['engine'].unique()"
      ],
      "metadata": {
        "colab": {
          "base_uri": "https://localhost:8080/"
        },
        "id": "CXW99JMGIl2_",
        "outputId": "e02eb4b7-d53b-4690-e58b-26ee2fb5b382"
      },
      "execution_count": 291,
      "outputs": [
        {
          "output_type": "execute_result",
          "data": {
            "text/plain": [
              "array(['1.6 L', '2.0 L', '2.2 L', '1.4 L', '2.4 L', '1.5 L', '1.1 L',\n",
              "       '1.7 L', '1.8 L', '2.5 L', '3.8 L', '3.3 L', '3.0 L', '1.0 L',\n",
              "       '3.5 L', '2.7 L', '1.3 L', '1.2 L', '2.8 L', '2.9 L'], dtype=object)"
            ]
          },
          "metadata": {},
          "execution_count": 291
        }
      ]
    },
    {
      "cell_type": "code",
      "source": [
        "df['engine(L)'] = df['engine'].apply(lambda x: float(x.replace(' L','')))\n",
        "df.drop(['engine'], axis = 1, inplace = True)"
      ],
      "metadata": {
        "colab": {
          "base_uri": "https://localhost:8080/"
        },
        "id": "tJNFMpjh92oe",
        "outputId": "9c0168d9-65ee-4f19-d135-023838e4fd27"
      },
      "execution_count": 292,
      "outputs": [
        {
          "output_type": "stream",
          "name": "stderr",
          "text": [
            "/usr/local/lib/python3.7/dist-packages/ipykernel_launcher.py:1: SettingWithCopyWarning:\n",
            "\n",
            "\n",
            "A value is trying to be set on a copy of a slice from a DataFrame.\n",
            "Try using .loc[row_indexer,col_indexer] = value instead\n",
            "\n",
            "See the caveats in the documentation: https://pandas.pydata.org/pandas-docs/stable/user_guide/indexing.html#returning-a-view-versus-a-copy\n",
            "\n",
            "/usr/local/lib/python3.7/dist-packages/pandas/core/frame.py:4913: SettingWithCopyWarning:\n",
            "\n",
            "\n",
            "A value is trying to be set on a copy of a slice from a DataFrame\n",
            "\n",
            "See the caveats in the documentation: https://pandas.pydata.org/pandas-docs/stable/user_guide/indexing.html#returning-a-view-versus-a-copy\n",
            "\n"
          ]
        }
      ]
    },
    {
      "cell_type": "markdown",
      "source": [
        "`Kilometrage` column"
      ],
      "metadata": {
        "id": "tIhgIxk8JcMg"
      }
    },
    {
      "cell_type": "code",
      "source": [
        "df['kilometrage'].unique()"
      ],
      "metadata": {
        "colab": {
          "base_uri": "https://localhost:8080/"
        },
        "id": "A0HgkPzYJbsx",
        "outputId": "a9c07a28-69e3-4f2b-8743-c341ffed2f34"
      },
      "execution_count": 293,
      "outputs": [
        {
          "output_type": "execute_result",
          "data": {
            "text/plain": [
              "array(['167 055 km', '154 000 km', '97 000 km', ..., '32 992 km',\n",
              "       '364 518 km', '339 000 km'], dtype=object)"
            ]
          },
          "metadata": {},
          "execution_count": 293
        }
      ]
    },
    {
      "cell_type": "code",
      "source": [
        "df['kilometrage'] = df['kilometrage'].apply(lambda x: x.replace(' km', ''))\n",
        "df['kilometrage'] = df['kilometrage'].apply(lambda x: int(x.replace(' ', '')))"
      ],
      "metadata": {
        "id": "KIrzWn_x-oFA"
      },
      "execution_count": 294,
      "outputs": []
    },
    {
      "cell_type": "markdown",
      "source": [
        "`Engine_power` column"
      ],
      "metadata": {
        "id": "GlwiQKYdKMzj"
      }
    },
    {
      "cell_type": "code",
      "source": [
        "df['engine_power'].unique()"
      ],
      "metadata": {
        "colab": {
          "base_uri": "https://localhost:8080/"
        },
        "id": "J0oOKAH6ImAr",
        "outputId": "46ab1766-3382-43ca-f6f8-64117f79fb32"
      },
      "execution_count": 295,
      "outputs": [
        {
          "output_type": "execute_result",
          "data": {
            "text/plain": [
              "array(['115 a.g.', '170 a.g.', '197 a.g.', '109 a.g.', '184 a.g.',\n",
              "       '180 a.g.', '274 a.g.', '188 a.g.', '202 a.g.', '65 a.g.',\n",
              "       '166 a.g.', '97 a.g.', '165 a.g.', '174 a.g.', '150 a.g.',\n",
              "       '90 a.g.', '123 a.g.', '247 a.g.', '143 a.g.', '163 a.g.',\n",
              "       '141 a.g.', '110 a.g.', '125 a.g.', '116 a.g.', '132 a.g.',\n",
              "       '175 a.g.', '126 a.g.', '200 a.g.', '140 a.g.', '107 a.g.',\n",
              "       '177 a.g.', '124 a.g.', '100 a.g.', '293 a.g.', '149 a.g.',\n",
              "       '94 a.g.', '130 a.g.', '136 a.g.', '148 a.g.', '82 a.g.',\n",
              "       '242 a.g.', '99 a.g.', '112 a.g.', '80 a.g.', '186 a.g.',\n",
              "       '266 a.g.', '75 a.g.', '105 a.g.', '185 a.g.', '290 a.g.',\n",
              "       '178 a.g.', '204 a.g.', '69 a.g.', '194 a.g.', '156 a.g.',\n",
              "       '122 a.g.', '145 a.g.', '240 a.g.', '85 a.g.', '60 a.g.',\n",
              "       '106 a.g.', '181 a.g.', '83 a.g.', '101 a.g.', '64 a.g.',\n",
              "       '176 a.g.', '157 a.g.', '245 a.g.', '333 a.g.', '139 a.g.',\n",
              "       '133 a.g.', '164 a.g.', '294 a.g.', '260 a.g.', '15 a.g.',\n",
              "       '201 a.g.', '144 a.g.', '87 a.g.', '278 a.g.', '187 a.g.',\n",
              "       '127 a.g.', '128 a.g.', '78 a.g.', '189 a.g.', '129 a.g.',\n",
              "       '275 a.g.', '276 a.g.', '190 a.g.', '198 a.g.', '84 a.g.',\n",
              "       '262 a.g.', '121 a.g.', '118 a.g.', '95 a.g.', '96 a.g.',\n",
              "       '261 a.g.', '195 a.g.', '192 a.g.', '277 a.g.', '88 a.g.',\n",
              "       '92 a.g.', '154 a.g.', '248 a.g.', '183 a.g.', '102 a.g.',\n",
              "       '167 a.g.', '370 a.g.', '160 a.g.', '250 a.g.', '243 a.g.'],\n",
              "      dtype=object)"
            ]
          },
          "metadata": {},
          "execution_count": 295
        }
      ]
    },
    {
      "cell_type": "code",
      "source": [
        "df['engine_power(hp)'] = df['engine_power'].apply(lambda x: int(x.replace(' a.g.', '')))\n",
        "df.drop(['engine_power'],axis = 1, inplace = True)"
      ],
      "metadata": {
        "id": "EK3kZAC3_DmH"
      },
      "execution_count": 296,
      "outputs": []
    },
    {
      "cell_type": "code",
      "source": [
        "# Now let's look at how data look like after cleaning and changes\n",
        "df.head()"
      ],
      "metadata": {
        "colab": {
          "base_uri": "https://localhost:8080/",
          "height": 0
        },
        "id": "JSJaY6wFAZ5o",
        "outputId": "2393451a-452e-4ace-a032-a8a75bf8ac48"
      },
      "execution_count": 297,
      "outputs": [
        {
          "output_type": "execute_result",
          "data": {
            "text/html": [
              "\n",
              "  <div id=\"df-f55a3cc8-9825-4198-9758-5ebc05758b63\">\n",
              "    <div class=\"colab-df-container\">\n",
              "      <div>\n",
              "<style scoped>\n",
              "    .dataframe tbody tr th:only-of-type {\n",
              "        vertical-align: middle;\n",
              "    }\n",
              "\n",
              "    .dataframe tbody tr th {\n",
              "        vertical-align: top;\n",
              "    }\n",
              "\n",
              "    .dataframe thead th {\n",
              "        text-align: right;\n",
              "    }\n",
              "</style>\n",
              "<table border=\"1\" class=\"dataframe\">\n",
              "  <thead>\n",
              "    <tr style=\"text-align: right;\">\n",
              "      <th></th>\n",
              "      <th>city</th>\n",
              "      <th>year</th>\n",
              "      <th>brand</th>\n",
              "      <th>model</th>\n",
              "      <th>color</th>\n",
              "      <th>body_type</th>\n",
              "      <th>fuel_type</th>\n",
              "      <th>kilometrage</th>\n",
              "      <th>transmission</th>\n",
              "      <th>drivetrain</th>\n",
              "      <th>new</th>\n",
              "      <th>price(AZN)</th>\n",
              "      <th>engine(L)</th>\n",
              "      <th>engine_power(hp)</th>\n",
              "    </tr>\n",
              "  </thead>\n",
              "  <tbody>\n",
              "    <tr>\n",
              "      <th>0</th>\n",
              "      <td>Sumqayıt</td>\n",
              "      <td>2008</td>\n",
              "      <td>Kia</td>\n",
              "      <td>Ceed</td>\n",
              "      <td>Göy</td>\n",
              "      <td>Universal</td>\n",
              "      <td>Dizel</td>\n",
              "      <td>167055</td>\n",
              "      <td>Mexaniki</td>\n",
              "      <td>Ön</td>\n",
              "      <td>Xeyr</td>\n",
              "      <td>14300.0</td>\n",
              "      <td>1.6</td>\n",
              "      <td>115</td>\n",
              "    </tr>\n",
              "    <tr>\n",
              "      <th>1</th>\n",
              "      <td>Bakı</td>\n",
              "      <td>2012</td>\n",
              "      <td>Kia</td>\n",
              "      <td>Sorento</td>\n",
              "      <td>Gümüşü</td>\n",
              "      <td>Offroader / SUV</td>\n",
              "      <td>Dizel</td>\n",
              "      <td>154000</td>\n",
              "      <td>Avtomat</td>\n",
              "      <td>Tam</td>\n",
              "      <td>Xeyr</td>\n",
              "      <td>32700.0</td>\n",
              "      <td>2.0</td>\n",
              "      <td>170</td>\n",
              "    </tr>\n",
              "    <tr>\n",
              "      <th>2</th>\n",
              "      <td>Bakı</td>\n",
              "      <td>2015</td>\n",
              "      <td>Kia</td>\n",
              "      <td>Sorento</td>\n",
              "      <td>Ağ</td>\n",
              "      <td>Offroader / SUV</td>\n",
              "      <td>Dizel</td>\n",
              "      <td>97000</td>\n",
              "      <td>Avtomat</td>\n",
              "      <td>Tam</td>\n",
              "      <td>Xeyr</td>\n",
              "      <td>43900.0</td>\n",
              "      <td>2.2</td>\n",
              "      <td>197</td>\n",
              "    </tr>\n",
              "    <tr>\n",
              "      <th>3</th>\n",
              "      <td>Sumqayıt</td>\n",
              "      <td>2008</td>\n",
              "      <td>Kia</td>\n",
              "      <td>Ceed</td>\n",
              "      <td>Gümüşü</td>\n",
              "      <td>Hetçbek / Liftbek</td>\n",
              "      <td>Benzin</td>\n",
              "      <td>152524</td>\n",
              "      <td>Mexaniki</td>\n",
              "      <td>Ön</td>\n",
              "      <td>Xeyr</td>\n",
              "      <td>13200.0</td>\n",
              "      <td>1.4</td>\n",
              "      <td>109</td>\n",
              "    </tr>\n",
              "    <tr>\n",
              "      <th>4</th>\n",
              "      <td>Bakı</td>\n",
              "      <td>2013</td>\n",
              "      <td>Kia</td>\n",
              "      <td>Sorento</td>\n",
              "      <td>Ağ</td>\n",
              "      <td>Offroader / SUV</td>\n",
              "      <td>Dizel</td>\n",
              "      <td>61838</td>\n",
              "      <td>Avtomat</td>\n",
              "      <td>Tam</td>\n",
              "      <td>Xeyr</td>\n",
              "      <td>32850.0</td>\n",
              "      <td>2.0</td>\n",
              "      <td>184</td>\n",
              "    </tr>\n",
              "  </tbody>\n",
              "</table>\n",
              "</div>\n",
              "      <button class=\"colab-df-convert\" onclick=\"convertToInteractive('df-f55a3cc8-9825-4198-9758-5ebc05758b63')\"\n",
              "              title=\"Convert this dataframe to an interactive table.\"\n",
              "              style=\"display:none;\">\n",
              "        \n",
              "  <svg xmlns=\"http://www.w3.org/2000/svg\" height=\"24px\"viewBox=\"0 0 24 24\"\n",
              "       width=\"24px\">\n",
              "    <path d=\"M0 0h24v24H0V0z\" fill=\"none\"/>\n",
              "    <path d=\"M18.56 5.44l.94 2.06.94-2.06 2.06-.94-2.06-.94-.94-2.06-.94 2.06-2.06.94zm-11 1L8.5 8.5l.94-2.06 2.06-.94-2.06-.94L8.5 2.5l-.94 2.06-2.06.94zm10 10l.94 2.06.94-2.06 2.06-.94-2.06-.94-.94-2.06-.94 2.06-2.06.94z\"/><path d=\"M17.41 7.96l-1.37-1.37c-.4-.4-.92-.59-1.43-.59-.52 0-1.04.2-1.43.59L10.3 9.45l-7.72 7.72c-.78.78-.78 2.05 0 2.83L4 21.41c.39.39.9.59 1.41.59.51 0 1.02-.2 1.41-.59l7.78-7.78 2.81-2.81c.8-.78.8-2.07 0-2.86zM5.41 20L4 18.59l7.72-7.72 1.47 1.35L5.41 20z\"/>\n",
              "  </svg>\n",
              "      </button>\n",
              "      \n",
              "  <style>\n",
              "    .colab-df-container {\n",
              "      display:flex;\n",
              "      flex-wrap:wrap;\n",
              "      gap: 12px;\n",
              "    }\n",
              "\n",
              "    .colab-df-convert {\n",
              "      background-color: #E8F0FE;\n",
              "      border: none;\n",
              "      border-radius: 50%;\n",
              "      cursor: pointer;\n",
              "      display: none;\n",
              "      fill: #1967D2;\n",
              "      height: 32px;\n",
              "      padding: 0 0 0 0;\n",
              "      width: 32px;\n",
              "    }\n",
              "\n",
              "    .colab-df-convert:hover {\n",
              "      background-color: #E2EBFA;\n",
              "      box-shadow: 0px 1px 2px rgba(60, 64, 67, 0.3), 0px 1px 3px 1px rgba(60, 64, 67, 0.15);\n",
              "      fill: #174EA6;\n",
              "    }\n",
              "\n",
              "    [theme=dark] .colab-df-convert {\n",
              "      background-color: #3B4455;\n",
              "      fill: #D2E3FC;\n",
              "    }\n",
              "\n",
              "    [theme=dark] .colab-df-convert:hover {\n",
              "      background-color: #434B5C;\n",
              "      box-shadow: 0px 1px 3px 1px rgba(0, 0, 0, 0.15);\n",
              "      filter: drop-shadow(0px 1px 2px rgba(0, 0, 0, 0.3));\n",
              "      fill: #FFFFFF;\n",
              "    }\n",
              "  </style>\n",
              "\n",
              "      <script>\n",
              "        const buttonEl =\n",
              "          document.querySelector('#df-f55a3cc8-9825-4198-9758-5ebc05758b63 button.colab-df-convert');\n",
              "        buttonEl.style.display =\n",
              "          google.colab.kernel.accessAllowed ? 'block' : 'none';\n",
              "\n",
              "        async function convertToInteractive(key) {\n",
              "          const element = document.querySelector('#df-f55a3cc8-9825-4198-9758-5ebc05758b63');\n",
              "          const dataTable =\n",
              "            await google.colab.kernel.invokeFunction('convertToInteractive',\n",
              "                                                     [key], {});\n",
              "          if (!dataTable) return;\n",
              "\n",
              "          const docLinkHtml = 'Like what you see? Visit the ' +\n",
              "            '<a target=\"_blank\" href=https://colab.research.google.com/notebooks/data_table.ipynb>data table notebook</a>'\n",
              "            + ' to learn more about interactive tables.';\n",
              "          element.innerHTML = '';\n",
              "          dataTable['output_type'] = 'display_data';\n",
              "          await google.colab.output.renderOutput(dataTable, element);\n",
              "          const docLink = document.createElement('div');\n",
              "          docLink.innerHTML = docLinkHtml;\n",
              "          element.appendChild(docLink);\n",
              "        }\n",
              "      </script>\n",
              "    </div>\n",
              "  </div>\n",
              "  "
            ],
            "text/plain": [
              "       city  year brand    model  ...   new price(AZN) engine(L)  engine_power(hp)\n",
              "0  Sumqayıt  2008   Kia     Ceed  ...  Xeyr    14300.0       1.6               115\n",
              "1      Bakı  2012   Kia  Sorento  ...  Xeyr    32700.0       2.0               170\n",
              "2      Bakı  2015   Kia  Sorento  ...  Xeyr    43900.0       2.2               197\n",
              "3  Sumqayıt  2008   Kia     Ceed  ...  Xeyr    13200.0       1.4               109\n",
              "4      Bakı  2013   Kia  Sorento  ...  Xeyr    32850.0       2.0               184\n",
              "\n",
              "[5 rows x 14 columns]"
            ]
          },
          "metadata": {},
          "execution_count": 297
        }
      ]
    },
    {
      "cell_type": "markdown",
      "source": [
        "# Exploratory Analysis and Visualization"
      ],
      "metadata": {
        "id": "GAGopRXWMZEt"
      }
    },
    {
      "cell_type": "markdown",
      "source": [
        "Let's analyse the numeric columns and their statistics"
      ],
      "metadata": {
        "id": "MgL_mYLQM3fH"
      }
    },
    {
      "cell_type": "code",
      "source": [
        "df.describe()"
      ],
      "metadata": {
        "colab": {
          "base_uri": "https://localhost:8080/",
          "height": 0
        },
        "id": "_jb6MCuELivc",
        "outputId": "f34f9e3e-51f2-4964-db36-5dd0fcc4d521"
      },
      "execution_count": 298,
      "outputs": [
        {
          "output_type": "execute_result",
          "data": {
            "text/html": [
              "\n",
              "  <div id=\"df-66147b20-17c5-49ba-b61d-35826ff5a37b\">\n",
              "    <div class=\"colab-df-container\">\n",
              "      <div>\n",
              "<style scoped>\n",
              "    .dataframe tbody tr th:only-of-type {\n",
              "        vertical-align: middle;\n",
              "    }\n",
              "\n",
              "    .dataframe tbody tr th {\n",
              "        vertical-align: top;\n",
              "    }\n",
              "\n",
              "    .dataframe thead th {\n",
              "        text-align: right;\n",
              "    }\n",
              "</style>\n",
              "<table border=\"1\" class=\"dataframe\">\n",
              "  <thead>\n",
              "    <tr style=\"text-align: right;\">\n",
              "      <th></th>\n",
              "      <th>year</th>\n",
              "      <th>kilometrage</th>\n",
              "      <th>price(AZN)</th>\n",
              "      <th>engine(L)</th>\n",
              "      <th>engine_power(hp)</th>\n",
              "    </tr>\n",
              "  </thead>\n",
              "  <tbody>\n",
              "    <tr>\n",
              "      <th>count</th>\n",
              "      <td>2570.000000</td>\n",
              "      <td>2.570000e+03</td>\n",
              "      <td>2570.000000</td>\n",
              "      <td>2570.000000</td>\n",
              "      <td>2570.000000</td>\n",
              "    </tr>\n",
              "    <tr>\n",
              "      <th>mean</th>\n",
              "      <td>2010.442802</td>\n",
              "      <td>1.610973e+05</td>\n",
              "      <td>20328.645642</td>\n",
              "      <td>1.814008</td>\n",
              "      <td>151.392607</td>\n",
              "    </tr>\n",
              "    <tr>\n",
              "      <th>std</th>\n",
              "      <td>3.966583</td>\n",
              "      <td>8.665278e+04</td>\n",
              "      <td>9940.820596</td>\n",
              "      <td>0.414958</td>\n",
              "      <td>54.184692</td>\n",
              "    </tr>\n",
              "    <tr>\n",
              "      <th>min</th>\n",
              "      <td>1995.000000</td>\n",
              "      <td>0.000000e+00</td>\n",
              "      <td>1950.000000</td>\n",
              "      <td>1.000000</td>\n",
              "      <td>15.000000</td>\n",
              "    </tr>\n",
              "    <tr>\n",
              "      <th>25%</th>\n",
              "      <td>2007.000000</td>\n",
              "      <td>1.125000e+05</td>\n",
              "      <td>13000.000000</td>\n",
              "      <td>1.500000</td>\n",
              "      <td>109.000000</td>\n",
              "    </tr>\n",
              "    <tr>\n",
              "      <th>50%</th>\n",
              "      <td>2010.000000</td>\n",
              "      <td>1.620000e+05</td>\n",
              "      <td>17500.000000</td>\n",
              "      <td>1.800000</td>\n",
              "      <td>140.000000</td>\n",
              "    </tr>\n",
              "    <tr>\n",
              "      <th>75%</th>\n",
              "      <td>2013.000000</td>\n",
              "      <td>2.000000e+05</td>\n",
              "      <td>25600.000000</td>\n",
              "      <td>2.000000</td>\n",
              "      <td>184.000000</td>\n",
              "    </tr>\n",
              "    <tr>\n",
              "      <th>max</th>\n",
              "      <td>2022.000000</td>\n",
              "      <td>2.670000e+06</td>\n",
              "      <td>110500.000000</td>\n",
              "      <td>3.800000</td>\n",
              "      <td>370.000000</td>\n",
              "    </tr>\n",
              "  </tbody>\n",
              "</table>\n",
              "</div>\n",
              "      <button class=\"colab-df-convert\" onclick=\"convertToInteractive('df-66147b20-17c5-49ba-b61d-35826ff5a37b')\"\n",
              "              title=\"Convert this dataframe to an interactive table.\"\n",
              "              style=\"display:none;\">\n",
              "        \n",
              "  <svg xmlns=\"http://www.w3.org/2000/svg\" height=\"24px\"viewBox=\"0 0 24 24\"\n",
              "       width=\"24px\">\n",
              "    <path d=\"M0 0h24v24H0V0z\" fill=\"none\"/>\n",
              "    <path d=\"M18.56 5.44l.94 2.06.94-2.06 2.06-.94-2.06-.94-.94-2.06-.94 2.06-2.06.94zm-11 1L8.5 8.5l.94-2.06 2.06-.94-2.06-.94L8.5 2.5l-.94 2.06-2.06.94zm10 10l.94 2.06.94-2.06 2.06-.94-2.06-.94-.94-2.06-.94 2.06-2.06.94z\"/><path d=\"M17.41 7.96l-1.37-1.37c-.4-.4-.92-.59-1.43-.59-.52 0-1.04.2-1.43.59L10.3 9.45l-7.72 7.72c-.78.78-.78 2.05 0 2.83L4 21.41c.39.39.9.59 1.41.59.51 0 1.02-.2 1.41-.59l7.78-7.78 2.81-2.81c.8-.78.8-2.07 0-2.86zM5.41 20L4 18.59l7.72-7.72 1.47 1.35L5.41 20z\"/>\n",
              "  </svg>\n",
              "      </button>\n",
              "      \n",
              "  <style>\n",
              "    .colab-df-container {\n",
              "      display:flex;\n",
              "      flex-wrap:wrap;\n",
              "      gap: 12px;\n",
              "    }\n",
              "\n",
              "    .colab-df-convert {\n",
              "      background-color: #E8F0FE;\n",
              "      border: none;\n",
              "      border-radius: 50%;\n",
              "      cursor: pointer;\n",
              "      display: none;\n",
              "      fill: #1967D2;\n",
              "      height: 32px;\n",
              "      padding: 0 0 0 0;\n",
              "      width: 32px;\n",
              "    }\n",
              "\n",
              "    .colab-df-convert:hover {\n",
              "      background-color: #E2EBFA;\n",
              "      box-shadow: 0px 1px 2px rgba(60, 64, 67, 0.3), 0px 1px 3px 1px rgba(60, 64, 67, 0.15);\n",
              "      fill: #174EA6;\n",
              "    }\n",
              "\n",
              "    [theme=dark] .colab-df-convert {\n",
              "      background-color: #3B4455;\n",
              "      fill: #D2E3FC;\n",
              "    }\n",
              "\n",
              "    [theme=dark] .colab-df-convert:hover {\n",
              "      background-color: #434B5C;\n",
              "      box-shadow: 0px 1px 3px 1px rgba(0, 0, 0, 0.15);\n",
              "      filter: drop-shadow(0px 1px 2px rgba(0, 0, 0, 0.3));\n",
              "      fill: #FFFFFF;\n",
              "    }\n",
              "  </style>\n",
              "\n",
              "      <script>\n",
              "        const buttonEl =\n",
              "          document.querySelector('#df-66147b20-17c5-49ba-b61d-35826ff5a37b button.colab-df-convert');\n",
              "        buttonEl.style.display =\n",
              "          google.colab.kernel.accessAllowed ? 'block' : 'none';\n",
              "\n",
              "        async function convertToInteractive(key) {\n",
              "          const element = document.querySelector('#df-66147b20-17c5-49ba-b61d-35826ff5a37b');\n",
              "          const dataTable =\n",
              "            await google.colab.kernel.invokeFunction('convertToInteractive',\n",
              "                                                     [key], {});\n",
              "          if (!dataTable) return;\n",
              "\n",
              "          const docLinkHtml = 'Like what you see? Visit the ' +\n",
              "            '<a target=\"_blank\" href=https://colab.research.google.com/notebooks/data_table.ipynb>data table notebook</a>'\n",
              "            + ' to learn more about interactive tables.';\n",
              "          element.innerHTML = '';\n",
              "          dataTable['output_type'] = 'display_data';\n",
              "          await google.colab.output.renderOutput(dataTable, element);\n",
              "          const docLink = document.createElement('div');\n",
              "          docLink.innerHTML = docLinkHtml;\n",
              "          element.appendChild(docLink);\n",
              "        }\n",
              "      </script>\n",
              "    </div>\n",
              "  </div>\n",
              "  "
            ],
            "text/plain": [
              "              year   kilometrage     price(AZN)    engine(L)  engine_power(hp)\n",
              "count  2570.000000  2.570000e+03    2570.000000  2570.000000       2570.000000\n",
              "mean   2010.442802  1.610973e+05   20328.645642     1.814008        151.392607\n",
              "std       3.966583  8.665278e+04    9940.820596     0.414958         54.184692\n",
              "min    1995.000000  0.000000e+00    1950.000000     1.000000         15.000000\n",
              "25%    2007.000000  1.125000e+05   13000.000000     1.500000        109.000000\n",
              "50%    2010.000000  1.620000e+05   17500.000000     1.800000        140.000000\n",
              "75%    2013.000000  2.000000e+05   25600.000000     2.000000        184.000000\n",
              "max    2022.000000  2.670000e+06  110500.000000     3.800000        370.000000"
            ]
          },
          "metadata": {},
          "execution_count": 298
        }
      ]
    },
    {
      "cell_type": "markdown",
      "source": [
        "`price(AZN):` The average price for second hand Kia car in Azerbaijan is around 20 320 AZN, highest price is 110 500 AZN but also cheapest ones around 1950 AZN can be found.\n",
        "\n",
        "`kilometrage:` The mean kilometrage for used KIA cars are 161k km and highest one is 2 mln km. There also new cars as well with 0 kilometrage.\n",
        "\n",
        "`engine_power(hp):` The average horsepower is around 151. Most powerful car has a horsepower of 370 while the least power car has a horsepower around 15.\n",
        "\n"
      ],
      "metadata": {
        "id": "jYHeq5ivNA4g"
      }
    },
    {
      "cell_type": "code",
      "source": [
        "df.corr()"
      ],
      "metadata": {
        "colab": {
          "base_uri": "https://localhost:8080/",
          "height": 0
        },
        "id": "Fb9Lim6nXpZA",
        "outputId": "d2b42739-30ba-4aea-9f64-fd52fc066a15"
      },
      "execution_count": 299,
      "outputs": [
        {
          "output_type": "execute_result",
          "data": {
            "text/html": [
              "\n",
              "  <div id=\"df-58551fe7-f825-4c86-838b-9b1f3df580b9\">\n",
              "    <div class=\"colab-df-container\">\n",
              "      <div>\n",
              "<style scoped>\n",
              "    .dataframe tbody tr th:only-of-type {\n",
              "        vertical-align: middle;\n",
              "    }\n",
              "\n",
              "    .dataframe tbody tr th {\n",
              "        vertical-align: top;\n",
              "    }\n",
              "\n",
              "    .dataframe thead th {\n",
              "        text-align: right;\n",
              "    }\n",
              "</style>\n",
              "<table border=\"1\" class=\"dataframe\">\n",
              "  <thead>\n",
              "    <tr style=\"text-align: right;\">\n",
              "      <th></th>\n",
              "      <th>year</th>\n",
              "      <th>kilometrage</th>\n",
              "      <th>price(AZN)</th>\n",
              "      <th>engine(L)</th>\n",
              "      <th>engine_power(hp)</th>\n",
              "    </tr>\n",
              "  </thead>\n",
              "  <tbody>\n",
              "    <tr>\n",
              "      <th>year</th>\n",
              "      <td>1.000000</td>\n",
              "      <td>-0.509379</td>\n",
              "      <td>0.751983</td>\n",
              "      <td>0.213164</td>\n",
              "      <td>0.484675</td>\n",
              "    </tr>\n",
              "    <tr>\n",
              "      <th>kilometrage</th>\n",
              "      <td>-0.509379</td>\n",
              "      <td>1.000000</td>\n",
              "      <td>-0.423914</td>\n",
              "      <td>-0.028237</td>\n",
              "      <td>-0.231065</td>\n",
              "    </tr>\n",
              "    <tr>\n",
              "      <th>price(AZN)</th>\n",
              "      <td>0.751983</td>\n",
              "      <td>-0.423914</td>\n",
              "      <td>1.000000</td>\n",
              "      <td>0.453639</td>\n",
              "      <td>0.584105</td>\n",
              "    </tr>\n",
              "    <tr>\n",
              "      <th>engine(L)</th>\n",
              "      <td>0.213164</td>\n",
              "      <td>-0.028237</td>\n",
              "      <td>0.453639</td>\n",
              "      <td>1.000000</td>\n",
              "      <td>0.689972</td>\n",
              "    </tr>\n",
              "    <tr>\n",
              "      <th>engine_power(hp)</th>\n",
              "      <td>0.484675</td>\n",
              "      <td>-0.231065</td>\n",
              "      <td>0.584105</td>\n",
              "      <td>0.689972</td>\n",
              "      <td>1.000000</td>\n",
              "    </tr>\n",
              "  </tbody>\n",
              "</table>\n",
              "</div>\n",
              "      <button class=\"colab-df-convert\" onclick=\"convertToInteractive('df-58551fe7-f825-4c86-838b-9b1f3df580b9')\"\n",
              "              title=\"Convert this dataframe to an interactive table.\"\n",
              "              style=\"display:none;\">\n",
              "        \n",
              "  <svg xmlns=\"http://www.w3.org/2000/svg\" height=\"24px\"viewBox=\"0 0 24 24\"\n",
              "       width=\"24px\">\n",
              "    <path d=\"M0 0h24v24H0V0z\" fill=\"none\"/>\n",
              "    <path d=\"M18.56 5.44l.94 2.06.94-2.06 2.06-.94-2.06-.94-.94-2.06-.94 2.06-2.06.94zm-11 1L8.5 8.5l.94-2.06 2.06-.94-2.06-.94L8.5 2.5l-.94 2.06-2.06.94zm10 10l.94 2.06.94-2.06 2.06-.94-2.06-.94-.94-2.06-.94 2.06-2.06.94z\"/><path d=\"M17.41 7.96l-1.37-1.37c-.4-.4-.92-.59-1.43-.59-.52 0-1.04.2-1.43.59L10.3 9.45l-7.72 7.72c-.78.78-.78 2.05 0 2.83L4 21.41c.39.39.9.59 1.41.59.51 0 1.02-.2 1.41-.59l7.78-7.78 2.81-2.81c.8-.78.8-2.07 0-2.86zM5.41 20L4 18.59l7.72-7.72 1.47 1.35L5.41 20z\"/>\n",
              "  </svg>\n",
              "      </button>\n",
              "      \n",
              "  <style>\n",
              "    .colab-df-container {\n",
              "      display:flex;\n",
              "      flex-wrap:wrap;\n",
              "      gap: 12px;\n",
              "    }\n",
              "\n",
              "    .colab-df-convert {\n",
              "      background-color: #E8F0FE;\n",
              "      border: none;\n",
              "      border-radius: 50%;\n",
              "      cursor: pointer;\n",
              "      display: none;\n",
              "      fill: #1967D2;\n",
              "      height: 32px;\n",
              "      padding: 0 0 0 0;\n",
              "      width: 32px;\n",
              "    }\n",
              "\n",
              "    .colab-df-convert:hover {\n",
              "      background-color: #E2EBFA;\n",
              "      box-shadow: 0px 1px 2px rgba(60, 64, 67, 0.3), 0px 1px 3px 1px rgba(60, 64, 67, 0.15);\n",
              "      fill: #174EA6;\n",
              "    }\n",
              "\n",
              "    [theme=dark] .colab-df-convert {\n",
              "      background-color: #3B4455;\n",
              "      fill: #D2E3FC;\n",
              "    }\n",
              "\n",
              "    [theme=dark] .colab-df-convert:hover {\n",
              "      background-color: #434B5C;\n",
              "      box-shadow: 0px 1px 3px 1px rgba(0, 0, 0, 0.15);\n",
              "      filter: drop-shadow(0px 1px 2px rgba(0, 0, 0, 0.3));\n",
              "      fill: #FFFFFF;\n",
              "    }\n",
              "  </style>\n",
              "\n",
              "      <script>\n",
              "        const buttonEl =\n",
              "          document.querySelector('#df-58551fe7-f825-4c86-838b-9b1f3df580b9 button.colab-df-convert');\n",
              "        buttonEl.style.display =\n",
              "          google.colab.kernel.accessAllowed ? 'block' : 'none';\n",
              "\n",
              "        async function convertToInteractive(key) {\n",
              "          const element = document.querySelector('#df-58551fe7-f825-4c86-838b-9b1f3df580b9');\n",
              "          const dataTable =\n",
              "            await google.colab.kernel.invokeFunction('convertToInteractive',\n",
              "                                                     [key], {});\n",
              "          if (!dataTable) return;\n",
              "\n",
              "          const docLinkHtml = 'Like what you see? Visit the ' +\n",
              "            '<a target=\"_blank\" href=https://colab.research.google.com/notebooks/data_table.ipynb>data table notebook</a>'\n",
              "            + ' to learn more about interactive tables.';\n",
              "          element.innerHTML = '';\n",
              "          dataTable['output_type'] = 'display_data';\n",
              "          await google.colab.output.renderOutput(dataTable, element);\n",
              "          const docLink = document.createElement('div');\n",
              "          docLink.innerHTML = docLinkHtml;\n",
              "          element.appendChild(docLink);\n",
              "        }\n",
              "      </script>\n",
              "    </div>\n",
              "  </div>\n",
              "  "
            ],
            "text/plain": [
              "                      year  kilometrage  ...  engine(L)  engine_power(hp)\n",
              "year              1.000000    -0.509379  ...   0.213164          0.484675\n",
              "kilometrage      -0.509379     1.000000  ...  -0.028237         -0.231065\n",
              "price(AZN)        0.751983    -0.423914  ...   0.453639          0.584105\n",
              "engine(L)         0.213164    -0.028237  ...   1.000000          0.689972\n",
              "engine_power(hp)  0.484675    -0.231065  ...   0.689972          1.000000\n",
              "\n",
              "[5 rows x 5 columns]"
            ]
          },
          "metadata": {},
          "execution_count": 299
        }
      ]
    },
    {
      "cell_type": "code",
      "source": [
        "plt.figure(figsize = (7,5))\n",
        "sns.heatmap(df.corr(), annot = True, cmap = 'RdBu', vmin = -1, vmax = 1)"
      ],
      "metadata": {
        "colab": {
          "base_uri": "https://localhost:8080/",
          "height": 0
        },
        "id": "jwhNTuXGXYfp",
        "outputId": "afcd458e-e2c8-4c32-b6d0-8fb7349b94a8"
      },
      "execution_count": 300,
      "outputs": [
        {
          "output_type": "execute_result",
          "data": {
            "text/plain": [
              "<matplotlib.axes._subplots.AxesSubplot at 0x7fc4f57d2a90>"
            ]
          },
          "metadata": {},
          "execution_count": 300
        },
        {
          "output_type": "display_data",
          "data": {
            "image/png": "[encoded data removed]",
            "text/plain": [
              "<Figure size 504x360 with 2 Axes>"
            ]
          },
          "metadata": {
            "needs_background": "light"
          }
        }
      ]
    },
    {
      "cell_type": "markdown",
      "source": [
        "#### Insights:\n",
        "Price is highly (positively) correlated to the `year`, `engine(L)` and `engine_power(hp)` columns. New model cars cost high as expected\n",
        "<br>\n",
        "Price is negatively correlated to `kilometrage`. Means if car has been used for long time price decreases\n"
      ],
      "metadata": {
        "id": "5vd8U8rWY9Op"
      }
    },
    {
      "cell_type": "code",
      "source": [
        "# Firstly, let's look at number of cars per model \n",
        "df['model'].value_counts().plot(kind = 'bar', figsize = (18,6),fontsize = 12.5)\n",
        "plt.xlabel('Model',fontsize = 13.5,color = 'blue')\n",
        "plt.title('Number of Cars Per Model',fontsize=15, color = 'blue')"
      ],
      "metadata": {
        "colab": {
          "base_uri": "https://localhost:8080/",
          "height": 0
        },
        "id": "WAZxRn7jSXLq",
        "outputId": "8e757020-7b53-4835-a6e1-be77b8d0497f"
      },
      "execution_count": 301,
      "outputs": [
        {
          "output_type": "execute_result",
          "data": {
            "text/plain": [
              "Text(0.5, 1.0, 'Number of Cars Per Model')"
            ]
          },
          "metadata": {},
          "execution_count": 301
        },
        {
          "output_type": "display_data",
          "data": {
            "image/png": "[encoded data removed]",
            "text/plain": [
              "<Figure size 1296x432 with 1 Axes>"
            ]
          },
          "metadata": {
            "needs_background": "light"
          }
        }
      ]
    },
    {
      "cell_type": "markdown",
      "source": [
        " Most of the car models for sale are `Rio`, `Optima`, `Sorento`, `Ceed` and `Sportage` "
      ],
      "metadata": {
        "id": "3Cz3KgHDaOtU"
      }
    },
    {
      "cell_type": "code",
      "source": [
        "regions = df['city'].value_counts()\n",
        "more_cars_regions = regions[regions > 10]\n",
        "more_cars_regions.plot(kind = 'pie', figsize = (8,8),fontsize = 12.5, \n",
        "                                     explode = (0.05, 0.05,0.05, 0.05,0.05), \n",
        "                                     ylabel = '', \n",
        "                                     legend=True, \n",
        "                                     startangle= 160)\n",
        "plt.title('Cars by Region with More Than 10',fontsize=15, color = '#006400')\n",
        "plt.savefig('regions')"
      ],
      "metadata": {
        "colab": {
          "base_uri": "https://localhost:8080/",
          "height": 0
        },
        "id": "ASke736sfohb",
        "outputId": "0b5266c9-de53-4e91-e80d-ac0d017cd858"
      },
      "execution_count": 302,
      "outputs": [
        {
          "output_type": "display_data",
          "data": {
            "image/png": "[encoded data removed]",
            "text/plain": [
              "<Figure size 576x576 with 1 Axes>"
            ]
          },
          "metadata": {}
        }
      ]
    },
    {
      "cell_type": "markdown",
      "source": [
        "Regions with most of the cars are `Bakı`, `Sumqayıt`, `Gəncə`, `Xırdalan`and `Şəmkir`"
      ],
      "metadata": {
        "id": "xaha1uYmfyVS"
      }
    },
    {
      "cell_type": "code",
      "source": [
        "plt.subplot(1,2,1)\n",
        "df['year'].value_counts().plot(kind = 'bar', figsize = (18,6),fontsize = 12.5,color = '#006400')\n",
        "plt.xlabel('Year',fontsize = 13.5,color = '#006400')\n",
        "plt.title('Cars by Model Year',fontsize=15, color = '#006400')\n",
        "plt.subplot(1,2,2)\n",
        "df['color'].value_counts().plot(kind = 'bar', figsize = (18,6),fontsize = 12.5,color = '#702963')\n",
        "plt.xlabel('Color',fontsize = 13.5, color = '#006400')\n",
        "plt.title('Cars by Color', fontsize=15, color = '#006400')\n",
        "plt.savefig('cars by model and color')"
      ],
      "metadata": {
        "colab": {
          "base_uri": "https://localhost:8080/",
          "height": 0
        },
        "id": "pmtgauy_jA7j",
        "outputId": "4eb67cbf-55a6-4dc0-94dd-366ebdc4ca38"
      },
      "execution_count": 303,
      "outputs": [
        {
          "output_type": "display_data",
          "data": {
            "image/png": "[encoded data removed]",
            "text/plain": [
              "<Figure size 1296x432 with 2 Axes>"
            ]
          },
          "metadata": {
            "needs_background": "light"
          }
        }
      ]
    },
    {
      "cell_type": "markdown",
      "source": [
        "Model year of most of the cars are `2008`, `2007`, `2013`, `2012` and `2011` \n",
        "<br> And color of most of the cars are `'Qara'`, `'Ağ'`, `'Gümüşü'`, `Yaş Asfalt`and `Göy`"
      ],
      "metadata": {
        "id": "cQnOcRH-a-y9"
      }
    },
    {
      "cell_type": "code",
      "source": [
        "expensive_models = df.sort_values('price(AZN)', ascending = False).head(10)\n",
        "expensive_models.groupby(['model'])['price(AZN)'].agg('count').sort_values(ascending = False).plot(kind = 'bar')\n",
        "plt.title('Most expensive cars',fontsize=15, color = '#702963')"
      ],
      "metadata": {
        "colab": {
          "base_uri": "https://localhost:8080/",
          "height": 0
        },
        "id": "uZSDWLBCkjZm",
        "outputId": "0aa41bae-0885-4112-ac2d-68b2e6141c65"
      },
      "execution_count": 304,
      "outputs": [
        {
          "output_type": "execute_result",
          "data": {
            "text/plain": [
              "Text(0.5, 1.0, 'Most expensive cars')"
            ]
          },
          "metadata": {},
          "execution_count": 304
        },
        {
          "output_type": "display_data",
          "data": {
            "image/png": "[encoded data removed]",
            "text/plain": [
              "<Figure size 432x288 with 1 Axes>"
            ]
          },
          "metadata": {
            "needs_background": "light"
          }
        }
      ]
    },
    {
      "cell_type": "markdown",
      "source": [
        "Most expensive KIA cars are `Stinger`, `Sorento` and `Carnival`"
      ],
      "metadata": {
        "id": "GGCuYQE5De6d"
      }
    },
    {
      "cell_type": "code",
      "source": [
        "fig = px.histogram(df, x=\"price(AZN)\", marginal=\"box\", title='Price Distribution of Second Hand Kia Cars in Azerbaijan')\n",
        "fig.update_layout(yaxis_title = 'Number of cars')\n",
        "fig.update_layout(xaxis_title = 'Price (AZN)')"
      ],
      "metadata": {
        "colab": {
          "base_uri": "https://localhost:8080/",
          "height": 0
        },
        "id": "pvWHFzdWi7JM",
        "outputId": "8c0735a9-601f-4fb8-a6e2-d0b1338d8c5e"
      },
      "execution_count": 305,
      "outputs": [
        {
          "output_type": "display_data",
          "data": {
            "text/html": [
              "<html>\n",
              "<head><meta charset=\"utf-8\" /></head>\n",
              "<body>\n",
              "    <div>            <script src=\"https://cdnjs.cloudflare.com/ajax/libs/mathjax/2.7.5/MathJax.js?config=TeX-AMS-MML_SVG\"></script><script type=\"text/javascript\">if (window.MathJax) {MathJax.Hub.Config({SVG: {font: \"STIX-Web\"}});}</script>                <script type=\"text/javascript\">window.PlotlyConfig = {MathJaxConfig: 'local'};</script>\n",
              "        <script src=\"https://cdn.plot.ly/plotly-2.8.3.min.js\"></script>                <div id=\"596aac1e-df19-4bc8-af34-1ee6201e0079\" class=\"plotly-graph-div\" style=\"height:525px; width:100%;\"></div>            <script type=\"text/javascript\">                                    window.PLOTLYENV=window.PLOTLYENV || {};                                    if (document.getElementById(\"596aac1e-df19-4bc8-af34-1ee6201e0079\")) {                    Plotly.newPlot(                        \"596aac1e-df19-4bc8-af34-1ee6201e0079\",                        [{\"alignmentgroup\":\"True\",\"bingroup\":\"x\",\"hovertemplate\":\"price(AZN)=%{x}<br>count=%{y}<extra></extra>\",\"legendgroup\":\"\",\"marker\":{\"color\":\"#636efa\",\"pattern\":{\"shape\":\"\"}},\"name\":\"\",\"offsetgroup\":\"\",\"orientation\":\"v\",\"showlegend\":false,\"x\":[14300.0,32700.0,43900.0,13200.0,32850.0,27900.0,45900.0,45560.0,48450.0,13650.0,13800.0,31450.0,39900.0,110500.0,12300.0,11200.0,14500.0,24900.0,11400.0,32600.0,20700.0,21700.0,28800.0,16500.0,10000.0,12500.0,11200.0,25000.0,14600.0,24900.0,22500.0,25000.0,10800.0,21500.0,27200.0,24800.0,18700.0,44000.0,62560.0,44030.0,24400.0,23000.0,28900.0,26300.0,21700.0,11400.0,10900.0,28900.0,27700.0,13900.0,26800.0,17300.0,12600.0,15800.0,11000.0,25800.0,14600.0,21420.0,15300.0,15300.0,14800.0,9700.0,38200.0,21300.0,26100.0,26500.0,50150.0,13900.0,11500.0,10300.0,10900.0,21800.0,47430.0,11300.0,24900.0,14800.0,13800.0,25600.0,15900.0,15500.0,40700.0,15500.0,15000.0,16300.0,21500.0,19500.0,27700.0,10000.0,42900.0,24700.0,24500.0,8000.0,27300.0,6900.0,11500.0,18700.0,26000.0,23500.0,12500.0,12800.0,18500.0,9000.0,21700.0,25500.0,27000.0,12000.0,27200.0,25900.0,44000.0,12899.0,25400.0,14800.0,12900.0,31900.0,11300.0,22800.0,15800.0,23700.0,19805.0,33500.0,19500.0,19700.0,29700.0,11500.0,12900.0,19900.0,33000.0,8000.0,28300.0,11400.0,28000.0,12100.0,15100.0,16500.0,27200.0,9500.0,16400.0,13900.0,14500.0,10850.0,27900.0,14800.0,31900.0,32500.0,12700.0,19500.0,25200.0,12300.0,21300.0,25900.0,22700.0,22800.0,28900.0,33400.0,27600.0,29200.0,32000.0,13000.0,18000.0,10800.0,12300.0,33900.0,10400.0,11500.0,32000.0,55590.0,31000.0,13550.0,13800.0,21250.0,16000.0,18500.0,15500.0,10500.0,34510.0,16300.0,14900.0,24900.0,15000.0,13300.0,18400.0,11500.0,6900.0,15800.0,14300.0,11000.0,21800.0,17700.0,14500.0,18900.0,15800.0,46300.0,43900.0,18800.0,28700.0,15000.0,12000.0,27700.0,24800.0,13800.0,17900.0,29600.0,32500.0,23900.0,27500.0,20800.0,13500.0,28500.0,53550.0,12500.0,11800.0,13000.0,12100.0,20400.0,13700.0,11300.0,17400.0,34700.0,10800.0,15900.0,12900.0,26900.0,21900.0,10000.0,27400.0,16600.0,16900.0,10800.0,13500.0,24200.0,16000.0,11500.0,12700.0,16800.0,14200.0,10800.0,21300.0,18000.0,29500.0,15000.0,23500.0,27900.0,23400.0,33900.0,25500.0,7900.0,19400.0,17200.0,17700.0,15800.0,25000.0,21800.0,11500.0,22000.0,13900.0,32000.0,21500.0,11300.0,46750.0,14200.0,42400.0,21500.0,22500.0,46070.0,56950.0,29700.0,27800.0,47800.0,27800.0,13500.0,21900.0,15000.0,21500.0,12200.0,25600.0,25800.0,14200.0,30500.0,27500.0,26500.0,13300.0,15800.0,43300.0,40400.0,27000.0,19800.0,15900.0,17500.0,35500.0,14500.0,23900.0,17900.0,26900.0,13700.0,55500.0,12500.0,26700.0,23700.0,12500.0,26000.0,19400.0,20500.0,14500.0,21300.0,23500.0,25500.0,32700.0,28900.0,11500.0,22600.0,25800.0,20900.0,13800.0,15800.0,21900.0,28500.0,12400.0,17000.0,26700.0,24500.0,13900.0,19900.0,41300.0,24500.0,14300.0,20650.0,20900.0,18900.0,39610.0,36700.0,11200.0,12200.0,15500.0,12300.0,11500.0,14200.0,17000.0,21800.0,26500.0,20500.0,19900.0,12300.0,39800.0,18900.0,18900.0,12700.0,16900.0,16800.0,36500.0,16800.0,11900.0,17700.0,13200.0,28400.0,25000.0,17800.0,21900.0,24300.0,15700.0,22800.0,13600.0,14600.0,16800.0,10900.0,18900.0,13800.0,15600.0,27900.0,11300.0,25900.0,11000.0,22700.0,12000.0,13400.0,24500.0,24900.0,11800.0,28900.0,16800.0,13500.0,19900.0,23500.0,22800.0,33000.0,20700.0,23500.0,23500.0,18600.0,55760.0,14900.0,13600.0,45500.0,12800.0,13500.0,8600.0,78400.0,31400.0,20700.0,12900.0,11900.0,45560.0,25900.0,11500.0,12200.0,29800.0,26400.0,12300.0,31000.0,15500.0,17800.0,15200.0,14300.0,29500.0,13700.0,18500.0,24800.0,40700.0,23000.0,20800.0,11500.0,30500.0,23300.0,14700.0,14500.0,29500.0,18500.0,15400.0,17700.0,11800.0,13300.0,34700.0,45000.0,29900.0,18300.0,31800.0,14300.0,25000.0,24500.0,23900.0,26800.0,32200.0,14200.0,30900.0,31800.0,10900.0,22000.0,13990.0,29800.0,44500.0,23800.0,27300.0,43860.0,16000.0,21600.0,45500.0,10400.0,18500.0,15000.0,19400.0,16500.0,11000.0,28900.0,16700.0,11900.0,11000.0,18000.0,14100.0,9750.0,15100.0,25500.0,23900.0,12800.0,16800.0,21000.0,11200.0,18500.0,17500.0,33800.0,11200.0,34500.0,22500.0,11700.0,11700.0,10400.0,47260.0,14300.0,15500.0,26700.0,28800.0,11500.0,21000.0,14200.0,25700.0,14500.0,25500.0,17000.0,17700.0,10950.0,14800.0,26800.0,17800.0,14500.0,34000.0,9900.0,12500.0,39440.0,29000.0,12300.0,13100.0,12700.0,14500.0,24500.0,12300.0,45700.0,11500.0,14200.0,12700.0,12300.0,21000.0,36500.0,23800.0,28000.0,20500.0,11800.0,31700.0,15200.0,19900.0,12000.0,15700.0,11800.0,25500.0,13500.0,12000.0,14900.0,11900.0,20800.0,18500.0,35700.0,13000.0,12400.0,10900.0,28000.0,16300.0,11400.0,10200.0,16000.0,23500.0,29800.0,21400.0,23800.0,13800.0,29000.0,11600.0,46300.0,23800.0,16200.0,23450.0,11200.0,27500.0,24900.0,24800.0,26900.0,21900.0,12400.0,24900.0,21000.0,19000.0,15000.0,13600.0,14600.0,17600.0,14800.0,14500.0,14000.0,11000.0,11900.0,27300.0,13555.0,26400.0,36700.0,12500.0,12700.0,11900.0,28900.0,19700.0,10800.0,15200.0,26500.0,12000.0,25500.0,26800.0,26400.0,19900.0,21900.0,17900.0,11500.0,31900.0,13200.0,22500.0,23900.0,14700.0,19900.0,33500.0,15200.0,16300.0,33800.0,25740.0,14000.0,30800.0,15900.0,13000.0,11200.0,23500.0,11200.0,11500.0,46410.0,46900.0,43400.0,18000.0,14800.0,26500.0,14200.0,12500.0,21300.0,23600.0,11500.0,21000.0,26000.0,18900.0,15350.0,19800.0,14000.0,30000.0,18500.0,15500.0,18000.0,20800.0,12300.0,14450.0,33500.0,34500.0,23500.0,7000.0,13200.0,12200.0,19000.0,11200.0,19500.0,11600.0,11600.0,16700.0,13500.0,12900.0,16200.0,33300.0,16200.0,23900.0,27500.0,61030.0,7700.0,14900.0,21500.0,14500.0,23500.0,43500.0,27500.0,12500.0,11300.0,14800.0,28800.0,46750.0,11000.0,22500.0,26000.0,27800.0,14550.0,11000.0,15200.0,10500.0,20800.0,32900.0,11900.0,26800.0,26500.0,10800.0,44500.0,45900.0,15800.0,16800.0,16800.0,16900.0,14700.0,16000.0,13200.0,12600.0,24700.0,13100.0,14800.0,22800.0,10500.0,12100.0,16500.0,15555.0,17200.0,23000.0,12300.0,21900.0,29400.0,13400.0,17300.0,10800.0,11200.0,41400.0,22000.0,25800.0,40000.0,24000.0,23900.0,13700.0,49000.0,11800.0,25000.0,24800.0,29900.0,34300.0,22600.0,10500.0,14000.0,11500.0,13700.0,27500.0,22400.0,13500.0,24000.0,17300.0,15000.0,16300.0,30900.0,45500.0,44800.0,10900.0,11400.0,36400.0,13800.0,33400.0,42160.0,17200.0,13950.0,18500.0,24300.0,25900.0,17900.0,28900.0,14300.0,23900.0,11500.0,55250.0,26500.0,55590.0,13500.0,23800.0,19800.0,12900.0,23400.0,16900.0,31000.0,33800.0,31500.0,13800.0,14400.0,27800.0,15800.0,17800.0,22000.0,11200.0,25500.0,56950.0,33900.0,11800.0,47400.0,10900.0,11000.0,22200.0,9650.0,20500.0,25700.0,15900.0,16300.0,16900.0,22900.0,13900.0,26900.0,32500.0,25800.0,13900.0,12900.0,27900.0,12900.0,11000.0,15800.0,25900.0,39200.0,16900.0,14500.0,13800.0,22500.0,12300.0,23500.0,11500.0,15000.0,25500.0,12300.0,21500.0,12350.0,38930.0,17000.0,48500.0,13200.0,41800.0,25500.0,15800.0,11800.0,10500.0,4700.0,13800.0,11500.0,24700.0,19300.0,15500.0,10300.0,13900.0,12500.0,17000.0,46750.0,11450.0,14300.0,15500.0,29800.0,16800.0,27800.0,14300.0,12200.0,18500.0,12200.0,11300.0,25800.0,26200.0,20900.0,14000.0,27500.0,32500.0,27600.0,9500.0,27500.0,24500.0,15500.0,13700.0,14000.0,16300.0,12800.0,10900.0,27500.0,23500.0,11200.0,24700.0,10800.0,11800.0,12600.0,12800.0,11300.0,22800.0,50830.0,29700.0,15800.0,13300.0,50830.0,11500.0,15000.0,23500.0,14800.0,24800.0,27600.0,28900.0,13000.0,26500.0,22100.0,12600.0,31900.0,32000.0,23500.0,11300.0,25900.0,12300.0,10900.0,25700.0,24700.0,12900.0,11800.0,25000.0,10500.0,9800.0,18000.0,27900.0,31000.0,3000.0,12650.0,11300.0,14100.0,13900.0,13500.0,62050.0,25500.0,14200.0,23500.0,23700.0,12500.0,22000.0,16500.0,10500.0,11600.0,11500.0,16600.0,11000.0,22900.0,16900.0,29800.0,11900.0,12500.0,13500.0,27900.0,22400.0,27250.0,12900.0,28300.0,33800.0,39100.0,24800.0,15000.0,26600.0,13300.0,18200.0,24900.0,14500.0,23800.0,8900.0,20800.0,12200.0,29000.0,14800.0,21500.0,34400.0,11300.0,28600.0,11200.0,15900.0,18000.0,12300.0,13600.0,12100.0,17800.0,11900.0,21000.0,15900.0,28200.0,12600.0,15900.0,17800.0,13000.0,34500.0,32800.0,14500.0,23500.0,15300.0,13800.0,21700.0,28950.0,16400.0,11200.0,15800.0,31500.0,12800.0,15500.0,14800.0,18500.0,27900.0,26500.0,25800.0,22500.0,12000.0,47430.0,45500.0,18000.0,16500.0,14800.0,18300.0,49500.0,26500.0,12800.0,29800.0,4600.0,13000.0,18800.0,12800.0,24500.0,16900.0,39950.0,16300.0,12900.0,27500.0,43500.0,12800.0,11700.0,12300.0,25900.0,30800.0,26200.0,16500.0,21000.0,14600.0,18800.0,11000.0,15000.0,42330.0,27500.0,10400.0,25700.0,12400.0,13500.0,9500.0,34000.0,12300.0,11800.0,14000.0,26700.0,12400.0,17300.0,15800.0,18300.0,40900.0,19800.0,13500.0,16800.0,21500.0,24500.0,16500.0,27500.0,34000.0,22600.0,13800.0,18700.0,29800.0,32000.0,8000.0,28500.0,16500.0,18500.0,8900.0,22800.0,39300.0,41820.0,19500.0,12200.0,23500.0,12400.0,17800.0,22500.0,10300.0,5700.0,12000.0,27800.0,23900.0,48960.0,31000.0,16000.0,13100.0,20900.0,26700.0,22800.0,12500.0,32100.0,23800.0,50150.0,23800.0,12000.0,30800.0,16900.0,16400.0,12900.0,13700.0,32500.0,13900.0,13900.0,15800.0,16800.0,12350.0,15200.0,45000.0,12600.0,12000.0,11600.0,11500.0,15400.0,14700.0,25500.0,15100.0,27800.0,21500.0,14500.0,15700.0,27700.0,14200.0,41310.0,22800.0,18600.0,18500.0,41900.0,16500.0,15700.0,31900.0,20500.0,18000.0,21900.0,14900.0,15500.0,25800.0,8400.0,11200.0,41000.0,11900.0,32000.0,48110.0,25800.0,13000.0,14500.0,19500.0,18000.0,25900.0,15500.0,14800.0,19500.0,32000.0,20500.0,11600.0,28898.3,36500.0,13500.0,12800.0,15900.0,15500.0,20800.0,39500.0,13800.0,15700.0,24300.0,31200.0,25500.0,27900.0,12500.0,26300.0,20500.0,6900.0,11900.0,23500.0,14800.0,18300.0,24800.0,14300.0,10200.0,40800.0,22850.0,37910.0,11000.0,11700.0,45000.0,24400.0,11300.0,24500.0,13000.0,11700.0,26900.0,11000.0,11800.0,11300.0,13200.0,24500.0,11500.0,25900.0,25600.0,12500.0,22500.0,23900.0,13500.0,21900.0,10200.0,17500.0,21500.0,43860.0,10900.0,26800.0,26500.0,29900.0,14400.0,13300.0,27700.0,13900.0,21800.0,27000.0,24200.0,21000.0,10800.0,25900.0,16900.0,22900.0,16900.0,23000.0,11500.0,31500.0,27700.0,26500.0,43500.0,13000.0,12500.0,22600.0,15400.0,9900.0,16200.0,17900.0,21500.0,12800.0,19400.0,11888.0,3900.0,29800.0,21000.0,8000.0,22500.0,16200.0,11800.0,15100.0,20800.0,17000.0,15000.0,14500.0,32500.0,16999.0,13400.0,14000.0,34000.0,12600.0,28200.0,12000.0,11600.0,25500.0,11700.0,12700.0,25300.0,16900.0,10800.0,28500.0,14950.0,14300.0,7800.0,23350.0,14900.0,26900.0,10999.0,3900.0,26300.0,18000.0,27500.0,28800.0,23500.0,11300.0,28200.0,18800.0,32130.0,30800.0,29900.0,18500.0,33500.0,15800.0,27200.0,12100.0,36000.0,11800.0,35700.0,20900.0,23500.0,12900.0,13500.0,13200.0,11700.0,6600.0,19800.0,9000.0,10950.0,32900.0,11900.0,27200.0,20500.0,33700.0,24900.0,13900.0,17500.0,28900.0,51000.0,29000.0,12200.0,9600.0,27600.0,25600.0,25900.0,10800.0,11400.0,17900.0,32700.0,22500.0,20700.0,13300.0,2650.0,27800.0,11200.0,14200.0,13400.0,53890.0,36720.0,13800.0,22500.0,17800.0,14500.0,12450.0,12600.0,13300.0,10200.0,13500.0,11700.0,11400.0,13300.0,15500.0,19600.0,26400.0,14300.0,18300.0,11800.0,19300.0,29300.0,10900.0,14300.0,11000.0,15000.0,23500.0,28600.0,20600.0,13000.0,23600.0,19400.0,15700.0,8000.0,14200.0,13900.0,13800.0,18300.0,14800.0,11000.0,13300.0,25900.0,16700.0,25700.0,10200.0,29500.0,11400.0,16000.0,27500.0,22800.0,26500.0,15363.0,26000.0,10900.0,33500.0,37500.0,16000.0,34700.0,26100.0,34500.0,12700.0,11000.0,20800.0,22800.0,26800.0,19700.0,20700.0,15948.0,12000.0,26500.0,28800.0,15800.0,10900.0,13400.0,13900.0,21900.0,13300.0,31000.0,6500.0,21300.0,22900.0,32800.0,23900.0,28500.0,31900.0,25700.0,41000.0,20400.0,25500.0,49130.0,20500.0,13900.0,13000.0,27500.0,51500.0,22900.0,14300.0,10800.0,12900.0,27900.0,13200.0,21000.0,14000.0,8000.0,11500.0,31105.0,31200.0,25800.0,4600.0,12900.0,16400.0,12300.0,11700.0,41900.0,17000.0,45900.0,18500.0,21300.0,9999.0,17500.0,23800.0,10900.0,13800.0,11000.0,10900.0,12500.0,6000.0,10600.0,11800.0,18200.0,12500.0,11600.0,11500.0,19800.0,13000.0,18400.0,23500.0,13900.0,16800.0,24600.0,18500.0,11899.0,26700.0,13500.0,24000.0,13800.0,18700.0,44900.0,14850.0,24900.0,32500.0,13000.0,27400.0,30300.0,10400.0,11400.0,46750.0,33300.0,10600.0,8200.0,28000.0,10500.0,32000.0,27500.0,18000.0,18400.0,28500.0,12700.0,20800.0,12800.0,24000.0,26500.0,14500.0,22200.0,22800.0,18800.0,13800.0,19000.0,14500.0,13600.0,32500.0,13300.0,12200.0,20800.0,45300.0,30500.0,28000.0,13000.0,11700.0,15800.0,17200.0,13200.0,19800.0,18500.0,13200.0,33500.0,13800.0,43500.0,14300.0,12200.0,18500.0,13700.0,17000.0,25400.0,25800.0,13200.0,16200.0,12300.0,33500.0,19500.0,13300.0,24500.0,18900.0,45050.0,37700.0,15500.0,26900.0,14000.0,13500.0,30000.0,11500.0,12000.0,14000.0,14000.0,16300.0,13300.0,34000.0,30500.0,11200.0,25500.0,13200.0,13900.0,11000.0,22000.0,12900.0,36300.0,11900.0,21500.0,19800.0,14500.0,12700.0,13000.0,29200.0,21500.0,33900.0,45000.0,11800.0,20000.0,14900.0,26500.0,9000.0,9000.0,12800.0,29500.0,11400.0,14900.0,27800.0,36800.0,24500.0,12400.0,19600.0,23500.0,29900.0,13000.0,10800.0,25500.0,11700.0,27300.0,10700.0,24800.0,48800.0,15900.0,10600.0,16400.0,27000.0,15500.0,40800.0,11700.0,17500.0,31500.0,22800.0,24200.0,11700.0,18500.0,13500.0,15200.0,14500.0,17400.0,20500.0,11000.0,12900.0,22900.0,14400.0,3800.0,29900.0,26500.0,38500.0,18200.0,12000.0,18200.0,11000.0,10900.0,29300.0,25200.0,13900.0,17000.0,18044.0,16800.0,14000.0,31850.0,13000.0,14700.0,25000.0,10500.0,17850.0,1950.0,15500.0,5200.0,13000.0,31800.0,16800.0,11800.0,18300.0,13700.0,9000.0,26500.0,21000.0,15000.0,42500.0,15400.0,16900.0,16000.0,14800.0,25200.0,16800.0,13000.0,24600.0,24500.0,15000.0,12800.0,13500.0,13450.0,13600.0,11000.0,11200.0,25800.0,52003.0,9800.0,29900.0,17200.0,22500.0,15000.0,11800.0,18500.0,14200.0,16300.0,20700.0,15300.0,23800.0,25400.0,9000.0,24200.0,44000.0,12200.0,33400.0,28900.0,35000.0,40300.0,23700.0,20000.0,15700.0,15200.0,14500.0,18800.0,18500.0,31000.0,36000.0,19200.0,31200.0,14300.0,34500.0,27500.0,30500.0,16500.0,25800.0,23500.0,11750.0,11800.0,18300.0,19800.0,76900.0,22800.0,12600.0,24900.0,21000.0,13600.0,15300.0,13800.0,18800.0,11500.0,25500.0,30000.0,35000.0,15500.0,10800.0,20500.0,19900.0,27500.0,17200.0,12900.0,28500.0,35800.0,15900.0,20600.0,11000.0,33800.0,25700.0,11900.0,10900.0,34000.0,24900.0,29000.0,24800.0,12800.0,26600.0,38500.0,10800.0,10600.0,17000.0,12800.0,14500.0,15600.0,27000.0,22700.0,11300.0,29500.0,14500.0,33000.0,10900.0,12700.0,11200.0,12500.0,24500.0,13600.0,38000.0,16200.0,27500.0,24900.0,29800.0,17700.0,17500.0,14000.0,12900.0,25200.0,19600.0,11200.0,10300.0,17800.0,50000.0,11200.0,14200.0,14500.0,12700.0,16300.0,13500.0,25000.0,11200.0,8500.0,15400.0,21000.0,22000.0,21800.0,26000.0,14200.0,25200.0,11500.0,13500.0,16800.0,20200.0,13000.0,16500.0,17500.0,31600.0,8300.0,22800.0,14000.0,11500.0,12000.0,6200.0,13100.0,10000.0,17600.0,22700.0,10800.0,11800.0,19000.0,16000.0,35000.0,11500.0,14500.0,21400.0,29750.0,32800.0,20800.0,21900.0,13100.0,19800.0,21500.0,25800.0,32800.0,12500.0,12600.0,11900.0,24700.0,7200.0,21600.0,10600.0,15800.0,28500.0,28200.0,18500.0,22500.0,14800.0,18200.0,16200.0,15300.0,26700.0,13000.0,8800.0,12500.0,12000.0,17800.0,27000.0,11400.0,11800.0,16300.0,24000.0,13750.0,12800.0,8500.0,20100.0,35800.0,21850.0,12000.0,25500.0,12300.0,15500.0,10900.0,18500.0,43900.0,10500.0,3500.0,17800.0,45000.0,17655.0,13900.0,25400.0,14800.0,11000.0,19500.0,22500.0,22000.0,29700.0,23840.0,11000.0,37000.0,23200.0,13900.0,26500.0,43500.0,14500.0,26900.0,25400.0,10000.0,14500.0,32500.0,11600.0,10000.0,14500.0,17500.0,24500.0,23000.0,14700.0,19800.0,22700.0,11900.0,26000.0,26000.0,13400.0,16400.0,22000.0,14200.0,39900.0,13200.0,16900.0,17500.0,12000.0,11000.0,15200.0,14800.0,18300.0,21800.0,12500.0,26800.0,29500.0,21300.0,15700.0,22500.0,17900.0,21000.0,9000.0,16900.0,10800.0,11600.0,27400.0,48000.0,15900.0,16900.0,17200.0,46500.0,14100.0,10800.0,6800.0,17100.0,12300.0,14900.0,35900.0,15200.0,5700.0,10700.0,29700.0,29500.0,21800.0,21250.0,23800.0,12400.0,14600.0,18900.0,11800.0,15400.0,18500.0,11750.0,23600.0,31600.0,26000.0,23900.0,11200.0,22000.0,24900.0,18500.0,10600.0,23800.0,28500.0,20500.0,19500.0,12800.0,28500.0,14200.0,21500.0,29800.0,10900.0,13300.0,12100.0,25500.0,27300.0,12000.0,28000.0,41600.0,11800.0,12300.0,12400.0,11600.0,23800.0,11200.0,20500.0,12800.0,5500.0,9000.0,11900.0,11300.0,34500.0,27200.0,27900.0,10400.0,14200.0,18900.0,17300.0,18200.0,13900.0,10000.0,15500.0,12600.0,21800.0,16900.0,22500.0,40300.0,14900.0,32800.0,23500.0,26300.0,13700.0,48450.0,25300.0,14800.0,13500.0,29400.0,10000.0,45500.0,14500.0,10400.0,49640.0,6000.0,23500.0,12700.0,28000.0,11800.0,28000.0,16900.0,13500.0,16700.0,26800.0,14200.0,22200.0,31500.0,26500.0,46000.0,10600.0,27500.0,14400.0,24500.0,13700.0,10600.0,12500.0,11800.0,15500.0,25900.0,16800.0,25500.0,6800.0,15000.0,11300.0,22000.0,14100.0,12200.0,12300.0,15900.0,17000.0,27500.0,10400.0,27700.0,15700.0,13900.0,93500.0,42000.0,16500.0,14700.0,47430.0,26000.0,20900.0,26500.0,17500.0,11500.0,18500.0,47260.0,19500.0,14500.0,13000.0,13500.0,14700.0,26500.0,32500.0,14000.0,43000.0,15500.0,19400.0,11400.0,11300.0,13400.0,11000.0,14600.0,14000.0,26500.0,14700.0,10800.0,35500.0,13800.0,16500.0,14500.0,5500.0,25500.0,20500.0,61200.0,17400.0,27500.0,35900.0,24900.0,33500.0,12500.0,27030.0,6100.0,18700.0,26500.0,14900.0,13600.0,24900.0,19900.0,42800.0,46750.0,55872.0,12800.0,21000.0,17800.0,18500.0,11000.0,27200.0,14255.0,18500.0,11300.0,11500.0,38000.0,16500.0,12500.0,26200.0,27950.0,4200.0,27300.0,11000.0,11400.0,20200.0,11000.0,11500.0,12800.0,43180.0,18360.0,13300.0,17200.0,22200.0,17900.0,29700.0,14300.0,40900.0,14700.0,10500.0,15800.0,10900.0,15000.0,14200.0,15200.0,12850.0,10900.0,15900.0,25700.0,13800.0,18800.0,12700.0,10600.0,15300.0,34500.0,13700.0,11900.0,25800.0,9654.0,12500.0,12300.0,28800.0,12900.0,17800.0,13500.0,51850.0,21000.0,30000.0,25800.0,13800.0,14900.0,13900.0,39950.0,21000.0,27500.0,14900.0,27900.0,11300.0,13400.0,14800.0,14600.0,13300.0,10800.0,12400.0,5525.0,15800.0,19300.0,12900.0,24300.0,29700.0,22900.0,23800.0,13000.0,13700.0,23800.0,18500.0,13000.0,10504.0,13387.0,16500.0,15700.0,10900.0,73100.0,23900.0,15700.0,11800.0,6500.0,13200.0,13500.0,22500.0,22500.0,15500.0,14500.0,11700.0,15000.0,12000.0,36040.0,16200.0,25500.0,12300.0,19000.0,11400.0,29000.0,13000.0,27800.0,14300.0,18800.0,23500.0,21400.0,12900.0,14500.0,12500.0,21400.0,15600.0,21700.0,14300.0,25500.0,16600.0,13900.0,11700.0,41140.0,12500.0,24500.0,10600.0,29200.0,14350.0,33500.0,34000.0,14500.0,29500.0,59160.0,33200.0,11500.0,18550.0,8400.0,23900.0,33500.0,11500.0,13500.0,13500.0,20500.0,26800.0,24300.0,24600.0,27700.0,20500.0,10900.0,24000.0,18500.0,15800.0,12000.0,10000.0,32500.0,23900.0,17000.0,24800.0,10500.0,11800.0,10400.0,20000.0,23600.0,26500.0,56950.0,9000.0,24900.0,7800.0,25500.0,26700.0,13100.0,9800.0,22300.0,12500.0,41500.0,13000.0,17500.0,16800.0,11800.0,18500.0,25500.0,11600.0,12000.0,27500.0,11900.0,13800.0,11700.0,6800.0,13300.0,56950.0,12000.0,23800.0,20900.0,27200.0,16500.0,20058.0,11900.0,14700.0,12400.0,16500.0,11500.0,9800.0,20600.0,13800.0,28800.0,12700.0,10800.0,14400.0,12600.0,14000.0,38500.0,13300.0,31500.0,19700.0,34600.0,23700.0,5100.0,25600.0,5900.0,34800.0,50150.0,21000.0,13300.0,21500.0,15200.0,12000.0,15100.0,14800.0,11200.0,15200.0,27300.0,25800.0,25500.0,17900.0,28000.0,28900.0,45730.0,24000.0,11500.0,10700.0,25600.0,21800.0,12000.0,24900.0,10500.0,24800.0,12200.0,17500.0,18700.0,10700.0,11700.0,17700.0,14900.0,15900.0,15200.0,43850.0,17500.0,13600.0,15350.0,14400.0,25500.0,4000.0,45050.0,12000.0,14500.0,19500.0,17800.0,12200.0,18000.0,6700.0,13500.0,21700.0,12300.0,27500.0,23800.0,28900.0,23500.0,10500.0,21900.0,47600.0,12800.0,8400.0,24500.0,41700.0,6800.0,19800.0,11700.0,10000.0,48110.0,23500.0,38500.0,11600.0,14300.0,19500.0,12700.0,8900.0,15000.0,14000.0,23500.0,22500.0,12200.0,25000.0,12000.0,23500.0,28900.0,9900.0,17850.0,22500.0,11900.0,13400.0,15900.0,16000.0,38900.0,26000.0,26300.0,11500.0,2500.0,12700.0,11700.0,8000.0,11300.0,21200.0,13200.0,12000.0,17700.0,10900.0,22000.0,21000.0,14500.0,13800.0,17500.0,22900.0,14000.0,9450.0,14700.0,14900.0,21600.0,12500.0,10000.0,18500.0,16700.0,24800.0,10500.0,14300.0,14900.0,38800.0,15700.0,9200.0,4500.0,26500.0,12000.0,31000.0,13200.0,25600.0,10100.0,19800.0,12200.0,18500.0,17500.0,15500.0,6700.0,27200.0,41800.0,19500.0,11200.0,11500.0,9800.0,11200.0,20900.0,16450.0,14800.0,21800.0,22800.0,11500.0,9500.0,13500.0,18700.0,13500.0,11300.0,13600.0,10700.0,12200.0,14300.0,26200.0,20800.0,19000.0,26400.0,13000.0,13500.0,16700.0,14500.0,25400.0,11500.0,17500.0,24900.0,39950.0,6700.0,25600.0,26500.0,11200.0,29500.0,10800.0,13200.0,22500.0,48900.0,24500.0,27300.0,16500.0,42200.0,19500.0,21700.0,28900.0,15000.0,12900.0,24000.0,14300.0,15000.0,16000.0,13800.0,20000.0,20060.0,17800.0,11800.0,12000.0,33200.0],\"xaxis\":\"x\",\"yaxis\":\"y\",\"type\":\"histogram\"},{\"alignmentgroup\":\"True\",\"hovertemplate\":\"price(AZN)=%{x}<extra></extra>\",\"legendgroup\":\"\",\"marker\":{\"color\":\"#636efa\"},\"name\":\"\",\"notched\":true,\"offsetgroup\":\"\",\"showlegend\":false,\"x\":[14300.0,32700.0,43900.0,13200.0,32850.0,27900.0,45900.0,45560.0,48450.0,13650.0,13800.0,31450.0,39900.0,110500.0,12300.0,11200.0,14500.0,24900.0,11400.0,32600.0,20700.0,21700.0,28800.0,16500.0,10000.0,12500.0,11200.0,25000.0,14600.0,24900.0,22500.0,25000.0,10800.0,21500.0,27200.0,24800.0,18700.0,44000.0,62560.0,44030.0,24400.0,23000.0,28900.0,26300.0,21700.0,11400.0,10900.0,28900.0,27700.0,13900.0,26800.0,17300.0,12600.0,15800.0,11000.0,25800.0,14600.0,21420.0,15300.0,15300.0,14800.0,9700.0,38200.0,21300.0,26100.0,26500.0,50150.0,13900.0,11500.0,10300.0,10900.0,21800.0,47430.0,11300.0,24900.0,14800.0,13800.0,25600.0,15900.0,15500.0,40700.0,15500.0,15000.0,16300.0,21500.0,19500.0,27700.0,10000.0,42900.0,24700.0,24500.0,8000.0,27300.0,6900.0,11500.0,18700.0,26000.0,23500.0,12500.0,12800.0,18500.0,9000.0,21700.0,25500.0,27000.0,12000.0,27200.0,25900.0,44000.0,12899.0,25400.0,14800.0,12900.0,31900.0,11300.0,22800.0,15800.0,23700.0,19805.0,33500.0,19500.0,19700.0,29700.0,11500.0,12900.0,19900.0,33000.0,8000.0,28300.0,11400.0,28000.0,12100.0,15100.0,16500.0,27200.0,9500.0,16400.0,13900.0,14500.0,10850.0,27900.0,14800.0,31900.0,32500.0,12700.0,19500.0,25200.0,12300.0,21300.0,25900.0,22700.0,22800.0,28900.0,33400.0,27600.0,29200.0,32000.0,13000.0,18000.0,10800.0,12300.0,33900.0,10400.0,11500.0,32000.0,55590.0,31000.0,13550.0,13800.0,21250.0,16000.0,18500.0,15500.0,10500.0,34510.0,16300.0,14900.0,24900.0,15000.0,13300.0,18400.0,11500.0,6900.0,15800.0,14300.0,11000.0,21800.0,17700.0,14500.0,18900.0,15800.0,46300.0,43900.0,18800.0,28700.0,15000.0,12000.0,27700.0,24800.0,13800.0,17900.0,29600.0,32500.0,23900.0,27500.0,20800.0,13500.0,28500.0,53550.0,12500.0,11800.0,13000.0,12100.0,20400.0,13700.0,11300.0,17400.0,34700.0,10800.0,15900.0,12900.0,26900.0,21900.0,10000.0,27400.0,16600.0,16900.0,10800.0,13500.0,24200.0,16000.0,11500.0,12700.0,16800.0,14200.0,10800.0,21300.0,18000.0,29500.0,15000.0,23500.0,27900.0,23400.0,33900.0,25500.0,7900.0,19400.0,17200.0,17700.0,15800.0,25000.0,21800.0,11500.0,22000.0,13900.0,32000.0,21500.0,11300.0,46750.0,14200.0,42400.0,21500.0,22500.0,46070.0,56950.0,29700.0,27800.0,47800.0,27800.0,13500.0,21900.0,15000.0,21500.0,12200.0,25600.0,25800.0,14200.0,30500.0,27500.0,26500.0,13300.0,15800.0,43300.0,40400.0,27000.0,19800.0,15900.0,17500.0,35500.0,14500.0,23900.0,17900.0,26900.0,13700.0,55500.0,12500.0,26700.0,23700.0,12500.0,26000.0,19400.0,20500.0,14500.0,21300.0,23500.0,25500.0,32700.0,28900.0,11500.0,22600.0,25800.0,20900.0,13800.0,15800.0,21900.0,28500.0,12400.0,17000.0,26700.0,24500.0,13900.0,19900.0,41300.0,24500.0,14300.0,20650.0,20900.0,18900.0,39610.0,36700.0,11200.0,12200.0,15500.0,12300.0,11500.0,14200.0,17000.0,21800.0,26500.0,20500.0,19900.0,12300.0,39800.0,18900.0,18900.0,12700.0,16900.0,16800.0,36500.0,16800.0,11900.0,17700.0,13200.0,28400.0,25000.0,17800.0,21900.0,24300.0,15700.0,22800.0,13600.0,14600.0,16800.0,10900.0,18900.0,13800.0,15600.0,27900.0,11300.0,25900.0,11000.0,22700.0,12000.0,13400.0,24500.0,24900.0,11800.0,28900.0,16800.0,13500.0,19900.0,23500.0,22800.0,33000.0,20700.0,23500.0,23500.0,18600.0,55760.0,14900.0,13600.0,45500.0,12800.0,13500.0,8600.0,78400.0,31400.0,20700.0,12900.0,11900.0,45560.0,25900.0,11500.0,12200.0,29800.0,26400.0,12300.0,31000.0,15500.0,17800.0,15200.0,14300.0,29500.0,13700.0,18500.0,24800.0,40700.0,23000.0,20800.0,11500.0,30500.0,23300.0,14700.0,14500.0,29500.0,18500.0,15400.0,17700.0,11800.0,13300.0,34700.0,45000.0,29900.0,18300.0,31800.0,14300.0,25000.0,24500.0,23900.0,26800.0,32200.0,14200.0,30900.0,31800.0,10900.0,22000.0,13990.0,29800.0,44500.0,23800.0,27300.0,43860.0,16000.0,21600.0,45500.0,10400.0,18500.0,15000.0,19400.0,16500.0,11000.0,28900.0,16700.0,11900.0,11000.0,18000.0,14100.0,9750.0,15100.0,25500.0,23900.0,12800.0,16800.0,21000.0,11200.0,18500.0,17500.0,33800.0,11200.0,34500.0,22500.0,11700.0,11700.0,10400.0,47260.0,14300.0,15500.0,26700.0,28800.0,11500.0,21000.0,14200.0,25700.0,14500.0,25500.0,17000.0,17700.0,10950.0,14800.0,26800.0,17800.0,14500.0,34000.0,9900.0,12500.0,39440.0,29000.0,12300.0,13100.0,12700.0,14500.0,24500.0,12300.0,45700.0,11500.0,14200.0,12700.0,12300.0,21000.0,36500.0,23800.0,28000.0,20500.0,11800.0,31700.0,15200.0,19900.0,12000.0,15700.0,11800.0,25500.0,13500.0,12000.0,14900.0,11900.0,20800.0,18500.0,35700.0,13000.0,12400.0,10900.0,28000.0,16300.0,11400.0,10200.0,16000.0,23500.0,29800.0,21400.0,23800.0,13800.0,29000.0,11600.0,46300.0,23800.0,16200.0,23450.0,11200.0,27500.0,24900.0,24800.0,26900.0,21900.0,12400.0,24900.0,21000.0,19000.0,15000.0,13600.0,14600.0,17600.0,14800.0,14500.0,14000.0,11000.0,11900.0,27300.0,13555.0,26400.0,36700.0,12500.0,12700.0,11900.0,28900.0,19700.0,10800.0,15200.0,26500.0,12000.0,25500.0,26800.0,26400.0,19900.0,21900.0,17900.0,11500.0,31900.0,13200.0,22500.0,23900.0,14700.0,19900.0,33500.0,15200.0,16300.0,33800.0,25740.0,14000.0,30800.0,15900.0,13000.0,11200.0,23500.0,11200.0,11500.0,46410.0,46900.0,43400.0,18000.0,14800.0,26500.0,14200.0,12500.0,21300.0,23600.0,11500.0,21000.0,26000.0,18900.0,15350.0,19800.0,14000.0,30000.0,18500.0,15500.0,18000.0,20800.0,12300.0,14450.0,33500.0,34500.0,23500.0,7000.0,13200.0,12200.0,19000.0,11200.0,19500.0,11600.0,11600.0,16700.0,13500.0,12900.0,16200.0,33300.0,16200.0,23900.0,27500.0,61030.0,7700.0,14900.0,21500.0,14500.0,23500.0,43500.0,27500.0,12500.0,11300.0,14800.0,28800.0,46750.0,11000.0,22500.0,26000.0,27800.0,14550.0,11000.0,15200.0,10500.0,20800.0,32900.0,11900.0,26800.0,26500.0,10800.0,44500.0,45900.0,15800.0,16800.0,16800.0,16900.0,14700.0,16000.0,13200.0,12600.0,24700.0,13100.0,14800.0,22800.0,10500.0,12100.0,16500.0,15555.0,17200.0,23000.0,12300.0,21900.0,29400.0,13400.0,17300.0,10800.0,11200.0,41400.0,22000.0,25800.0,40000.0,24000.0,23900.0,13700.0,49000.0,11800.0,25000.0,24800.0,29900.0,34300.0,22600.0,10500.0,14000.0,11500.0,13700.0,27500.0,22400.0,13500.0,24000.0,17300.0,15000.0,16300.0,30900.0,45500.0,44800.0,10900.0,11400.0,36400.0,13800.0,33400.0,42160.0,17200.0,13950.0,18500.0,24300.0,25900.0,17900.0,28900.0,14300.0,23900.0,11500.0,55250.0,26500.0,55590.0,13500.0,23800.0,19800.0,12900.0,23400.0,16900.0,31000.0,33800.0,31500.0,13800.0,14400.0,27800.0,15800.0,17800.0,22000.0,11200.0,25500.0,56950.0,33900.0,11800.0,47400.0,10900.0,11000.0,22200.0,9650.0,20500.0,25700.0,15900.0,16300.0,16900.0,22900.0,13900.0,26900.0,32500.0,25800.0,13900.0,12900.0,27900.0,12900.0,11000.0,15800.0,25900.0,39200.0,16900.0,14500.0,13800.0,22500.0,12300.0,23500.0,11500.0,15000.0,25500.0,12300.0,21500.0,12350.0,38930.0,17000.0,48500.0,13200.0,41800.0,25500.0,15800.0,11800.0,10500.0,4700.0,13800.0,11500.0,24700.0,19300.0,15500.0,10300.0,13900.0,12500.0,17000.0,46750.0,11450.0,14300.0,15500.0,29800.0,16800.0,27800.0,14300.0,12200.0,18500.0,12200.0,11300.0,25800.0,26200.0,20900.0,14000.0,27500.0,32500.0,27600.0,9500.0,27500.0,24500.0,15500.0,13700.0,14000.0,16300.0,12800.0,10900.0,27500.0,23500.0,11200.0,24700.0,10800.0,11800.0,12600.0,12800.0,11300.0,22800.0,50830.0,29700.0,15800.0,13300.0,50830.0,11500.0,15000.0,23500.0,14800.0,24800.0,27600.0,28900.0,13000.0,26500.0,22100.0,12600.0,31900.0,32000.0,23500.0,11300.0,25900.0,12300.0,10900.0,25700.0,24700.0,12900.0,11800.0,25000.0,10500.0,9800.0,18000.0,27900.0,31000.0,3000.0,12650.0,11300.0,14100.0,13900.0,13500.0,62050.0,25500.0,14200.0,23500.0,23700.0,12500.0,22000.0,16500.0,10500.0,11600.0,11500.0,16600.0,11000.0,22900.0,16900.0,29800.0,11900.0,12500.0,13500.0,27900.0,22400.0,27250.0,12900.0,28300.0,33800.0,39100.0,24800.0,15000.0,26600.0,13300.0,18200.0,24900.0,14500.0,23800.0,8900.0,20800.0,12200.0,29000.0,14800.0,21500.0,34400.0,11300.0,28600.0,11200.0,15900.0,18000.0,12300.0,13600.0,12100.0,17800.0,11900.0,21000.0,15900.0,28200.0,12600.0,15900.0,17800.0,13000.0,34500.0,32800.0,14500.0,23500.0,15300.0,13800.0,21700.0,28950.0,16400.0,11200.0,15800.0,31500.0,12800.0,15500.0,14800.0,18500.0,27900.0,26500.0,25800.0,22500.0,12000.0,47430.0,45500.0,18000.0,16500.0,14800.0,18300.0,49500.0,26500.0,12800.0,29800.0,4600.0,13000.0,18800.0,12800.0,24500.0,16900.0,39950.0,16300.0,12900.0,27500.0,43500.0,12800.0,11700.0,12300.0,25900.0,30800.0,26200.0,16500.0,21000.0,14600.0,18800.0,11000.0,15000.0,42330.0,27500.0,10400.0,25700.0,12400.0,13500.0,9500.0,34000.0,12300.0,11800.0,14000.0,26700.0,12400.0,17300.0,15800.0,18300.0,40900.0,19800.0,13500.0,16800.0,21500.0,24500.0,16500.0,27500.0,34000.0,22600.0,13800.0,18700.0,29800.0,32000.0,8000.0,28500.0,16500.0,18500.0,8900.0,22800.0,39300.0,41820.0,19500.0,12200.0,23500.0,12400.0,17800.0,22500.0,10300.0,5700.0,12000.0,27800.0,23900.0,48960.0,31000.0,16000.0,13100.0,20900.0,26700.0,22800.0,12500.0,32100.0,23800.0,50150.0,23800.0,12000.0,30800.0,16900.0,16400.0,12900.0,13700.0,32500.0,13900.0,13900.0,15800.0,16800.0,12350.0,15200.0,45000.0,12600.0,12000.0,11600.0,11500.0,15400.0,14700.0,25500.0,15100.0,27800.0,21500.0,14500.0,15700.0,27700.0,14200.0,41310.0,22800.0,18600.0,18500.0,41900.0,16500.0,15700.0,31900.0,20500.0,18000.0,21900.0,14900.0,15500.0,25800.0,8400.0,11200.0,41000.0,11900.0,32000.0,48110.0,25800.0,13000.0,14500.0,19500.0,18000.0,25900.0,15500.0,14800.0,19500.0,32000.0,20500.0,11600.0,28898.3,36500.0,13500.0,12800.0,15900.0,15500.0,20800.0,39500.0,13800.0,15700.0,24300.0,31200.0,25500.0,27900.0,12500.0,26300.0,20500.0,6900.0,11900.0,23500.0,14800.0,18300.0,24800.0,14300.0,10200.0,40800.0,22850.0,37910.0,11000.0,11700.0,45000.0,24400.0,11300.0,24500.0,13000.0,11700.0,26900.0,11000.0,11800.0,11300.0,13200.0,24500.0,11500.0,25900.0,25600.0,12500.0,22500.0,23900.0,13500.0,21900.0,10200.0,17500.0,21500.0,43860.0,10900.0,26800.0,26500.0,29900.0,14400.0,13300.0,27700.0,13900.0,21800.0,27000.0,24200.0,21000.0,10800.0,25900.0,16900.0,22900.0,16900.0,23000.0,11500.0,31500.0,27700.0,26500.0,43500.0,13000.0,12500.0,22600.0,15400.0,9900.0,16200.0,17900.0,21500.0,12800.0,19400.0,11888.0,3900.0,29800.0,21000.0,8000.0,22500.0,16200.0,11800.0,15100.0,20800.0,17000.0,15000.0,14500.0,32500.0,16999.0,13400.0,14000.0,34000.0,12600.0,28200.0,12000.0,11600.0,25500.0,11700.0,12700.0,25300.0,16900.0,10800.0,28500.0,14950.0,14300.0,7800.0,23350.0,14900.0,26900.0,10999.0,3900.0,26300.0,18000.0,27500.0,28800.0,23500.0,11300.0,28200.0,18800.0,32130.0,30800.0,29900.0,18500.0,33500.0,15800.0,27200.0,12100.0,36000.0,11800.0,35700.0,20900.0,23500.0,12900.0,13500.0,13200.0,11700.0,6600.0,19800.0,9000.0,10950.0,32900.0,11900.0,27200.0,20500.0,33700.0,24900.0,13900.0,17500.0,28900.0,51000.0,29000.0,12200.0,9600.0,27600.0,25600.0,25900.0,10800.0,11400.0,17900.0,32700.0,22500.0,20700.0,13300.0,2650.0,27800.0,11200.0,14200.0,13400.0,53890.0,36720.0,13800.0,22500.0,17800.0,14500.0,12450.0,12600.0,13300.0,10200.0,13500.0,11700.0,11400.0,13300.0,15500.0,19600.0,26400.0,14300.0,18300.0,11800.0,19300.0,29300.0,10900.0,14300.0,11000.0,15000.0,23500.0,28600.0,20600.0,13000.0,23600.0,19400.0,15700.0,8000.0,14200.0,13900.0,13800.0,18300.0,14800.0,11000.0,13300.0,25900.0,16700.0,25700.0,10200.0,29500.0,11400.0,16000.0,27500.0,22800.0,26500.0,15363.0,26000.0,10900.0,33500.0,37500.0,16000.0,34700.0,26100.0,34500.0,12700.0,11000.0,20800.0,22800.0,26800.0,19700.0,20700.0,15948.0,12000.0,26500.0,28800.0,15800.0,10900.0,13400.0,13900.0,21900.0,13300.0,31000.0,6500.0,21300.0,22900.0,32800.0,23900.0,28500.0,31900.0,25700.0,41000.0,20400.0,25500.0,49130.0,20500.0,13900.0,13000.0,27500.0,51500.0,22900.0,14300.0,10800.0,12900.0,27900.0,13200.0,21000.0,14000.0,8000.0,11500.0,31105.0,31200.0,25800.0,4600.0,12900.0,16400.0,12300.0,11700.0,41900.0,17000.0,45900.0,18500.0,21300.0,9999.0,17500.0,23800.0,10900.0,13800.0,11000.0,10900.0,12500.0,6000.0,10600.0,11800.0,18200.0,12500.0,11600.0,11500.0,19800.0,13000.0,18400.0,23500.0,13900.0,16800.0,24600.0,18500.0,11899.0,26700.0,13500.0,24000.0,13800.0,18700.0,44900.0,14850.0,24900.0,32500.0,13000.0,27400.0,30300.0,10400.0,11400.0,46750.0,33300.0,10600.0,8200.0,28000.0,10500.0,32000.0,27500.0,18000.0,18400.0,28500.0,12700.0,20800.0,12800.0,24000.0,26500.0,14500.0,22200.0,22800.0,18800.0,13800.0,19000.0,14500.0,13600.0,32500.0,13300.0,12200.0,20800.0,45300.0,30500.0,28000.0,13000.0,11700.0,15800.0,17200.0,13200.0,19800.0,18500.0,13200.0,33500.0,13800.0,43500.0,14300.0,12200.0,18500.0,13700.0,17000.0,25400.0,25800.0,13200.0,16200.0,12300.0,33500.0,19500.0,13300.0,24500.0,18900.0,45050.0,37700.0,15500.0,26900.0,14000.0,13500.0,30000.0,11500.0,12000.0,14000.0,14000.0,16300.0,13300.0,34000.0,30500.0,11200.0,25500.0,13200.0,13900.0,11000.0,22000.0,12900.0,36300.0,11900.0,21500.0,19800.0,14500.0,12700.0,13000.0,29200.0,21500.0,33900.0,45000.0,11800.0,20000.0,14900.0,26500.0,9000.0,9000.0,12800.0,29500.0,11400.0,14900.0,27800.0,36800.0,24500.0,12400.0,19600.0,23500.0,29900.0,13000.0,10800.0,25500.0,11700.0,27300.0,10700.0,24800.0,48800.0,15900.0,10600.0,16400.0,27000.0,15500.0,40800.0,11700.0,17500.0,31500.0,22800.0,24200.0,11700.0,18500.0,13500.0,15200.0,14500.0,17400.0,20500.0,11000.0,12900.0,22900.0,14400.0,3800.0,29900.0,26500.0,38500.0,18200.0,12000.0,18200.0,11000.0,10900.0,29300.0,25200.0,13900.0,17000.0,18044.0,16800.0,14000.0,31850.0,13000.0,14700.0,25000.0,10500.0,17850.0,1950.0,15500.0,5200.0,13000.0,31800.0,16800.0,11800.0,18300.0,13700.0,9000.0,26500.0,21000.0,15000.0,42500.0,15400.0,16900.0,16000.0,14800.0,25200.0,16800.0,13000.0,24600.0,24500.0,15000.0,12800.0,13500.0,13450.0,13600.0,11000.0,11200.0,25800.0,52003.0,9800.0,29900.0,17200.0,22500.0,15000.0,11800.0,18500.0,14200.0,16300.0,20700.0,15300.0,23800.0,25400.0,9000.0,24200.0,44000.0,12200.0,33400.0,28900.0,35000.0,40300.0,23700.0,20000.0,15700.0,15200.0,14500.0,18800.0,18500.0,31000.0,36000.0,19200.0,31200.0,14300.0,34500.0,27500.0,30500.0,16500.0,25800.0,23500.0,11750.0,11800.0,18300.0,19800.0,76900.0,22800.0,12600.0,24900.0,21000.0,13600.0,15300.0,13800.0,18800.0,11500.0,25500.0,30000.0,35000.0,15500.0,10800.0,20500.0,19900.0,27500.0,17200.0,12900.0,28500.0,35800.0,15900.0,20600.0,11000.0,33800.0,25700.0,11900.0,10900.0,34000.0,24900.0,29000.0,24800.0,12800.0,26600.0,38500.0,10800.0,10600.0,17000.0,12800.0,14500.0,15600.0,27000.0,22700.0,11300.0,29500.0,14500.0,33000.0,10900.0,12700.0,11200.0,12500.0,24500.0,13600.0,38000.0,16200.0,27500.0,24900.0,29800.0,17700.0,17500.0,14000.0,12900.0,25200.0,19600.0,11200.0,10300.0,17800.0,50000.0,11200.0,14200.0,14500.0,12700.0,16300.0,13500.0,25000.0,11200.0,8500.0,15400.0,21000.0,22000.0,21800.0,26000.0,14200.0,25200.0,11500.0,13500.0,16800.0,20200.0,13000.0,16500.0,17500.0,31600.0,8300.0,22800.0,14000.0,11500.0,12000.0,6200.0,13100.0,10000.0,17600.0,22700.0,10800.0,11800.0,19000.0,16000.0,35000.0,11500.0,14500.0,21400.0,29750.0,32800.0,20800.0,21900.0,13100.0,19800.0,21500.0,25800.0,32800.0,12500.0,12600.0,11900.0,24700.0,7200.0,21600.0,10600.0,15800.0,28500.0,28200.0,18500.0,22500.0,14800.0,18200.0,16200.0,15300.0,26700.0,13000.0,8800.0,12500.0,12000.0,17800.0,27000.0,11400.0,11800.0,16300.0,24000.0,13750.0,12800.0,8500.0,20100.0,35800.0,21850.0,12000.0,25500.0,12300.0,15500.0,10900.0,18500.0,43900.0,10500.0,3500.0,17800.0,45000.0,17655.0,13900.0,25400.0,14800.0,11000.0,19500.0,22500.0,22000.0,29700.0,23840.0,11000.0,37000.0,23200.0,13900.0,26500.0,43500.0,14500.0,26900.0,25400.0,10000.0,14500.0,32500.0,11600.0,10000.0,14500.0,17500.0,24500.0,23000.0,14700.0,19800.0,22700.0,11900.0,26000.0,26000.0,13400.0,16400.0,22000.0,14200.0,39900.0,13200.0,16900.0,17500.0,12000.0,11000.0,15200.0,14800.0,18300.0,21800.0,12500.0,26800.0,29500.0,21300.0,15700.0,22500.0,17900.0,21000.0,9000.0,16900.0,10800.0,11600.0,27400.0,48000.0,15900.0,16900.0,17200.0,46500.0,14100.0,10800.0,6800.0,17100.0,12300.0,14900.0,35900.0,15200.0,5700.0,10700.0,29700.0,29500.0,21800.0,21250.0,23800.0,12400.0,14600.0,18900.0,11800.0,15400.0,18500.0,11750.0,23600.0,31600.0,26000.0,23900.0,11200.0,22000.0,24900.0,18500.0,10600.0,23800.0,28500.0,20500.0,19500.0,12800.0,28500.0,14200.0,21500.0,29800.0,10900.0,13300.0,12100.0,25500.0,27300.0,12000.0,28000.0,41600.0,11800.0,12300.0,12400.0,11600.0,23800.0,11200.0,20500.0,12800.0,5500.0,9000.0,11900.0,11300.0,34500.0,27200.0,27900.0,10400.0,14200.0,18900.0,17300.0,18200.0,13900.0,10000.0,15500.0,12600.0,21800.0,16900.0,22500.0,40300.0,14900.0,32800.0,23500.0,26300.0,13700.0,48450.0,25300.0,14800.0,13500.0,29400.0,10000.0,45500.0,14500.0,10400.0,49640.0,6000.0,23500.0,12700.0,28000.0,11800.0,28000.0,16900.0,13500.0,16700.0,26800.0,14200.0,22200.0,31500.0,26500.0,46000.0,10600.0,27500.0,14400.0,24500.0,13700.0,10600.0,12500.0,11800.0,15500.0,25900.0,16800.0,25500.0,6800.0,15000.0,11300.0,22000.0,14100.0,12200.0,12300.0,15900.0,17000.0,27500.0,10400.0,27700.0,15700.0,13900.0,93500.0,42000.0,16500.0,14700.0,47430.0,26000.0,20900.0,26500.0,17500.0,11500.0,18500.0,47260.0,19500.0,14500.0,13000.0,13500.0,14700.0,26500.0,32500.0,14000.0,43000.0,15500.0,19400.0,11400.0,11300.0,13400.0,11000.0,14600.0,14000.0,26500.0,14700.0,10800.0,35500.0,13800.0,16500.0,14500.0,5500.0,25500.0,20500.0,61200.0,17400.0,27500.0,35900.0,24900.0,33500.0,12500.0,27030.0,6100.0,18700.0,26500.0,14900.0,13600.0,24900.0,19900.0,42800.0,46750.0,55872.0,12800.0,21000.0,17800.0,18500.0,11000.0,27200.0,14255.0,18500.0,11300.0,11500.0,38000.0,16500.0,12500.0,26200.0,27950.0,4200.0,27300.0,11000.0,11400.0,20200.0,11000.0,11500.0,12800.0,43180.0,18360.0,13300.0,17200.0,22200.0,17900.0,29700.0,14300.0,40900.0,14700.0,10500.0,15800.0,10900.0,15000.0,14200.0,15200.0,12850.0,10900.0,15900.0,25700.0,13800.0,18800.0,12700.0,10600.0,15300.0,34500.0,13700.0,11900.0,25800.0,9654.0,12500.0,12300.0,28800.0,12900.0,17800.0,13500.0,51850.0,21000.0,30000.0,25800.0,13800.0,14900.0,13900.0,39950.0,21000.0,27500.0,14900.0,27900.0,11300.0,13400.0,14800.0,14600.0,13300.0,10800.0,12400.0,5525.0,15800.0,19300.0,12900.0,24300.0,29700.0,22900.0,23800.0,13000.0,13700.0,23800.0,18500.0,13000.0,10504.0,13387.0,16500.0,15700.0,10900.0,73100.0,23900.0,15700.0,11800.0,6500.0,13200.0,13500.0,22500.0,22500.0,15500.0,14500.0,11700.0,15000.0,12000.0,36040.0,16200.0,25500.0,12300.0,19000.0,11400.0,29000.0,13000.0,27800.0,14300.0,18800.0,23500.0,21400.0,12900.0,14500.0,12500.0,21400.0,15600.0,21700.0,14300.0,25500.0,16600.0,13900.0,11700.0,41140.0,12500.0,24500.0,10600.0,29200.0,14350.0,33500.0,34000.0,14500.0,29500.0,59160.0,33200.0,11500.0,18550.0,8400.0,23900.0,33500.0,11500.0,13500.0,13500.0,20500.0,26800.0,24300.0,24600.0,27700.0,20500.0,10900.0,24000.0,18500.0,15800.0,12000.0,10000.0,32500.0,23900.0,17000.0,24800.0,10500.0,11800.0,10400.0,20000.0,23600.0,26500.0,56950.0,9000.0,24900.0,7800.0,25500.0,26700.0,13100.0,9800.0,22300.0,12500.0,41500.0,13000.0,17500.0,16800.0,11800.0,18500.0,25500.0,11600.0,12000.0,27500.0,11900.0,13800.0,11700.0,6800.0,13300.0,56950.0,12000.0,23800.0,20900.0,27200.0,16500.0,20058.0,11900.0,14700.0,12400.0,16500.0,11500.0,9800.0,20600.0,13800.0,28800.0,12700.0,10800.0,14400.0,12600.0,14000.0,38500.0,13300.0,31500.0,19700.0,34600.0,23700.0,5100.0,25600.0,5900.0,34800.0,50150.0,21000.0,13300.0,21500.0,15200.0,12000.0,15100.0,14800.0,11200.0,15200.0,27300.0,25800.0,25500.0,17900.0,28000.0,28900.0,45730.0,24000.0,11500.0,10700.0,25600.0,21800.0,12000.0,24900.0,10500.0,24800.0,12200.0,17500.0,18700.0,10700.0,11700.0,17700.0,14900.0,15900.0,15200.0,43850.0,17500.0,13600.0,15350.0,14400.0,25500.0,4000.0,45050.0,12000.0,14500.0,19500.0,17800.0,12200.0,18000.0,6700.0,13500.0,21700.0,12300.0,27500.0,23800.0,28900.0,23500.0,10500.0,21900.0,47600.0,12800.0,8400.0,24500.0,41700.0,6800.0,19800.0,11700.0,10000.0,48110.0,23500.0,38500.0,11600.0,14300.0,19500.0,12700.0,8900.0,15000.0,14000.0,23500.0,22500.0,12200.0,25000.0,12000.0,23500.0,28900.0,9900.0,17850.0,22500.0,11900.0,13400.0,15900.0,16000.0,38900.0,26000.0,26300.0,11500.0,2500.0,12700.0,11700.0,8000.0,11300.0,21200.0,13200.0,12000.0,17700.0,10900.0,22000.0,21000.0,14500.0,13800.0,17500.0,22900.0,14000.0,9450.0,14700.0,14900.0,21600.0,12500.0,10000.0,18500.0,16700.0,24800.0,10500.0,14300.0,14900.0,38800.0,15700.0,9200.0,4500.0,26500.0,12000.0,31000.0,13200.0,25600.0,10100.0,19800.0,12200.0,18500.0,17500.0,15500.0,6700.0,27200.0,41800.0,19500.0,11200.0,11500.0,9800.0,11200.0,20900.0,16450.0,14800.0,21800.0,22800.0,11500.0,9500.0,13500.0,18700.0,13500.0,11300.0,13600.0,10700.0,12200.0,14300.0,26200.0,20800.0,19000.0,26400.0,13000.0,13500.0,16700.0,14500.0,25400.0,11500.0,17500.0,24900.0,39950.0,6700.0,25600.0,26500.0,11200.0,29500.0,10800.0,13200.0,22500.0,48900.0,24500.0,27300.0,16500.0,42200.0,19500.0,21700.0,28900.0,15000.0,12900.0,24000.0,14300.0,15000.0,16000.0,13800.0,20000.0,20060.0,17800.0,11800.0,12000.0,33200.0],\"xaxis\":\"x2\",\"yaxis\":\"y2\",\"type\":\"box\"}],                        {\"template\":{\"data\":{\"bar\":[{\"error_x\":{\"color\":\"#2a3f5f\"},\"error_y\":{\"color\":\"#2a3f5f\"},\"marker\":{\"line\":{\"color\":\"#E5ECF6\",\"width\":0.5},\"pattern\":{\"fillmode\":\"overlay\",\"size\":10,\"solidity\":0.2}},\"type\":\"bar\"}],\"barpolar\":[{\"marker\":{\"line\":{\"color\":\"#E5ECF6\",\"width\":0.5},\"pattern\":{\"fillmode\":\"overlay\",\"size\":10,\"solidity\":0.2}},\"type\":\"barpolar\"}],\"carpet\":[{\"aaxis\":{\"endlinecolor\":\"#2a3f5f\",\"gridcolor\":\"white\",\"linecolor\":\"white\",\"minorgridcolor\":\"white\",\"startlinecolor\":\"#2a3f5f\"},\"baxis\":{\"endlinecolor\":\"#2a3f5f\",\"gridcolor\":\"white\",\"linecolor\":\"white\",\"minorgridcolor\":\"white\",\"startlinecolor\":\"#2a3f5f\"},\"type\":\"carpet\"}],\"choropleth\":[{\"colorbar\":{\"outlinewidth\":0,\"ticks\":\"\"},\"type\":\"choropleth\"}],\"contour\":[{\"colorbar\":{\"outlinewidth\":0,\"ticks\":\"\"},\"colorscale\":[[0.0,\"#0d0887\"],[0.1111111111111111,\"#46039f\"],[0.2222222222222222,\"#7201a8\"],[0.3333333333333333,\"#9c179e\"],[0.4444444444444444,\"#bd3786\"],[0.5555555555555556,\"#d8576b\"],[0.6666666666666666,\"#ed7953\"],[0.7777777777777778,\"#fb9f3a\"],[0.8888888888888888,\"#fdca26\"],[1.0,\"#f0f921\"]],\"type\":\"contour\"}],\"contourcarpet\":[{\"colorbar\":{\"outlinewidth\":0,\"ticks\":\"\"},\"type\":\"contourcarpet\"}],\"heatmap\":[{\"colorbar\":{\"outlinewidth\":0,\"ticks\":\"\"},\"colorscale\":[[0.0,\"#0d0887\"],[0.1111111111111111,\"#46039f\"],[0.2222222222222222,\"#7201a8\"],[0.3333333333333333,\"#9c179e\"],[0.4444444444444444,\"#bd3786\"],[0.5555555555555556,\"#d8576b\"],[0.6666666666666666,\"#ed7953\"],[0.7777777777777778,\"#fb9f3a\"],[0.8888888888888888,\"#fdca26\"],[1.0,\"#f0f921\"]],\"type\":\"heatmap\"}],\"heatmapgl\":[{\"colorbar\":{\"outlinewidth\":0,\"ticks\":\"\"},\"colorscale\":[[0.0,\"#0d0887\"],[0.1111111111111111,\"#46039f\"],[0.2222222222222222,\"#7201a8\"],[0.3333333333333333,\"#9c179e\"],[0.4444444444444444,\"#bd3786\"],[0.5555555555555556,\"#d8576b\"],[0.6666666666666666,\"#ed7953\"],[0.7777777777777778,\"#fb9f3a\"],[0.8888888888888888,\"#fdca26\"],[1.0,\"#f0f921\"]],\"type\":\"heatmapgl\"}],\"histogram\":[{\"marker\":{\"pattern\":{\"fillmode\":\"overlay\",\"size\":10,\"solidity\":0.2}},\"type\":\"histogram\"}],\"histogram2d\":[{\"colorbar\":{\"outlinewidth\":0,\"ticks\":\"\"},\"colorscale\":[[0.0,\"#0d0887\"],[0.1111111111111111,\"#46039f\"],[0.2222222222222222,\"#7201a8\"],[0.3333333333333333,\"#9c179e\"],[0.4444444444444444,\"#bd3786\"],[0.5555555555555556,\"#d8576b\"],[0.6666666666666666,\"#ed7953\"],[0.7777777777777778,\"#fb9f3a\"],[0.8888888888888888,\"#fdca26\"],[1.0,\"#f0f921\"]],\"type\":\"histogram2d\"}],\"histogram2dcontour\":[{\"colorbar\":{\"outlinewidth\":0,\"ticks\":\"\"},\"colorscale\":[[0.0,\"#0d0887\"],[0.1111111111111111,\"#46039f\"],[0.2222222222222222,\"#7201a8\"],[0.3333333333333333,\"#9c179e\"],[0.4444444444444444,\"#bd3786\"],[0.5555555555555556,\"#d8576b\"],[0.6666666666666666,\"#ed7953\"],[0.7777777777777778,\"#fb9f3a\"],[0.8888888888888888,\"#fdca26\"],[1.0,\"#f0f921\"]],\"type\":\"histogram2dcontour\"}],\"mesh3d\":[{\"colorbar\":{\"outlinewidth\":0,\"ticks\":\"\"},\"type\":\"mesh3d\"}],\"parcoords\":[{\"line\":{\"colorbar\":{\"outlinewidth\":0,\"ticks\":\"\"}},\"type\":\"parcoords\"}],\"pie\":[{\"automargin\":true,\"type\":\"pie\"}],\"scatter\":[{\"marker\":{\"colorbar\":{\"outlinewidth\":0,\"ticks\":\"\"}},\"type\":\"scatter\"}],\"scatter3d\":[{\"line\":{\"colorbar\":{\"outlinewidth\":0,\"ticks\":\"\"}},\"marker\":{\"colorbar\":{\"outlinewidth\":0,\"ticks\":\"\"}},\"type\":\"scatter3d\"}],\"scattercarpet\":[{\"marker\":{\"colorbar\":{\"outlinewidth\":0,\"ticks\":\"\"}},\"type\":\"scattercarpet\"}],\"scattergeo\":[{\"marker\":{\"colorbar\":{\"outlinewidth\":0,\"ticks\":\"\"}},\"type\":\"scattergeo\"}],\"scattergl\":[{\"marker\":{\"colorbar\":{\"outlinewidth\":0,\"ticks\":\"\"}},\"type\":\"scattergl\"}],\"scattermapbox\":[{\"marker\":{\"colorbar\":{\"outlinewidth\":0,\"ticks\":\"\"}},\"type\":\"scattermapbox\"}],\"scatterpolar\":[{\"marker\":{\"colorbar\":{\"outlinewidth\":0,\"ticks\":\"\"}},\"type\":\"scatterpolar\"}],\"scatterpolargl\":[{\"marker\":{\"colorbar\":{\"outlinewidth\":0,\"ticks\":\"\"}},\"type\":\"scatterpolargl\"}],\"scatterternary\":[{\"marker\":{\"colorbar\":{\"outlinewidth\":0,\"ticks\":\"\"}},\"type\":\"scatterternary\"}],\"surface\":[{\"colorbar\":{\"outlinewidth\":0,\"ticks\":\"\"},\"colorscale\":[[0.0,\"#0d0887\"],[0.1111111111111111,\"#46039f\"],[0.2222222222222222,\"#7201a8\"],[0.3333333333333333,\"#9c179e\"],[0.4444444444444444,\"#bd3786\"],[0.5555555555555556,\"#d8576b\"],[0.6666666666666666,\"#ed7953\"],[0.7777777777777778,\"#fb9f3a\"],[0.8888888888888888,\"#fdca26\"],[1.0,\"#f0f921\"]],\"type\":\"surface\"}],\"table\":[{\"cells\":{\"fill\":{\"color\":\"#EBF0F8\"},\"line\":{\"color\":\"white\"}},\"header\":{\"fill\":{\"color\":\"#C8D4E3\"},\"line\":{\"color\":\"white\"}},\"type\":\"table\"}]},\"layout\":{\"annotationdefaults\":{\"arrowcolor\":\"#2a3f5f\",\"arrowhead\":0,\"arrowwidth\":1},\"autotypenumbers\":\"strict\",\"coloraxis\":{\"colorbar\":{\"outlinewidth\":0,\"ticks\":\"\"}},\"colorscale\":{\"diverging\":[[0,\"#8e0152\"],[0.1,\"#c51b7d\"],[0.2,\"#de77ae\"],[0.3,\"#f1b6da\"],[0.4,\"#fde0ef\"],[0.5,\"#f7f7f7\"],[0.6,\"#e6f5d0\"],[0.7,\"#b8e186\"],[0.8,\"#7fbc41\"],[0.9,\"#4d9221\"],[1,\"#276419\"]],\"sequential\":[[0.0,\"#0d0887\"],[0.1111111111111111,\"#46039f\"],[0.2222222222222222,\"#7201a8\"],[0.3333333333333333,\"#9c179e\"],[0.4444444444444444,\"#bd3786\"],[0.5555555555555556,\"#d8576b\"],[0.6666666666666666,\"#ed7953\"],[0.7777777777777778,\"#fb9f3a\"],[0.8888888888888888,\"#fdca26\"],[1.0,\"#f0f921\"]],\"sequentialminus\":[[0.0,\"#0d0887\"],[0.1111111111111111,\"#46039f\"],[0.2222222222222222,\"#7201a8\"],[0.3333333333333333,\"#9c179e\"],[0.4444444444444444,\"#bd3786\"],[0.5555555555555556,\"#d8576b\"],[0.6666666666666666,\"#ed7953\"],[0.7777777777777778,\"#fb9f3a\"],[0.8888888888888888,\"#fdca26\"],[1.0,\"#f0f921\"]]},\"colorway\":[\"#636efa\",\"#EF553B\",\"#00cc96\",\"#ab63fa\",\"#FFA15A\",\"#19d3f3\",\"#FF6692\",\"#B6E880\",\"#FF97FF\",\"#FECB52\"],\"font\":{\"color\":\"#2a3f5f\"},\"geo\":{\"bgcolor\":\"white\",\"lakecolor\":\"white\",\"landcolor\":\"#E5ECF6\",\"showlakes\":true,\"showland\":true,\"subunitcolor\":\"white\"},\"hoverlabel\":{\"align\":\"left\"},\"hovermode\":\"closest\",\"mapbox\":{\"style\":\"light\"},\"paper_bgcolor\":\"white\",\"plot_bgcolor\":\"#E5ECF6\",\"polar\":{\"angularaxis\":{\"gridcolor\":\"white\",\"linecolor\":\"white\",\"ticks\":\"\"},\"bgcolor\":\"#E5ECF6\",\"radialaxis\":{\"gridcolor\":\"white\",\"linecolor\":\"white\",\"ticks\":\"\"}},\"scene\":{\"xaxis\":{\"backgroundcolor\":\"#E5ECF6\",\"gridcolor\":\"white\",\"gridwidth\":2,\"linecolor\":\"white\",\"showbackground\":true,\"ticks\":\"\",\"zerolinecolor\":\"white\"},\"yaxis\":{\"backgroundcolor\":\"#E5ECF6\",\"gridcolor\":\"white\",\"gridwidth\":2,\"linecolor\":\"white\",\"showbackground\":true,\"ticks\":\"\",\"zerolinecolor\":\"white\"},\"zaxis\":{\"backgroundcolor\":\"#E5ECF6\",\"gridcolor\":\"white\",\"gridwidth\":2,\"linecolor\":\"white\",\"showbackground\":true,\"ticks\":\"\",\"zerolinecolor\":\"white\"}},\"shapedefaults\":{\"line\":{\"color\":\"#2a3f5f\"}},\"ternary\":{\"aaxis\":{\"gridcolor\":\"white\",\"linecolor\":\"white\",\"ticks\":\"\"},\"baxis\":{\"gridcolor\":\"white\",\"linecolor\":\"white\",\"ticks\":\"\"},\"bgcolor\":\"#E5ECF6\",\"caxis\":{\"gridcolor\":\"white\",\"linecolor\":\"white\",\"ticks\":\"\"}},\"title\":{\"x\":0.05},\"xaxis\":{\"automargin\":true,\"gridcolor\":\"white\",\"linecolor\":\"white\",\"ticks\":\"\",\"title\":{\"standoff\":15},\"zerolinecolor\":\"white\",\"zerolinewidth\":2},\"yaxis\":{\"automargin\":true,\"gridcolor\":\"white\",\"linecolor\":\"white\",\"ticks\":\"\",\"title\":{\"standoff\":15},\"zerolinecolor\":\"white\",\"zerolinewidth\":2}}},\"xaxis\":{\"anchor\":\"y\",\"domain\":[0.0,1.0],\"title\":{\"text\":\"Price (AZN)\"}},\"yaxis\":{\"anchor\":\"x\",\"domain\":[0.0,0.8316],\"title\":{\"text\":\"Number of cars\"}},\"xaxis2\":{\"anchor\":\"y2\",\"domain\":[0.0,1.0],\"matches\":\"x\",\"showticklabels\":false,\"showgrid\":true},\"yaxis2\":{\"anchor\":\"x2\",\"domain\":[0.8416,1.0],\"matches\":\"y2\",\"showticklabels\":false,\"showline\":false,\"ticks\":\"\",\"showgrid\":false},\"legend\":{\"tracegroupgap\":0},\"title\":{\"text\":\"Price Distribution of Second Hand Kia Cars in Azerbaijan\"},\"barmode\":\"relative\"},                        {\"responsive\": true}                    ).then(function(){\n",
              "                            \n",
              "var gd = document.getElementById('596aac1e-df19-4bc8-af34-1ee6201e0079');\n",
              "var x = new MutationObserver(function (mutations, observer) {{\n",
              "        var display = window.getComputedStyle(gd).display;\n",
              "        if (!display || display === 'none') {{\n",
              "            console.log([gd, 'removed!']);\n",
              "            Plotly.purge(gd);\n",
              "            observer.disconnect();\n",
              "        }}\n",
              "}});\n",
              "\n",
              "// Listen for the removal of the full notebook cells\n",
              "var notebookContainer = gd.closest('#notebook-container');\n",
              "if (notebookContainer) {{\n",
              "    x.observe(notebookContainer, {childList: true});\n",
              "}}\n",
              "\n",
              "// Listen for the clearing of the current output cell\n",
              "var outputEl = gd.closest('.output');\n",
              "if (outputEl) {{\n",
              "    x.observe(outputEl, {childList: true});\n",
              "}}\n",
              "\n",
              "                        })                };                            </script>        </div>\n",
              "</body>\n",
              "</html>"
            ]
          },
          "metadata": {}
        }
      ]
    },
    {
      "cell_type": "markdown",
      "source": [
        "# Feature Engineering"
      ],
      "metadata": {
        "id": "ezTRfsttsLRi"
      }
    },
    {
      "cell_type": "markdown",
      "source": [
        "### Normalization"
      ],
      "metadata": {
        "id": "zeyYA5SAsl0b"
      }
    },
    {
      "cell_type": "markdown",
      "source": [
        "**Price Column**"
      ],
      "metadata": {
        "id": "oBganPk6snzG"
      }
    },
    {
      "cell_type": "code",
      "source": [
        "# Let's compare Price distribution before and after\n",
        "normalized_price = stats.boxcox(df['price(AZN)'].loc[df['price(AZN)'] > 0 ])[0]\n",
        "fig, ax = plt.subplots(1,2, figsize = (15,6))\n",
        "sns.histplot(df['price(AZN)'],ax = ax[0], kde = True)\n",
        "ax[0].set_title('Original Price Distribution')\n",
        "sns.histplot(normalized_price, ax = ax[1], kde = True)\n",
        "ax[1].set_title('Normalized Price Distribution')"
      ],
      "metadata": {
        "colab": {
          "base_uri": "https://localhost:8080/",
          "height": 0
        },
        "id": "bokOLlF3srdU",
        "outputId": "65db22ba-70d8-4bdc-e86f-c03b8dee7e4b"
      },
      "execution_count": 306,
      "outputs": [
        {
          "output_type": "execute_result",
          "data": {
            "text/plain": [
              "Text(0.5, 1.0, 'Normalized Price Distribution')"
            ]
          },
          "metadata": {},
          "execution_count": 306
        },
        {
          "output_type": "display_data",
          "data": {
            "image/png": "[encoded data removed]",
            "text/plain": [
              "<Figure size 1080x432 with 2 Axes>"
            ]
          },
          "metadata": {
            "needs_background": "light"
          }
        }
      ]
    },
    {
      "cell_type": "code",
      "source": [
        "df['price(AZN)'] = stats.boxcox(df['price(AZN)'])[0]"
      ],
      "metadata": {
        "id": "EyjEom1WstZ5"
      },
      "execution_count": 307,
      "outputs": []
    },
    {
      "cell_type": "markdown",
      "source": [
        "**Kilometrage Column**"
      ],
      "metadata": {
        "id": "JpwyaYJzsxIk"
      }
    },
    {
      "cell_type": "code",
      "source": [
        "scaling = StandardScaler()\n",
        "fig, ax = plt.subplots(1,2, figsize = (15,6))\n",
        "sns.histplot(df['kilometrage'], ax = ax[0], kde = True)\n",
        "ax[0].set_title('Original Kilometrage Distribution')\n",
        "sns.histplot(scaling.fit_transform(df[['kilometrage']]), ax = ax[1], kde = True)\n",
        "ax[1].set_title('Normalized Kilometrage Distribution')"
      ],
      "metadata": {
        "id": "DGH6zrK0syyR",
        "colab": {
          "base_uri": "https://localhost:8080/",
          "height": 0
        },
        "outputId": "e92ef46a-8002-4cde-c328-37d3bbf10f1d"
      },
      "execution_count": 308,
      "outputs": [
        {
          "output_type": "execute_result",
          "data": {
            "text/plain": [
              "Text(0.5, 1.0, 'Normalized Kilometrage Distribution')"
            ]
          },
          "metadata": {},
          "execution_count": 308
        },
        {
          "output_type": "display_data",
          "data": {
            "image/png": "[encoded data removed]",
            "text/plain": [
              "<Figure size 1080x432 with 2 Axes>"
            ]
          },
          "metadata": {
            "needs_background": "light"
          }
        }
      ]
    },
    {
      "cell_type": "code",
      "source": [
        "df['kilometrage'] = scaling.fit_transform(df[['kilometrage']])"
      ],
      "metadata": {
        "id": "Zb5mBuMosy_1"
      },
      "execution_count": 309,
      "outputs": []
    },
    {
      "cell_type": "markdown",
      "source": [
        "### Outlier detection"
      ],
      "metadata": {
        "id": "QrQFofsgDIuw"
      }
    },
    {
      "cell_type": "markdown",
      "source": [
        "**Price Column**"
      ],
      "metadata": {
        "id": "nC6lA2QGDJw-"
      }
    },
    {
      "cell_type": "code",
      "source": [
        "sns.boxplot(df['price(AZN)'])"
      ],
      "metadata": {
        "id": "0YsFIpVKDHpA",
        "colab": {
          "base_uri": "https://localhost:8080/",
          "height": 0
        },
        "outputId": "39a12e25-8ca9-40d1-e879-89504975fd9d"
      },
      "execution_count": 310,
      "outputs": [
        {
          "output_type": "stream",
          "name": "stderr",
          "text": [
            "/usr/local/lib/python3.7/dist-packages/seaborn/_decorators.py:43: FutureWarning:\n",
            "\n",
            "Pass the following variable as a keyword arg: x. From version 0.12, the only valid positional argument will be `data`, and passing other arguments without an explicit keyword will result in an error or misinterpretation.\n",
            "\n"
          ]
        },
        {
          "output_type": "execute_result",
          "data": {
            "text/plain": [
              "<matplotlib.axes._subplots.AxesSubplot at 0x7fc4f50ce490>"
            ]
          },
          "metadata": {},
          "execution_count": 310
        },
        {
          "output_type": "display_data",
          "data": {
            "image/png": "[encoded data removed]",
            "text/plain": [
              "<Figure size 432x288 with 1 Axes>"
            ]
          },
          "metadata": {
            "needs_background": "light"
          }
        }
      ]
    },
    {
      "cell_type": "code",
      "source": [
        "lower_limit, upper_limit = (df['price(AZN)'].mean() - 2*df['price(AZN)'].std(), df['price(AZN)'].mean() + 2*df['price(AZN)'].std())\n",
        "df = df[(df['price(AZN)']>lower_limit) & (df['price(AZN)'] < upper_limit)]"
      ],
      "metadata": {
        "id": "yxQhrOf7DL8D"
      },
      "execution_count": 311,
      "outputs": []
    },
    {
      "cell_type": "markdown",
      "source": [
        "**Kilometrage Column**"
      ],
      "metadata": {
        "id": "E8rVFyhrDQGX"
      }
    },
    {
      "cell_type": "code",
      "source": [
        "sns.boxplot(df['kilometrage'])"
      ],
      "metadata": {
        "id": "p36fjbCBDNsj",
        "colab": {
          "base_uri": "https://localhost:8080/",
          "height": 0
        },
        "outputId": "4646d0cc-e31d-48ec-c4b3-87f49b5d346c"
      },
      "execution_count": 312,
      "outputs": [
        {
          "output_type": "stream",
          "name": "stderr",
          "text": [
            "/usr/local/lib/python3.7/dist-packages/seaborn/_decorators.py:43: FutureWarning:\n",
            "\n",
            "Pass the following variable as a keyword arg: x. From version 0.12, the only valid positional argument will be `data`, and passing other arguments without an explicit keyword will result in an error or misinterpretation.\n",
            "\n"
          ]
        },
        {
          "output_type": "execute_result",
          "data": {
            "text/plain": [
              "<matplotlib.axes._subplots.AxesSubplot at 0x7fc4f4ba74d0>"
            ]
          },
          "metadata": {},
          "execution_count": 312
        },
        {
          "output_type": "display_data",
          "data": {
            "image/png": "[encoded data removed]",
            "text/plain": [
              "<Figure size 432x288 with 1 Axes>"
            ]
          },
          "metadata": {
            "needs_background": "light"
          }
        }
      ]
    },
    {
      "cell_type": "code",
      "source": [
        "lower_limit2, upper_limit2 = (df['kilometrage'].mean()-2*df['kilometrage'].std(), df['kilometrage'].mean()+2*df['kilometrage'].std())\n",
        "df = df[(df['kilometrage'] > lower_limit2) & (df['kilometrage'] < upper_limit2)]"
      ],
      "metadata": {
        "id": "Kfm1jpzjDR1l"
      },
      "execution_count": 313,
      "outputs": []
    },
    {
      "cell_type": "markdown",
      "source": [
        "### Dimensionality Reduction"
      ],
      "metadata": {
        "id": "p6WwOhbVtD2g"
      }
    },
    {
      "cell_type": "code",
      "source": [
        "object_columns = df.select_dtypes('object').columns\n",
        "for col in object_columns:\n",
        "  print('Number of unique values in column',col, df[col].nunique())"
      ],
      "metadata": {
        "id": "deg_0MFxtE2O",
        "colab": {
          "base_uri": "https://localhost:8080/"
        },
        "outputId": "a70b3c8c-9416-4572-cf03-61ecdad2a06f"
      },
      "execution_count": 314,
      "outputs": [
        {
          "output_type": "stream",
          "name": "stdout",
          "text": [
            "Number of unique values in column city 46\n",
            "Number of unique values in column brand 1\n",
            "Number of unique values in column model 32\n",
            "Number of unique values in column color 17\n",
            "Number of unique values in column body_type 9\n",
            "Number of unique values in column fuel_type 4\n",
            "Number of unique values in column transmission 2\n",
            "Number of unique values in column drivetrain 3\n",
            "Number of unique values in column new 2\n"
          ]
        }
      ]
    },
    {
      "cell_type": "markdown",
      "source": [
        "**City column**"
      ],
      "metadata": {
        "id": "tqXw3mueC69x"
      }
    },
    {
      "cell_type": "code",
      "source": [
        "city_unique_values = df['city'].value_counts()\n",
        "city_unique_values"
      ],
      "metadata": {
        "id": "qRXNdHSjtF7O",
        "colab": {
          "base_uri": "https://localhost:8080/"
        },
        "outputId": "5e9abdd7-f37c-4d0f-d5b9-616fb89d2f2f"
      },
      "execution_count": 315,
      "outputs": [
        {
          "output_type": "execute_result",
          "data": {
            "text/plain": [
              "Bakı          1999\n",
              "Sumqayıt       200\n",
              "Gəncə           62\n",
              "Xırdalan        27\n",
              "Şəmkir          11\n",
              "Lənkəran         8\n",
              "Şəki             7\n",
              "Tovuz            7\n",
              "Naxçıvan         7\n",
              "Şirvan           6\n",
              "Beyləqan         5\n",
              "Bərdə            5\n",
              "Şabran           5\n",
              "Quba             5\n",
              "Xaçmaz           5\n",
              "Göyçay           5\n",
              "Kürdəmir         4\n",
              "Mingəçevir       4\n",
              "Masallı          4\n",
              "Şamaxı           4\n",
              "İmişli           3\n",
              "Biləsuvar        3\n",
              "Göygöl           3\n",
              "Qəbələ           3\n",
              "Astara           3\n",
              "İsmayıllı        3\n",
              "Cəlilabad        3\n",
              "Sabirabad        2\n",
              "Qax              2\n",
              "Tərtər           2\n",
              "Salyan           2\n",
              "Qusar            2\n",
              "Balakən          2\n",
              "Neftçala         2\n",
              "Ağdaş            2\n",
              "Goranboy         2\n",
              "Zaqatala         1\n",
              "Qazax            1\n",
              "Ağcabədi         1\n",
              "Ucar             1\n",
              "Füzuli           1\n",
              "Cəbrayıl         1\n",
              "Ağstafa          1\n",
              "Ağsu             1\n",
              "Xudat            1\n",
              "Qobustan         1\n",
              "Name: city, dtype: int64"
            ]
          },
          "metadata": {},
          "execution_count": 315
        }
      ]
    },
    {
      "cell_type": "code",
      "source": [
        "city_less_than_10 = city_unique_values[city_unique_values < 8]\n",
        "df['city'] = df['city'].apply(lambda x: 'Başqa Bölgə' if x in city_less_than_10 else x)"
      ],
      "metadata": {
        "id": "-uhijtIbtG63"
      },
      "execution_count": 316,
      "outputs": []
    },
    {
      "cell_type": "code",
      "source": [
        "df['city'].nunique()"
      ],
      "metadata": {
        "id": "oBSn14FLtH7N",
        "colab": {
          "base_uri": "https://localhost:8080/"
        },
        "outputId": "5d92fb9c-19f5-4b06-a0c7-a8b4046a497d"
      },
      "execution_count": 317,
      "outputs": [
        {
          "output_type": "execute_result",
          "data": {
            "text/plain": [
              "7"
            ]
          },
          "metadata": {},
          "execution_count": 317
        }
      ]
    },
    {
      "cell_type": "markdown",
      "source": [
        "**Color column**"
      ],
      "metadata": {
        "id": "5E79ix8uC2sb"
      }
    },
    {
      "cell_type": "code",
      "source": [
        "color_unique_values = df['color'].value_counts()\n",
        "color_unique_values"
      ],
      "metadata": {
        "id": "suL7d_P3-qY3",
        "colab": {
          "base_uri": "https://localhost:8080/"
        },
        "outputId": "4504f436-2243-4186-f663-855700e182c7"
      },
      "execution_count": 318,
      "outputs": [
        {
          "output_type": "execute_result",
          "data": {
            "text/plain": [
              "Qara            703\n",
              "Ağ              602\n",
              "Gümüşü          393\n",
              "Yaş Asfalt      242\n",
              "Göy             134\n",
              "Boz             133\n",
              "Qırmızı          56\n",
              "Tünd qırmızı     47\n",
              "Qəhvəyi          29\n",
              "Mavi             27\n",
              "Qızılı           20\n",
              "Narıncı          17\n",
              "Bej              11\n",
              "Yaşıl            10\n",
              "Bənövşəyi         2\n",
              "Sarı              2\n",
              "Çəhrayı           1\n",
              "Name: color, dtype: int64"
            ]
          },
          "metadata": {},
          "execution_count": 318
        }
      ]
    },
    {
      "cell_type": "code",
      "source": [
        "color_less_than_50 = color_unique_values[color_unique_values< 50]\n",
        "df['color'] = df['color'].apply(lambda x: 'Başqa rəng' if x in color_less_than_50 else x)"
      ],
      "metadata": {
        "id": "waiIWfbL-qba"
      },
      "execution_count": 319,
      "outputs": []
    },
    {
      "cell_type": "code",
      "source": [
        "df['color'].nunique()"
      ],
      "metadata": {
        "id": "7Li4-2_2_a4w",
        "colab": {
          "base_uri": "https://localhost:8080/"
        },
        "outputId": "029ff1cc-cd3a-4e7e-e126-59945ec95665"
      },
      "execution_count": 320,
      "outputs": [
        {
          "output_type": "execute_result",
          "data": {
            "text/plain": [
              "8"
            ]
          },
          "metadata": {},
          "execution_count": 320
        }
      ]
    },
    {
      "cell_type": "markdown",
      "source": [
        "**Model column**"
      ],
      "metadata": {
        "id": "-vuHGSlcDE3h"
      }
    },
    {
      "cell_type": "code",
      "source": [
        "model_unique_values = df['model'].value_counts()\n",
        "model_unique_values"
      ],
      "metadata": {
        "colab": {
          "base_uri": "https://localhost:8080/"
        },
        "id": "PPoCMoL7DFG6",
        "outputId": "a2201725-7517-4cd3-9013-fa3d07e3b301"
      },
      "execution_count": 321,
      "outputs": [
        {
          "output_type": "execute_result",
          "data": {
            "text/plain": [
              "Rio            646\n",
              "Optima         460\n",
              "Sorento        404\n",
              "Ceed           369\n",
              "Cerato         187\n",
              "Sportage       184\n",
              "Picanto         40\n",
              "Soul            20\n",
              "Carens          18\n",
              "Cadenza         15\n",
              "Carnival        13\n",
              "Pride           11\n",
              "Morning          9\n",
              "K5               8\n",
              "Magentis         7\n",
              "Mohave           5\n",
              "Rio X-Line       5\n",
              "Opirus           4\n",
              "Bongo            4\n",
              "Cerato Koup      4\n",
              "Pregio           3\n",
              "Quoris           3\n",
              "Ray              1\n",
              "Spectra          1\n",
              "K3               1\n",
              "Niro             1\n",
              "Sephia           1\n",
              "Seltos           1\n",
              "Stinger          1\n",
              "K2700            1\n",
              "Venga            1\n",
              "Stonic           1\n",
              "Name: model, dtype: int64"
            ]
          },
          "metadata": {},
          "execution_count": 321
        }
      ]
    },
    {
      "cell_type": "code",
      "source": [
        "models_less_12 =  model_unique_values[model_unique_values < 20]\n",
        "df['model'] = df['model'].apply(lambda x: 'Başqa Model' if x in models_less_12 else x)"
      ],
      "metadata": {
        "id": "lTS_tsSIDOFH"
      },
      "execution_count": 322,
      "outputs": []
    },
    {
      "cell_type": "code",
      "source": [
        "df['model'].nunique()"
      ],
      "metadata": {
        "colab": {
          "base_uri": "https://localhost:8080/"
        },
        "id": "_9AQhBU7DFJ2",
        "outputId": "c42d8d78-527b-4642-9c95-5fd41b319703"
      },
      "execution_count": 323,
      "outputs": [
        {
          "output_type": "execute_result",
          "data": {
            "text/plain": [
              "9"
            ]
          },
          "metadata": {},
          "execution_count": 323
        }
      ]
    },
    {
      "cell_type": "markdown",
      "source": [
        "### Categorical data Encoding"
      ],
      "metadata": {
        "id": "q9yztXLetKCC"
      }
    },
    {
      "cell_type": "code",
      "source": [
        "body_type = pd.get_dummies(df['body_type'], drop_first = True)\n",
        "fuel_type = pd.get_dummies(df['fuel_type'], drop_first = True)\n",
        "transmission = pd.get_dummies(df['transmission'], drop_first = True)\n",
        "drivetrain = pd.get_dummies(df['drivetrain'], drop_first = True)\n",
        "city = pd.get_dummies(df['city'], drop_first = True)\n",
        "color = pd.get_dummies(df['color'], drop_first = True)\n",
        "model = pd.get_dummies(df['model'], drop_first = True)\n",
        "df.drop(['body_type', 'fuel_type', 'transmission', 'drivetrain','city', 'color', 'model'], axis = 1, inplace = True)\n",
        "df = pd.concat([df, body_type,fuel_type,transmission,drivetrain,city,color, model], axis = 1)\n",
        "df.head()"
      ],
      "metadata": {
        "colab": {
          "base_uri": "https://localhost:8080/",
          "height": 0
        },
        "id": "CQo54l9ctXeg",
        "outputId": "19771432-cf61-40de-d937-eb0944437a88"
      },
      "execution_count": 324,
      "outputs": [
        {
          "output_type": "execute_result",
          "data": {
            "text/html": [
              "\n",
              "  <div id=\"df-320f0ba4-20fc-4352-a5e7-0853e7138824\">\n",
              "    <div class=\"colab-df-container\">\n",
              "      <div>\n",
              "<style scoped>\n",
              "    .dataframe tbody tr th:only-of-type {\n",
              "        vertical-align: middle;\n",
              "    }\n",
              "\n",
              "    .dataframe tbody tr th {\n",
              "        vertical-align: top;\n",
              "    }\n",
              "\n",
              "    .dataframe thead th {\n",
              "        text-align: right;\n",
              "    }\n",
              "</style>\n",
              "<table border=\"1\" class=\"dataframe\">\n",
              "  <thead>\n",
              "    <tr style=\"text-align: right;\">\n",
              "      <th></th>\n",
              "      <th>year</th>\n",
              "      <th>brand</th>\n",
              "      <th>kilometrage</th>\n",
              "      <th>new</th>\n",
              "      <th>price(AZN)</th>\n",
              "      <th>engine(L)</th>\n",
              "      <th>engine_power(hp)</th>\n",
              "      <th>Hetçbek / Liftbek</th>\n",
              "      <th>Kupe</th>\n",
              "      <th>Mikroavtobus</th>\n",
              "      <th>Minivan</th>\n",
              "      <th>Offroader / SUV</th>\n",
              "      <th>Sedan</th>\n",
              "      <th>Universal</th>\n",
              "      <th>Yük maşını</th>\n",
              "      <th>Dizel</th>\n",
              "      <th>Hibrid</th>\n",
              "      <th>Qaz</th>\n",
              "      <th>Mexaniki</th>\n",
              "      <th>Tam</th>\n",
              "      <th>Ön</th>\n",
              "      <th>Başqa Bölgə</th>\n",
              "      <th>Gəncə</th>\n",
              "      <th>Lənkəran</th>\n",
              "      <th>Sumqayıt</th>\n",
              "      <th>Xırdalan</th>\n",
              "      <th>Şəmkir</th>\n",
              "      <th>Başqa rəng</th>\n",
              "      <th>Boz</th>\n",
              "      <th>Göy</th>\n",
              "      <th>Gümüşü</th>\n",
              "      <th>Qara</th>\n",
              "      <th>Qırmızı</th>\n",
              "      <th>Yaş Asfalt</th>\n",
              "      <th>Ceed</th>\n",
              "      <th>Cerato</th>\n",
              "      <th>Optima</th>\n",
              "      <th>Picanto</th>\n",
              "      <th>Rio</th>\n",
              "      <th>Sorento</th>\n",
              "      <th>Soul</th>\n",
              "      <th>Sportage</th>\n",
              "    </tr>\n",
              "  </thead>\n",
              "  <tbody>\n",
              "    <tr>\n",
              "      <th>0</th>\n",
              "      <td>2008</td>\n",
              "      <td>Kia</td>\n",
              "      <td>0.068767</td>\n",
              "      <td>Xeyr</td>\n",
              "      <td>7.558577</td>\n",
              "      <td>1.6</td>\n",
              "      <td>115</td>\n",
              "      <td>0</td>\n",
              "      <td>0</td>\n",
              "      <td>0</td>\n",
              "      <td>0</td>\n",
              "      <td>0</td>\n",
              "      <td>0</td>\n",
              "      <td>1</td>\n",
              "      <td>0</td>\n",
              "      <td>1</td>\n",
              "      <td>0</td>\n",
              "      <td>0</td>\n",
              "      <td>1</td>\n",
              "      <td>0</td>\n",
              "      <td>1</td>\n",
              "      <td>0</td>\n",
              "      <td>0</td>\n",
              "      <td>0</td>\n",
              "      <td>1</td>\n",
              "      <td>0</td>\n",
              "      <td>0</td>\n",
              "      <td>0</td>\n",
              "      <td>0</td>\n",
              "      <td>1</td>\n",
              "      <td>0</td>\n",
              "      <td>0</td>\n",
              "      <td>0</td>\n",
              "      <td>0</td>\n",
              "      <td>1</td>\n",
              "      <td>0</td>\n",
              "      <td>0</td>\n",
              "      <td>0</td>\n",
              "      <td>0</td>\n",
              "      <td>0</td>\n",
              "      <td>0</td>\n",
              "      <td>0</td>\n",
              "    </tr>\n",
              "    <tr>\n",
              "      <th>1</th>\n",
              "      <td>2012</td>\n",
              "      <td>Kia</td>\n",
              "      <td>-0.081921</td>\n",
              "      <td>Xeyr</td>\n",
              "      <td>8.053890</td>\n",
              "      <td>2.0</td>\n",
              "      <td>170</td>\n",
              "      <td>0</td>\n",
              "      <td>0</td>\n",
              "      <td>0</td>\n",
              "      <td>0</td>\n",
              "      <td>1</td>\n",
              "      <td>0</td>\n",
              "      <td>0</td>\n",
              "      <td>0</td>\n",
              "      <td>1</td>\n",
              "      <td>0</td>\n",
              "      <td>0</td>\n",
              "      <td>0</td>\n",
              "      <td>1</td>\n",
              "      <td>0</td>\n",
              "      <td>0</td>\n",
              "      <td>0</td>\n",
              "      <td>0</td>\n",
              "      <td>0</td>\n",
              "      <td>0</td>\n",
              "      <td>0</td>\n",
              "      <td>0</td>\n",
              "      <td>0</td>\n",
              "      <td>0</td>\n",
              "      <td>1</td>\n",
              "      <td>0</td>\n",
              "      <td>0</td>\n",
              "      <td>0</td>\n",
              "      <td>0</td>\n",
              "      <td>0</td>\n",
              "      <td>0</td>\n",
              "      <td>0</td>\n",
              "      <td>0</td>\n",
              "      <td>1</td>\n",
              "      <td>0</td>\n",
              "      <td>0</td>\n",
              "    </tr>\n",
              "    <tr>\n",
              "      <th>2</th>\n",
              "      <td>2015</td>\n",
              "      <td>Kia</td>\n",
              "      <td>-0.739847</td>\n",
              "      <td>Xeyr</td>\n",
              "      <td>8.225252</td>\n",
              "      <td>2.2</td>\n",
              "      <td>197</td>\n",
              "      <td>0</td>\n",
              "      <td>0</td>\n",
              "      <td>0</td>\n",
              "      <td>0</td>\n",
              "      <td>1</td>\n",
              "      <td>0</td>\n",
              "      <td>0</td>\n",
              "      <td>0</td>\n",
              "      <td>1</td>\n",
              "      <td>0</td>\n",
              "      <td>0</td>\n",
              "      <td>0</td>\n",
              "      <td>1</td>\n",
              "      <td>0</td>\n",
              "      <td>0</td>\n",
              "      <td>0</td>\n",
              "      <td>0</td>\n",
              "      <td>0</td>\n",
              "      <td>0</td>\n",
              "      <td>0</td>\n",
              "      <td>0</td>\n",
              "      <td>0</td>\n",
              "      <td>0</td>\n",
              "      <td>0</td>\n",
              "      <td>0</td>\n",
              "      <td>0</td>\n",
              "      <td>0</td>\n",
              "      <td>0</td>\n",
              "      <td>0</td>\n",
              "      <td>0</td>\n",
              "      <td>0</td>\n",
              "      <td>0</td>\n",
              "      <td>1</td>\n",
              "      <td>0</td>\n",
              "      <td>0</td>\n",
              "    </tr>\n",
              "    <tr>\n",
              "      <th>3</th>\n",
              "      <td>2008</td>\n",
              "      <td>Kia</td>\n",
              "      <td>-0.098958</td>\n",
              "      <td>Xeyr</td>\n",
              "      <td>7.509518</td>\n",
              "      <td>1.4</td>\n",
              "      <td>109</td>\n",
              "      <td>1</td>\n",
              "      <td>0</td>\n",
              "      <td>0</td>\n",
              "      <td>0</td>\n",
              "      <td>0</td>\n",
              "      <td>0</td>\n",
              "      <td>0</td>\n",
              "      <td>0</td>\n",
              "      <td>0</td>\n",
              "      <td>0</td>\n",
              "      <td>0</td>\n",
              "      <td>1</td>\n",
              "      <td>0</td>\n",
              "      <td>1</td>\n",
              "      <td>0</td>\n",
              "      <td>0</td>\n",
              "      <td>0</td>\n",
              "      <td>1</td>\n",
              "      <td>0</td>\n",
              "      <td>0</td>\n",
              "      <td>0</td>\n",
              "      <td>0</td>\n",
              "      <td>0</td>\n",
              "      <td>1</td>\n",
              "      <td>0</td>\n",
              "      <td>0</td>\n",
              "      <td>0</td>\n",
              "      <td>1</td>\n",
              "      <td>0</td>\n",
              "      <td>0</td>\n",
              "      <td>0</td>\n",
              "      <td>0</td>\n",
              "      <td>0</td>\n",
              "      <td>0</td>\n",
              "      <td>0</td>\n",
              "    </tr>\n",
              "    <tr>\n",
              "      <th>4</th>\n",
              "      <td>2013</td>\n",
              "      <td>Kia</td>\n",
              "      <td>-1.145706</td>\n",
              "      <td>Xeyr</td>\n",
              "      <td>8.056573</td>\n",
              "      <td>2.0</td>\n",
              "      <td>184</td>\n",
              "      <td>0</td>\n",
              "      <td>0</td>\n",
              "      <td>0</td>\n",
              "      <td>0</td>\n",
              "      <td>1</td>\n",
              "      <td>0</td>\n",
              "      <td>0</td>\n",
              "      <td>0</td>\n",
              "      <td>1</td>\n",
              "      <td>0</td>\n",
              "      <td>0</td>\n",
              "      <td>0</td>\n",
              "      <td>1</td>\n",
              "      <td>0</td>\n",
              "      <td>0</td>\n",
              "      <td>0</td>\n",
              "      <td>0</td>\n",
              "      <td>0</td>\n",
              "      <td>0</td>\n",
              "      <td>0</td>\n",
              "      <td>0</td>\n",
              "      <td>0</td>\n",
              "      <td>0</td>\n",
              "      <td>0</td>\n",
              "      <td>0</td>\n",
              "      <td>0</td>\n",
              "      <td>0</td>\n",
              "      <td>0</td>\n",
              "      <td>0</td>\n",
              "      <td>0</td>\n",
              "      <td>0</td>\n",
              "      <td>0</td>\n",
              "      <td>1</td>\n",
              "      <td>0</td>\n",
              "      <td>0</td>\n",
              "    </tr>\n",
              "  </tbody>\n",
              "</table>\n",
              "</div>\n",
              "      <button class=\"colab-df-convert\" onclick=\"convertToInteractive('df-320f0ba4-20fc-4352-a5e7-0853e7138824')\"\n",
              "              title=\"Convert this dataframe to an interactive table.\"\n",
              "              style=\"display:none;\">\n",
              "        \n",
              "  <svg xmlns=\"http://www.w3.org/2000/svg\" height=\"24px\"viewBox=\"0 0 24 24\"\n",
              "       width=\"24px\">\n",
              "    <path d=\"M0 0h24v24H0V0z\" fill=\"none\"/>\n",
              "    <path d=\"M18.56 5.44l.94 2.06.94-2.06 2.06-.94-2.06-.94-.94-2.06-.94 2.06-2.06.94zm-11 1L8.5 8.5l.94-2.06 2.06-.94-2.06-.94L8.5 2.5l-.94 2.06-2.06.94zm10 10l.94 2.06.94-2.06 2.06-.94-2.06-.94-.94-2.06-.94 2.06-2.06.94z\"/><path d=\"M17.41 7.96l-1.37-1.37c-.4-.4-.92-.59-1.43-.59-.52 0-1.04.2-1.43.59L10.3 9.45l-7.72 7.72c-.78.78-.78 2.05 0 2.83L4 21.41c.39.39.9.59 1.41.59.51 0 1.02-.2 1.41-.59l7.78-7.78 2.81-2.81c.8-.78.8-2.07 0-2.86zM5.41 20L4 18.59l7.72-7.72 1.47 1.35L5.41 20z\"/>\n",
              "  </svg>\n",
              "      </button>\n",
              "      \n",
              "  <style>\n",
              "    .colab-df-container {\n",
              "      display:flex;\n",
              "      flex-wrap:wrap;\n",
              "      gap: 12px;\n",
              "    }\n",
              "\n",
              "    .colab-df-convert {\n",
              "      background-color: #E8F0FE;\n",
              "      border: none;\n",
              "      border-radius: 50%;\n",
              "      cursor: pointer;\n",
              "      display: none;\n",
              "      fill: #1967D2;\n",
              "      height: 32px;\n",
              "      padding: 0 0 0 0;\n",
              "      width: 32px;\n",
              "    }\n",
              "\n",
              "    .colab-df-convert:hover {\n",
              "      background-color: #E2EBFA;\n",
              "      box-shadow: 0px 1px 2px rgba(60, 64, 67, 0.3), 0px 1px 3px 1px rgba(60, 64, 67, 0.15);\n",
              "      fill: #174EA6;\n",
              "    }\n",
              "\n",
              "    [theme=dark] .colab-df-convert {\n",
              "      background-color: #3B4455;\n",
              "      fill: #D2E3FC;\n",
              "    }\n",
              "\n",
              "    [theme=dark] .colab-df-convert:hover {\n",
              "      background-color: #434B5C;\n",
              "      box-shadow: 0px 1px 3px 1px rgba(0, 0, 0, 0.15);\n",
              "      filter: drop-shadow(0px 1px 2px rgba(0, 0, 0, 0.3));\n",
              "      fill: #FFFFFF;\n",
              "    }\n",
              "  </style>\n",
              "\n",
              "      <script>\n",
              "        const buttonEl =\n",
              "          document.querySelector('#df-320f0ba4-20fc-4352-a5e7-0853e7138824 button.colab-df-convert');\n",
              "        buttonEl.style.display =\n",
              "          google.colab.kernel.accessAllowed ? 'block' : 'none';\n",
              "\n",
              "        async function convertToInteractive(key) {\n",
              "          const element = document.querySelector('#df-320f0ba4-20fc-4352-a5e7-0853e7138824');\n",
              "          const dataTable =\n",
              "            await google.colab.kernel.invokeFunction('convertToInteractive',\n",
              "                                                     [key], {});\n",
              "          if (!dataTable) return;\n",
              "\n",
              "          const docLinkHtml = 'Like what you see? Visit the ' +\n",
              "            '<a target=\"_blank\" href=https://colab.research.google.com/notebooks/data_table.ipynb>data table notebook</a>'\n",
              "            + ' to learn more about interactive tables.';\n",
              "          element.innerHTML = '';\n",
              "          dataTable['output_type'] = 'display_data';\n",
              "          await google.colab.output.renderOutput(dataTable, element);\n",
              "          const docLink = document.createElement('div');\n",
              "          docLink.innerHTML = docLinkHtml;\n",
              "          element.appendChild(docLink);\n",
              "        }\n",
              "      </script>\n",
              "    </div>\n",
              "  </div>\n",
              "  "
            ],
            "text/plain": [
              "   year brand  kilometrage   new  ...  Rio  Sorento  Soul  Sportage\n",
              "0  2008   Kia     0.068767  Xeyr  ...    0        0     0         0\n",
              "1  2012   Kia    -0.081921  Xeyr  ...    0        1     0         0\n",
              "2  2015   Kia    -0.739847  Xeyr  ...    0        1     0         0\n",
              "3  2008   Kia    -0.098958  Xeyr  ...    0        0     0         0\n",
              "4  2013   Kia    -1.145706  Xeyr  ...    0        1     0         0\n",
              "\n",
              "[5 rows x 42 columns]"
            ]
          },
          "metadata": {},
          "execution_count": 324
        }
      ]
    },
    {
      "cell_type": "markdown",
      "source": [
        "# Splitting data to train and test "
      ],
      "metadata": {
        "id": "9czMo6UpUE6n"
      }
    },
    {
      "cell_type": "code",
      "source": [
        "X = df.drop(['brand','new','price(AZN)'], axis = 1)\n",
        "y = df['price(AZN)']"
      ],
      "metadata": {
        "id": "bJSs7ygSK6DX"
      },
      "execution_count": 325,
      "outputs": []
    },
    {
      "cell_type": "code",
      "source": [
        "X_train, X_test, y_train, y_test = train_test_split(X,y, test_size = 0.2, random_state = 0)"
      ],
      "metadata": {
        "id": "Xjjeh6zLpA0L"
      },
      "execution_count": 326,
      "outputs": []
    },
    {
      "cell_type": "markdown",
      "source": [
        "# Choosing best model"
      ],
      "metadata": {
        "id": "gIcXLSQ0Ds78"
      }
    },
    {
      "cell_type": "markdown",
      "source": [
        "### Linear Regression Model"
      ],
      "metadata": {
        "id": "Y3q2iadFphm5"
      }
    },
    {
      "cell_type": "code",
      "source": [
        "lin_model = LinearRegression()\n",
        "lin_model.fit(X_train, y_train)"
      ],
      "metadata": {
        "colab": {
          "base_uri": "https://localhost:8080/"
        },
        "id": "lEhUhUE5pZF7",
        "outputId": "1af5e912-12f3-4a22-a75e-f7b3b91e2601"
      },
      "execution_count": 327,
      "outputs": [
        {
          "output_type": "execute_result",
          "data": {
            "text/plain": [
              "LinearRegression()"
            ]
          },
          "metadata": {},
          "execution_count": 327
        }
      ]
    },
    {
      "cell_type": "code",
      "source": [
        "# Prediction on test data\n",
        "test_pred_lin = lin_model.predict(X_test)"
      ],
      "metadata": {
        "id": "4Zsw3BilpwB3"
      },
      "execution_count": 328,
      "outputs": []
    },
    {
      "cell_type": "code",
      "source": [
        "accuracy_lr = round(lin_model.score(X_test, y_test),3)\n",
        "accuracy_lr"
      ],
      "metadata": {
        "colab": {
          "base_uri": "https://localhost:8080/"
        },
        "id": "fuAIkudnpf7U",
        "outputId": "e7a1641c-a755-4bae-8b50-9d3f79f85934"
      },
      "execution_count": 329,
      "outputs": [
        {
          "output_type": "execute_result",
          "data": {
            "text/plain": [
              "0.871"
            ]
          },
          "metadata": {},
          "execution_count": 329
        }
      ]
    },
    {
      "cell_type": "code",
      "source": [
        "# Let's visualize how close the predicted values to real prices\n",
        "eval_df = pd.DataFrame({'Actual': y_test, 'Predicted': test_pred_lin})\n",
        "eval_df.head()"
      ],
      "metadata": {
        "colab": {
          "base_uri": "https://localhost:8080/",
          "height": 0
        },
        "id": "yigqYWIIqwYE",
        "outputId": "e84766f2-8639-4126-cc61-ea08b5d8adce"
      },
      "execution_count": 330,
      "outputs": [
        {
          "output_type": "execute_result",
          "data": {
            "text/html": [
              "\n",
              "  <div id=\"df-9e048e1c-ba2e-4e82-807f-8206bbf535e6\">\n",
              "    <div class=\"colab-df-container\">\n",
              "      <div>\n",
              "<style scoped>\n",
              "    .dataframe tbody tr th:only-of-type {\n",
              "        vertical-align: middle;\n",
              "    }\n",
              "\n",
              "    .dataframe tbody tr th {\n",
              "        vertical-align: top;\n",
              "    }\n",
              "\n",
              "    .dataframe thead th {\n",
              "        text-align: right;\n",
              "    }\n",
              "</style>\n",
              "<table border=\"1\" class=\"dataframe\">\n",
              "  <thead>\n",
              "    <tr style=\"text-align: right;\">\n",
              "      <th></th>\n",
              "      <th>Actual</th>\n",
              "      <th>Predicted</th>\n",
              "    </tr>\n",
              "  </thead>\n",
              "  <tbody>\n",
              "    <tr>\n",
              "      <th>2156</th>\n",
              "      <td>7.541212</td>\n",
              "      <td>7.521618</td>\n",
              "    </tr>\n",
              "    <tr>\n",
              "      <th>2368</th>\n",
              "      <td>7.623273</td>\n",
              "      <td>7.667711</td>\n",
              "    </tr>\n",
              "    <tr>\n",
              "      <th>3545</th>\n",
              "      <td>7.752924</td>\n",
              "      <td>7.902874</td>\n",
              "    </tr>\n",
              "    <tr>\n",
              "      <th>2033</th>\n",
              "      <td>8.133899</td>\n",
              "      <td>8.122676</td>\n",
              "    </tr>\n",
              "    <tr>\n",
              "      <th>894</th>\n",
              "      <td>7.476006</td>\n",
              "      <td>7.443661</td>\n",
              "    </tr>\n",
              "  </tbody>\n",
              "</table>\n",
              "</div>\n",
              "      <button class=\"colab-df-convert\" onclick=\"convertToInteractive('df-9e048e1c-ba2e-4e82-807f-8206bbf535e6')\"\n",
              "              title=\"Convert this dataframe to an interactive table.\"\n",
              "              style=\"display:none;\">\n",
              "        \n",
              "  <svg xmlns=\"http://www.w3.org/2000/svg\" height=\"24px\"viewBox=\"0 0 24 24\"\n",
              "       width=\"24px\">\n",
              "    <path d=\"M0 0h24v24H0V0z\" fill=\"none\"/>\n",
              "    <path d=\"M18.56 5.44l.94 2.06.94-2.06 2.06-.94-2.06-.94-.94-2.06-.94 2.06-2.06.94zm-11 1L8.5 8.5l.94-2.06 2.06-.94-2.06-.94L8.5 2.5l-.94 2.06-2.06.94zm10 10l.94 2.06.94-2.06 2.06-.94-2.06-.94-.94-2.06-.94 2.06-2.06.94z\"/><path d=\"M17.41 7.96l-1.37-1.37c-.4-.4-.92-.59-1.43-.59-.52 0-1.04.2-1.43.59L10.3 9.45l-7.72 7.72c-.78.78-.78 2.05 0 2.83L4 21.41c.39.39.9.59 1.41.59.51 0 1.02-.2 1.41-.59l7.78-7.78 2.81-2.81c.8-.78.8-2.07 0-2.86zM5.41 20L4 18.59l7.72-7.72 1.47 1.35L5.41 20z\"/>\n",
              "  </svg>\n",
              "      </button>\n",
              "      \n",
              "  <style>\n",
              "    .colab-df-container {\n",
              "      display:flex;\n",
              "      flex-wrap:wrap;\n",
              "      gap: 12px;\n",
              "    }\n",
              "\n",
              "    .colab-df-convert {\n",
              "      background-color: #E8F0FE;\n",
              "      border: none;\n",
              "      border-radius: 50%;\n",
              "      cursor: pointer;\n",
              "      display: none;\n",
              "      fill: #1967D2;\n",
              "      height: 32px;\n",
              "      padding: 0 0 0 0;\n",
              "      width: 32px;\n",
              "    }\n",
              "\n",
              "    .colab-df-convert:hover {\n",
              "      background-color: #E2EBFA;\n",
              "      box-shadow: 0px 1px 2px rgba(60, 64, 67, 0.3), 0px 1px 3px 1px rgba(60, 64, 67, 0.15);\n",
              "      fill: #174EA6;\n",
              "    }\n",
              "\n",
              "    [theme=dark] .colab-df-convert {\n",
              "      background-color: #3B4455;\n",
              "      fill: #D2E3FC;\n",
              "    }\n",
              "\n",
              "    [theme=dark] .colab-df-convert:hover {\n",
              "      background-color: #434B5C;\n",
              "      box-shadow: 0px 1px 3px 1px rgba(0, 0, 0, 0.15);\n",
              "      filter: drop-shadow(0px 1px 2px rgba(0, 0, 0, 0.3));\n",
              "      fill: #FFFFFF;\n",
              "    }\n",
              "  </style>\n",
              "\n",
              "      <script>\n",
              "        const buttonEl =\n",
              "          document.querySelector('#df-9e048e1c-ba2e-4e82-807f-8206bbf535e6 button.colab-df-convert');\n",
              "        buttonEl.style.display =\n",
              "          google.colab.kernel.accessAllowed ? 'block' : 'none';\n",
              "\n",
              "        async function convertToInteractive(key) {\n",
              "          const element = document.querySelector('#df-9e048e1c-ba2e-4e82-807f-8206bbf535e6');\n",
              "          const dataTable =\n",
              "            await google.colab.kernel.invokeFunction('convertToInteractive',\n",
              "                                                     [key], {});\n",
              "          if (!dataTable) return;\n",
              "\n",
              "          const docLinkHtml = 'Like what you see? Visit the ' +\n",
              "            '<a target=\"_blank\" href=https://colab.research.google.com/notebooks/data_table.ipynb>data table notebook</a>'\n",
              "            + ' to learn more about interactive tables.';\n",
              "          element.innerHTML = '';\n",
              "          dataTable['output_type'] = 'display_data';\n",
              "          await google.colab.output.renderOutput(dataTable, element);\n",
              "          const docLink = document.createElement('div');\n",
              "          docLink.innerHTML = docLinkHtml;\n",
              "          element.appendChild(docLink);\n",
              "        }\n",
              "      </script>\n",
              "    </div>\n",
              "  </div>\n",
              "  "
            ],
            "text/plain": [
              "        Actual  Predicted\n",
              "2156  7.541212   7.521618\n",
              "2368  7.623273   7.667711\n",
              "3545  7.752924   7.902874\n",
              "2033  8.133899   8.122676\n",
              "894   7.476006   7.443661"
            ]
          },
          "metadata": {},
          "execution_count": 330
        }
      ]
    },
    {
      "cell_type": "code",
      "source": [
        "print('Accuracy of model:', lin_model.score(X_test, y_test))\n",
        "print('Root Mean Squared Error:', np.sqrt(metrics.mean_squared_error(y_test, test_pred_lin)))"
      ],
      "metadata": {
        "colab": {
          "base_uri": "https://localhost:8080/"
        },
        "id": "P6KSp4pBhhf5",
        "outputId": "5d3aede6-9bfd-4e95-d7fb-9254cb1ebe2a"
      },
      "execution_count": 331,
      "outputs": [
        {
          "output_type": "stream",
          "name": "stdout",
          "text": [
            "Accuracy of model: 0.870974475379381\n",
            "Root Mean Squared Error: 0.08334955201843691\n"
          ]
        }
      ]
    },
    {
      "cell_type": "code",
      "source": [
        "sns.jointplot(x = 'Actual', y = 'Predicted', data = eval_df, kind = 'reg')"
      ],
      "metadata": {
        "id": "jt4Ni01QDsDd",
        "colab": {
          "base_uri": "https://localhost:8080/",
          "height": 0
        },
        "outputId": "2755f8b4-24c5-467a-ed78-8adca96ad6e2"
      },
      "execution_count": 332,
      "outputs": [
        {
          "output_type": "execute_result",
          "data": {
            "text/plain": [
              "<seaborn.axisgrid.JointGrid at 0x7fc4f4b2ed90>"
            ]
          },
          "metadata": {},
          "execution_count": 332
        },
        {
          "output_type": "display_data",
          "data": {
            "image/png": "[encoded data removed]",
            "text/plain": [
              "<Figure size 432x432 with 3 Axes>"
            ]
          },
          "metadata": {
            "needs_background": "light"
          }
        }
      ]
    },
    {
      "cell_type": "code",
      "source": [
        "# Save the model\n",
        "import pickle\n",
        "with open('model_pickle', 'wb') as f:\n",
        "  pickle.dump(lin_model, f)"
      ],
      "metadata": {
        "id": "_StdmWAtNIPf"
      },
      "execution_count": 333,
      "outputs": []
    },
    {
      "cell_type": "code",
      "source": [
        "with open('model_pickle', 'rb') as f:\n",
        "  model = pickle.load(f)"
      ],
      "metadata": {
        "id": "I6xi7E88P1y6"
      },
      "execution_count": 334,
      "outputs": []
    },
    {
      "cell_type": "markdown",
      "source": [
        "### Lasso Regression Model"
      ],
      "metadata": {
        "id": "X4ibqdKI0G3_"
      }
    },
    {
      "cell_type": "code",
      "source": [
        "lasso_model = Lasso()\n",
        "lasso_model.fit(X_train,y_train)"
      ],
      "metadata": {
        "colab": {
          "base_uri": "https://localhost:8080/"
        },
        "id": "jW77X9S9xTOD",
        "outputId": "e4a9ed54-5c9f-4a9d-e2fb-cc5268b62b88"
      },
      "execution_count": 335,
      "outputs": [
        {
          "output_type": "execute_result",
          "data": {
            "text/plain": [
              "Lasso()"
            ]
          },
          "metadata": {},
          "execution_count": 335
        }
      ]
    },
    {
      "cell_type": "code",
      "source": [
        "test_pred_lasso = lasso_model.predict(X_test)"
      ],
      "metadata": {
        "id": "2a1Xp2Gr0NV_"
      },
      "execution_count": 336,
      "outputs": []
    },
    {
      "cell_type": "code",
      "source": [
        "accuracy_lasso = round(lasso_model.score(X_test, y_test),3)\n",
        "accuracy_lasso"
      ],
      "metadata": {
        "id": "lENZPtJWpoEa",
        "colab": {
          "base_uri": "https://localhost:8080/"
        },
        "outputId": "5233bee7-0f3d-4327-800d-a9a1242e915b"
      },
      "execution_count": 337,
      "outputs": [
        {
          "output_type": "execute_result",
          "data": {
            "text/plain": [
              "0.403"
            ]
          },
          "metadata": {},
          "execution_count": 337
        }
      ]
    },
    {
      "cell_type": "code",
      "source": [
        "eval_df = pd.DataFrame({'Actual': y_test, 'Predicted': test_pred_lasso})\n",
        "eval_df.head()"
      ],
      "metadata": {
        "id": "lGBPOxHk0T66",
        "colab": {
          "base_uri": "https://localhost:8080/",
          "height": 0
        },
        "outputId": "e9ad9f8d-ca97-43ef-dff6-1679f238b8ee"
      },
      "execution_count": 338,
      "outputs": [
        {
          "output_type": "execute_result",
          "data": {
            "text/html": [
              "\n",
              "  <div id=\"df-f2007c91-d649-4994-9d5f-cbf14d6acb9c\">\n",
              "    <div class=\"colab-df-container\">\n",
              "      <div>\n",
              "<style scoped>\n",
              "    .dataframe tbody tr th:only-of-type {\n",
              "        vertical-align: middle;\n",
              "    }\n",
              "\n",
              "    .dataframe tbody tr th {\n",
              "        vertical-align: top;\n",
              "    }\n",
              "\n",
              "    .dataframe thead th {\n",
              "        text-align: right;\n",
              "    }\n",
              "</style>\n",
              "<table border=\"1\" class=\"dataframe\">\n",
              "  <thead>\n",
              "    <tr style=\"text-align: right;\">\n",
              "      <th></th>\n",
              "      <th>Actual</th>\n",
              "      <th>Predicted</th>\n",
              "    </tr>\n",
              "  </thead>\n",
              "  <tbody>\n",
              "    <tr>\n",
              "      <th>2156</th>\n",
              "      <td>7.541212</td>\n",
              "      <td>7.608839</td>\n",
              "    </tr>\n",
              "    <tr>\n",
              "      <th>2368</th>\n",
              "      <td>7.623273</td>\n",
              "      <td>7.608839</td>\n",
              "    </tr>\n",
              "    <tr>\n",
              "      <th>3545</th>\n",
              "      <td>7.752924</td>\n",
              "      <td>7.778706</td>\n",
              "    </tr>\n",
              "    <tr>\n",
              "      <th>2033</th>\n",
              "      <td>8.133899</td>\n",
              "      <td>7.789160</td>\n",
              "    </tr>\n",
              "    <tr>\n",
              "      <th>894</th>\n",
              "      <td>7.476006</td>\n",
              "      <td>7.561799</td>\n",
              "    </tr>\n",
              "  </tbody>\n",
              "</table>\n",
              "</div>\n",
              "      <button class=\"colab-df-convert\" onclick=\"convertToInteractive('df-f2007c91-d649-4994-9d5f-cbf14d6acb9c')\"\n",
              "              title=\"Convert this dataframe to an interactive table.\"\n",
              "              style=\"display:none;\">\n",
              "        \n",
              "  <svg xmlns=\"http://www.w3.org/2000/svg\" height=\"24px\"viewBox=\"0 0 24 24\"\n",
              "       width=\"24px\">\n",
              "    <path d=\"M0 0h24v24H0V0z\" fill=\"none\"/>\n",
              "    <path d=\"M18.56 5.44l.94 2.06.94-2.06 2.06-.94-2.06-.94-.94-2.06-.94 2.06-2.06.94zm-11 1L8.5 8.5l.94-2.06 2.06-.94-2.06-.94L8.5 2.5l-.94 2.06-2.06.94zm10 10l.94 2.06.94-2.06 2.06-.94-2.06-.94-.94-2.06-.94 2.06-2.06.94z\"/><path d=\"M17.41 7.96l-1.37-1.37c-.4-.4-.92-.59-1.43-.59-.52 0-1.04.2-1.43.59L10.3 9.45l-7.72 7.72c-.78.78-.78 2.05 0 2.83L4 21.41c.39.39.9.59 1.41.59.51 0 1.02-.2 1.41-.59l7.78-7.78 2.81-2.81c.8-.78.8-2.07 0-2.86zM5.41 20L4 18.59l7.72-7.72 1.47 1.35L5.41 20z\"/>\n",
              "  </svg>\n",
              "      </button>\n",
              "      \n",
              "  <style>\n",
              "    .colab-df-container {\n",
              "      display:flex;\n",
              "      flex-wrap:wrap;\n",
              "      gap: 12px;\n",
              "    }\n",
              "\n",
              "    .colab-df-convert {\n",
              "      background-color: #E8F0FE;\n",
              "      border: none;\n",
              "      border-radius: 50%;\n",
              "      cursor: pointer;\n",
              "      display: none;\n",
              "      fill: #1967D2;\n",
              "      height: 32px;\n",
              "      padding: 0 0 0 0;\n",
              "      width: 32px;\n",
              "    }\n",
              "\n",
              "    .colab-df-convert:hover {\n",
              "      background-color: #E2EBFA;\n",
              "      box-shadow: 0px 1px 2px rgba(60, 64, 67, 0.3), 0px 1px 3px 1px rgba(60, 64, 67, 0.15);\n",
              "      fill: #174EA6;\n",
              "    }\n",
              "\n",
              "    [theme=dark] .colab-df-convert {\n",
              "      background-color: #3B4455;\n",
              "      fill: #D2E3FC;\n",
              "    }\n",
              "\n",
              "    [theme=dark] .colab-df-convert:hover {\n",
              "      background-color: #434B5C;\n",
              "      box-shadow: 0px 1px 3px 1px rgba(0, 0, 0, 0.15);\n",
              "      filter: drop-shadow(0px 1px 2px rgba(0, 0, 0, 0.3));\n",
              "      fill: #FFFFFF;\n",
              "    }\n",
              "  </style>\n",
              "\n",
              "      <script>\n",
              "        const buttonEl =\n",
              "          document.querySelector('#df-f2007c91-d649-4994-9d5f-cbf14d6acb9c button.colab-df-convert');\n",
              "        buttonEl.style.display =\n",
              "          google.colab.kernel.accessAllowed ? 'block' : 'none';\n",
              "\n",
              "        async function convertToInteractive(key) {\n",
              "          const element = document.querySelector('#df-f2007c91-d649-4994-9d5f-cbf14d6acb9c');\n",
              "          const dataTable =\n",
              "            await google.colab.kernel.invokeFunction('convertToInteractive',\n",
              "                                                     [key], {});\n",
              "          if (!dataTable) return;\n",
              "\n",
              "          const docLinkHtml = 'Like what you see? Visit the ' +\n",
              "            '<a target=\"_blank\" href=https://colab.research.google.com/notebooks/data_table.ipynb>data table notebook</a>'\n",
              "            + ' to learn more about interactive tables.';\n",
              "          element.innerHTML = '';\n",
              "          dataTable['output_type'] = 'display_data';\n",
              "          await google.colab.output.renderOutput(dataTable, element);\n",
              "          const docLink = document.createElement('div');\n",
              "          docLink.innerHTML = docLinkHtml;\n",
              "          element.appendChild(docLink);\n",
              "        }\n",
              "      </script>\n",
              "    </div>\n",
              "  </div>\n",
              "  "
            ],
            "text/plain": [
              "        Actual  Predicted\n",
              "2156  7.541212   7.608839\n",
              "2368  7.623273   7.608839\n",
              "3545  7.752924   7.778706\n",
              "2033  8.133899   7.789160\n",
              "894   7.476006   7.561799"
            ]
          },
          "metadata": {},
          "execution_count": 338
        }
      ]
    },
    {
      "cell_type": "code",
      "source": [
        "print('Accuracy:',lasso_model.score(X_test, y_test))\n",
        "print('Root Mean Squared Error:', np.sqrt(metrics.mean_squared_error(y_test, test_pred_lasso)))"
      ],
      "metadata": {
        "id": "AcDdL_n_bD_-",
        "colab": {
          "base_uri": "https://localhost:8080/"
        },
        "outputId": "d08ab9b9-3935-4c9e-d139-5dde0a72c362"
      },
      "execution_count": 339,
      "outputs": [
        {
          "output_type": "stream",
          "name": "stdout",
          "text": [
            "Accuracy: 0.4034380184824595\n",
            "Root Mean Squared Error: 0.17922279233950353\n"
          ]
        }
      ]
    },
    {
      "cell_type": "code",
      "source": [
        "sns.jointplot(x = 'Actual', y = 'Predicted', data = eval_df, kind = 'reg', color = 'green')"
      ],
      "metadata": {
        "id": "o9bUofwrD-0t",
        "colab": {
          "base_uri": "https://localhost:8080/",
          "height": 0
        },
        "outputId": "7be38830-b613-42aa-bcef-fd059bca4020"
      },
      "execution_count": 340,
      "outputs": [
        {
          "output_type": "execute_result",
          "data": {
            "text/plain": [
              "<seaborn.axisgrid.JointGrid at 0x7fc4f64ce890>"
            ]
          },
          "metadata": {},
          "execution_count": 340
        },
        {
          "output_type": "display_data",
          "data": {
            "image/png": "[encoded data removed]",
            "text/plain": [
              "<Figure size 432x432 with 3 Axes>"
            ]
          },
          "metadata": {
            "needs_background": "light"
          }
        }
      ]
    },
    {
      "cell_type": "markdown",
      "source": [
        "### DecisionTreeRegressor"
      ],
      "metadata": {
        "id": "Yhi6bmETLjpE"
      }
    },
    {
      "cell_type": "code",
      "source": [
        "dtr_model = DecisionTreeRegressor()\n",
        "dtr_model.fit(X_train,y_train)"
      ],
      "metadata": {
        "id": "pXCfN-FyC7cB",
        "colab": {
          "base_uri": "https://localhost:8080/"
        },
        "outputId": "fb1a943e-4851-49a0-e93e-6aa9c10fb7b2"
      },
      "execution_count": 341,
      "outputs": [
        {
          "output_type": "execute_result",
          "data": {
            "text/plain": [
              "DecisionTreeRegressor()"
            ]
          },
          "metadata": {},
          "execution_count": 341
        }
      ]
    },
    {
      "cell_type": "code",
      "source": [
        "test_pred_dtr = dtr_model.predict(X_test)"
      ],
      "metadata": {
        "id": "AHFe1G-_L_Pf"
      },
      "execution_count": 342,
      "outputs": []
    },
    {
      "cell_type": "code",
      "source": [
        "accuracy_dtr = round(dtr_model.score(X_test, y_test),3)\n",
        "accuracy_dtr"
      ],
      "metadata": {
        "colab": {
          "base_uri": "https://localhost:8080/"
        },
        "id": "q3yG-BaHptQx",
        "outputId": "1fb18c03-d9dc-4f92-e1fc-0f36d7a1e1f5"
      },
      "execution_count": 343,
      "outputs": [
        {
          "output_type": "execute_result",
          "data": {
            "text/plain": [
              "0.865"
            ]
          },
          "metadata": {},
          "execution_count": 343
        }
      ]
    },
    {
      "cell_type": "code",
      "source": [
        "eval_df = pd.DataFrame({'Actual': y_test, 'Predicted': test_pred_dtr})\n",
        "eval_df.head()"
      ],
      "metadata": {
        "colab": {
          "base_uri": "https://localhost:8080/",
          "height": 0
        },
        "id": "HUhtOAAcMSH3",
        "outputId": "f401a3a4-69ae-41ba-a0ae-3b251e702847"
      },
      "execution_count": 344,
      "outputs": [
        {
          "output_type": "execute_result",
          "data": {
            "text/html": [
              "\n",
              "  <div id=\"df-cfc43e03-c307-40fa-ae5e-035ee7978afa\">\n",
              "    <div class=\"colab-df-container\">\n",
              "      <div>\n",
              "<style scoped>\n",
              "    .dataframe tbody tr th:only-of-type {\n",
              "        vertical-align: middle;\n",
              "    }\n",
              "\n",
              "    .dataframe tbody tr th {\n",
              "        vertical-align: top;\n",
              "    }\n",
              "\n",
              "    .dataframe thead th {\n",
              "        text-align: right;\n",
              "    }\n",
              "</style>\n",
              "<table border=\"1\" class=\"dataframe\">\n",
              "  <thead>\n",
              "    <tr style=\"text-align: right;\">\n",
              "      <th></th>\n",
              "      <th>Actual</th>\n",
              "      <th>Predicted</th>\n",
              "    </tr>\n",
              "  </thead>\n",
              "  <tbody>\n",
              "    <tr>\n",
              "      <th>2156</th>\n",
              "      <td>7.541212</td>\n",
              "      <td>7.527839</td>\n",
              "    </tr>\n",
              "    <tr>\n",
              "      <th>2368</th>\n",
              "      <td>7.623273</td>\n",
              "      <td>7.619434</td>\n",
              "    </tr>\n",
              "    <tr>\n",
              "      <th>3545</th>\n",
              "      <td>7.752924</td>\n",
              "      <td>8.073269</td>\n",
              "    </tr>\n",
              "    <tr>\n",
              "      <th>2033</th>\n",
              "      <td>8.133899</td>\n",
              "      <td>8.114951</td>\n",
              "    </tr>\n",
              "    <tr>\n",
              "      <th>894</th>\n",
              "      <td>7.476006</td>\n",
              "      <td>7.461034</td>\n",
              "    </tr>\n",
              "  </tbody>\n",
              "</table>\n",
              "</div>\n",
              "      <button class=\"colab-df-convert\" onclick=\"convertToInteractive('df-cfc43e03-c307-40fa-ae5e-035ee7978afa')\"\n",
              "              title=\"Convert this dataframe to an interactive table.\"\n",
              "              style=\"display:none;\">\n",
              "        \n",
              "  <svg xmlns=\"http://www.w3.org/2000/svg\" height=\"24px\"viewBox=\"0 0 24 24\"\n",
              "       width=\"24px\">\n",
              "    <path d=\"M0 0h24v24H0V0z\" fill=\"none\"/>\n",
              "    <path d=\"M18.56 5.44l.94 2.06.94-2.06 2.06-.94-2.06-.94-.94-2.06-.94 2.06-2.06.94zm-11 1L8.5 8.5l.94-2.06 2.06-.94-2.06-.94L8.5 2.5l-.94 2.06-2.06.94zm10 10l.94 2.06.94-2.06 2.06-.94-2.06-.94-.94-2.06-.94 2.06-2.06.94z\"/><path d=\"M17.41 7.96l-1.37-1.37c-.4-.4-.92-.59-1.43-.59-.52 0-1.04.2-1.43.59L10.3 9.45l-7.72 7.72c-.78.78-.78 2.05 0 2.83L4 21.41c.39.39.9.59 1.41.59.51 0 1.02-.2 1.41-.59l7.78-7.78 2.81-2.81c.8-.78.8-2.07 0-2.86zM5.41 20L4 18.59l7.72-7.72 1.47 1.35L5.41 20z\"/>\n",
              "  </svg>\n",
              "      </button>\n",
              "      \n",
              "  <style>\n",
              "    .colab-df-container {\n",
              "      display:flex;\n",
              "      flex-wrap:wrap;\n",
              "      gap: 12px;\n",
              "    }\n",
              "\n",
              "    .colab-df-convert {\n",
              "      background-color: #E8F0FE;\n",
              "      border: none;\n",
              "      border-radius: 50%;\n",
              "      cursor: pointer;\n",
              "      display: none;\n",
              "      fill: #1967D2;\n",
              "      height: 32px;\n",
              "      padding: 0 0 0 0;\n",
              "      width: 32px;\n",
              "    }\n",
              "\n",
              "    .colab-df-convert:hover {\n",
              "      background-color: #E2EBFA;\n",
              "      box-shadow: 0px 1px 2px rgba(60, 64, 67, 0.3), 0px 1px 3px 1px rgba(60, 64, 67, 0.15);\n",
              "      fill: #174EA6;\n",
              "    }\n",
              "\n",
              "    [theme=dark] .colab-df-convert {\n",
              "      background-color: #3B4455;\n",
              "      fill: #D2E3FC;\n",
              "    }\n",
              "\n",
              "    [theme=dark] .colab-df-convert:hover {\n",
              "      background-color: #434B5C;\n",
              "      box-shadow: 0px 1px 3px 1px rgba(0, 0, 0, 0.15);\n",
              "      filter: drop-shadow(0px 1px 2px rgba(0, 0, 0, 0.3));\n",
              "      fill: #FFFFFF;\n",
              "    }\n",
              "  </style>\n",
              "\n",
              "      <script>\n",
              "        const buttonEl =\n",
              "          document.querySelector('#df-cfc43e03-c307-40fa-ae5e-035ee7978afa button.colab-df-convert');\n",
              "        buttonEl.style.display =\n",
              "          google.colab.kernel.accessAllowed ? 'block' : 'none';\n",
              "\n",
              "        async function convertToInteractive(key) {\n",
              "          const element = document.querySelector('#df-cfc43e03-c307-40fa-ae5e-035ee7978afa');\n",
              "          const dataTable =\n",
              "            await google.colab.kernel.invokeFunction('convertToInteractive',\n",
              "                                                     [key], {});\n",
              "          if (!dataTable) return;\n",
              "\n",
              "          const docLinkHtml = 'Like what you see? Visit the ' +\n",
              "            '<a target=\"_blank\" href=https://colab.research.google.com/notebooks/data_table.ipynb>data table notebook</a>'\n",
              "            + ' to learn more about interactive tables.';\n",
              "          element.innerHTML = '';\n",
              "          dataTable['output_type'] = 'display_data';\n",
              "          await google.colab.output.renderOutput(dataTable, element);\n",
              "          const docLink = document.createElement('div');\n",
              "          docLink.innerHTML = docLinkHtml;\n",
              "          element.appendChild(docLink);\n",
              "        }\n",
              "      </script>\n",
              "    </div>\n",
              "  </div>\n",
              "  "
            ],
            "text/plain": [
              "        Actual  Predicted\n",
              "2156  7.541212   7.527839\n",
              "2368  7.623273   7.619434\n",
              "3545  7.752924   8.073269\n",
              "2033  8.133899   8.114951\n",
              "894   7.476006   7.461034"
            ]
          },
          "metadata": {},
          "execution_count": 344
        }
      ]
    },
    {
      "cell_type": "code",
      "source": [
        "print('Accuracy:',dtr_model.score(X_test, y_test))\n",
        "print('Root Mean Squared Error:', np.sqrt(metrics.mean_squared_error(y_test, test_pred_dtr)))"
      ],
      "metadata": {
        "colab": {
          "base_uri": "https://localhost:8080/"
        },
        "id": "LxMDrfAzMEP6",
        "outputId": "f218aced-eeee-4cd3-8d31-7f60501fe8b6"
      },
      "execution_count": 345,
      "outputs": [
        {
          "output_type": "stream",
          "name": "stdout",
          "text": [
            "Accuracy: 0.8652422228208868\n",
            "Root Mean Squared Error: 0.0851809290480145\n"
          ]
        }
      ]
    },
    {
      "cell_type": "code",
      "source": [
        "sns.jointplot(x = 'Actual', y = 'Predicted', data = eval_df, kind = 'reg', color = 'purple')"
      ],
      "metadata": {
        "colab": {
          "base_uri": "https://localhost:8080/",
          "height": 0
        },
        "id": "m49Didhsqen1",
        "outputId": "ecb6cd9c-27cf-4378-e4cc-f6badd717d92"
      },
      "execution_count": 346,
      "outputs": [
        {
          "output_type": "execute_result",
          "data": {
            "text/plain": [
              "<seaborn.axisgrid.JointGrid at 0x7fc4f55ee290>"
            ]
          },
          "metadata": {},
          "execution_count": 346
        },
        {
          "output_type": "display_data",
          "data": {
            "image/png": "[encoded data removed]",
            "text/plain": [
              "<Figure size 432x432 with 3 Axes>"
            ]
          },
          "metadata": {
            "needs_background": "light"
          }
        }
      ]
    },
    {
      "cell_type": "markdown",
      "source": [
        "### Comparision"
      ],
      "metadata": {
        "id": "B1v2O9t4D03Z"
      }
    },
    {
      "cell_type": "code",
      "source": [
        "def addlabels(x,y):\n",
        "    for i in range(len(x)):\n",
        "        plt.text(i, y[i], y[i], ha = 'center',fontweight='bold',color='white',\n",
        "                 bbox = dict(facecolor = 'green', alpha =.8))\n",
        "plt.subplots(figsize=(15,4))\n",
        "plt.subplot(1,2,1)\n",
        "x1 = ['Accuracy of\\nLinearRegression','Accuracy of\\nLasso','Accuracy of\\nDecisionTreeRegressor']\n",
        "y1 = [accuracy_lr,accuracy_lasso,accuracy_dtr]\n",
        "plt.bar(x1,y1)\n",
        "plt.title('Comparision of Accurancies of 3 Models')\n",
        "addlabels(x1,y1)\n",
        "plt.subplot(1,2,2)\n",
        "x = ['RMSE of\\nLinearRegression','RMSE of\\nLasso','RMSE of\\nDecisionTreeRegressor']\n",
        "y = [round(np.sqrt(metrics.mean_squared_error(y_test, test_pred_lin)),3),\n",
        "     round(np.sqrt(metrics.mean_squared_error(y_test, test_pred_lasso)),3),\n",
        "     round(np.sqrt(metrics.mean_squared_error(y_test, test_pred_dtr)),3)]\n",
        "plt.bar(x,y)\n",
        "plt.title('Comparision of Root Mean Squared Errors of 3 Models')\n",
        "addlabels(x, y)\n",
        "plt.savefig('comparision')"
      ],
      "metadata": {
        "colab": {
          "base_uri": "https://localhost:8080/",
          "height": 295
        },
        "id": "ku2JKeD1A2Vr",
        "outputId": "c6562c21-720e-40cd-a0a3-7f98239e1b75"
      },
      "execution_count": 348,
      "outputs": [
        {
          "output_type": "display_data",
          "data": {
            "image/png": "[encoded data removed]",
            "text/plain": [
              "<Figure size 1080x288 with 2 Axes>"
            ]
          },
          "metadata": {
            "needs_background": "light"
          }
        }
      ]
    },
    {
      "cell_type": "markdown",
      "source": [
        "As we can see from graph above both in terms of Accuracy and RMSE Linear Regression Model performs better. So we are going to use Linear Regression"
      ],
      "metadata": {
        "id": "Z0i94Qt1CC0x"
      }
    }
  ]
}
