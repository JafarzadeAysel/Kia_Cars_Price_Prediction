{
  "nbformat": 4,
  "nbformat_minor": 0,
  "metadata": {
    "colab": {
      "name": "EDA_kia.ipynb",
      "provenance": [],
      "collapsed_sections": []
    },
    "kernelspec": {
      "name": "python3",
      "display_name": "Python 3"
    },
    "language_info": {
      "name": "python"
    }
  },
  "cells": [
    {
      "cell_type": "code",
      "execution_count": 112,
      "metadata": {
        "id": "W0XeJbakI3xj"
      },
      "outputs": [],
      "source": [
        "import pandas as pd\n",
        "import numpy as np\n",
        "import matplotlib.pyplot as plt\n",
        "%matplotlib inline\n",
        "import seaborn as sns\n",
        "from sklearn.model_selection import train_test_split\n",
        "from sklearn.linear_model import LinearRegression\n",
        "from sklearn.linear_model import Lasso\n",
        "from sklearn import metrics\n",
        "import plotly.express as px\n",
        "sns.set()"
      ]
    },
    {
      "cell_type": "markdown",
      "source": [
        "# Data Cleaning"
      ],
      "metadata": {
        "id": "BsMuO5X09eJf"
      }
    },
    {
      "cell_type": "code",
      "source": [
        "df = pd.read_csv('/content/kia_cars.csv')\n",
        "df.head()"
      ],
      "metadata": {
        "colab": {
          "base_uri": "https://localhost:8080/",
          "height": 206
        },
        "id": "Qz2kavZPRalL",
        "outputId": "416748db-aa82-43cf-d99c-361e2fe6d846"
      },
      "execution_count": 312,
      "outputs": [
        {
          "output_type": "execute_result",
          "data": {
            "text/html": [
              "\n",
              "  <div id=\"df-cc5f4b6d-c2b1-4533-92bd-3dd9bd3f3001\">\n",
              "    <div class=\"colab-df-container\">\n",
              "      <div>\n",
              "<style scoped>\n",
              "    .dataframe tbody tr th:only-of-type {\n",
              "        vertical-align: middle;\n",
              "    }\n",
              "\n",
              "    .dataframe tbody tr th {\n",
              "        vertical-align: top;\n",
              "    }\n",
              "\n",
              "    .dataframe thead th {\n",
              "        text-align: right;\n",
              "    }\n",
              "</style>\n",
              "<table border=\"1\" class=\"dataframe\">\n",
              "  <thead>\n",
              "    <tr style=\"text-align: right;\">\n",
              "      <th></th>\n",
              "      <th>city</th>\n",
              "      <th>year</th>\n",
              "      <th>brand</th>\n",
              "      <th>model</th>\n",
              "      <th>color</th>\n",
              "      <th>body_type</th>\n",
              "      <th>engine</th>\n",
              "      <th>engine_power</th>\n",
              "      <th>fuel_type</th>\n",
              "      <th>kilometrage</th>\n",
              "      <th>transmission</th>\n",
              "      <th>drivetrain</th>\n",
              "      <th>new</th>\n",
              "      <th>price</th>\n",
              "    </tr>\n",
              "  </thead>\n",
              "  <tbody>\n",
              "    <tr>\n",
              "      <th>0</th>\n",
              "      <td>Bakı</td>\n",
              "      <td>2014</td>\n",
              "      <td>Kia</td>\n",
              "      <td>Sorento</td>\n",
              "      <td>Yaş Asfalt</td>\n",
              "      <td>Offroader / SUV</td>\n",
              "      <td>2.2 L</td>\n",
              "      <td>197 a.g.</td>\n",
              "      <td>Dizel</td>\n",
              "      <td>129 000 km</td>\n",
              "      <td>Avtomat</td>\n",
              "      <td>Tam</td>\n",
              "      <td>Xeyr</td>\n",
              "      <td>46 300 AZN</td>\n",
              "    </tr>\n",
              "    <tr>\n",
              "      <th>1</th>\n",
              "      <td>Bakı</td>\n",
              "      <td>2013</td>\n",
              "      <td>Kia</td>\n",
              "      <td>Rio</td>\n",
              "      <td>Qara</td>\n",
              "      <td>Sedan</td>\n",
              "      <td>1.4 L</td>\n",
              "      <td>107 a.g.</td>\n",
              "      <td>Benzin</td>\n",
              "      <td>160 000 km</td>\n",
              "      <td>Avtomat</td>\n",
              "      <td>Ön</td>\n",
              "      <td>Xeyr</td>\n",
              "      <td>17 500 AZN</td>\n",
              "    </tr>\n",
              "    <tr>\n",
              "      <th>2</th>\n",
              "      <td>Bakı</td>\n",
              "      <td>2015</td>\n",
              "      <td>Kia</td>\n",
              "      <td>Sorento</td>\n",
              "      <td>Ağ</td>\n",
              "      <td>Offroader / SUV</td>\n",
              "      <td>2.0 L</td>\n",
              "      <td>184 a.g.</td>\n",
              "      <td>Dizel</td>\n",
              "      <td>82 000 km</td>\n",
              "      <td>Avtomat</td>\n",
              "      <td>Ön</td>\n",
              "      <td>Xeyr</td>\n",
              "      <td>25 900 $</td>\n",
              "    </tr>\n",
              "    <tr>\n",
              "      <th>3</th>\n",
              "      <td>Bakı</td>\n",
              "      <td>2011</td>\n",
              "      <td>Kia</td>\n",
              "      <td>Optima</td>\n",
              "      <td>Qara</td>\n",
              "      <td>Sedan</td>\n",
              "      <td>2.0 L</td>\n",
              "      <td>274 a.g.</td>\n",
              "      <td>Benzin</td>\n",
              "      <td>190 000 km</td>\n",
              "      <td>Avtomat</td>\n",
              "      <td>Ön</td>\n",
              "      <td>Xeyr</td>\n",
              "      <td>21 800 AZN</td>\n",
              "    </tr>\n",
              "    <tr>\n",
              "      <th>4</th>\n",
              "      <td>Bakı</td>\n",
              "      <td>2008</td>\n",
              "      <td>Kia</td>\n",
              "      <td>Sportage</td>\n",
              "      <td>Ağ</td>\n",
              "      <td>Offroader / SUV</td>\n",
              "      <td>2.0 L</td>\n",
              "      <td>140 a.g.</td>\n",
              "      <td>Dizel</td>\n",
              "      <td>130 000 km</td>\n",
              "      <td>Avtomat</td>\n",
              "      <td>Ön</td>\n",
              "      <td>Xeyr</td>\n",
              "      <td>18 800 AZN</td>\n",
              "    </tr>\n",
              "  </tbody>\n",
              "</table>\n",
              "</div>\n",
              "      <button class=\"colab-df-convert\" onclick=\"convertToInteractive('df-cc5f4b6d-c2b1-4533-92bd-3dd9bd3f3001')\"\n",
              "              title=\"Convert this dataframe to an interactive table.\"\n",
              "              style=\"display:none;\">\n",
              "        \n",
              "  <svg xmlns=\"http://www.w3.org/2000/svg\" height=\"24px\"viewBox=\"0 0 24 24\"\n",
              "       width=\"24px\">\n",
              "    <path d=\"M0 0h24v24H0V0z\" fill=\"none\"/>\n",
              "    <path d=\"M18.56 5.44l.94 2.06.94-2.06 2.06-.94-2.06-.94-.94-2.06-.94 2.06-2.06.94zm-11 1L8.5 8.5l.94-2.06 2.06-.94-2.06-.94L8.5 2.5l-.94 2.06-2.06.94zm10 10l.94 2.06.94-2.06 2.06-.94-2.06-.94-.94-2.06-.94 2.06-2.06.94z\"/><path d=\"M17.41 7.96l-1.37-1.37c-.4-.4-.92-.59-1.43-.59-.52 0-1.04.2-1.43.59L10.3 9.45l-7.72 7.72c-.78.78-.78 2.05 0 2.83L4 21.41c.39.39.9.59 1.41.59.51 0 1.02-.2 1.41-.59l7.78-7.78 2.81-2.81c.8-.78.8-2.07 0-2.86zM5.41 20L4 18.59l7.72-7.72 1.47 1.35L5.41 20z\"/>\n",
              "  </svg>\n",
              "      </button>\n",
              "      \n",
              "  <style>\n",
              "    .colab-df-container {\n",
              "      display:flex;\n",
              "      flex-wrap:wrap;\n",
              "      gap: 12px;\n",
              "    }\n",
              "\n",
              "    .colab-df-convert {\n",
              "      background-color: #E8F0FE;\n",
              "      border: none;\n",
              "      border-radius: 50%;\n",
              "      cursor: pointer;\n",
              "      display: none;\n",
              "      fill: #1967D2;\n",
              "      height: 32px;\n",
              "      padding: 0 0 0 0;\n",
              "      width: 32px;\n",
              "    }\n",
              "\n",
              "    .colab-df-convert:hover {\n",
              "      background-color: #E2EBFA;\n",
              "      box-shadow: 0px 1px 2px rgba(60, 64, 67, 0.3), 0px 1px 3px 1px rgba(60, 64, 67, 0.15);\n",
              "      fill: #174EA6;\n",
              "    }\n",
              "\n",
              "    [theme=dark] .colab-df-convert {\n",
              "      background-color: #3B4455;\n",
              "      fill: #D2E3FC;\n",
              "    }\n",
              "\n",
              "    [theme=dark] .colab-df-convert:hover {\n",
              "      background-color: #434B5C;\n",
              "      box-shadow: 0px 1px 3px 1px rgba(0, 0, 0, 0.15);\n",
              "      filter: drop-shadow(0px 1px 2px rgba(0, 0, 0, 0.3));\n",
              "      fill: #FFFFFF;\n",
              "    }\n",
              "  </style>\n",
              "\n",
              "      <script>\n",
              "        const buttonEl =\n",
              "          document.querySelector('#df-cc5f4b6d-c2b1-4533-92bd-3dd9bd3f3001 button.colab-df-convert');\n",
              "        buttonEl.style.display =\n",
              "          google.colab.kernel.accessAllowed ? 'block' : 'none';\n",
              "\n",
              "        async function convertToInteractive(key) {\n",
              "          const element = document.querySelector('#df-cc5f4b6d-c2b1-4533-92bd-3dd9bd3f3001');\n",
              "          const dataTable =\n",
              "            await google.colab.kernel.invokeFunction('convertToInteractive',\n",
              "                                                     [key], {});\n",
              "          if (!dataTable) return;\n",
              "\n",
              "          const docLinkHtml = 'Like what you see? Visit the ' +\n",
              "            '<a target=\"_blank\" href=https://colab.research.google.com/notebooks/data_table.ipynb>data table notebook</a>'\n",
              "            + ' to learn more about interactive tables.';\n",
              "          element.innerHTML = '';\n",
              "          dataTable['output_type'] = 'display_data';\n",
              "          await google.colab.output.renderOutput(dataTable, element);\n",
              "          const docLink = document.createElement('div');\n",
              "          docLink.innerHTML = docLinkHtml;\n",
              "          element.appendChild(docLink);\n",
              "        }\n",
              "      </script>\n",
              "    </div>\n",
              "  </div>\n",
              "  "
            ],
            "text/plain": [
              "   city  year brand     model  ... transmission drivetrain   new       price\n",
              "0  Bakı  2014   Kia   Sorento  ...      Avtomat        Tam  Xeyr  46 300 AZN\n",
              "1  Bakı  2013   Kia       Rio  ...      Avtomat         Ön  Xeyr  17 500 AZN\n",
              "2  Bakı  2015   Kia   Sorento  ...      Avtomat         Ön  Xeyr    25 900 $\n",
              "3  Bakı  2011   Kia    Optima  ...      Avtomat         Ön  Xeyr  21 800 AZN\n",
              "4  Bakı  2008   Kia  Sportage  ...      Avtomat         Ön  Xeyr  18 800 AZN\n",
              "\n",
              "[5 rows x 14 columns]"
            ]
          },
          "metadata": {},
          "execution_count": 312
        }
      ]
    },
    {
      "cell_type": "code",
      "source": [
        "df.shape"
      ],
      "metadata": {
        "colab": {
          "base_uri": "https://localhost:8080/"
        },
        "id": "27pQ0S9uR8DY",
        "outputId": "18b74f5d-03b9-4be1-95b1-1d8493fa001c"
      },
      "execution_count": 313,
      "outputs": [
        {
          "output_type": "execute_result",
          "data": {
            "text/plain": [
              "(3629, 14)"
            ]
          },
          "metadata": {},
          "execution_count": 313
        }
      ]
    },
    {
      "cell_type": "code",
      "source": [
        "df.info()"
      ],
      "metadata": {
        "colab": {
          "base_uri": "https://localhost:8080/"
        },
        "id": "BqkBo4sbR8jU",
        "outputId": "4353fd65-2c1e-4f26-f877-0249be14d2c1"
      },
      "execution_count": 314,
      "outputs": [
        {
          "output_type": "stream",
          "name": "stdout",
          "text": [
            "<class 'pandas.core.frame.DataFrame'>\n",
            "RangeIndex: 3629 entries, 0 to 3628\n",
            "Data columns (total 14 columns):\n",
            " #   Column        Non-Null Count  Dtype \n",
            "---  ------        --------------  ----- \n",
            " 0   city          3629 non-null   object\n",
            " 1   year          3629 non-null   int64 \n",
            " 2   brand         3629 non-null   object\n",
            " 3   model         3629 non-null   object\n",
            " 4   color         3629 non-null   object\n",
            " 5   body_type     3629 non-null   object\n",
            " 6   engine        3629 non-null   object\n",
            " 7   engine_power  3629 non-null   object\n",
            " 8   fuel_type     3629 non-null   object\n",
            " 9   kilometrage   3629 non-null   object\n",
            " 10  transmission  3629 non-null   object\n",
            " 11  drivetrain    3629 non-null   object\n",
            " 12  new           3629 non-null   object\n",
            " 13  price         3629 non-null   object\n",
            "dtypes: int64(1), object(13)\n",
            "memory usage: 397.0+ KB\n"
          ]
        }
      ]
    },
    {
      "cell_type": "code",
      "source": [
        "df.isnull().sum()\n",
        "# We don't have any null value"
      ],
      "metadata": {
        "colab": {
          "base_uri": "https://localhost:8080/"
        },
        "id": "oKjybQL39gVv",
        "outputId": "ea7781d3-4936-40d8-a3c5-9dcca8ed22b9"
      },
      "execution_count": 315,
      "outputs": [
        {
          "output_type": "execute_result",
          "data": {
            "text/plain": [
              "city            0\n",
              "year            0\n",
              "brand           0\n",
              "model           0\n",
              "color           0\n",
              "body_type       0\n",
              "engine          0\n",
              "engine_power    0\n",
              "fuel_type       0\n",
              "kilometrage     0\n",
              "transmission    0\n",
              "drivetrain      0\n",
              "new             0\n",
              "price           0\n",
              "dtype: int64"
            ]
          },
          "metadata": {},
          "execution_count": 315
        }
      ]
    },
    {
      "cell_type": "code",
      "source": [
        "# Check for duplicates\n",
        "df.duplicated().sum()"
      ],
      "metadata": {
        "colab": {
          "base_uri": "https://localhost:8080/"
        },
        "id": "ANxRB2Uq9rZY",
        "outputId": "044284f1-54e5-42db-c563-46c5c1c5e028"
      },
      "execution_count": 316,
      "outputs": [
        {
          "output_type": "execute_result",
          "data": {
            "text/plain": [
              "1214"
            ]
          },
          "metadata": {},
          "execution_count": 316
        }
      ]
    },
    {
      "cell_type": "code",
      "source": [
        "# Remove duplicates\n",
        "df = df.drop_duplicates()"
      ],
      "metadata": {
        "id": "Lfy8PwotALPH"
      },
      "execution_count": 317,
      "outputs": []
    },
    {
      "cell_type": "code",
      "source": [
        "df.shape"
      ],
      "metadata": {
        "colab": {
          "base_uri": "https://localhost:8080/"
        },
        "id": "1HQDvmxnASQA",
        "outputId": "ba04f467-f110-40f9-ab7d-5ba31445b408"
      },
      "execution_count": 318,
      "outputs": [
        {
          "output_type": "execute_result",
          "data": {
            "text/plain": [
              "(2415, 14)"
            ]
          },
          "metadata": {},
          "execution_count": 318
        }
      ]
    },
    {
      "cell_type": "markdown",
      "source": [
        "# Exploratory Analysis and Visualization"
      ],
      "metadata": {
        "id": "q5N3OYvVT2lv"
      }
    },
    {
      "cell_type": "code",
      "source": [
        "df.head(3)"
      ],
      "metadata": {
        "colab": {
          "base_uri": "https://localhost:8080/",
          "height": 143
        },
        "id": "VoFpj-3lHZya",
        "outputId": "c88cc153-e576-4d26-cefb-072872e10014"
      },
      "execution_count": 319,
      "outputs": [
        {
          "output_type": "execute_result",
          "data": {
            "text/html": [
              "\n",
              "  <div id=\"df-b1e236b2-8908-4b9b-9915-6616701dd538\">\n",
              "    <div class=\"colab-df-container\">\n",
              "      <div>\n",
              "<style scoped>\n",
              "    .dataframe tbody tr th:only-of-type {\n",
              "        vertical-align: middle;\n",
              "    }\n",
              "\n",
              "    .dataframe tbody tr th {\n",
              "        vertical-align: top;\n",
              "    }\n",
              "\n",
              "    .dataframe thead th {\n",
              "        text-align: right;\n",
              "    }\n",
              "</style>\n",
              "<table border=\"1\" class=\"dataframe\">\n",
              "  <thead>\n",
              "    <tr style=\"text-align: right;\">\n",
              "      <th></th>\n",
              "      <th>city</th>\n",
              "      <th>year</th>\n",
              "      <th>brand</th>\n",
              "      <th>model</th>\n",
              "      <th>color</th>\n",
              "      <th>body_type</th>\n",
              "      <th>engine</th>\n",
              "      <th>engine_power</th>\n",
              "      <th>fuel_type</th>\n",
              "      <th>kilometrage</th>\n",
              "      <th>transmission</th>\n",
              "      <th>drivetrain</th>\n",
              "      <th>new</th>\n",
              "      <th>price</th>\n",
              "    </tr>\n",
              "  </thead>\n",
              "  <tbody>\n",
              "    <tr>\n",
              "      <th>0</th>\n",
              "      <td>Bakı</td>\n",
              "      <td>2014</td>\n",
              "      <td>Kia</td>\n",
              "      <td>Sorento</td>\n",
              "      <td>Yaş Asfalt</td>\n",
              "      <td>Offroader / SUV</td>\n",
              "      <td>2.2 L</td>\n",
              "      <td>197 a.g.</td>\n",
              "      <td>Dizel</td>\n",
              "      <td>129 000 km</td>\n",
              "      <td>Avtomat</td>\n",
              "      <td>Tam</td>\n",
              "      <td>Xeyr</td>\n",
              "      <td>46 300 AZN</td>\n",
              "    </tr>\n",
              "    <tr>\n",
              "      <th>1</th>\n",
              "      <td>Bakı</td>\n",
              "      <td>2013</td>\n",
              "      <td>Kia</td>\n",
              "      <td>Rio</td>\n",
              "      <td>Qara</td>\n",
              "      <td>Sedan</td>\n",
              "      <td>1.4 L</td>\n",
              "      <td>107 a.g.</td>\n",
              "      <td>Benzin</td>\n",
              "      <td>160 000 km</td>\n",
              "      <td>Avtomat</td>\n",
              "      <td>Ön</td>\n",
              "      <td>Xeyr</td>\n",
              "      <td>17 500 AZN</td>\n",
              "    </tr>\n",
              "    <tr>\n",
              "      <th>2</th>\n",
              "      <td>Bakı</td>\n",
              "      <td>2015</td>\n",
              "      <td>Kia</td>\n",
              "      <td>Sorento</td>\n",
              "      <td>Ağ</td>\n",
              "      <td>Offroader / SUV</td>\n",
              "      <td>2.0 L</td>\n",
              "      <td>184 a.g.</td>\n",
              "      <td>Dizel</td>\n",
              "      <td>82 000 km</td>\n",
              "      <td>Avtomat</td>\n",
              "      <td>Ön</td>\n",
              "      <td>Xeyr</td>\n",
              "      <td>25 900 $</td>\n",
              "    </tr>\n",
              "  </tbody>\n",
              "</table>\n",
              "</div>\n",
              "      <button class=\"colab-df-convert\" onclick=\"convertToInteractive('df-b1e236b2-8908-4b9b-9915-6616701dd538')\"\n",
              "              title=\"Convert this dataframe to an interactive table.\"\n",
              "              style=\"display:none;\">\n",
              "        \n",
              "  <svg xmlns=\"http://www.w3.org/2000/svg\" height=\"24px\"viewBox=\"0 0 24 24\"\n",
              "       width=\"24px\">\n",
              "    <path d=\"M0 0h24v24H0V0z\" fill=\"none\"/>\n",
              "    <path d=\"M18.56 5.44l.94 2.06.94-2.06 2.06-.94-2.06-.94-.94-2.06-.94 2.06-2.06.94zm-11 1L8.5 8.5l.94-2.06 2.06-.94-2.06-.94L8.5 2.5l-.94 2.06-2.06.94zm10 10l.94 2.06.94-2.06 2.06-.94-2.06-.94-.94-2.06-.94 2.06-2.06.94z\"/><path d=\"M17.41 7.96l-1.37-1.37c-.4-.4-.92-.59-1.43-.59-.52 0-1.04.2-1.43.59L10.3 9.45l-7.72 7.72c-.78.78-.78 2.05 0 2.83L4 21.41c.39.39.9.59 1.41.59.51 0 1.02-.2 1.41-.59l7.78-7.78 2.81-2.81c.8-.78.8-2.07 0-2.86zM5.41 20L4 18.59l7.72-7.72 1.47 1.35L5.41 20z\"/>\n",
              "  </svg>\n",
              "      </button>\n",
              "      \n",
              "  <style>\n",
              "    .colab-df-container {\n",
              "      display:flex;\n",
              "      flex-wrap:wrap;\n",
              "      gap: 12px;\n",
              "    }\n",
              "\n",
              "    .colab-df-convert {\n",
              "      background-color: #E8F0FE;\n",
              "      border: none;\n",
              "      border-radius: 50%;\n",
              "      cursor: pointer;\n",
              "      display: none;\n",
              "      fill: #1967D2;\n",
              "      height: 32px;\n",
              "      padding: 0 0 0 0;\n",
              "      width: 32px;\n",
              "    }\n",
              "\n",
              "    .colab-df-convert:hover {\n",
              "      background-color: #E2EBFA;\n",
              "      box-shadow: 0px 1px 2px rgba(60, 64, 67, 0.3), 0px 1px 3px 1px rgba(60, 64, 67, 0.15);\n",
              "      fill: #174EA6;\n",
              "    }\n",
              "\n",
              "    [theme=dark] .colab-df-convert {\n",
              "      background-color: #3B4455;\n",
              "      fill: #D2E3FC;\n",
              "    }\n",
              "\n",
              "    [theme=dark] .colab-df-convert:hover {\n",
              "      background-color: #434B5C;\n",
              "      box-shadow: 0px 1px 3px 1px rgba(0, 0, 0, 0.15);\n",
              "      filter: drop-shadow(0px 1px 2px rgba(0, 0, 0, 0.3));\n",
              "      fill: #FFFFFF;\n",
              "    }\n",
              "  </style>\n",
              "\n",
              "      <script>\n",
              "        const buttonEl =\n",
              "          document.querySelector('#df-b1e236b2-8908-4b9b-9915-6616701dd538 button.colab-df-convert');\n",
              "        buttonEl.style.display =\n",
              "          google.colab.kernel.accessAllowed ? 'block' : 'none';\n",
              "\n",
              "        async function convertToInteractive(key) {\n",
              "          const element = document.querySelector('#df-b1e236b2-8908-4b9b-9915-6616701dd538');\n",
              "          const dataTable =\n",
              "            await google.colab.kernel.invokeFunction('convertToInteractive',\n",
              "                                                     [key], {});\n",
              "          if (!dataTable) return;\n",
              "\n",
              "          const docLinkHtml = 'Like what you see? Visit the ' +\n",
              "            '<a target=\"_blank\" href=https://colab.research.google.com/notebooks/data_table.ipynb>data table notebook</a>'\n",
              "            + ' to learn more about interactive tables.';\n",
              "          element.innerHTML = '';\n",
              "          dataTable['output_type'] = 'display_data';\n",
              "          await google.colab.output.renderOutput(dataTable, element);\n",
              "          const docLink = document.createElement('div');\n",
              "          docLink.innerHTML = docLinkHtml;\n",
              "          element.appendChild(docLink);\n",
              "        }\n",
              "      </script>\n",
              "    </div>\n",
              "  </div>\n",
              "  "
            ],
            "text/plain": [
              "   city  year brand    model  ... transmission drivetrain   new       price\n",
              "0  Bakı  2014   Kia  Sorento  ...      Avtomat        Tam  Xeyr  46 300 AZN\n",
              "1  Bakı  2013   Kia      Rio  ...      Avtomat         Ön  Xeyr  17 500 AZN\n",
              "2  Bakı  2015   Kia  Sorento  ...      Avtomat         Ön  Xeyr    25 900 $\n",
              "\n",
              "[3 rows x 14 columns]"
            ]
          },
          "metadata": {},
          "execution_count": 319
        }
      ]
    },
    {
      "cell_type": "markdown",
      "source": [
        " Firstly, Let's look for inconsistencies in dataset. We can clearly see that when some columns should be numeric column they are in object type. Such as `Price` , `Engine`, `Kilometrage`, `engine_power`. Let's transform them to numeric columns first"
      ],
      "metadata": {
        "id": "9MBjrBFKB8ve"
      }
    },
    {
      "cell_type": "markdown",
      "source": [
        "### `Price` column"
      ],
      "metadata": {
        "id": "LPNZDqTEC7hU"
      }
    },
    {
      "cell_type": "code",
      "source": [
        "# Since values in price column are in different currencies. we should convert all to AZN\n",
        "df['currency_price'] = df['price']"
      ],
      "metadata": {
        "id": "bm1AIfKTDI9O"
      },
      "execution_count": 320,
      "outputs": []
    },
    {
      "cell_type": "code",
      "source": [
        "df['price'] = df['price'].str.replace(' ', '')\n",
        "df['price'] = df['price'].str.replace('AZN', '')\n",
        "df['price'] = df['price'].str.replace('$', '')\n",
        "df['price'] = df['price'].str.replace('€', '')\n",
        "df['price'] = df['price'].astype(str).astype(int)"
      ],
      "metadata": {
        "id": "3CKzlfaUBwSl"
      },
      "execution_count": 321,
      "outputs": []
    },
    {
      "cell_type": "code",
      "source": [
        "df.loc[df['currency_price'].str.contains('\\$'), 'price'] = df['price'] * 1.7\n",
        "# Right now US Dollars to Azerbaijan Manats Exchange Rate is 1.7\n",
        "df.loc[df['currency_price'].str.contains('€'), 'price'] = df['price'] * 1.9\n",
        "# Right now Euros to Azerbaijan Manats Exchange Rate is 1.9"
      ],
      "metadata": {
        "id": "Jyo3iU3wE5dt"
      },
      "execution_count": 322,
      "outputs": []
    },
    {
      "cell_type": "code",
      "source": [
        "df['price(AZN)'] = df['price']\n",
        "df.drop(['currency_price', 'price'],axis = 1, inplace = True)"
      ],
      "metadata": {
        "id": "UCaj35C_H9GV"
      },
      "execution_count": 323,
      "outputs": []
    },
    {
      "cell_type": "markdown",
      "source": [
        "### `Engine` column"
      ],
      "metadata": {
        "id": "8NGU-0TUIlhV"
      }
    },
    {
      "cell_type": "code",
      "source": [
        "df['engine'].unique()"
      ],
      "metadata": {
        "colab": {
          "base_uri": "https://localhost:8080/"
        },
        "id": "CXW99JMGIl2_",
        "outputId": "f09cf19d-8539-4d0e-dc6d-2ce069aba53b"
      },
      "execution_count": 324,
      "outputs": [
        {
          "output_type": "execute_result",
          "data": {
            "text/plain": [
              "array(['2.2 L', '1.4 L', '2.0 L', '1.6 L', '1.5 L', '1.3 L', '3.5 L',\n",
              "       '3.3 L', '2.5 L', '2.4 L', '2.7 L', '1.0 L', '1.8 L', '1.7 L',\n",
              "       '3.8 L', '1.1 L', '3.0 L', '1.2 L', '2.8 L', '2.9 L', '4.6 L'],\n",
              "      dtype=object)"
            ]
          },
          "metadata": {},
          "execution_count": 324
        }
      ]
    },
    {
      "cell_type": "code",
      "source": [
        "df['engine(L)'] = df['engine'].str.replace(' L','')\n",
        "df['engine(L)'] = df['engine(L)'].astype(str).astype(float)\n",
        "df.drop(['engine'], axis = 1, inplace = True)"
      ],
      "metadata": {
        "id": "p3cDxz4pIl5j"
      },
      "execution_count": 326,
      "outputs": []
    },
    {
      "cell_type": "markdown",
      "source": [
        "### `Kilometrage` column"
      ],
      "metadata": {
        "id": "tIhgIxk8JcMg"
      }
    },
    {
      "cell_type": "code",
      "source": [
        "df['kilometrage'].unique()"
      ],
      "metadata": {
        "colab": {
          "base_uri": "https://localhost:8080/"
        },
        "id": "A0HgkPzYJbsx",
        "outputId": "55eca344-c9d6-4aea-d3eb-1f568da14b9e"
      },
      "execution_count": 327,
      "outputs": [
        {
          "output_type": "execute_result",
          "data": {
            "text/plain": [
              "array(['129 000 km', '160 000 km', '82 000 km', ..., '9 000 km',\n",
              "       '60 118 km', '171 554 km'], dtype=object)"
            ]
          },
          "metadata": {},
          "execution_count": 327
        }
      ]
    },
    {
      "cell_type": "code",
      "source": [
        "df['kilometrage'] = df['kilometrage'].str.replace(' km', '')\n",
        "df['kilometrage'] = df['kilometrage'].str.replace(' ', '')\n",
        "df['kilometrage'] = df['kilometrage'].astype(str).astype(int)"
      ],
      "metadata": {
        "id": "YWG676v_Il8c"
      },
      "execution_count": 328,
      "outputs": []
    },
    {
      "cell_type": "markdown",
      "source": [
        "### `Engine_power` column"
      ],
      "metadata": {
        "id": "GlwiQKYdKMzj"
      }
    },
    {
      "cell_type": "code",
      "source": [
        "df['engine_power'].unique()"
      ],
      "metadata": {
        "colab": {
          "base_uri": "https://localhost:8080/"
        },
        "id": "J0oOKAH6ImAr",
        "outputId": "3e6e855d-a5bd-4112-cc26-67388a3689b3"
      },
      "execution_count": 329,
      "outputs": [
        {
          "output_type": "execute_result",
          "data": {
            "text/plain": [
              "array(['197 a.g.', '107 a.g.', '184 a.g.', '274 a.g.', '140 a.g.',\n",
              "       '109 a.g.', '115 a.g.', '85 a.g.', '80 a.g.', '290 a.g.',\n",
              "       '293 a.g.', '170 a.g.', '97 a.g.', '116 a.g.', '174 a.g.',\n",
              "       '166 a.g.', '112 a.g.', '150 a.g.', '178 a.g.', '165 a.g.',\n",
              "       '175 a.g.', '180 a.g.', '176 a.g.', '141 a.g.', '125 a.g.',\n",
              "       '123 a.g.', '202 a.g.', '186 a.g.', '133 a.g.', '247 a.g.',\n",
              "       '122 a.g.', '132 a.g.', '181 a.g.', '129 a.g.', '130 a.g.',\n",
              "       '144 a.g.', '100 a.g.', '370 a.g.', '188 a.g.', '60 a.g.',\n",
              "       '128 a.g.', '163 a.g.', '75 a.g.', '121 a.g.', '110 a.g.',\n",
              "       '124 a.g.', '15 a.g.', '149 a.g.', '248 a.g.', '99 a.g.',\n",
              "       '262 a.g.', '105 a.g.', '90 a.g.', '185 a.g.', '126 a.g.',\n",
              "       '145 a.g.', '64 a.g.', '96 a.g.', '82 a.g.', '69 a.g.', '177 a.g.',\n",
              "       '245 a.g.', '156 a.g.', '200 a.g.', '84 a.g.', '204 a.g.',\n",
              "       '65 a.g.', '127 a.g.', '278 a.g.', '136 a.g.', '240 a.g.',\n",
              "       '94 a.g.', '192 a.g.', '143 a.g.', '277 a.g.', '148 a.g.',\n",
              "       '88 a.g.', '101 a.g.', '195 a.g.', '92 a.g.', '87 a.g.',\n",
              "       '102 a.g.', '154 a.g.', '187 a.g.', '276 a.g.', '266 a.g.',\n",
              "       '118 a.g.', '183 a.g.', '194 a.g.', '189 a.g.', '83 a.g.',\n",
              "       '167 a.g.', '294 a.g.', '160 a.g.', '250 a.g.', '95 a.g.',\n",
              "       '275 a.g.', '113 a.g.', '243 a.g.', '190 a.g.', '340 a.g.',\n",
              "       '198 a.g.', '139 a.g.'], dtype=object)"
            ]
          },
          "metadata": {},
          "execution_count": 329
        }
      ]
    },
    {
      "cell_type": "code",
      "source": [
        "df['engine_power(hp)'] = df['engine_power'].str.replace(' a.g.', '')\n",
        "df['engine_power(hp)'] = df['engine_power(hp)'].astype(str).astype(int)\n",
        "df.drop(['engine_power'],axis = 1, inplace = True)"
      ],
      "metadata": {
        "id": "QIop72eUImDj"
      },
      "execution_count": 330,
      "outputs": []
    },
    {
      "cell_type": "markdown",
      "source": [
        "#### Let's analyse the numeric columns and their statistics"
      ],
      "metadata": {
        "id": "MgL_mYLQM3fH"
      }
    },
    {
      "cell_type": "code",
      "source": [
        "df.describe()"
      ],
      "metadata": {
        "colab": {
          "base_uri": "https://localhost:8080/",
          "height": 300
        },
        "id": "_jb6MCuELivc",
        "outputId": "92053223-b454-4186-e615-73e50596a33f"
      },
      "execution_count": 332,
      "outputs": [
        {
          "output_type": "execute_result",
          "data": {
            "text/html": [
              "\n",
              "  <div id=\"df-72e67788-6c85-4ef9-90a7-655819fa6ba4\">\n",
              "    <div class=\"colab-df-container\">\n",
              "      <div>\n",
              "<style scoped>\n",
              "    .dataframe tbody tr th:only-of-type {\n",
              "        vertical-align: middle;\n",
              "    }\n",
              "\n",
              "    .dataframe tbody tr th {\n",
              "        vertical-align: top;\n",
              "    }\n",
              "\n",
              "    .dataframe thead th {\n",
              "        text-align: right;\n",
              "    }\n",
              "</style>\n",
              "<table border=\"1\" class=\"dataframe\">\n",
              "  <thead>\n",
              "    <tr style=\"text-align: right;\">\n",
              "      <th></th>\n",
              "      <th>year</th>\n",
              "      <th>kilometrage</th>\n",
              "      <th>price(AZN)</th>\n",
              "      <th>engine(L)</th>\n",
              "      <th>engine_power(hp)</th>\n",
              "    </tr>\n",
              "  </thead>\n",
              "  <tbody>\n",
              "    <tr>\n",
              "      <th>count</th>\n",
              "      <td>2415.000000</td>\n",
              "      <td>2415.000000</td>\n",
              "      <td>2415.000000</td>\n",
              "      <td>2415.000000</td>\n",
              "      <td>2415.000000</td>\n",
              "    </tr>\n",
              "    <tr>\n",
              "      <th>mean</th>\n",
              "      <td>2010.619462</td>\n",
              "      <td>158181.221118</td>\n",
              "      <td>20879.154451</td>\n",
              "      <td>1.820994</td>\n",
              "      <td>152.585093</td>\n",
              "    </tr>\n",
              "    <tr>\n",
              "      <th>std</th>\n",
              "      <td>3.984814</td>\n",
              "      <td>72483.538175</td>\n",
              "      <td>10173.155566</td>\n",
              "      <td>0.410430</td>\n",
              "      <td>54.061934</td>\n",
              "    </tr>\n",
              "    <tr>\n",
              "      <th>min</th>\n",
              "      <td>1995.000000</td>\n",
              "      <td>0.000000</td>\n",
              "      <td>3300.000000</td>\n",
              "      <td>1.000000</td>\n",
              "      <td>15.000000</td>\n",
              "    </tr>\n",
              "    <tr>\n",
              "      <th>25%</th>\n",
              "      <td>2008.000000</td>\n",
              "      <td>110000.000000</td>\n",
              "      <td>13300.000000</td>\n",
              "      <td>1.500000</td>\n",
              "      <td>109.000000</td>\n",
              "    </tr>\n",
              "    <tr>\n",
              "      <th>50%</th>\n",
              "      <td>2011.000000</td>\n",
              "      <td>157716.000000</td>\n",
              "      <td>18000.000000</td>\n",
              "      <td>2.000000</td>\n",
              "      <td>141.000000</td>\n",
              "    </tr>\n",
              "    <tr>\n",
              "      <th>75%</th>\n",
              "      <td>2013.000000</td>\n",
              "      <td>197516.500000</td>\n",
              "      <td>26300.000000</td>\n",
              "      <td>2.000000</td>\n",
              "      <td>184.000000</td>\n",
              "    </tr>\n",
              "    <tr>\n",
              "      <th>max</th>\n",
              "      <td>2021.000000</td>\n",
              "      <td>556545.000000</td>\n",
              "      <td>93500.000000</td>\n",
              "      <td>4.600000</td>\n",
              "      <td>370.000000</td>\n",
              "    </tr>\n",
              "  </tbody>\n",
              "</table>\n",
              "</div>\n",
              "      <button class=\"colab-df-convert\" onclick=\"convertToInteractive('df-72e67788-6c85-4ef9-90a7-655819fa6ba4')\"\n",
              "              title=\"Convert this dataframe to an interactive table.\"\n",
              "              style=\"display:none;\">\n",
              "        \n",
              "  <svg xmlns=\"http://www.w3.org/2000/svg\" height=\"24px\"viewBox=\"0 0 24 24\"\n",
              "       width=\"24px\">\n",
              "    <path d=\"M0 0h24v24H0V0z\" fill=\"none\"/>\n",
              "    <path d=\"M18.56 5.44l.94 2.06.94-2.06 2.06-.94-2.06-.94-.94-2.06-.94 2.06-2.06.94zm-11 1L8.5 8.5l.94-2.06 2.06-.94-2.06-.94L8.5 2.5l-.94 2.06-2.06.94zm10 10l.94 2.06.94-2.06 2.06-.94-2.06-.94-.94-2.06-.94 2.06-2.06.94z\"/><path d=\"M17.41 7.96l-1.37-1.37c-.4-.4-.92-.59-1.43-.59-.52 0-1.04.2-1.43.59L10.3 9.45l-7.72 7.72c-.78.78-.78 2.05 0 2.83L4 21.41c.39.39.9.59 1.41.59.51 0 1.02-.2 1.41-.59l7.78-7.78 2.81-2.81c.8-.78.8-2.07 0-2.86zM5.41 20L4 18.59l7.72-7.72 1.47 1.35L5.41 20z\"/>\n",
              "  </svg>\n",
              "      </button>\n",
              "      \n",
              "  <style>\n",
              "    .colab-df-container {\n",
              "      display:flex;\n",
              "      flex-wrap:wrap;\n",
              "      gap: 12px;\n",
              "    }\n",
              "\n",
              "    .colab-df-convert {\n",
              "      background-color: #E8F0FE;\n",
              "      border: none;\n",
              "      border-radius: 50%;\n",
              "      cursor: pointer;\n",
              "      display: none;\n",
              "      fill: #1967D2;\n",
              "      height: 32px;\n",
              "      padding: 0 0 0 0;\n",
              "      width: 32px;\n",
              "    }\n",
              "\n",
              "    .colab-df-convert:hover {\n",
              "      background-color: #E2EBFA;\n",
              "      box-shadow: 0px 1px 2px rgba(60, 64, 67, 0.3), 0px 1px 3px 1px rgba(60, 64, 67, 0.15);\n",
              "      fill: #174EA6;\n",
              "    }\n",
              "\n",
              "    [theme=dark] .colab-df-convert {\n",
              "      background-color: #3B4455;\n",
              "      fill: #D2E3FC;\n",
              "    }\n",
              "\n",
              "    [theme=dark] .colab-df-convert:hover {\n",
              "      background-color: #434B5C;\n",
              "      box-shadow: 0px 1px 3px 1px rgba(0, 0, 0, 0.15);\n",
              "      filter: drop-shadow(0px 1px 2px rgba(0, 0, 0, 0.3));\n",
              "      fill: #FFFFFF;\n",
              "    }\n",
              "  </style>\n",
              "\n",
              "      <script>\n",
              "        const buttonEl =\n",
              "          document.querySelector('#df-72e67788-6c85-4ef9-90a7-655819fa6ba4 button.colab-df-convert');\n",
              "        buttonEl.style.display =\n",
              "          google.colab.kernel.accessAllowed ? 'block' : 'none';\n",
              "\n",
              "        async function convertToInteractive(key) {\n",
              "          const element = document.querySelector('#df-72e67788-6c85-4ef9-90a7-655819fa6ba4');\n",
              "          const dataTable =\n",
              "            await google.colab.kernel.invokeFunction('convertToInteractive',\n",
              "                                                     [key], {});\n",
              "          if (!dataTable) return;\n",
              "\n",
              "          const docLinkHtml = 'Like what you see? Visit the ' +\n",
              "            '<a target=\"_blank\" href=https://colab.research.google.com/notebooks/data_table.ipynb>data table notebook</a>'\n",
              "            + ' to learn more about interactive tables.';\n",
              "          element.innerHTML = '';\n",
              "          dataTable['output_type'] = 'display_data';\n",
              "          await google.colab.output.renderOutput(dataTable, element);\n",
              "          const docLink = document.createElement('div');\n",
              "          docLink.innerHTML = docLinkHtml;\n",
              "          element.appendChild(docLink);\n",
              "        }\n",
              "      </script>\n",
              "    </div>\n",
              "  </div>\n",
              "  "
            ],
            "text/plain": [
              "              year    kilometrage    price(AZN)    engine(L)  engine_power(hp)\n",
              "count  2415.000000    2415.000000   2415.000000  2415.000000       2415.000000\n",
              "mean   2010.619462  158181.221118  20879.154451     1.820994        152.585093\n",
              "std       3.984814   72483.538175  10173.155566     0.410430         54.061934\n",
              "min    1995.000000       0.000000   3300.000000     1.000000         15.000000\n",
              "25%    2008.000000  110000.000000  13300.000000     1.500000        109.000000\n",
              "50%    2011.000000  157716.000000  18000.000000     2.000000        141.000000\n",
              "75%    2013.000000  197516.500000  26300.000000     2.000000        184.000000\n",
              "max    2021.000000  556545.000000  93500.000000     4.600000        370.000000"
            ]
          },
          "metadata": {},
          "execution_count": 332
        }
      ]
    },
    {
      "cell_type": "markdown",
      "source": [
        "`price(AZN):` The average price for second hand Kia car in Azerbaijan is around 20 800 AZN, highest price is 93 500 AZN but also cheapest ones around 3300 AZN can be found.\n",
        "\n",
        "`kilometrage:` The mean kilometrage for used KIA cars are 158k km and highest one is 556k km. There also unused cars as well with 0 kilometrage.\n",
        "\n",
        "`engine_power(hp):` The average horsepower is around 152. Most powerful car has a horsepower of 370 while the least power car has a horsepower around 15.\n",
        "\n"
      ],
      "metadata": {
        "id": "jYHeq5ivNA4g"
      }
    },
    {
      "cell_type": "code",
      "source": [
        "# Firstly, let's look at number of cars per model \n",
        "df['model'].value_counts().plot(kind = 'bar', figsize = (18,6),fontsize = 12.5)\n",
        "plt.xlabel('Model',fontsize = 13.5,color = 'blue')\n",
        "plt.title('Number of Cars Per Model',fontsize=15, color = 'blue')"
      ],
      "metadata": {
        "colab": {
          "base_uri": "https://localhost:8080/",
          "height": 497
        },
        "id": "WAZxRn7jSXLq",
        "outputId": "3fef5755-795f-4e9d-ba0f-8cb9e13b3a53"
      },
      "execution_count": 198,
      "outputs": [
        {
          "output_type": "execute_result",
          "data": {
            "text/plain": [
              "Text(0.5, 1.0, 'Number of Cars Per Model')"
            ]
          },
          "metadata": {},
          "execution_count": 198
        },
        {
          "output_type": "display_data",
          "data": {
            "image/png": "[encoded data removed]",
            "text/plain": [
              "<Figure size 1296x432 with 1 Axes>"
            ]
          },
          "metadata": {}
        }
      ]
    },
    {
      "cell_type": "markdown",
      "source": [
        " Most of the car models for sale are `Sorento`, `Rio`, `Ceed`, `Optima` and `Cerato` "
      ],
      "metadata": {
        "id": "3Cz3KgHDaOtU"
      }
    },
    {
      "cell_type": "code",
      "source": [
        "regions = df['city'].value_counts()\n",
        "more_cars_regions = regions[regions > 10]\n",
        "more_cars_regions.plot(kind = 'pie', figsize = (8,8),fontsize = 12.5, \n",
        "                                     explode = (0.05, 0.05,0.05, 0.05), \n",
        "                                     ylabel = '', \n",
        "                                     legend=True, \n",
        "                                     startangle= 150)\n",
        "plt.title('Cars by Region with More Than 10',fontsize=15, color = '#006400')"
      ],
      "metadata": {
        "colab": {
          "base_uri": "https://localhost:8080/",
          "height": 502
        },
        "id": "ASke736sfohb",
        "outputId": "8da930a9-bd79-4f78-ad10-3ef0bd223bd5"
      },
      "execution_count": 199,
      "outputs": [
        {
          "output_type": "execute_result",
          "data": {
            "text/plain": [
              "Text(0.5, 1.0, 'Cars by Region with More Than 10')"
            ]
          },
          "metadata": {},
          "execution_count": 199
        },
        {
          "output_type": "display_data",
          "data": {
            "image/png": "[encoded data removed]",
            "text/plain": [
              "<Figure size 576x576 with 1 Axes>"
            ]
          },
          "metadata": {}
        }
      ]
    },
    {
      "cell_type": "markdown",
      "source": [
        "Regions with most of the cars are `Bakl`, `Sumqayıt`, `Gəncə` and `Xırdalan`"
      ],
      "metadata": {
        "id": "xaha1uYmfyVS"
      }
    },
    {
      "cell_type": "code",
      "source": [
        "df['year'].value_counts().plot(kind = 'bar', figsize = (18,6),fontsize = 12.5,color = '#006400')\n",
        "plt.xlabel('Year',fontsize = 13.5,color = '#006400')\n",
        "plt.title('Cars by Model Year',fontsize=15, color = '#006400')"
      ],
      "metadata": {
        "colab": {
          "base_uri": "https://localhost:8080/",
          "height": 452
        },
        "id": "x9Gcwl_gUCgc",
        "outputId": "77845822-b91a-46ef-82a9-3c350748f88b"
      },
      "execution_count": 200,
      "outputs": [
        {
          "output_type": "execute_result",
          "data": {
            "text/plain": [
              "Text(0.5, 1.0, 'Cars by Model Year')"
            ]
          },
          "metadata": {},
          "execution_count": 200
        },
        {
          "output_type": "display_data",
          "data": {
            "image/png": "[encoded data removed]",
            "text/plain": [
              "<Figure size 1296x432 with 1 Axes>"
            ]
          },
          "metadata": {}
        }
      ]
    },
    {
      "cell_type": "markdown",
      "source": [
        "Model year of most of the cars are `2008`, `2013`, `2011`, `2015` and `2014` "
      ],
      "metadata": {
        "id": "cQnOcRH-a-y9"
      }
    },
    {
      "cell_type": "code",
      "source": [
        "df['price'] = df['price'].str.replace(' ', '')\n",
        "df['price'] = df['price'].str.replace('AZN', '')\n",
        "df['price'] = df['price'].str.replace('$', '')\n",
        "df['price'] = df['price'].str.replace('€', '')\n",
        "df['price'] = df['price'].astype(str).astype(int)"
      ],
      "metadata": {
        "id": "d3GMjCvrh6QO"
      },
      "execution_count": 201,
      "outputs": []
    },
    {
      "cell_type": "code",
      "source": [
        "expensive_models = df.sort_values('price', ascending = False).head(10)\n",
        "expensive_models.plot(kind = 'bar', x = 'model', y = 'price', figsize = (16,6),fontsize = 12.5,color = '#702963')\n",
        "plt.xlabel('Model',fontsize = 14,color = '#702963')\n",
        "plt.ylabel('Price',fontsize = 14,color = '#702963')\n",
        "plt.title('Cars by Model Year',fontsize=15, color = '#702963')"
      ],
      "metadata": {
        "colab": {
          "base_uri": "https://localhost:8080/",
          "height": 478
        },
        "id": "E2I5FxwApmjS",
        "outputId": "d6fa2257-3fc2-45b5-e558-fb2fe518d981"
      },
      "execution_count": 202,
      "outputs": [
        {
          "output_type": "execute_result",
          "data": {
            "text/plain": [
              "Text(0.5, 1.0, 'Cars by Model Year')"
            ]
          },
          "metadata": {},
          "execution_count": 202
        },
        {
          "output_type": "display_data",
          "data": {
            "image/png": "[encoded data removed]",
            "text/plain": [
              "<Figure size 1152x432 with 1 Axes>"
            ]
          },
          "metadata": {}
        }
      ]
    },
    {
      "cell_type": "code",
      "source": [
        "fig = px.histogram(df, x=\"price\", marginal=\"box\", title='Price Distribution of Cars')\n",
        "fig.update_layout(yaxis_title = 'Number of cars')\n",
        "fig.update_layout(xaxis_title = 'Price')"
      ],
      "metadata": {
        "colab": {
          "base_uri": "https://localhost:8080/",
          "height": 542
        },
        "id": "pvWHFzdWi7JM",
        "outputId": "c54fd029-e7ba-4de1-aea2-d4e952e41f0d"
      },
      "execution_count": 206,
      "outputs": [
        {
          "output_type": "display_data",
          "data": {
            "text/html": [
              "<html>\n",
              "<head><meta charset=\"utf-8\" /></head>\n",
              "<body>\n",
              "    <div>            <script src=\"https://cdnjs.cloudflare.com/ajax/libs/mathjax/2.7.5/MathJax.js?config=TeX-AMS-MML_SVG\"></script><script type=\"text/javascript\">if (window.MathJax) {MathJax.Hub.Config({SVG: {font: \"STIX-Web\"}});}</script>                <script type=\"text/javascript\">window.PlotlyConfig = {MathJaxConfig: 'local'};</script>\n",
              "        <script src=\"https://cdn.plot.ly/plotly-2.8.3.min.js\"></script>                <div id=\"d475d713-8768-42e1-a2af-1ff15245af99\" class=\"plotly-graph-div\" style=\"height:525px; width:100%;\"></div>            <script type=\"text/javascript\">                                    window.PLOTLYENV=window.PLOTLYENV || {};                                    if (document.getElementById(\"d475d713-8768-42e1-a2af-1ff15245af99\")) {                    Plotly.newPlot(                        \"d475d713-8768-42e1-a2af-1ff15245af99\",                        [{\"alignmentgroup\":\"True\",\"bingroup\":\"x\",\"hovertemplate\":\"price=%{x}<br>count=%{y}<extra></extra>\",\"legendgroup\":\"\",\"marker\":{\"color\":\"#636efa\",\"pattern\":{\"shape\":\"\"}},\"name\":\"\",\"offsetgroup\":\"\",\"orientation\":\"v\",\"showlegend\":false,\"x\":[46300,17500,25900,21800,18800,12800,13900,24500,12500,14900,14500,13500,23900,15500,28300,23900,5200,13400,31900,31800,12999,15200,16800,12300,11800,18300,13990,12800,28300,26800,24900,13700,11000,9000,26500,27200,25900,43900,32700,21800,16800,11000,14500,19500,45500,33000,28000,26500,14900,29000,11000,32900,21000,28800,26400,19700,14500,45000,26500,15000,30500,23500,12900,49600,10500,24300,14500,43000,29400,13400,17300,3500,21800,37500,32700,45500,33300,15900,10700,21900,17400,27500,13700,33600,12200,16400,26900,27300,15400,15800,13900,36000,28000,17500,16900,23500,16000,25450,34500,14900,25200,16200,17000,13000,13800,24600,32500,27600,45500,37900,43900,37500,32700,36000,18500,13200,11000,14900,23000,14100,32000,24500,32000,29200,23400,12000,15500,14800,18800,15000,12800,45900,29800,24900,13500,27300,33500,13850,24300,13600,23800,11500,11000,11900,25900,31400,21800,24500,12800,11000,28300,15900,15900,13700,21900,19000,38900,21300,4700,16900,11200,11800,16800,11700,25800,30590,9800,29900,17400,10600,14200,26500,15500,22500,13800,10600,32000,9900,27000,15000,24500,31400,37500,21800,28300,22500,13400,26200,36000,15900,11900,33300,10000,27500,11200,11000,16800,14200,11800,13200,31500,14000,15900,22600,43400,15600,18500,21000,14200,12700,22900,11700,11200,47800,12400,28500,37500,25900,29200,46300,18800,17800,34700,25900,42300,20800,26600,15900,27800,33700,18500,43700,11900,34900,11300,17200,11400,23900,11700,25500,24900,18800,21800,24900,20700,27500,14900,13900,15300,13800,14100,23800,43900,31400,37900,45500,12300,32500,10400,14900,31300,32700,18800,14900,21900,25400,26300,34200,11200,23500,9000,38200,12100,11200,25000,27800,14400,44000,13300,27300,17800,11500,21900,20650,15000,12700,18500,36000,21800,46300,31400,25900,16500,14500,32500,25200,13900,31300,11000,9000,13000,12900,11000,21500,10900,10700,27500,21800,13900,16500,17500,33400,22000,22500,33800,25900,19500,21300,41900,19800,19500,12000,31900,11900,31400,37900,24500,25900,14500,26200,26500,24400,18500,17400,13500,26900,29800,19400,15900,9000,29900,28900,18044,28900,11900,11700,11500,35000,9300,23000,18900,13500,15300,15300,15600,40800,34850,11800,11400,11350,17500,37900,24500,17000,23000,10700,25900,23600,18800,33600,33500,14900,31000,20900,21900,28500,16800,17500,17300,11900,18500,24300,47500,23900,11800,18900,27900,21500,25500,21500,11900,11500,23700,12900,74800,11400,29200,17500,31400,46300,12800,10300,15900,13900,16500,11000,26600,23600,20000,26500,15700,30900,23700,15200,14500,18800,41900,31850,13500,13500,26600,30900,32800,20800,15500,27800,25800,29300,11300,25800,24500,18500,17500,31400,21800,46300,11500,10400,24500,32700,13200,31000,27500,34700,26000,27500,23900,29500,31000,33500,27500,27500,28500,19300,30800,45800,36000,28400,27500,48900,18400,24700,19200,20800,29900,17800,16900,26000,37900,25900,21800,37500,18800,21000,24500,27500,25900,27800,19500,32700,11400,22700,9000,10500,31200,14300,34500,29500,15900,12200,27500,32000,15500,16500,27250,18500,16900,16000,18700,25800,13800,12200,23500,11750,46300,29200,31400,17000,13400,12300,12400,14900,15900,42300,11000,34700,11800,15000,26700,18300,19800,13300,14800,76900,20800,22800,13500,12600,11600,25000,30600,15100,26600,28900,24900,21000,13600,21100,15300,13800,24500,17500,43900,31400,26900,32500,10400,26200,10700,21000,33600,22500,32700,14300,15800,19200,11500,25500,30000,35500,22200,14400,12300,22300,14900,12000,24300,11600,25500,19200,17700,15500,10800,20500,14500,18800,46300,32700,43900,45500,34700,12800,14500,25200,32700,28300,11900,14100,16800,23800,22500,23900,19900,24500,26700,27500,27700,24900,17200,13800,12900,28500,21800,22900,12900,35800,15900,18800,20600,21500,37500,10900,24500,43900,17000,37900,32500,32700,25450,33600,42500,14900,11900,9000,11000,17400,24800,33800,21300,10700,25700,11900,10900,35800,19500,25740,34000,10900,11900,10900,13700,14000,46000,15600,26500,25900,16500,32900,43900,21800,45500,29200,22500,28000,14500,16500,19500,13900,18800,11000,32700,12600,20500,25600,24900,11400,29000,24800,11600,46300,15500,47500,29700,28900,12800,13300,13900,26600,14900,9800,24900,38500,26000,24500,46300,43900,21800,25900,18800,15500,34700,33500,32700,18500,14900,12800,10800,15900,11500,17000,12800,15000,15700,19400,16600,27000,24900,25300,21900,22700,11300,29500,14500,33000,23200,20300,29900,10900,28900,40900,43900,24500,21800,17500,13700,10700,33500,11900,19500,10400,31000,18500,18500,12700,11200,15300,14200,24300,31800,26500,12500,22300,24500,15400,13600,15900,42300,28800,38000,17900,13000,23000,7400,16200,14700,27500,45500,43900,46300,31400,32700,20800,25450,28300,45500,18500,15900,16800,24900,12400,29800,15400,25500,27500,17700,10800,11500,17500,14000,12900,27200,19600,11200,31300,24600,14500,21000,18500,26300,10300,17800,44800,37500,31400,25900,17500,26600,26200,13500,11500,18000,25450,32700,33500,50000,26000,11200,14200,29900,24500,14500,12700,13600,12600,16300,13500,20500,17600,10400,11400,25000,11200,22900,12300,24900,8500,25000,25600,45500,17500,43900,17000,26500,26200,18500,27500,24500,12800,10600,13500,26900,17800,12400,15400,12800,21000,36700,20500,32700,17200,12500,11500,21900,23000,23500,12500,14800,33300,22000,20500,21800,33500,28300,26000,43900,46300,25900,43900,13900,26200,26600,28300,14900,13200,16800,19400,15200,14200,28700,25200,21900,15700,26700,20800,13500,11500,13500,16800,20200,12500,13000,11800,15500,13900,16500,17500,22900,14800,27500,18800,17500,32700,17000,21800,20800,33500,19000,14900,14500,14500,17800,26600,31500,11500,8300,13800,22800,10500,13300,36700,14000,11500,11500,24600,16400,13900,10500,12000,45500,26800,25900,13200,12700,6200,13100,10000,21800,31400,17500,17000,16800,25200,25900,13400,13700,33000,14100,18500,14000,18000,17600,15800,29500,23500,26000,22700,10900,32900,11800,19000,14000,16000,35000,11500,33700,14500,21400,24850,14300,14900,23300,17650,43900,25900,17500,37500,25450,25200,12999,36000,12800,27800,32700,11000,32800,20800,26600,21900,32650,13100,16500,10900,15400,11000,19800,21500,25800,14500,32800,12500,12600,12900,34700,11900,24700,7200,22900,26800,24500,17500,21800,17000,21000,25900,13400,11900,26600,14900,18500,18500,21600,10600,22900,10800,18500,15800,28500,28200,18000,16400,6700,22900,14800,18200,11800,16800,16800,25900,12200,15300,26700,13000,8800,14000,17500,24500,17000,25900,33600,26600,19500,18800,12800,34700,14900,26900,12500,12000,12000,17800,26500,11400,11800,16300,13800,24000,14500,21000,42500,15500,13750,12800,17900,28500,10400,20100,19400,25800,35800,21850,46300,37500,45500,37900,21900,14500,33600,18500,21300,23000,45500,18000,30500,12000,10000,21900,25500,13900,12300,15500,27800,17000,10900,15900,18500,20900,43900,25500,10500,3500,17800,45000,17655,13900,29800,26600,31400,43900,37500,25900,14900,19500,16500,36000,17800,12400,14500,18500,25600,19700,33900,25400,21500,14800,22500,21500,26800,46400,32800,11000,19500,14800,32900,22500,13500,22000,26500,29700,39800,12500,23500,23600,45500,37500,21800,43900,13500,10600,32700,18000,15500,13900,31300,23600,23840,11000,19000,37000,23800,27500,27500,23200,24400,5000,33600,13900,27300,15500,26500,23500,43500,15000,24000,10700,29300,14900,26900,25400,24500,37500,25900,17500,13400,10600,12500,15900,10700,33000,25900,21000,9999,12500,14500,32500,11600,10000,14500,17500,24500,23000,22500,16200,24900,26600,14850,22000,19800,22700,12100,11900,26000,29500,13900,26000,24500,25900,43900,43900,12300,19500,15900,10300,25450,24500,21300,33600,12800,13700,39800,12200,16100,16400,22000,15948,12900,32700,14200,39900,43900,46300,26200,14800,13200,17500,16900,17500,18000,12000,15600,14300,17000,37500,32700,43900,34700,28000,13200,11000,25900,14900,16800,21300,16200,43500,11000,15200,15400,11100,14800,33500,16700,12000,30700,26300,23900,25900,18300,21800,12500,26800,26800,22700,15500,19500,29500,18800,43900,31400,25900,37900,32500,18800,13900,15500,10400,27500,14900,15900,25800,18900,21300,33900,23900,33600,19900,12500,11800,13600,32700,23500,13000,15700,22500,22500,22800,18900,16900,18900,17800,21800,21000,31500,21800,37900,31400,24500,13700,27800,10700,25200,19500,15900,24500,11000,9000,16900,14500,10800,11600,27400,12900,27500,26400,48000,15900,12900,25300,16900,17200,47000,14300,11500,12500,10800,4000,17100,12300,14900,21800,43900,17000,25900,36000,25500,12999,22500,20800,28300,15900,18500,28500,34900,15200,18000,5700,25500,10700,29700,29500,21800,18700,21250,23800,12400,14600,18900,21000,11800,27400,11300,11700,26300,18700,16900,25900,37500,21800,45500,26600,14500,13500,12800,13900,12400,14500,26200,15400,12900,25800,18500,11750,12300,23600,31600,13700,25700,12500,26000,16900,11800,23900,17500,21800,11200,24000,24900,18500,11800,15300,10600,29200,43900,17500,46300,34700,14500,25450,26500,12999,33600,26600,45500,23800,28000,28500,27500,20500,19500,12800,28500,25800,14200,24900,12700,27000,14500,21500,29800,10900,34000,13300,12100,23300,25500,37600,40500,17000,24500,37500,43900,26200,13400,12999,45500,26200,10300,13500,15900,14000,27300,13600,12000,28000,21000,14300,41500,11800,12300,15000,14300,13700,36300,12400,11600,23800,16400,10800,11200,15500,20500,12800,13000,37900,43900,17000,45500,25500,18500,24500,21000,14500,23000,12500,14500,10900,19800,5500,9000,12400,13900,17700,11300,16000,36800,13800,34500,27200,27900,10400,14200,32700,33800,18900,17300,18900,18200,12800,13900,29200,37500,21800,43900,14500,23000,25500,13900,26500,16800,18500,12800,23000,33800,14300,19900,10000,22500,15500,11550,11800,13200,12600,12700,12300,27600,21800,16900,22500,40300,14900,33000,21900,30500,23500,26300,31400,37900,45500,17500,21000,26600,25450,45500,21900,9000,13700,27500,13700,28500,25300,13200,14800,13500,29400,10000,45500,14500,10800,21500,28500,29200,6000,33800,24000,24500,12700,39900,28000,11800,28000,13600,25900,31400,37900,37500,42300,25200,24400,23000,21900,12800,13200,14500,17300,14500,21000,16700,13500,19500,16700,26800,9500,21500,14200,12500,22200,9000,31500,27900,26500,46000,10600,16000,27500,20200,14400,26500,24500,32700,43900,37900,13500,10600,28000,12999,25900,12800,15900,25200,10500,13700,14900,10600,19000,12500,11800,15500,26300,16800,31500,33700,37000,17700,15800,15000,19300,4300,13200,15000,12800,11300,22800,30800,43900,29200,17500,31400,34700,26500,42500,27800,12400,33500,18000,25500,22000,12100,14100,12200,18500,25700,12300,9000,15900,13900,14800,17000,10800,29500,11700,10400,14200,13200,27700,15700,13900,55000,32900,26900,46300,25900,45500,43900,28000,15500,13500,12800,42300,42500,23000,23600,24800,14300,37500,42000,16500,32900,14700,27900,26000,20000,26500,17500,11500,18500,27800,19500,14500,13000,13500,15300,26500,32500,14000,11300,31400,43900,17500,17000,13900,13700,23600,18800,26900,19000,42300,12400,43000,15500,25500,23400,19400,33500,32900,32800,28900,32500,11400,11300,13400,11000,14600,14000,26500,14700,10800,35500,13800,18500,32600,16500,25900,46300,43900,24500,17800,13900,12800,12999,13400,15500,14100,32700,14500,5500,37900,26300,13200,25500,20500,18700,36000,25500,17400,31700,21600,27500,35900,19500,28200,24900,33500,20700,28300,13300,12900,21200,37900,21800,46300,29200,18000,45500,17400,12800,12300,12400,26200,19500,14200,12500,15900,6100,18700,25900,26500,12800,14900,32800,13600,24900,20500,42800,27500,28800,12800,26200,21000,17800,18500,11000,45300,27200,43900,29200,46300,25900,20800,31000,18000,42300,25500,26500,33000,32700,28500,14250,18500,11300,14500,11500,38000,16500,12500,28500,26200,28200,22500,4150,19500,27300,11000,9800,11400,20200,18800,11300,23500,11000,43900,37500,43900,17000,18500,13900,15900,13500,18800,13900,12500,32700,11500,12800,22100,25400,18600,13300,27200,23900,17200,15900,22200,17900,43900,17900,29700,14300,43900,17000,14700,10500,15800,31400,10900,13000,45500,21800,25900,17500,12800,26200,11000,25900,16800,18500,43500,10700,15000,14200,15200,12850,10900,15900,25700,13800,12300,10800,18800,25800,12700,10600,15200,15300,34900,41300,12300,13900,11900,25800,9654,13000,29200,17000,45500,32700,33600,36000,13400,10400,19500,25200,42500,26600,17500,12300,28800,12900,11000,12200,17800,13500,30500,14902,41700,21000,12700,30500,25800,13800,14900,13900,23500,18000,21800,22800,21000,27500,37500,43900,37900,45500,19500,11000,15900,19500,13500,16500,26200,11900,14900,26900,11300,13400,14800,14600,13300,24800,13700,10800,12400,22800,22800,3250,15800,19300,12900,24300,28600,24500,10900,29700,22900,33500,32700,31400,46300,24500,14900,21900,18800,21300,22500,18800,14100,18500,25900,23800,13000,13700,23800,43000,18500,11100,15900,11500,24000,10504,13387,16500,15700,25500,43000,28200,23900,15700,11800,6500,13200,14300,21800,46300,29200,32700,16500,14500,25500,28000,14500,18500,13400,15500,11600,23500,22500,15500,11200,14500,24900,11700,16200,15000,12000,21200,16200,25500,11750,12300,26900,11900,17800,19000,28700,11400,22000,29000,45500,37900,17500,25900,26600,12300,16500,15900,19400,45500,14900,23600,13000,34400,27800,26000,25900,14300,18800,27900,23500,21400,12900,14500,12500,13700,21400,29200,15600,21700,14300,13000,25500,16600,11600,45500,17000,43900,31400,37900,12400,42300,13900,11900,17800,12500,18800,18500,13900,11700,24200,18800,12500,11950,24500,10600,14500,29200,14350,34000,12600,34000,14500,32700,29500,45500,33000,12800,27200,36000,34800,33200,21800,37500,32700,31400,15900,13400,11000,32500,32700,23600,19400,34700,11500,18550,8400,23900,33500,20500,8900,11500,11500,13500,25900,12900,13500,20500,25500,28700,26800,24300,12000,24600,27700,20500,10900,22800,43900,25900,43900,17000,18800,10600,14100,26600,17800,33500,12999,10700,24000,18500,15800,12000,12900,10800,32500,20500,16700,23900,26500,17000,24800,32500,28300,27300,10500,32700,11800,12200,10400,20700,28800,23600,17000,43900,43900,21800,11000,13900,26600,14500,17800,12999,13900,20800,26500,33500,13900,35500,9000,23800,24900,7800,31500,25500,26700,18152,23000,13100,9800,22300,26700,26000,12500,14800,41500,13000,17500,16800,43900,29200,43900,37500,43500,18500,15500,11000,31000,13200,45500,11500,11800,28300,18500,33700,17900,16900,25500,11600,26600,12000,27500,11800,29800,11900,13800,11700,6800,13400,27900,13300,33500,12000,23800,13700,17500,45500,37500,32700,42300,12500,14500,12999,19000,14500,9000,24400,20900,27200,16500,21300,22333,11900,26300,14700,12400,30200,10300,16500,11500,21500,18500,6600,26900,9800,20600,13800,28800,29000,12700,10800,45500,24500,21800,31400,18800,21900,14900,14500,15900,10700,17400,10400,24500,14400,21700,25400,12600,14000,15300,38500,13300,31500,19700,34600,23700,5100,25500,5900,10500,11800,11700,35300,30000,21000,13300,13000,37500,32700,17000,43900,10300,10600,14500,10700,14500,27800,33600,14100,21500,15700,15200,12500,27700,15500,14800,11200,22800,15200,27300,28000,32400,26900,25800,25500,17900,15000,28000,28900,27900,24000,11500,10700,24500,43900,46300,29200,18800,32700,12800,33500,16500,43500,13700,18000,25600,21800,12000,17800,19300,24900,10500,24800,12200,17500,18700,11900,10700,11700,31800,17700,14900,15900,15200,17000,43850,20800,17500,13600,17000,24500,43900,45500,26600,23600,11900,15900,43500,17400,13500,32700,15350,37900,45500,14400,24800,13700,25500,4000,26500,16200,45900,12000,14500,25000,19500,17800,12200,9500,18000,28200,6700,17700,13500,21700,31400,37900,43900,24500,17400,11000,10400,25900,24400,18500,14900,33600,10800,12300,13700,27600,27500,15900,23800,28200,25900,30000,23500,10500,15800,21900,11000,28000,12800,8400,24500,24200,33000,31000,6800,19800,37500,21800,17500,43900,14900,23900,33600,21900,28000,12300,23000,16800,11700,10000,26000,28300,23500,29900,38500,11600,14300,19500,26800,18900,12700,8900,15000,14000,23500,22500,12200,25000,12000,23500,28900,9900,43900,37900,29200,17500,25500,33500,31300,21900,15900,26200,13700,21300,10500,22500,11900,13400,15900,10500,16000,11000,38900,13200,27600,26300,11500,3300,16300,12700,25300,11700,8000,11300,21200,13200,12000,16000,25900,17000,32700,43900,21900,33600,11900,15900,18000,26900,34700,21000,17700,10900,22000,21000,32000,14500,13800,17500,25000,22900,14000,9450,14800,14700,14900,23800,21600,12500,10000,18500,27600,21700,16700,11100,43900,21800,45500,37900,34700,27500,28300,28000,25500,26600,12800,19000,43500,24900,10500,14300,14900,38800,15700,9200,4500,26500,12400,15900,31000,13200,25600,10800,19800,12200,8800,18500,17500,15800,6700,32700,45500,17500,43900,25900,12999,12800,14500,21900,25500,15500,12400,12800,27200,42900,13500,23900,19500,34500,11200,11500,9800,11200,25900,20900,22000,16450,15900,28300,14400,21800,22800,13900,11500,18600,13550,9500,46300,32700,43900,25900,18500,14900,27500,24500,13500,11900,15900,34700,13500,18700,13500,11300,32000,13600,26500,32900,10700,17000,16500,10600,12200,13800,26500,20800,9500,23800,13900,19000,26400,13000,13500,16700,31400,25900,24500,37500,27800,21900,33600,33600,13200,14900,25200,24500,13600,14500,25400,11500,17500,24900,23500,6700,26500,25600,25600,32900,26500,11700,12100,28500,11200,29500,10800,11800,9700,13200,22500,48900,37500,43900,32700,46300,25450,18800,33500,32700,15900,11000,16500,12800,24500,27300,16500,42200,19500,26000,16300,21700,28900,15700,27900,12900,14200,24000,14300,46000,33500,14900,16000,34000,41000,6700,13800,20000,46300,43900,37500,45500,36000,32700,26600,12300,17400,25500,27500,33500,11800,17800,11800,12000,33200,27500,16000,10000,16200,14500,31400,28500,27200,47900,10000,30500,12800,26600,17400,17000,13000,11500,8000,13800,43900,25900,37900,43900,18500,14900,17800,34700,10300,43500,11000,10600,17000,13500,26000,18500,30000,30500,12900,12000,26700,11800,14300,23200,34900,23500,14700,17500,15500,12500,14900,27500,29800,16950,13000,23800,31400,25900,37900,37500,20800,33600,43500,14900,23900,11000,42500,18800,13500,14900,9500,18500,11500,22000,21900,20500,27800,19800,19800,17700,12500,16800,13000,15200,23000,17500,24500,11300,17500,11000,14600,11500,37500,45500,29200,43900,12800,12400,26900,11000,10400,13700,42500,13200,14700,25500,11300,16499,12100,21400,27400,24000,13000,26200,18000,20100,26500,11200,27700,17800,13800,23900,17000,19000,29000,26500,18800,14500,24500,17500,45500,43900,18000,42300,13500,33600,17800,24400,31300,22500,15500,27500,33000,24800,24700,14300,13200,78400,18000,11300,14300,27700,7000,26950,36900,11500,14300,18400,17800,18700,26800,25500,14200,13300,37500,45500,17500,32700,42500,19500,19000,25900,12999,33500,14500,32700,13500,26200,6500,33900,25500,12000,29500,24500,12800,12800,13600,14300,28000,43900,25000,34000,10500,15500,13200,43000,12500,14800,10900,27500,43900,45500,29200,37500,17800,32700,26600,25900,33300,14500,15900,18500,23000,12200,35000,13500,11200,25500,11000,26000,22700,11800,12800,23900,14500,11900,9500,11900,17600,21900,12200,33200,26500,9510,10900,21300,29200,46300,25900,21800,26600,11500,31000,10400,43500,15900,19500,26200,14800,21300,7800,9800,18500,10900,10900,7700,12000,10200,15600,27900,27000,12000,25500,28500,16500,14500,33000,11000,24500,11600,14800,39800,29200,43900,46300,45500,21000,25450,36000,12800,13500,24500,33300,15900,9800,14500,25800,20400,19800,14200,13400,13400,31500,13500,11000,6400,8000,16500,23500,22500,20000,24000,12800,11900,24700,26500,14300,40900,17000,43900,29200,37900,26200,21900,15900,15900,32500,13700,16500,12800,25300,17000,26600,27800,14900,33500,22700,24900,26000,15700,14500,27000,25500,25100,11000,21400,27900,28200,11500,8800,39500,46900,45900,13500,25900,24500,21800,31400,26200,11000,18500,25900,19500,25450,27800,26600,25000,12600,26800,19000,14500,16500,25200,18700,28500,14600,15800,12250,17400,13900,12500,6000,20500,17500,27000,33900,10500,12500,15800,23500,17500,24500,32700,46300,43500,16800,14500,24400,18500,21000,26200,27500,14600,27000,33500,25000,18000,26700,16300,26800,27000,21500,17000,15000,11900,27500,34900,22000,12600,17300,30000,16400,15800,23500,26400,15500,24500,25900,32700,37900,13900,24500,43500,18500,12999,21000,19500,15900,13800,29400,18900,19400,14500,11600,11400,13500,8500,34000,15500,33900,26500,31500,25500,26500,10500,28500,26700,30100,14300,44800,38900,78400,17500,46300,43900,31400,13200,33000,14500,23000,14900,25200,12300,11000,31400,79900,44800,41500,22500,10800,12450,25700,18500,33000,32000,14900,11300,7000,12900,35000,23000,25000,13200,22400,17500,15800,15500,18700,31400,43900,37500,17500,13200,33500,15900,25200,27800,19400,13900,11000,46300,29800,14799,11300,16000,11300,9500,16300,25400,35900,22700,27700,15500,14200,12800,12500,25600,13700,16800,29500,14000,11300,30000,22000,21800,43900,37500,37900,19500,18800,12500,12999,15500,15900,22500,26900,14900,20000,23000,14600,21800,30500,22700,16500,24500,17500,13600,15000,13000,33800,14000,20600,18500,15400,11200,28000,13700,13040,15000,12800,29200,24500,21800,43900,11900,25500,14500,12500,25450,18000,15900,31000,29000,14300,26500,11700,14300,30800,21700,21500,27400,17800,18800,22500,13500,14200,11000,7600,18700,9200,26700,28500,19300,34300,35800,11300,37500,43900,21800,31400,43500,19500,10600,21000,26200,16800,42500,18800,18900,11400,9950,26450,8300,26800,32000,25800,13500,10800,10900,9800,12800,15800,15900,13700,15800,12700,13000,20500,18300,22000,26800,9000,29200,31400,45500,37500,25200,14900,24500,24400,23600,26200,10300,17800,22700,13500,29000,13800,12000,10900,12500,26800,13800,15500,36800,12400,13900,26000,12000,25500,22500,14400,19800,11450,18000,25500,8400,22900,17000,17500,24500,45500,22500,27500,13200,17400,32700,12500,24500,42500,26500,26700,43500,11000,13400,11600,12900,37500,15800,9000,12000,17500,14300,23500,11000,11600,10500,19400,10000,18600,10950,3850,12000,11700,25900,17000,24500,17500,14100,19500,23600,25900,34700,15900,12500,24500,11000,29900,13400,19300,15700,28500,34000,5000,14800,30500,17500,24400,15700,11000,19500,24700,12700,13850,18000,16500,11600,17900,23500,29700,37500,17500,25900,43900,14100,10400,19500,20800,15900,24500,22500,14900,15000,10300,11900,20700,13700,15000,16500,26500,22500,26900,19800,18800,14300,38500,26500,20000,12200],\"xaxis\":\"x\",\"yaxis\":\"y\",\"type\":\"histogram\"},{\"alignmentgroup\":\"True\",\"hovertemplate\":\"price=%{x}<extra></extra>\",\"legendgroup\":\"\",\"marker\":{\"color\":\"#636efa\"},\"name\":\"\",\"notched\":true,\"offsetgroup\":\"\",\"showlegend\":false,\"x\":[46300,17500,25900,21800,18800,12800,13900,24500,12500,14900,14500,13500,23900,15500,28300,23900,5200,13400,31900,31800,12999,15200,16800,12300,11800,18300,13990,12800,28300,26800,24900,13700,11000,9000,26500,27200,25900,43900,32700,21800,16800,11000,14500,19500,45500,33000,28000,26500,14900,29000,11000,32900,21000,28800,26400,19700,14500,45000,26500,15000,30500,23500,12900,49600,10500,24300,14500,43000,29400,13400,17300,3500,21800,37500,32700,45500,33300,15900,10700,21900,17400,27500,13700,33600,12200,16400,26900,27300,15400,15800,13900,36000,28000,17500,16900,23500,16000,25450,34500,14900,25200,16200,17000,13000,13800,24600,32500,27600,45500,37900,43900,37500,32700,36000,18500,13200,11000,14900,23000,14100,32000,24500,32000,29200,23400,12000,15500,14800,18800,15000,12800,45900,29800,24900,13500,27300,33500,13850,24300,13600,23800,11500,11000,11900,25900,31400,21800,24500,12800,11000,28300,15900,15900,13700,21900,19000,38900,21300,4700,16900,11200,11800,16800,11700,25800,30590,9800,29900,17400,10600,14200,26500,15500,22500,13800,10600,32000,9900,27000,15000,24500,31400,37500,21800,28300,22500,13400,26200,36000,15900,11900,33300,10000,27500,11200,11000,16800,14200,11800,13200,31500,14000,15900,22600,43400,15600,18500,21000,14200,12700,22900,11700,11200,47800,12400,28500,37500,25900,29200,46300,18800,17800,34700,25900,42300,20800,26600,15900,27800,33700,18500,43700,11900,34900,11300,17200,11400,23900,11700,25500,24900,18800,21800,24900,20700,27500,14900,13900,15300,13800,14100,23800,43900,31400,37900,45500,12300,32500,10400,14900,31300,32700,18800,14900,21900,25400,26300,34200,11200,23500,9000,38200,12100,11200,25000,27800,14400,44000,13300,27300,17800,11500,21900,20650,15000,12700,18500,36000,21800,46300,31400,25900,16500,14500,32500,25200,13900,31300,11000,9000,13000,12900,11000,21500,10900,10700,27500,21800,13900,16500,17500,33400,22000,22500,33800,25900,19500,21300,41900,19800,19500,12000,31900,11900,31400,37900,24500,25900,14500,26200,26500,24400,18500,17400,13500,26900,29800,19400,15900,9000,29900,28900,18044,28900,11900,11700,11500,35000,9300,23000,18900,13500,15300,15300,15600,40800,34850,11800,11400,11350,17500,37900,24500,17000,23000,10700,25900,23600,18800,33600,33500,14900,31000,20900,21900,28500,16800,17500,17300,11900,18500,24300,47500,23900,11800,18900,27900,21500,25500,21500,11900,11500,23700,12900,74800,11400,29200,17500,31400,46300,12800,10300,15900,13900,16500,11000,26600,23600,20000,26500,15700,30900,23700,15200,14500,18800,41900,31850,13500,13500,26600,30900,32800,20800,15500,27800,25800,29300,11300,25800,24500,18500,17500,31400,21800,46300,11500,10400,24500,32700,13200,31000,27500,34700,26000,27500,23900,29500,31000,33500,27500,27500,28500,19300,30800,45800,36000,28400,27500,48900,18400,24700,19200,20800,29900,17800,16900,26000,37900,25900,21800,37500,18800,21000,24500,27500,25900,27800,19500,32700,11400,22700,9000,10500,31200,14300,34500,29500,15900,12200,27500,32000,15500,16500,27250,18500,16900,16000,18700,25800,13800,12200,23500,11750,46300,29200,31400,17000,13400,12300,12400,14900,15900,42300,11000,34700,11800,15000,26700,18300,19800,13300,14800,76900,20800,22800,13500,12600,11600,25000,30600,15100,26600,28900,24900,21000,13600,21100,15300,13800,24500,17500,43900,31400,26900,32500,10400,26200,10700,21000,33600,22500,32700,14300,15800,19200,11500,25500,30000,35500,22200,14400,12300,22300,14900,12000,24300,11600,25500,19200,17700,15500,10800,20500,14500,18800,46300,32700,43900,45500,34700,12800,14500,25200,32700,28300,11900,14100,16800,23800,22500,23900,19900,24500,26700,27500,27700,24900,17200,13800,12900,28500,21800,22900,12900,35800,15900,18800,20600,21500,37500,10900,24500,43900,17000,37900,32500,32700,25450,33600,42500,14900,11900,9000,11000,17400,24800,33800,21300,10700,25700,11900,10900,35800,19500,25740,34000,10900,11900,10900,13700,14000,46000,15600,26500,25900,16500,32900,43900,21800,45500,29200,22500,28000,14500,16500,19500,13900,18800,11000,32700,12600,20500,25600,24900,11400,29000,24800,11600,46300,15500,47500,29700,28900,12800,13300,13900,26600,14900,9800,24900,38500,26000,24500,46300,43900,21800,25900,18800,15500,34700,33500,32700,18500,14900,12800,10800,15900,11500,17000,12800,15000,15700,19400,16600,27000,24900,25300,21900,22700,11300,29500,14500,33000,23200,20300,29900,10900,28900,40900,43900,24500,21800,17500,13700,10700,33500,11900,19500,10400,31000,18500,18500,12700,11200,15300,14200,24300,31800,26500,12500,22300,24500,15400,13600,15900,42300,28800,38000,17900,13000,23000,7400,16200,14700,27500,45500,43900,46300,31400,32700,20800,25450,28300,45500,18500,15900,16800,24900,12400,29800,15400,25500,27500,17700,10800,11500,17500,14000,12900,27200,19600,11200,31300,24600,14500,21000,18500,26300,10300,17800,44800,37500,31400,25900,17500,26600,26200,13500,11500,18000,25450,32700,33500,50000,26000,11200,14200,29900,24500,14500,12700,13600,12600,16300,13500,20500,17600,10400,11400,25000,11200,22900,12300,24900,8500,25000,25600,45500,17500,43900,17000,26500,26200,18500,27500,24500,12800,10600,13500,26900,17800,12400,15400,12800,21000,36700,20500,32700,17200,12500,11500,21900,23000,23500,12500,14800,33300,22000,20500,21800,33500,28300,26000,43900,46300,25900,43900,13900,26200,26600,28300,14900,13200,16800,19400,15200,14200,28700,25200,21900,15700,26700,20800,13500,11500,13500,16800,20200,12500,13000,11800,15500,13900,16500,17500,22900,14800,27500,18800,17500,32700,17000,21800,20800,33500,19000,14900,14500,14500,17800,26600,31500,11500,8300,13800,22800,10500,13300,36700,14000,11500,11500,24600,16400,13900,10500,12000,45500,26800,25900,13200,12700,6200,13100,10000,21800,31400,17500,17000,16800,25200,25900,13400,13700,33000,14100,18500,14000,18000,17600,15800,29500,23500,26000,22700,10900,32900,11800,19000,14000,16000,35000,11500,33700,14500,21400,24850,14300,14900,23300,17650,43900,25900,17500,37500,25450,25200,12999,36000,12800,27800,32700,11000,32800,20800,26600,21900,32650,13100,16500,10900,15400,11000,19800,21500,25800,14500,32800,12500,12600,12900,34700,11900,24700,7200,22900,26800,24500,17500,21800,17000,21000,25900,13400,11900,26600,14900,18500,18500,21600,10600,22900,10800,18500,15800,28500,28200,18000,16400,6700,22900,14800,18200,11800,16800,16800,25900,12200,15300,26700,13000,8800,14000,17500,24500,17000,25900,33600,26600,19500,18800,12800,34700,14900,26900,12500,12000,12000,17800,26500,11400,11800,16300,13800,24000,14500,21000,42500,15500,13750,12800,17900,28500,10400,20100,19400,25800,35800,21850,46300,37500,45500,37900,21900,14500,33600,18500,21300,23000,45500,18000,30500,12000,10000,21900,25500,13900,12300,15500,27800,17000,10900,15900,18500,20900,43900,25500,10500,3500,17800,45000,17655,13900,29800,26600,31400,43900,37500,25900,14900,19500,16500,36000,17800,12400,14500,18500,25600,19700,33900,25400,21500,14800,22500,21500,26800,46400,32800,11000,19500,14800,32900,22500,13500,22000,26500,29700,39800,12500,23500,23600,45500,37500,21800,43900,13500,10600,32700,18000,15500,13900,31300,23600,23840,11000,19000,37000,23800,27500,27500,23200,24400,5000,33600,13900,27300,15500,26500,23500,43500,15000,24000,10700,29300,14900,26900,25400,24500,37500,25900,17500,13400,10600,12500,15900,10700,33000,25900,21000,9999,12500,14500,32500,11600,10000,14500,17500,24500,23000,22500,16200,24900,26600,14850,22000,19800,22700,12100,11900,26000,29500,13900,26000,24500,25900,43900,43900,12300,19500,15900,10300,25450,24500,21300,33600,12800,13700,39800,12200,16100,16400,22000,15948,12900,32700,14200,39900,43900,46300,26200,14800,13200,17500,16900,17500,18000,12000,15600,14300,17000,37500,32700,43900,34700,28000,13200,11000,25900,14900,16800,21300,16200,43500,11000,15200,15400,11100,14800,33500,16700,12000,30700,26300,23900,25900,18300,21800,12500,26800,26800,22700,15500,19500,29500,18800,43900,31400,25900,37900,32500,18800,13900,15500,10400,27500,14900,15900,25800,18900,21300,33900,23900,33600,19900,12500,11800,13600,32700,23500,13000,15700,22500,22500,22800,18900,16900,18900,17800,21800,21000,31500,21800,37900,31400,24500,13700,27800,10700,25200,19500,15900,24500,11000,9000,16900,14500,10800,11600,27400,12900,27500,26400,48000,15900,12900,25300,16900,17200,47000,14300,11500,12500,10800,4000,17100,12300,14900,21800,43900,17000,25900,36000,25500,12999,22500,20800,28300,15900,18500,28500,34900,15200,18000,5700,25500,10700,29700,29500,21800,18700,21250,23800,12400,14600,18900,21000,11800,27400,11300,11700,26300,18700,16900,25900,37500,21800,45500,26600,14500,13500,12800,13900,12400,14500,26200,15400,12900,25800,18500,11750,12300,23600,31600,13700,25700,12500,26000,16900,11800,23900,17500,21800,11200,24000,24900,18500,11800,15300,10600,29200,43900,17500,46300,34700,14500,25450,26500,12999,33600,26600,45500,23800,28000,28500,27500,20500,19500,12800,28500,25800,14200,24900,12700,27000,14500,21500,29800,10900,34000,13300,12100,23300,25500,37600,40500,17000,24500,37500,43900,26200,13400,12999,45500,26200,10300,13500,15900,14000,27300,13600,12000,28000,21000,14300,41500,11800,12300,15000,14300,13700,36300,12400,11600,23800,16400,10800,11200,15500,20500,12800,13000,37900,43900,17000,45500,25500,18500,24500,21000,14500,23000,12500,14500,10900,19800,5500,9000,12400,13900,17700,11300,16000,36800,13800,34500,27200,27900,10400,14200,32700,33800,18900,17300,18900,18200,12800,13900,29200,37500,21800,43900,14500,23000,25500,13900,26500,16800,18500,12800,23000,33800,14300,19900,10000,22500,15500,11550,11800,13200,12600,12700,12300,27600,21800,16900,22500,40300,14900,33000,21900,30500,23500,26300,31400,37900,45500,17500,21000,26600,25450,45500,21900,9000,13700,27500,13700,28500,25300,13200,14800,13500,29400,10000,45500,14500,10800,21500,28500,29200,6000,33800,24000,24500,12700,39900,28000,11800,28000,13600,25900,31400,37900,37500,42300,25200,24400,23000,21900,12800,13200,14500,17300,14500,21000,16700,13500,19500,16700,26800,9500,21500,14200,12500,22200,9000,31500,27900,26500,46000,10600,16000,27500,20200,14400,26500,24500,32700,43900,37900,13500,10600,28000,12999,25900,12800,15900,25200,10500,13700,14900,10600,19000,12500,11800,15500,26300,16800,31500,33700,37000,17700,15800,15000,19300,4300,13200,15000,12800,11300,22800,30800,43900,29200,17500,31400,34700,26500,42500,27800,12400,33500,18000,25500,22000,12100,14100,12200,18500,25700,12300,9000,15900,13900,14800,17000,10800,29500,11700,10400,14200,13200,27700,15700,13900,55000,32900,26900,46300,25900,45500,43900,28000,15500,13500,12800,42300,42500,23000,23600,24800,14300,37500,42000,16500,32900,14700,27900,26000,20000,26500,17500,11500,18500,27800,19500,14500,13000,13500,15300,26500,32500,14000,11300,31400,43900,17500,17000,13900,13700,23600,18800,26900,19000,42300,12400,43000,15500,25500,23400,19400,33500,32900,32800,28900,32500,11400,11300,13400,11000,14600,14000,26500,14700,10800,35500,13800,18500,32600,16500,25900,46300,43900,24500,17800,13900,12800,12999,13400,15500,14100,32700,14500,5500,37900,26300,13200,25500,20500,18700,36000,25500,17400,31700,21600,27500,35900,19500,28200,24900,33500,20700,28300,13300,12900,21200,37900,21800,46300,29200,18000,45500,17400,12800,12300,12400,26200,19500,14200,12500,15900,6100,18700,25900,26500,12800,14900,32800,13600,24900,20500,42800,27500,28800,12800,26200,21000,17800,18500,11000,45300,27200,43900,29200,46300,25900,20800,31000,18000,42300,25500,26500,33000,32700,28500,14250,18500,11300,14500,11500,38000,16500,12500,28500,26200,28200,22500,4150,19500,27300,11000,9800,11400,20200,18800,11300,23500,11000,43900,37500,43900,17000,18500,13900,15900,13500,18800,13900,12500,32700,11500,12800,22100,25400,18600,13300,27200,23900,17200,15900,22200,17900,43900,17900,29700,14300,43900,17000,14700,10500,15800,31400,10900,13000,45500,21800,25900,17500,12800,26200,11000,25900,16800,18500,43500,10700,15000,14200,15200,12850,10900,15900,25700,13800,12300,10800,18800,25800,12700,10600,15200,15300,34900,41300,12300,13900,11900,25800,9654,13000,29200,17000,45500,32700,33600,36000,13400,10400,19500,25200,42500,26600,17500,12300,28800,12900,11000,12200,17800,13500,30500,14902,41700,21000,12700,30500,25800,13800,14900,13900,23500,18000,21800,22800,21000,27500,37500,43900,37900,45500,19500,11000,15900,19500,13500,16500,26200,11900,14900,26900,11300,13400,14800,14600,13300,24800,13700,10800,12400,22800,22800,3250,15800,19300,12900,24300,28600,24500,10900,29700,22900,33500,32700,31400,46300,24500,14900,21900,18800,21300,22500,18800,14100,18500,25900,23800,13000,13700,23800,43000,18500,11100,15900,11500,24000,10504,13387,16500,15700,25500,43000,28200,23900,15700,11800,6500,13200,14300,21800,46300,29200,32700,16500,14500,25500,28000,14500,18500,13400,15500,11600,23500,22500,15500,11200,14500,24900,11700,16200,15000,12000,21200,16200,25500,11750,12300,26900,11900,17800,19000,28700,11400,22000,29000,45500,37900,17500,25900,26600,12300,16500,15900,19400,45500,14900,23600,13000,34400,27800,26000,25900,14300,18800,27900,23500,21400,12900,14500,12500,13700,21400,29200,15600,21700,14300,13000,25500,16600,11600,45500,17000,43900,31400,37900,12400,42300,13900,11900,17800,12500,18800,18500,13900,11700,24200,18800,12500,11950,24500,10600,14500,29200,14350,34000,12600,34000,14500,32700,29500,45500,33000,12800,27200,36000,34800,33200,21800,37500,32700,31400,15900,13400,11000,32500,32700,23600,19400,34700,11500,18550,8400,23900,33500,20500,8900,11500,11500,13500,25900,12900,13500,20500,25500,28700,26800,24300,12000,24600,27700,20500,10900,22800,43900,25900,43900,17000,18800,10600,14100,26600,17800,33500,12999,10700,24000,18500,15800,12000,12900,10800,32500,20500,16700,23900,26500,17000,24800,32500,28300,27300,10500,32700,11800,12200,10400,20700,28800,23600,17000,43900,43900,21800,11000,13900,26600,14500,17800,12999,13900,20800,26500,33500,13900,35500,9000,23800,24900,7800,31500,25500,26700,18152,23000,13100,9800,22300,26700,26000,12500,14800,41500,13000,17500,16800,43900,29200,43900,37500,43500,18500,15500,11000,31000,13200,45500,11500,11800,28300,18500,33700,17900,16900,25500,11600,26600,12000,27500,11800,29800,11900,13800,11700,6800,13400,27900,13300,33500,12000,23800,13700,17500,45500,37500,32700,42300,12500,14500,12999,19000,14500,9000,24400,20900,27200,16500,21300,22333,11900,26300,14700,12400,30200,10300,16500,11500,21500,18500,6600,26900,9800,20600,13800,28800,29000,12700,10800,45500,24500,21800,31400,18800,21900,14900,14500,15900,10700,17400,10400,24500,14400,21700,25400,12600,14000,15300,38500,13300,31500,19700,34600,23700,5100,25500,5900,10500,11800,11700,35300,30000,21000,13300,13000,37500,32700,17000,43900,10300,10600,14500,10700,14500,27800,33600,14100,21500,15700,15200,12500,27700,15500,14800,11200,22800,15200,27300,28000,32400,26900,25800,25500,17900,15000,28000,28900,27900,24000,11500,10700,24500,43900,46300,29200,18800,32700,12800,33500,16500,43500,13700,18000,25600,21800,12000,17800,19300,24900,10500,24800,12200,17500,18700,11900,10700,11700,31800,17700,14900,15900,15200,17000,43850,20800,17500,13600,17000,24500,43900,45500,26600,23600,11900,15900,43500,17400,13500,32700,15350,37900,45500,14400,24800,13700,25500,4000,26500,16200,45900,12000,14500,25000,19500,17800,12200,9500,18000,28200,6700,17700,13500,21700,31400,37900,43900,24500,17400,11000,10400,25900,24400,18500,14900,33600,10800,12300,13700,27600,27500,15900,23800,28200,25900,30000,23500,10500,15800,21900,11000,28000,12800,8400,24500,24200,33000,31000,6800,19800,37500,21800,17500,43900,14900,23900,33600,21900,28000,12300,23000,16800,11700,10000,26000,28300,23500,29900,38500,11600,14300,19500,26800,18900,12700,8900,15000,14000,23500,22500,12200,25000,12000,23500,28900,9900,43900,37900,29200,17500,25500,33500,31300,21900,15900,26200,13700,21300,10500,22500,11900,13400,15900,10500,16000,11000,38900,13200,27600,26300,11500,3300,16300,12700,25300,11700,8000,11300,21200,13200,12000,16000,25900,17000,32700,43900,21900,33600,11900,15900,18000,26900,34700,21000,17700,10900,22000,21000,32000,14500,13800,17500,25000,22900,14000,9450,14800,14700,14900,23800,21600,12500,10000,18500,27600,21700,16700,11100,43900,21800,45500,37900,34700,27500,28300,28000,25500,26600,12800,19000,43500,24900,10500,14300,14900,38800,15700,9200,4500,26500,12400,15900,31000,13200,25600,10800,19800,12200,8800,18500,17500,15800,6700,32700,45500,17500,43900,25900,12999,12800,14500,21900,25500,15500,12400,12800,27200,42900,13500,23900,19500,34500,11200,11500,9800,11200,25900,20900,22000,16450,15900,28300,14400,21800,22800,13900,11500,18600,13550,9500,46300,32700,43900,25900,18500,14900,27500,24500,13500,11900,15900,34700,13500,18700,13500,11300,32000,13600,26500,32900,10700,17000,16500,10600,12200,13800,26500,20800,9500,23800,13900,19000,26400,13000,13500,16700,31400,25900,24500,37500,27800,21900,33600,33600,13200,14900,25200,24500,13600,14500,25400,11500,17500,24900,23500,6700,26500,25600,25600,32900,26500,11700,12100,28500,11200,29500,10800,11800,9700,13200,22500,48900,37500,43900,32700,46300,25450,18800,33500,32700,15900,11000,16500,12800,24500,27300,16500,42200,19500,26000,16300,21700,28900,15700,27900,12900,14200,24000,14300,46000,33500,14900,16000,34000,41000,6700,13800,20000,46300,43900,37500,45500,36000,32700,26600,12300,17400,25500,27500,33500,11800,17800,11800,12000,33200,27500,16000,10000,16200,14500,31400,28500,27200,47900,10000,30500,12800,26600,17400,17000,13000,11500,8000,13800,43900,25900,37900,43900,18500,14900,17800,34700,10300,43500,11000,10600,17000,13500,26000,18500,30000,30500,12900,12000,26700,11800,14300,23200,34900,23500,14700,17500,15500,12500,14900,27500,29800,16950,13000,23800,31400,25900,37900,37500,20800,33600,43500,14900,23900,11000,42500,18800,13500,14900,9500,18500,11500,22000,21900,20500,27800,19800,19800,17700,12500,16800,13000,15200,23000,17500,24500,11300,17500,11000,14600,11500,37500,45500,29200,43900,12800,12400,26900,11000,10400,13700,42500,13200,14700,25500,11300,16499,12100,21400,27400,24000,13000,26200,18000,20100,26500,11200,27700,17800,13800,23900,17000,19000,29000,26500,18800,14500,24500,17500,45500,43900,18000,42300,13500,33600,17800,24400,31300,22500,15500,27500,33000,24800,24700,14300,13200,78400,18000,11300,14300,27700,7000,26950,36900,11500,14300,18400,17800,18700,26800,25500,14200,13300,37500,45500,17500,32700,42500,19500,19000,25900,12999,33500,14500,32700,13500,26200,6500,33900,25500,12000,29500,24500,12800,12800,13600,14300,28000,43900,25000,34000,10500,15500,13200,43000,12500,14800,10900,27500,43900,45500,29200,37500,17800,32700,26600,25900,33300,14500,15900,18500,23000,12200,35000,13500,11200,25500,11000,26000,22700,11800,12800,23900,14500,11900,9500,11900,17600,21900,12200,33200,26500,9510,10900,21300,29200,46300,25900,21800,26600,11500,31000,10400,43500,15900,19500,26200,14800,21300,7800,9800,18500,10900,10900,7700,12000,10200,15600,27900,27000,12000,25500,28500,16500,14500,33000,11000,24500,11600,14800,39800,29200,43900,46300,45500,21000,25450,36000,12800,13500,24500,33300,15900,9800,14500,25800,20400,19800,14200,13400,13400,31500,13500,11000,6400,8000,16500,23500,22500,20000,24000,12800,11900,24700,26500,14300,40900,17000,43900,29200,37900,26200,21900,15900,15900,32500,13700,16500,12800,25300,17000,26600,27800,14900,33500,22700,24900,26000,15700,14500,27000,25500,25100,11000,21400,27900,28200,11500,8800,39500,46900,45900,13500,25900,24500,21800,31400,26200,11000,18500,25900,19500,25450,27800,26600,25000,12600,26800,19000,14500,16500,25200,18700,28500,14600,15800,12250,17400,13900,12500,6000,20500,17500,27000,33900,10500,12500,15800,23500,17500,24500,32700,46300,43500,16800,14500,24400,18500,21000,26200,27500,14600,27000,33500,25000,18000,26700,16300,26800,27000,21500,17000,15000,11900,27500,34900,22000,12600,17300,30000,16400,15800,23500,26400,15500,24500,25900,32700,37900,13900,24500,43500,18500,12999,21000,19500,15900,13800,29400,18900,19400,14500,11600,11400,13500,8500,34000,15500,33900,26500,31500,25500,26500,10500,28500,26700,30100,14300,44800,38900,78400,17500,46300,43900,31400,13200,33000,14500,23000,14900,25200,12300,11000,31400,79900,44800,41500,22500,10800,12450,25700,18500,33000,32000,14900,11300,7000,12900,35000,23000,25000,13200,22400,17500,15800,15500,18700,31400,43900,37500,17500,13200,33500,15900,25200,27800,19400,13900,11000,46300,29800,14799,11300,16000,11300,9500,16300,25400,35900,22700,27700,15500,14200,12800,12500,25600,13700,16800,29500,14000,11300,30000,22000,21800,43900,37500,37900,19500,18800,12500,12999,15500,15900,22500,26900,14900,20000,23000,14600,21800,30500,22700,16500,24500,17500,13600,15000,13000,33800,14000,20600,18500,15400,11200,28000,13700,13040,15000,12800,29200,24500,21800,43900,11900,25500,14500,12500,25450,18000,15900,31000,29000,14300,26500,11700,14300,30800,21700,21500,27400,17800,18800,22500,13500,14200,11000,7600,18700,9200,26700,28500,19300,34300,35800,11300,37500,43900,21800,31400,43500,19500,10600,21000,26200,16800,42500,18800,18900,11400,9950,26450,8300,26800,32000,25800,13500,10800,10900,9800,12800,15800,15900,13700,15800,12700,13000,20500,18300,22000,26800,9000,29200,31400,45500,37500,25200,14900,24500,24400,23600,26200,10300,17800,22700,13500,29000,13800,12000,10900,12500,26800,13800,15500,36800,12400,13900,26000,12000,25500,22500,14400,19800,11450,18000,25500,8400,22900,17000,17500,24500,45500,22500,27500,13200,17400,32700,12500,24500,42500,26500,26700,43500,11000,13400,11600,12900,37500,15800,9000,12000,17500,14300,23500,11000,11600,10500,19400,10000,18600,10950,3850,12000,11700,25900,17000,24500,17500,14100,19500,23600,25900,34700,15900,12500,24500,11000,29900,13400,19300,15700,28500,34000,5000,14800,30500,17500,24400,15700,11000,19500,24700,12700,13850,18000,16500,11600,17900,23500,29700,37500,17500,25900,43900,14100,10400,19500,20800,15900,24500,22500,14900,15000,10300,11900,20700,13700,15000,16500,26500,22500,26900,19800,18800,14300,38500,26500,20000,12200],\"xaxis\":\"x2\",\"yaxis\":\"y2\",\"type\":\"box\"}],                        {\"template\":{\"data\":{\"bar\":[{\"error_x\":{\"color\":\"#2a3f5f\"},\"error_y\":{\"color\":\"#2a3f5f\"},\"marker\":{\"line\":{\"color\":\"#E5ECF6\",\"width\":0.5},\"pattern\":{\"fillmode\":\"overlay\",\"size\":10,\"solidity\":0.2}},\"type\":\"bar\"}],\"barpolar\":[{\"marker\":{\"line\":{\"color\":\"#E5ECF6\",\"width\":0.5},\"pattern\":{\"fillmode\":\"overlay\",\"size\":10,\"solidity\":0.2}},\"type\":\"barpolar\"}],\"carpet\":[{\"aaxis\":{\"endlinecolor\":\"#2a3f5f\",\"gridcolor\":\"white\",\"linecolor\":\"white\",\"minorgridcolor\":\"white\",\"startlinecolor\":\"#2a3f5f\"},\"baxis\":{\"endlinecolor\":\"#2a3f5f\",\"gridcolor\":\"white\",\"linecolor\":\"white\",\"minorgridcolor\":\"white\",\"startlinecolor\":\"#2a3f5f\"},\"type\":\"carpet\"}],\"choropleth\":[{\"colorbar\":{\"outlinewidth\":0,\"ticks\":\"\"},\"type\":\"choropleth\"}],\"contour\":[{\"colorbar\":{\"outlinewidth\":0,\"ticks\":\"\"},\"colorscale\":[[0.0,\"#0d0887\"],[0.1111111111111111,\"#46039f\"],[0.2222222222222222,\"#7201a8\"],[0.3333333333333333,\"#9c179e\"],[0.4444444444444444,\"#bd3786\"],[0.5555555555555556,\"#d8576b\"],[0.6666666666666666,\"#ed7953\"],[0.7777777777777778,\"#fb9f3a\"],[0.8888888888888888,\"#fdca26\"],[1.0,\"#f0f921\"]],\"type\":\"contour\"}],\"contourcarpet\":[{\"colorbar\":{\"outlinewidth\":0,\"ticks\":\"\"},\"type\":\"contourcarpet\"}],\"heatmap\":[{\"colorbar\":{\"outlinewidth\":0,\"ticks\":\"\"},\"colorscale\":[[0.0,\"#0d0887\"],[0.1111111111111111,\"#46039f\"],[0.2222222222222222,\"#7201a8\"],[0.3333333333333333,\"#9c179e\"],[0.4444444444444444,\"#bd3786\"],[0.5555555555555556,\"#d8576b\"],[0.6666666666666666,\"#ed7953\"],[0.7777777777777778,\"#fb9f3a\"],[0.8888888888888888,\"#fdca26\"],[1.0,\"#f0f921\"]],\"type\":\"heatmap\"}],\"heatmapgl\":[{\"colorbar\":{\"outlinewidth\":0,\"ticks\":\"\"},\"colorscale\":[[0.0,\"#0d0887\"],[0.1111111111111111,\"#46039f\"],[0.2222222222222222,\"#7201a8\"],[0.3333333333333333,\"#9c179e\"],[0.4444444444444444,\"#bd3786\"],[0.5555555555555556,\"#d8576b\"],[0.6666666666666666,\"#ed7953\"],[0.7777777777777778,\"#fb9f3a\"],[0.8888888888888888,\"#fdca26\"],[1.0,\"#f0f921\"]],\"type\":\"heatmapgl\"}],\"histogram\":[{\"marker\":{\"pattern\":{\"fillmode\":\"overlay\",\"size\":10,\"solidity\":0.2}},\"type\":\"histogram\"}],\"histogram2d\":[{\"colorbar\":{\"outlinewidth\":0,\"ticks\":\"\"},\"colorscale\":[[0.0,\"#0d0887\"],[0.1111111111111111,\"#46039f\"],[0.2222222222222222,\"#7201a8\"],[0.3333333333333333,\"#9c179e\"],[0.4444444444444444,\"#bd3786\"],[0.5555555555555556,\"#d8576b\"],[0.6666666666666666,\"#ed7953\"],[0.7777777777777778,\"#fb9f3a\"],[0.8888888888888888,\"#fdca26\"],[1.0,\"#f0f921\"]],\"type\":\"histogram2d\"}],\"histogram2dcontour\":[{\"colorbar\":{\"outlinewidth\":0,\"ticks\":\"\"},\"colorscale\":[[0.0,\"#0d0887\"],[0.1111111111111111,\"#46039f\"],[0.2222222222222222,\"#7201a8\"],[0.3333333333333333,\"#9c179e\"],[0.4444444444444444,\"#bd3786\"],[0.5555555555555556,\"#d8576b\"],[0.6666666666666666,\"#ed7953\"],[0.7777777777777778,\"#fb9f3a\"],[0.8888888888888888,\"#fdca26\"],[1.0,\"#f0f921\"]],\"type\":\"histogram2dcontour\"}],\"mesh3d\":[{\"colorbar\":{\"outlinewidth\":0,\"ticks\":\"\"},\"type\":\"mesh3d\"}],\"parcoords\":[{\"line\":{\"colorbar\":{\"outlinewidth\":0,\"ticks\":\"\"}},\"type\":\"parcoords\"}],\"pie\":[{\"automargin\":true,\"type\":\"pie\"}],\"scatter\":[{\"marker\":{\"colorbar\":{\"outlinewidth\":0,\"ticks\":\"\"}},\"type\":\"scatter\"}],\"scatter3d\":[{\"line\":{\"colorbar\":{\"outlinewidth\":0,\"ticks\":\"\"}},\"marker\":{\"colorbar\":{\"outlinewidth\":0,\"ticks\":\"\"}},\"type\":\"scatter3d\"}],\"scattercarpet\":[{\"marker\":{\"colorbar\":{\"outlinewidth\":0,\"ticks\":\"\"}},\"type\":\"scattercarpet\"}],\"scattergeo\":[{\"marker\":{\"colorbar\":{\"outlinewidth\":0,\"ticks\":\"\"}},\"type\":\"scattergeo\"}],\"scattergl\":[{\"marker\":{\"colorbar\":{\"outlinewidth\":0,\"ticks\":\"\"}},\"type\":\"scattergl\"}],\"scattermapbox\":[{\"marker\":{\"colorbar\":{\"outlinewidth\":0,\"ticks\":\"\"}},\"type\":\"scattermapbox\"}],\"scatterpolar\":[{\"marker\":{\"colorbar\":{\"outlinewidth\":0,\"ticks\":\"\"}},\"type\":\"scatterpolar\"}],\"scatterpolargl\":[{\"marker\":{\"colorbar\":{\"outlinewidth\":0,\"ticks\":\"\"}},\"type\":\"scatterpolargl\"}],\"scatterternary\":[{\"marker\":{\"colorbar\":{\"outlinewidth\":0,\"ticks\":\"\"}},\"type\":\"scatterternary\"}],\"surface\":[{\"colorbar\":{\"outlinewidth\":0,\"ticks\":\"\"},\"colorscale\":[[0.0,\"#0d0887\"],[0.1111111111111111,\"#46039f\"],[0.2222222222222222,\"#7201a8\"],[0.3333333333333333,\"#9c179e\"],[0.4444444444444444,\"#bd3786\"],[0.5555555555555556,\"#d8576b\"],[0.6666666666666666,\"#ed7953\"],[0.7777777777777778,\"#fb9f3a\"],[0.8888888888888888,\"#fdca26\"],[1.0,\"#f0f921\"]],\"type\":\"surface\"}],\"table\":[{\"cells\":{\"fill\":{\"color\":\"#EBF0F8\"},\"line\":{\"color\":\"white\"}},\"header\":{\"fill\":{\"color\":\"#C8D4E3\"},\"line\":{\"color\":\"white\"}},\"type\":\"table\"}]},\"layout\":{\"annotationdefaults\":{\"arrowcolor\":\"#2a3f5f\",\"arrowhead\":0,\"arrowwidth\":1},\"autotypenumbers\":\"strict\",\"coloraxis\":{\"colorbar\":{\"outlinewidth\":0,\"ticks\":\"\"}},\"colorscale\":{\"diverging\":[[0,\"#8e0152\"],[0.1,\"#c51b7d\"],[0.2,\"#de77ae\"],[0.3,\"#f1b6da\"],[0.4,\"#fde0ef\"],[0.5,\"#f7f7f7\"],[0.6,\"#e6f5d0\"],[0.7,\"#b8e186\"],[0.8,\"#7fbc41\"],[0.9,\"#4d9221\"],[1,\"#276419\"]],\"sequential\":[[0.0,\"#0d0887\"],[0.1111111111111111,\"#46039f\"],[0.2222222222222222,\"#7201a8\"],[0.3333333333333333,\"#9c179e\"],[0.4444444444444444,\"#bd3786\"],[0.5555555555555556,\"#d8576b\"],[0.6666666666666666,\"#ed7953\"],[0.7777777777777778,\"#fb9f3a\"],[0.8888888888888888,\"#fdca26\"],[1.0,\"#f0f921\"]],\"sequentialminus\":[[0.0,\"#0d0887\"],[0.1111111111111111,\"#46039f\"],[0.2222222222222222,\"#7201a8\"],[0.3333333333333333,\"#9c179e\"],[0.4444444444444444,\"#bd3786\"],[0.5555555555555556,\"#d8576b\"],[0.6666666666666666,\"#ed7953\"],[0.7777777777777778,\"#fb9f3a\"],[0.8888888888888888,\"#fdca26\"],[1.0,\"#f0f921\"]]},\"colorway\":[\"#636efa\",\"#EF553B\",\"#00cc96\",\"#ab63fa\",\"#FFA15A\",\"#19d3f3\",\"#FF6692\",\"#B6E880\",\"#FF97FF\",\"#FECB52\"],\"font\":{\"color\":\"#2a3f5f\"},\"geo\":{\"bgcolor\":\"white\",\"lakecolor\":\"white\",\"landcolor\":\"#E5ECF6\",\"showlakes\":true,\"showland\":true,\"subunitcolor\":\"white\"},\"hoverlabel\":{\"align\":\"left\"},\"hovermode\":\"closest\",\"mapbox\":{\"style\":\"light\"},\"paper_bgcolor\":\"white\",\"plot_bgcolor\":\"#E5ECF6\",\"polar\":{\"angularaxis\":{\"gridcolor\":\"white\",\"linecolor\":\"white\",\"ticks\":\"\"},\"bgcolor\":\"#E5ECF6\",\"radialaxis\":{\"gridcolor\":\"white\",\"linecolor\":\"white\",\"ticks\":\"\"}},\"scene\":{\"xaxis\":{\"backgroundcolor\":\"#E5ECF6\",\"gridcolor\":\"white\",\"gridwidth\":2,\"linecolor\":\"white\",\"showbackground\":true,\"ticks\":\"\",\"zerolinecolor\":\"white\"},\"yaxis\":{\"backgroundcolor\":\"#E5ECF6\",\"gridcolor\":\"white\",\"gridwidth\":2,\"linecolor\":\"white\",\"showbackground\":true,\"ticks\":\"\",\"zerolinecolor\":\"white\"},\"zaxis\":{\"backgroundcolor\":\"#E5ECF6\",\"gridcolor\":\"white\",\"gridwidth\":2,\"linecolor\":\"white\",\"showbackground\":true,\"ticks\":\"\",\"zerolinecolor\":\"white\"}},\"shapedefaults\":{\"line\":{\"color\":\"#2a3f5f\"}},\"ternary\":{\"aaxis\":{\"gridcolor\":\"white\",\"linecolor\":\"white\",\"ticks\":\"\"},\"baxis\":{\"gridcolor\":\"white\",\"linecolor\":\"white\",\"ticks\":\"\"},\"bgcolor\":\"#E5ECF6\",\"caxis\":{\"gridcolor\":\"white\",\"linecolor\":\"white\",\"ticks\":\"\"}},\"title\":{\"x\":0.05},\"xaxis\":{\"automargin\":true,\"gridcolor\":\"white\",\"linecolor\":\"white\",\"ticks\":\"\",\"title\":{\"standoff\":15},\"zerolinecolor\":\"white\",\"zerolinewidth\":2},\"yaxis\":{\"automargin\":true,\"gridcolor\":\"white\",\"linecolor\":\"white\",\"ticks\":\"\",\"title\":{\"standoff\":15},\"zerolinecolor\":\"white\",\"zerolinewidth\":2}}},\"xaxis\":{\"anchor\":\"y\",\"domain\":[0.0,1.0],\"title\":{\"text\":\"Price\"}},\"yaxis\":{\"anchor\":\"x\",\"domain\":[0.0,0.8316],\"title\":{\"text\":\"Number of cars\"}},\"xaxis2\":{\"anchor\":\"y2\",\"domain\":[0.0,1.0],\"matches\":\"x\",\"showticklabels\":false,\"showgrid\":true},\"yaxis2\":{\"anchor\":\"x2\",\"domain\":[0.8416,1.0],\"matches\":\"y2\",\"showticklabels\":false,\"showline\":false,\"ticks\":\"\",\"showgrid\":false},\"legend\":{\"tracegroupgap\":0},\"title\":{\"text\":\"Price Distribution of Cars\"},\"barmode\":\"relative\"},                        {\"responsive\": true}                    ).then(function(){\n",
              "                            \n",
              "var gd = document.getElementById('d475d713-8768-42e1-a2af-1ff15245af99');\n",
              "var x = new MutationObserver(function (mutations, observer) {{\n",
              "        var display = window.getComputedStyle(gd).display;\n",
              "        if (!display || display === 'none') {{\n",
              "            console.log([gd, 'removed!']);\n",
              "            Plotly.purge(gd);\n",
              "            observer.disconnect();\n",
              "        }}\n",
              "}});\n",
              "\n",
              "// Listen for the removal of the full notebook cells\n",
              "var notebookContainer = gd.closest('#notebook-container');\n",
              "if (notebookContainer) {{\n",
              "    x.observe(notebookContainer, {childList: true});\n",
              "}}\n",
              "\n",
              "// Listen for the clearing of the current output cell\n",
              "var outputEl = gd.closest('.output');\n",
              "if (outputEl) {{\n",
              "    x.observe(outputEl, {childList: true});\n",
              "}}\n",
              "\n",
              "                        })                };                            </script>        </div>\n",
              "</body>\n",
              "</html>"
            ]
          },
          "metadata": {}
        }
      ]
    }
  ]
}