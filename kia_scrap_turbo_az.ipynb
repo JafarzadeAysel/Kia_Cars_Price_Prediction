{
  "nbformat": 4,
  "nbformat_minor": 0,
  "metadata": {
    "colab": {
      "name": "kia_scrap_turbo_az.ipynb",
      "provenance": [],
      "collapsed_sections": []
    },
    "kernelspec": {
      "name": "python3",
      "display_name": "Python 3"
    },
    "language_info": {
      "name": "python"
    }
  },
  "cells": [
    {
      "cell_type": "markdown",
      "source": [
        "# Get links to all cars\n"
      ],
      "metadata": {
        "id": "OL8Jrx3Wo8YE"
      }
    },
    {
      "cell_type": "code",
      "source": [
        "import requests\n",
        "import pandas as pd\n",
        "import numpy as np\n",
        "from bs4 import BeautifulSoup"
      ],
      "metadata": {
        "id": "s_UegV3vo_5O"
      },
      "execution_count": 1,
      "outputs": []
    },
    {
      "cell_type": "code",
      "source": [
        "base_urls = []\n",
        "for i in range(1,102):\n",
        "  base_url = 'https://turbo.az/autos?page='+str(i)+'&q%5Bmake%5D%5B%5D=8'\n",
        "  base_urls.append(base_url)"
      ],
      "metadata": {
        "id": "a9rELoCqzmMU"
      },
      "execution_count": 2,
      "outputs": []
    },
    {
      "cell_type": "code",
      "source": [
        "divs = []\n",
        "for url in base_urls:\n",
        "  response = requests.get(url)\n",
        "  html = response.content\n",
        "  soup = BeautifulSoup(html, 'lxml')\n",
        "  div = soup.find_all('div', class_= 'products')\n",
        "  divs.append(div)"
      ],
      "metadata": {
        "id": "uLojGWiAzmQq"
      },
      "execution_count": 3,
      "outputs": []
    },
    {
      "cell_type": "code",
      "source": [
        "divs2 = []\n",
        "for i in divs:\n",
        " for x in i:\n",
        "   new = x.find_all('div', class_ = 'products-i')\n",
        "   divs2.append(new)"
      ],
      "metadata": {
        "id": "FitaJcgtzmVH"
      },
      "execution_count": 4,
      "outputs": []
    },
    {
      "cell_type": "code",
      "source": [
        "divs3 = []\n",
        "for i in divs2:\n",
        "  for x in i:\n",
        "    new2 = x.find_all('a')\n",
        "    divs3.append(new2)"
      ],
      "metadata": {
        "id": "-eyendSzzmzC"
      },
      "execution_count": 5,
      "outputs": []
    },
    {
      "cell_type": "code",
      "source": [
        "hrefs = []\n",
        "for i in divs3:\n",
        "  for x in i:\n",
        "    new3 = x.get('href')\n",
        "    hrefs.append(new3)"
      ],
      "metadata": {
        "id": "6hRKtKn7zm1C"
      },
      "execution_count": 6,
      "outputs": []
    },
    {
      "cell_type": "code",
      "source": [
        "len(hrefs)"
      ],
      "metadata": {
        "id": "d06Q3RTPzm2h",
        "colab": {
          "base_uri": "https://localhost:8080/"
        },
        "outputId": "d9ff2c55-412f-4049-bae4-c4bf66b67794"
      },
      "execution_count": 7,
      "outputs": [
        {
          "output_type": "execute_result",
          "data": {
            "text/plain": [
              "10887"
            ]
          },
          "metadata": {},
          "execution_count": 7
        }
      ]
    },
    {
      "cell_type": "code",
      "source": [
        "new_hrefs = [parts for parts in hrefs if 'bookmarks' not in parts]\n",
        "len(new_hrefs)"
      ],
      "metadata": {
        "colab": {
          "base_uri": "https://localhost:8080/"
        },
        "id": "F3Vk0H3rVKry",
        "outputId": "5653db1a-f270-407f-8913-3ebe15d2c676"
      },
      "execution_count": 8,
      "outputs": [
        {
          "output_type": "execute_result",
          "data": {
            "text/plain": [
              "3629"
            ]
          },
          "metadata": {},
          "execution_count": 8
        }
      ]
    },
    {
      "cell_type": "code",
      "source": [
        "links_cars = ['https://turbo.az' + s for s in new_hrefs]\n",
        "links_cars[:5]"
      ],
      "metadata": {
        "colab": {
          "base_uri": "https://localhost:8080/"
        },
        "id": "ICUYyTF_WC31",
        "outputId": "04757bb2-81e6-43d8-fdf9-9e76ba50d11a"
      },
      "execution_count": 9,
      "outputs": [
        {
          "output_type": "execute_result",
          "data": {
            "text/plain": [
              "['https://turbo.az/autos/5779986-kia-sorento',\n",
              " 'https://turbo.az/autos/5853589-kia-rio',\n",
              " 'https://turbo.az/autos/5831771-kia-sorento',\n",
              " 'https://turbo.az/autos/5808203-kia-optima',\n",
              " 'https://turbo.az/autos/5879170-kia-sportage']"
            ]
          },
          "metadata": {},
          "execution_count": 9
        }
      ]
    },
    {
      "cell_type": "markdown",
      "source": [
        "# Get HTMLS of all cars"
      ],
      "metadata": {
        "id": "dS5X1SwQXI5o"
      }
    },
    {
      "cell_type": "code",
      "source": [
        "responses = []\n",
        "for link in links_cars:\n",
        "  response = requests.get(link)\n",
        "  if response.status_code == 200:\n",
        "    responses.append(response)"
      ],
      "metadata": {
        "id": "Y04Hpc2Gzm9R"
      },
      "execution_count": 10,
      "outputs": []
    },
    {
      "cell_type": "code",
      "source": [
        "len(responses)"
      ],
      "metadata": {
        "colab": {
          "base_uri": "https://localhost:8080/"
        },
        "id": "uz7xwtpIYFmZ",
        "outputId": "bef0dbd6-a408-40da-ef2f-5bb1b988bb28"
      },
      "execution_count": 11,
      "outputs": [
        {
          "output_type": "execute_result",
          "data": {
            "text/plain": [
              "3629"
            ]
          },
          "metadata": {},
          "execution_count": 11
        }
      ]
    },
    {
      "cell_type": "code",
      "source": [
        "htmls = []\n",
        "for x in range(len(responses)):\n",
        "  html = responses[x].content\n",
        "  htmls.append(html)"
      ],
      "metadata": {
        "id": "PY304SmIX64O"
      },
      "execution_count": 12,
      "outputs": []
    },
    {
      "cell_type": "code",
      "source": [
        "len(htmls)"
      ],
      "metadata": {
        "colab": {
          "base_uri": "https://localhost:8080/"
        },
        "id": "ZxG_z_nNXU_T",
        "outputId": "7691edfe-bd6f-4d06-cfb0-141e3b2942fa"
      },
      "execution_count": 13,
      "outputs": [
        {
          "output_type": "execute_result",
          "data": {
            "text/plain": [
              "3629"
            ]
          },
          "metadata": {},
          "execution_count": 13
        }
      ]
    },
    {
      "cell_type": "markdown",
      "source": [
        "# Choosing a parser"
      ],
      "metadata": {
        "id": "3XHukQnwZ9kC"
      }
    },
    {
      "cell_type": "code",
      "source": [
        "soups = []\n",
        "for x in range(len(htmls)):\n",
        "  soup = BeautifulSoup(htmls[x], 'lxml')\n",
        "  soups.append(soup)"
      ],
      "metadata": {
        "id": "yR51HNwuXVBX"
      },
      "execution_count": 14,
      "outputs": []
    },
    {
      "cell_type": "markdown",
      "source": [
        "# Obtaining the element contains all the data"
      ],
      "metadata": {
        "id": "y5g4xzGadNBs"
      }
    },
    {
      "cell_type": "code",
      "source": [
        "divss = []\n",
        "for x in range(len(soups)):\n",
        "  div = soups[x].find_all('div', {'class': 'product-properties-container'})\n",
        "  divss.append(div)"
      ],
      "metadata": {
        "id": "t8wkG2aKXVDI"
      },
      "execution_count": 15,
      "outputs": []
    },
    {
      "cell_type": "markdown",
      "source": [
        "# Extracting"
      ],
      "metadata": {
        "id": "yyjKEsqOm97p"
      }
    },
    {
      "cell_type": "code",
      "source": [
        "city = []\n",
        "brand = []\n",
        "model = []\n",
        "year = []\n",
        "body_type = []\n",
        "color = []\n",
        "engine = []\n",
        "engine_power = []\n",
        "fuel_type = []\n",
        "kilometrage = []\n",
        "transmission = []\n",
        "drivetrain = []\n",
        "new = []\n",
        "price = []\n",
        "for x in divss:\n",
        "  for i in range(1):\n",
        "    c = x[i].find_all('div', class_ = 'product-properties-value')\n",
        "    d = x[i].find_all('div', class_ = 'product-price')\n",
        "    city.append(c[0].string)\n",
        "    brand.append(c[1].string)\n",
        "    model.append(c[2].string)\n",
        "    year.append(c[3].string)\n",
        "    body_type.append(c[4].string)\n",
        "    color.append(c[5].string)\n",
        "    engine.append(c[6].string)\n",
        "    engine_power.append(c[7].string)\n",
        "    fuel_type.append(c[8].string)\n",
        "    kilometrage.append(c[9].string)\n",
        "    transmission.append(c[10].string)\n",
        "    drivetrain.append(c[11].string)\n",
        "    new.append(c[12].string)\n",
        "    price.append(d[0].text)"
      ],
      "metadata": {
        "id": "qDUAFmJB3ChY"
      },
      "execution_count": 16,
      "outputs": []
    },
    {
      "cell_type": "markdown",
      "source": [
        "# Export data in a structured form"
      ],
      "metadata": {
        "id": "54XEKYm9wRbz"
      }
    },
    {
      "cell_type": "code",
      "source": [
        "kia_cars = pd.DataFrame()\n",
        "kia_cars['city'] = city\n",
        "kia_cars['year'] = year\n",
        "kia_cars['brand'] = brand\n",
        "kia_cars['model'] = model\n",
        "kia_cars['color'] = color\n",
        "kia_cars['body_type'] = body_type\n",
        "kia_cars['engine'] = engine\n",
        "kia_cars['engine_power'] = engine_power\n",
        "kia_cars['fuel_type'] = fuel_type\n",
        "kia_cars['kilometrage'] = kilometrage\n",
        "kia_cars['transmission'] = transmission\n",
        "kia_cars['drivetrain'] = drivetrain\n",
        "kia_cars['new'] = new\n",
        "kia_cars['price'] = price"
      ],
      "metadata": {
        "id": "uXXkR1chwYze"
      },
      "execution_count": 17,
      "outputs": []
    },
    {
      "cell_type": "code",
      "source": [
        "kia_cars.head()"
      ],
      "metadata": {
        "colab": {
          "base_uri": "https://localhost:8080/",
          "height": 206
        },
        "id": "ebls0Q0-xZrZ",
        "outputId": "c77bfaab-2ee7-4217-d52b-be84fdd52df6"
      },
      "execution_count": 18,
      "outputs": [
        {
          "output_type": "execute_result",
          "data": {
            "text/html": [
              "\n",
              "  <div id=\"df-4e09f6e6-1de4-4c22-bf4f-420ba1a85635\">\n",
              "    <div class=\"colab-df-container\">\n",
              "      <div>\n",
              "<style scoped>\n",
              "    .dataframe tbody tr th:only-of-type {\n",
              "        vertical-align: middle;\n",
              "    }\n",
              "\n",
              "    .dataframe tbody tr th {\n",
              "        vertical-align: top;\n",
              "    }\n",
              "\n",
              "    .dataframe thead th {\n",
              "        text-align: right;\n",
              "    }\n",
              "</style>\n",
              "<table border=\"1\" class=\"dataframe\">\n",
              "  <thead>\n",
              "    <tr style=\"text-align: right;\">\n",
              "      <th></th>\n",
              "      <th>city</th>\n",
              "      <th>year</th>\n",
              "      <th>brand</th>\n",
              "      <th>model</th>\n",
              "      <th>color</th>\n",
              "      <th>body_type</th>\n",
              "      <th>engine</th>\n",
              "      <th>engine_power</th>\n",
              "      <th>fuel_type</th>\n",
              "      <th>kilometrage</th>\n",
              "      <th>transmission</th>\n",
              "      <th>drivetrain</th>\n",
              "      <th>new</th>\n",
              "      <th>price</th>\n",
              "    </tr>\n",
              "  </thead>\n",
              "  <tbody>\n",
              "    <tr>\n",
              "      <th>0</th>\n",
              "      <td>Bakı</td>\n",
              "      <td>2014</td>\n",
              "      <td>Kia</td>\n",
              "      <td>Sorento</td>\n",
              "      <td>Yaş Asfalt</td>\n",
              "      <td>Offroader / SUV</td>\n",
              "      <td>2.2 L</td>\n",
              "      <td>197 a.g.</td>\n",
              "      <td>Dizel</td>\n",
              "      <td>129 000 km</td>\n",
              "      <td>Avtomat</td>\n",
              "      <td>Tam</td>\n",
              "      <td>Xeyr</td>\n",
              "      <td>46 300 AZN</td>\n",
              "    </tr>\n",
              "    <tr>\n",
              "      <th>1</th>\n",
              "      <td>Bakı</td>\n",
              "      <td>2013</td>\n",
              "      <td>Kia</td>\n",
              "      <td>Rio</td>\n",
              "      <td>Qara</td>\n",
              "      <td>Sedan</td>\n",
              "      <td>1.4 L</td>\n",
              "      <td>107 a.g.</td>\n",
              "      <td>Benzin</td>\n",
              "      <td>160 000 km</td>\n",
              "      <td>Avtomat</td>\n",
              "      <td>Ön</td>\n",
              "      <td>Xeyr</td>\n",
              "      <td>17 500 AZN</td>\n",
              "    </tr>\n",
              "    <tr>\n",
              "      <th>2</th>\n",
              "      <td>Bakı</td>\n",
              "      <td>2015</td>\n",
              "      <td>Kia</td>\n",
              "      <td>Sorento</td>\n",
              "      <td>Ağ</td>\n",
              "      <td>Offroader / SUV</td>\n",
              "      <td>2.0 L</td>\n",
              "      <td>184 a.g.</td>\n",
              "      <td>Dizel</td>\n",
              "      <td>82 000 km</td>\n",
              "      <td>Avtomat</td>\n",
              "      <td>Ön</td>\n",
              "      <td>Xeyr</td>\n",
              "      <td>25 900 $</td>\n",
              "    </tr>\n",
              "    <tr>\n",
              "      <th>3</th>\n",
              "      <td>Bakı</td>\n",
              "      <td>2011</td>\n",
              "      <td>Kia</td>\n",
              "      <td>Optima</td>\n",
              "      <td>Qara</td>\n",
              "      <td>Sedan</td>\n",
              "      <td>2.0 L</td>\n",
              "      <td>274 a.g.</td>\n",
              "      <td>Benzin</td>\n",
              "      <td>190 000 km</td>\n",
              "      <td>Avtomat</td>\n",
              "      <td>Ön</td>\n",
              "      <td>Xeyr</td>\n",
              "      <td>21 800 AZN</td>\n",
              "    </tr>\n",
              "    <tr>\n",
              "      <th>4</th>\n",
              "      <td>Bakı</td>\n",
              "      <td>2008</td>\n",
              "      <td>Kia</td>\n",
              "      <td>Sportage</td>\n",
              "      <td>Ağ</td>\n",
              "      <td>Offroader / SUV</td>\n",
              "      <td>2.0 L</td>\n",
              "      <td>140 a.g.</td>\n",
              "      <td>Dizel</td>\n",
              "      <td>130 000 km</td>\n",
              "      <td>Avtomat</td>\n",
              "      <td>Ön</td>\n",
              "      <td>Xeyr</td>\n",
              "      <td>18 800 AZN</td>\n",
              "    </tr>\n",
              "  </tbody>\n",
              "</table>\n",
              "</div>\n",
              "      <button class=\"colab-df-convert\" onclick=\"convertToInteractive('df-4e09f6e6-1de4-4c22-bf4f-420ba1a85635')\"\n",
              "              title=\"Convert this dataframe to an interactive table.\"\n",
              "              style=\"display:none;\">\n",
              "        \n",
              "  <svg xmlns=\"http://www.w3.org/2000/svg\" height=\"24px\"viewBox=\"0 0 24 24\"\n",
              "       width=\"24px\">\n",
              "    <path d=\"M0 0h24v24H0V0z\" fill=\"none\"/>\n",
              "    <path d=\"M18.56 5.44l.94 2.06.94-2.06 2.06-.94-2.06-.94-.94-2.06-.94 2.06-2.06.94zm-11 1L8.5 8.5l.94-2.06 2.06-.94-2.06-.94L8.5 2.5l-.94 2.06-2.06.94zm10 10l.94 2.06.94-2.06 2.06-.94-2.06-.94-.94-2.06-.94 2.06-2.06.94z\"/><path d=\"M17.41 7.96l-1.37-1.37c-.4-.4-.92-.59-1.43-.59-.52 0-1.04.2-1.43.59L10.3 9.45l-7.72 7.72c-.78.78-.78 2.05 0 2.83L4 21.41c.39.39.9.59 1.41.59.51 0 1.02-.2 1.41-.59l7.78-7.78 2.81-2.81c.8-.78.8-2.07 0-2.86zM5.41 20L4 18.59l7.72-7.72 1.47 1.35L5.41 20z\"/>\n",
              "  </svg>\n",
              "      </button>\n",
              "      \n",
              "  <style>\n",
              "    .colab-df-container {\n",
              "      display:flex;\n",
              "      flex-wrap:wrap;\n",
              "      gap: 12px;\n",
              "    }\n",
              "\n",
              "    .colab-df-convert {\n",
              "      background-color: #E8F0FE;\n",
              "      border: none;\n",
              "      border-radius: 50%;\n",
              "      cursor: pointer;\n",
              "      display: none;\n",
              "      fill: #1967D2;\n",
              "      height: 32px;\n",
              "      padding: 0 0 0 0;\n",
              "      width: 32px;\n",
              "    }\n",
              "\n",
              "    .colab-df-convert:hover {\n",
              "      background-color: #E2EBFA;\n",
              "      box-shadow: 0px 1px 2px rgba(60, 64, 67, 0.3), 0px 1px 3px 1px rgba(60, 64, 67, 0.15);\n",
              "      fill: #174EA6;\n",
              "    }\n",
              "\n",
              "    [theme=dark] .colab-df-convert {\n",
              "      background-color: #3B4455;\n",
              "      fill: #D2E3FC;\n",
              "    }\n",
              "\n",
              "    [theme=dark] .colab-df-convert:hover {\n",
              "      background-color: #434B5C;\n",
              "      box-shadow: 0px 1px 3px 1px rgba(0, 0, 0, 0.15);\n",
              "      filter: drop-shadow(0px 1px 2px rgba(0, 0, 0, 0.3));\n",
              "      fill: #FFFFFF;\n",
              "    }\n",
              "  </style>\n",
              "\n",
              "      <script>\n",
              "        const buttonEl =\n",
              "          document.querySelector('#df-4e09f6e6-1de4-4c22-bf4f-420ba1a85635 button.colab-df-convert');\n",
              "        buttonEl.style.display =\n",
              "          google.colab.kernel.accessAllowed ? 'block' : 'none';\n",
              "\n",
              "        async function convertToInteractive(key) {\n",
              "          const element = document.querySelector('#df-4e09f6e6-1de4-4c22-bf4f-420ba1a85635');\n",
              "          const dataTable =\n",
              "            await google.colab.kernel.invokeFunction('convertToInteractive',\n",
              "                                                     [key], {});\n",
              "          if (!dataTable) return;\n",
              "\n",
              "          const docLinkHtml = 'Like what you see? Visit the ' +\n",
              "            '<a target=\"_blank\" href=https://colab.research.google.com/notebooks/data_table.ipynb>data table notebook</a>'\n",
              "            + ' to learn more about interactive tables.';\n",
              "          element.innerHTML = '';\n",
              "          dataTable['output_type'] = 'display_data';\n",
              "          await google.colab.output.renderOutput(dataTable, element);\n",
              "          const docLink = document.createElement('div');\n",
              "          docLink.innerHTML = docLinkHtml;\n",
              "          element.appendChild(docLink);\n",
              "        }\n",
              "      </script>\n",
              "    </div>\n",
              "  </div>\n",
              "  "
            ],
            "text/plain": [
              "   city  year brand     model  ... transmission drivetrain   new       price\n",
              "0  Bakı  2014   Kia   Sorento  ...      Avtomat        Tam  Xeyr  46 300 AZN\n",
              "1  Bakı  2013   Kia       Rio  ...      Avtomat         Ön  Xeyr  17 500 AZN\n",
              "2  Bakı  2015   Kia   Sorento  ...      Avtomat         Ön  Xeyr    25 900 $\n",
              "3  Bakı  2011   Kia    Optima  ...      Avtomat         Ön  Xeyr  21 800 AZN\n",
              "4  Bakı  2008   Kia  Sportage  ...      Avtomat         Ön  Xeyr  18 800 AZN\n",
              "\n",
              "[5 rows x 14 columns]"
            ]
          },
          "metadata": {},
          "execution_count": 18
        }
      ]
    },
    {
      "cell_type": "code",
      "source": [
        "kia_cars.to_csv('kia_cars.csv', index = False , header = True)"
      ],
      "metadata": {
        "id": "Oxt1PbDdyF68"
      },
      "execution_count": 20,
      "outputs": []
    }
  ]
}