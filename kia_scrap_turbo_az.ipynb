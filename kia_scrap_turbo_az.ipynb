{
  "nbformat": 4,
  "nbformat_minor": 0,
  "metadata": {
    "colab": {
      "name": "kia_scrap_turbo_az.ipynb",
      "provenance": [],
      "collapsed_sections": []
    },
    "kernelspec": {
      "name": "python3",
      "display_name": "Python 3"
    },
    "language_info": {
      "name": "python"
    }
  },
  "cells": [
    {
      "cell_type": "markdown",
      "source": [
        "# Get links to all cars\n"
      ],
      "metadata": {
        "id": "OL8Jrx3Wo8YE"
      }
    },
    {
      "cell_type": "code",
      "source": [
        "import requests\n",
        "import pandas as pd\n",
        "import numpy as np\n",
        "from bs4 import BeautifulSoup"
      ],
      "metadata": {
        "id": "s_UegV3vo_5O"
      },
      "execution_count": 3,
      "outputs": []
    },
    {
      "cell_type": "code",
      "source": [
        "base_urls = []\n",
        "for i in range(1,109):\n",
        "  base_url = 'https://turbo.az/autos?page='+str(i)+'&q%5Bmake%5D%5B%5D=8'\n",
        "  base_urls.append(base_url)"
      ],
      "metadata": {
        "id": "a9rELoCqzmMU"
      },
      "execution_count": 4,
      "outputs": []
    },
    {
      "cell_type": "code",
      "source": [
        "divs = []\n",
        "for url in base_urls:\n",
        "  response = requests.get(url)\n",
        "  html = response.content\n",
        "  soup = BeautifulSoup(html, 'lxml')\n",
        "  div = soup.find_all('div', class_= 'products')\n",
        "  divs.append(div)"
      ],
      "metadata": {
        "id": "uLojGWiAzmQq"
      },
      "execution_count": 5,
      "outputs": []
    },
    {
      "cell_type": "code",
      "source": [
        "with open('wiki_response.html', 'wb') as file:\n",
        "    file.write(soup.prettify('utf-8'))"
      ],
      "metadata": {
        "id": "hejQQKrUe2Uk"
      },
      "execution_count": 6,
      "outputs": []
    },
    {
      "cell_type": "code",
      "source": [
        "divs2 = []\n",
        "for i in divs:\n",
        " for x in i:\n",
        "   new = x.find_all('div', class_ = 'products-i')\n",
        "   divs2.append(new)"
      ],
      "metadata": {
        "id": "FitaJcgtzmVH"
      },
      "execution_count": 7,
      "outputs": []
    },
    {
      "cell_type": "code",
      "source": [
        "divs3 = []\n",
        "for i in divs2:\n",
        "  for x in i:\n",
        "    new2 = x.find_all('a')\n",
        "    divs3.append(new2)"
      ],
      "metadata": {
        "id": "-eyendSzzmzC"
      },
      "execution_count": 8,
      "outputs": []
    },
    {
      "cell_type": "code",
      "source": [
        "hrefs = []\n",
        "for i in divs3:\n",
        "  for x in i:\n",
        "    new3 = x.get('href')\n",
        "    hrefs.append(new3)"
      ],
      "metadata": {
        "id": "6hRKtKn7zm1C"
      },
      "execution_count": 9,
      "outputs": []
    },
    {
      "cell_type": "code",
      "source": [
        "len(hrefs)"
      ],
      "metadata": {
        "id": "d06Q3RTPzm2h",
        "colab": {
          "base_uri": "https://localhost:8080/"
        },
        "outputId": "29f01dc8-0849-4eb6-ae9d-6c1ac8474643"
      },
      "execution_count": 10,
      "outputs": [
        {
          "output_type": "execute_result",
          "data": {
            "text/plain": [
              "11604"
            ]
          },
          "metadata": {},
          "execution_count": 10
        }
      ]
    },
    {
      "cell_type": "code",
      "source": [
        "new_hrefs = [parts for parts in hrefs if 'bookmarks' not in parts]\n",
        "len(new_hrefs)"
      ],
      "metadata": {
        "colab": {
          "base_uri": "https://localhost:8080/"
        },
        "id": "F3Vk0H3rVKry",
        "outputId": "2c732022-3eb1-45ed-ddd8-b83164c6f868"
      },
      "execution_count": 11,
      "outputs": [
        {
          "output_type": "execute_result",
          "data": {
            "text/plain": [
              "3868"
            ]
          },
          "metadata": {},
          "execution_count": 11
        }
      ]
    },
    {
      "cell_type": "code",
      "source": [
        "links_cars = ['https://turbo.az' + s for s in new_hrefs]\n",
        "links_cars[:5]"
      ],
      "metadata": {
        "colab": {
          "base_uri": "https://localhost:8080/"
        },
        "id": "ICUYyTF_WC31",
        "outputId": "6267160b-2277-4bd6-d996-61108003aeec"
      },
      "execution_count": 12,
      "outputs": [
        {
          "output_type": "execute_result",
          "data": {
            "text/plain": [
              "['https://turbo.az/autos/5888328-kia-ceed',\n",
              " 'https://turbo.az/autos/5624701-kia-sorento',\n",
              " 'https://turbo.az/autos/5780315-kia-sorento',\n",
              " 'https://turbo.az/autos/5964574-kia-ceed',\n",
              " 'https://turbo.az/autos/5945935-kia-sorento']"
            ]
          },
          "metadata": {},
          "execution_count": 12
        }
      ]
    },
    {
      "cell_type": "markdown",
      "source": [
        "# Get HTMLS of all cars"
      ],
      "metadata": {
        "id": "dS5X1SwQXI5o"
      }
    },
    {
      "cell_type": "code",
      "source": [
        "responses = []\n",
        "for link in links_cars:\n",
        "  response = requests.get(link)\n",
        "  if response.status_code == 200:\n",
        "    responses.append(response)"
      ],
      "metadata": {
        "id": "Y04Hpc2Gzm9R"
      },
      "execution_count": 13,
      "outputs": []
    },
    {
      "cell_type": "code",
      "source": [
        "responses[1].content"
      ],
      "metadata": {
        "id": "bSrMeVEJg8sH",
        "colab": {
          "base_uri": "https://localhost:8080/"
        },
        "outputId": "23b58872-6999-4f74-9393-dfcdb2eba465"
      },
      "execution_count": 14,
      "outputs": [
        {
          "output_type": "execute_result",
          "data": {
            "text/plain": [
              "b'<!DOCTYPE html><html class=\"locale-az\" lang=\"az\"><head><title>Kia Sorento - Turbo.Az</title><meta charset=\"utf-8\" /><link href=\"https://turbo.azstatic.com/assets/favicons/favicon-192x192-bfda602634a6b895afb1690b599d49d14372c10b00a6d339d7407251621dcc1a.png\" rel=\"apple-touch-icon\" sizes=\"192x192\" /><link href=\"https://turbo.azstatic.com/assets/favicons/favicon-192x192-bfda602634a6b895afb1690b599d49d14372c10b00a6d339d7407251621dcc1a.png\" rel=\"icon\" sizes=\"192x192\" type=\"image/png\" /><link color=\"#ae050a\" href=\"https://turbo.azstatic.com/assets/favicons/favicon-aca77295b7a8c65dca8432efe90a059c006abc27d7a23a90fb34a38a865be0f2.svg\" rel=\"mask-icon\" /><meta content=\"#ae050a\" name=\"theme-color\" /><meta content=\"https://turbo.azstatic.com/assets/browserconfig-6d2218bc48cb7f0a786808a0933a28325922859eccf4604ede4fc7814e853394.xml\" name=\"msapplication-config\" /><link href=\"https://turbo.azstatic.com/manifest.webmanifest\" rel=\"manifest\" /><meta property=\"og:url\" content=\"https://turbo.az/autos/5624701-kia-sorento\" /><meta property=\"og:site_name\" content=\"rails::application.az\" /><meta property=\"og:title\" content=\"Kia Sorento - Turbo.Az\" /><meta property=\"og:image\" content=\"https://turbo.azstatic.com/uploads/full/2021%2F10%2F30%2F15%2F31%2F01%2Fe3d5947d-f1ea-417e-a60b-9c01212cab43%2F93261_pmomxDg2Ac_h0ZzIXYbHxA.jpg\" /><meta property=\"og:image\" content=\"https://turbo.azstatic.com/uploads/full/2021%2F10%2F30%2F15%2F31%2F24%2Fb28d681d-6535-4d95-89aa-725ad68a56be%2F14897_6x5rNUp0v2p8nS2W25PkWw.jpg\" /><meta property=\"og:image\" content=\"https://turbo.azstatic.com/uploads/full/2021%2F10%2F30%2F15%2F31%2F25%2Fc208272b-e6d1-43fd-a115-aff171a91d36%2F9040_bQYDPCAYNVG6BDsZcp3Qvw.jpg\" /><meta property=\"og:image\" content=\"https://turbo.azstatic.com/uploads/full/2021%2F10%2F30%2F15%2F31%2F25%2F18967b92-5a93-4747-ae06-153c80af2eb9%2F93249_U0avFAW5C-xRkm1egmW_rw.jpg\" /><meta property=\"og:image\" content=\"https://turbo.azstatic.com/uploads/full/2021%2F10%2F30%2F15%2F31%2F01%2F8531ee72-de3d-4f4f-bfc1-68548fa3fa40%2F10596_ol8Ye-kWSKuiEhIJluLSbA.jpg\" /><meta property=\"og:image\" content=\"https://turbo.azstatic.com/uploads/full/2021%2F10%2F30%2F15%2F31%2F02%2F0e21f0b1-d892-43b7-8dc9-c702be5c1d68%2F93011_pS9TbR3GHMvgDZsBsDoYJw.jpg\" /><meta property=\"og:image\" content=\"https://turbo.azstatic.com/uploads/full/2021%2F10%2F30%2F15%2F31%2F23%2Fb07d9075-13cd-4605-a168-9f57ac6a1e2f%2F53626_6DnQ9HHeHy2gm0ucxi04tg.jpg\" /><meta property=\"og:image\" content=\"https://turbo.azstatic.com/uploads/full/2021%2F10%2F30%2F15%2F31%2F28%2F3f594bdb-d3cf-47c4-acb1-c0fbed3c476c%2F83208_abTPWB2cQHWN9HVWisweDw.jpg\" /><meta property=\"og:image\" content=\"https://turbo.azstatic.com/uploads/full/2021%2F10%2F30%2F15%2F31%2F24%2Fd3b66c36-799e-4b95-a0e3-0ab5374e8315%2F92996_P4lMjYicjiLPXLJ6ocLCeg.jpg\" /><meta property=\"og:image\" content=\"https://turbo.azstatic.com/uploads/full/2021%2F10%2F30%2F15%2F31%2F24%2Faf184602-9700-4702-827c-b903ce6d8acc%2F9040_WDnKUASjCvgV1sfaXoV54A.jpg\" /><meta property=\"og:image\" content=\"https://turbo.azstatic.com/uploads/full/2021%2F10%2F30%2F15%2F31%2F25%2F91b48fd8-6e44-48f1-bbe3-187885da602e%2F52500_TpEf3dcVSOcewN7iChvn7w.jpg\" /><meta property=\"og:image\" content=\"https://turbo.azstatic.com/uploads/full/2021%2F10%2F30%2F15%2F31%2F22%2F629ac122-ae39-400a-9059-c4a1ecff3572%2F63456_L8TAThrE7ptEyZP4E4UZ2g.jpg\" /><meta property=\"og:image\" content=\"https://turbo.azstatic.com/uploads/full/2021%2F10%2F30%2F15%2F31%2F25%2Fa585fe8a-290b-47c3-ad66-b913dd118f4d%2F88801_Lhlw4ibDLZhND-A2Ic3yxA.jpg\" /><meta property=\"og:image\" content=\"https://turbo.azstatic.com/uploads/full/2021%2F10%2F30%2F15%2F31%2F25%2Feef0733e-c19a-4a37-bc3a-778d9938e018%2F63456_YnE3zRMlmN3VB72ZjfXBcw.jpg\" /><meta property=\"og:image\" content=\"https://turbo.azstatic.com/uploads/full/2021%2F10%2F30%2F15%2F31%2F25%2F75775920-652a-439c-8964-84dfb8de8d55%2F16279_ujC15S4mN4w77nJv1ATELw.jpg\" /><meta property=\"og:image\" content=\"https://turbo.azstatic.com/uploads/full/2021%2F10%2F30%2F15%2F31%2F24%2Ffbcaedbc-74f2-4dd7-b235-f361576b71ce%2F16703_imobxVJrWGSThGjet6Abhg.jpg\" /><meta property=\"og:image\" content=\"https://turbo.azstatic.com/uploads/full/2021%2F10%2F30%2F15%2F31%2F24%2F1e062bf1-c318-4395-a909-2450a0ee05c4%2F12577_-hjHnpqqs-i4z-gXVZcdEA.jpg\" /><meta property=\"og:image\" content=\"https://turbo.azstatic.com/uploads/full/2021%2F10%2F30%2F15%2F31%2F25%2F4e2f9973-c04f-45ec-868c-19dac62721d2%2F88668_RIX2ksY3Hj3GAj3S9ysIKg.jpg\" /><meta property=\"og:image\" content=\"https://turbo.azstatic.com/uploads/full/2021%2F10%2F30%2F15%2F31%2F24%2F8c846ff9-3e7e-43ba-b11f-3fd57b6b6011%2F8553_zGy3GLrmyIcDU2v4FnHVdQ.jpg\" /><meta property=\"og:image\" content=\"https://turbo.azstatic.com/uploads/full/2021%2F10%2F30%2F15%2F31%2F25%2F1528dc59-d984-493f-b4ed-974cd518354a%2F14278_lQUt9kBCk3dYtMO7jkg44A.jpg\" /><meta property=\"og:image\" content=\"https://turbo.azstatic.com/uploads/full/2021%2F10%2F30%2F15%2F31%2F23%2Fdc6ff072-b1e4-409f-b20a-86fbcab80ca2%2F88881_TQUiq06KNhfzhYmDCRhwyQ.jpg\" /><meta property=\"og:description\" content=\"Koreyadan yeni g\\xc9\\x99lib. Full komplektasiyadir. Ma\\xc5\\x9f\\xc4\\xb1n tam ideal v\\xc9\\x99ziyy\\xc9\\x99td\\xc9\\x99dir, he\\xc3\\xa7 bir problemi yoxdur, x\\xc9\\x99rc t\\xc9\\x99l\\xc9\\x99b etmir, vuruguna tam cavabdehik. Avtomobil Badamdar Ma\\xc5\\x9f\\xc4\\xb1n Bazar\\xc4\\xb1nda, L\\xc3\\xbcks Avto avtosalonunda yerl\\xc9\\x99\\xc5\\x9fir.\\r\\nMonitor, arxa kamera, 8 yast\\xc4\\xb1q, 4 \\xc5\\x9f\\xc3\\xbc\\xc5\\x9f\\xc9\\x99 qald\\xc4\\xb1ran, avtomatik qatlanan yan g\\xc3\\xbczg\\xc3\\xbcl\\xc9\\x99r, tiptronik, START STOP, panorama, klimat, kruiz, multi s\\xc3\\xbckan, arxa oturacaqlar\\xc4\\xb1n isidilm\\xc9\\x99si, keyless-go, ya\\xc4\\x9f\\xc4\\xb1\\xc5\\x9f v\\xc9\\x99 i\\xc5\\x9f\\xc4\\xb1q sensoru, avtomatik yan oturacaqlar.\" /><meta property=\"og:type\" content=\"website\" /><meta property=\"fb:app_id\" content=\"140012366034753\" /><meta content=\"Turbo.az - onlayn avtomobil bazar\\xc4\\xb1. Avtomobili almaq v\\xc9\\x99 ya satmaq \\xc3\\xbc\\xc3\\xa7\\xc3\\xbcn Turbo.az-a daxil olun!  Yeni v\\xc9\\x99 i\\xc5\\x9fl\\xc9\\x99nmi\\xc5\\x9f avtomobill\\xc9\\x99r, avtosalonlar, avtox\\xc9\\x99b\\xc9\\x99rl\\xc9\\x99r.\" name=\"description\" /><meta name=\"csrf-param\" content=\"authenticity_token\" />\\n<meta name=\"csrf-token\" content=\"VgHP/qWyD2n9ok4HzpZvV319TDUNN42yZbpTTYOuv6kJNNCDkSp3MTZTENJxbm6HMFy2MIP/OAmUP8O9Utl4jg==\" /><link rel=\"canonical\" href=\"https://turbo.az/autos/5624701-kia-sorento\" /><link rel=\"alternate\" hreflang=\"ru\" href=\"https://ru.turbo.az/autos/5624701-kia-sorento\" /><link rel=\"stylesheet\" media=\"all\" href=\"https://turbo.azstatic.com/assets/application-346b532b1289b8e7cc73f525a904dcdc3bb4e6d29d270745bcc0f9466e612fc9.css\" /><link rel=\"stylesheet\" media=\"print\" href=\"https://turbo.azstatic.com/assets/print-68c02613d7bc11d2322fa97ceba839c3174904fe3896536e56c7bca936218511.css\" /><script src=\"https://turbo.azstatic.com/assets/packs/js/application-dbcbf761a8c5de2ca534.js\"></script><script src=\"https://turbo.azstatic.com/assets/application-4eadfd0aef701014fef118aa19e86bb86ede11c354b1222369e9c5d8ea132523.js\"></script></head><body class=\"layout_ads layout_ads_show\"><div id=\"banner_ad\" style=\"height: 1px; position: fixed; bottom: 0;\"> </div><svg xmlns=\"http://www.w3.org/2000/svg\" xmlns:xlink=\"http://www.w3.org/1999/xlink\" class=\"symbols-svg-sprite\"><symbol xmlns=\"http://www.w3.org/2000/svg\" viewBox=\"-1 -1 17 11\" id=\"eye\"><path d=\"M7.5 0C4.634 0 2.035 1.578.117 4.142a.6.6 0 000 .713C2.035 7.422 4.634 9 7.5 9c2.866 0 5.465-1.578 7.383-4.142a.6.6 0 000-.713C12.965 1.578 10.366 0 7.5 0zm.206 7.67c-1.903.12-3.474-1.46-3.354-3.377.098-1.58 1.37-2.863 2.942-2.962 1.903-.12 3.474 1.46 3.354 3.377-.1 1.578-1.374 2.86-2.942 2.962zM7.61 6.204A1.702 1.702 0 015.806 4.39a1.712 1.712 0 011.587-1.6 1.702 1.702 0 011.804 1.816A1.712 1.712 0 017.61 6.205z\"></path></symbol><symbol xmlns=\"http://www.w3.org/2000/svg\" viewBox=\"-1 -1 19 19\" id=\"invoices\"><path d=\"M14.804 2.432C14.294.973 12.964.002 11.475 0h-5.95c-1.489.002-2.818.973-3.33 2.432L.284 7.922A5.118 5.118 0 000 9.609v.739a3.736 3.736 0 001.417 2.94v1.495c0 1.224.951 2.217 2.125 2.217 1.173 0 2.125-.993 2.125-2.217v-.74h5.666v.74c0 1.224.952 2.217 2.125 2.217 1.174 0 2.125-.993 2.125-2.217v-1.495A3.736 3.736 0 0017 10.348v-.74a5.11 5.11 0 00-.283-1.685l-1.913-5.49zM3.53 2.938c.307-.875 1.103-1.457 1.996-1.46h5.95c.893.002 1.69.585 1.997 1.46l1.55 4.453H1.977l1.552-4.453zm.721 11.845c0 .408-.317.739-.708.739-.392 0-.709-.331-.709-.74v-.812c.233.049.47.074.709.073h.708v.74zm9.917 0c0 .408-.317.739-.709.739-.39 0-.708-.331-.708-.74v-.739h.708a3.4 3.4 0 00.709-.073v.813zm1.416-4.435c0 1.224-.951 2.217-2.125 2.217H3.542c-1.174 0-2.125-.993-2.125-2.217v-.74c.003-.248.031-.496.085-.738h1.331v.739c0 .408.317.739.709.739.39 0 .708-.331.708-.74V8.87h8.5v.739c0 .408.317.739.708.739.392 0 .709-.331.709-.74V8.87h1.33c.055.242.083.49.086.739v.739z\"></path></symbol><symbol xmlns=\"http://www.w3.org/2000/svg\" viewBox=\"-1 -1 21.94 22\" id=\"items\"><path d=\"M20.766 12.403l-3.84-11.365A1.501 1.501 0 0015.516 0c-.169 0-.336.03-.495.087L4.061 4.068a1.51 1.51 0 00-.85.788H2.45c-.825 0-1.496.696-1.496 1.55V18.45c0 .855.67 1.551 1.496 1.551h11.612c.825 0 1.495-.696 1.495-1.55V15.94l4.293-1.56a1.51 1.51 0 00.853-.791 1.59 1.59 0 00.063-1.185zm-6.747 6.002H2.492v-1.67h11.527v1.67zm0-3.598v.334H2.492v-8.69h11.527v8.356zm-7.474-9.95l8.944-3.25 2.854 8.447-2.786.994V6.407c0-.855-.67-1.55-1.496-1.55H6.545zm9.012 9.391v-1.514l3.294-1.176.45 1.33-3.744 1.36z\"></path></symbol><symbol xmlns=\"http://www.w3.org/2000/svg\" viewBox=\"-1 -1 19 26\" id=\"location\"><path d=\"M16.598 5.973c-.087-.32-.266-.661-.398-.96C14.621 1.323 11.171 0 8.385 0 4.655 0 .548 2.432 0 7.445V8.47c0 .043.015.427.037.62.307 2.388 2.245 4.927 3.693 7.316 1.558 2.56 3.174 5.078 4.775 7.595.987-1.643 1.97-3.307 2.936-4.907.263-.47.568-.938.831-1.387.175-.298.51-.596.664-.874C14.493 14.059 17 11.264 17 8.512v-1.13c0-.299-.38-1.344-.402-1.409zm-8.145 5.142c-1.096 0-2.296-.533-2.888-2.006-.088-.234-.081-.704-.081-.747v-.66c0-1.878 1.638-2.731 3.064-2.731 1.755 0 3.112 1.365 3.112 3.072s-1.452 3.072-3.207 3.072z\"></path></symbol><symbol xmlns=\"http://www.w3.org/2000/svg\" viewBox=\"-1 -1 21.9 22\" id=\"my-profile\"><path d=\"M20.246 1h-4.713a.527.527 0 00-.524.526v8.895h-3.665V6.79a.527.527 0 00-.523-.526H6.108a.527.527 0 00-.524.526v8.132H1.395a.527.527 0 00-.523.526v5.027c0 .29.235.526.523.526h18.85a.527.527 0 00.524-.526V1.526A.527.527 0 0020.246 1zM5.584 19.947H1.92v-3.973h3.665v3.973zm4.713 0H6.632V7.316h3.665v12.631zm4.712 0h-3.665v-8.473h3.665v8.473zm4.713 0h-3.665V2.053h3.665v17.894z\"></path></symbol><symbol xmlns=\"http://www.w3.org/2000/svg\" viewBox=\"-1 -1 20.66 17.62\" id=\"paid_ads_transactions\"><path d=\"M1.569 3.055l6.324-1.774c.253-.07.522.098.6.377.07.248-.034.5-.236.602l-.08.031-6.323 1.774a.667.667 0 00-.493.725l.02.093 2.669 9.141a.69.69 0 00.753.478l.102-.02 6.98-1.959c.253-.07.522.098.6.377.07.248-.034.5-.235.602l-.08.032-6.98 1.958c-.818.229-1.689-.23-2.006-1.059l-.047-.141-2.67-9.14c-.254-.873.185-1.756.968-2.053l.134-.044z\"></path><path d=\"M3.545 6.778L7.418 5.69a.37.37 0 01.454.26.372.372 0 01-.183.432l-.069.027-3.872 1.088a.37.37 0 01-.454-.26.372.372 0 01.182-.432l.07-.027zM4.1 8.683l3.09-.869a.37.37 0 01.454.26.372.372 0 01-.182.432l-.07.027-3.09.869a.37.37 0 01-.453-.26.372.372 0 01.182-.432l.07-.027zm.555 1.904l2.37-.666a.37.37 0 01.454.26.372.372 0 01-.182.432l-.07.027-2.37.666a.37.37 0 01-.454-.26.372.372 0 01.183-.431l.069-.028z\"></path><path d=\"M17.3.986L9.64.197A1.71 1.71 0 007.766 1.72l-1.014 9.463a1.71 1.71 0 001.523 1.88l7.66.79a1.71 1.71 0 001.873-1.523l1.015-9.462a1.71 1.71 0 00-1.524-1.88zm-7.767.255l7.659.79a.664.664 0 01.59.731l-1.014 9.455a.663.663 0 01-.726.59l-7.66-.789a.664.664 0 01-.589-.732l1.014-9.455a.663.663 0 01.726-.59z\"></path><path d=\"M16.057 4.55c.23.024.397.234.373.468a.425.425 0 01-.376.382h-.085l-6.01-.62a.423.423 0 01-.372-.467.425.425 0 01.375-.381h.085l6.01.619zm-.211 1.97c.23.024.397.234.373.468a.425.425 0 01-.375.382h-.085l-6.01-.62a.423.423 0 01-.372-.467.425.425 0 01.375-.381h.085l6.01.619zm-1.812 1.858a.37.37 0 01.326.409.372.372 0 01-.329.334h-.074L9.55 8.667a.37.37 0 01-.326-.41.372.372 0 01.328-.333h.074l4.408.454z\"></path></symbol><symbol xmlns=\"http://www.w3.org/2000/svg\" viewBox=\"-1 -1 17.68 15.44\" id=\"payments\"><path d=\"M8.96 0C5.25 0 2.24 3.01 2.24 6.72H0l2.905 2.905.052.104L5.973 6.72h-2.24c0-2.89 2.337-5.227 5.227-5.227s5.227 2.337 5.227 5.227-2.337 5.227-5.227 5.227a5.187 5.187 0 01-3.689-1.538l-1.06 1.06A6.687 6.687 0 008.96 13.44c3.71 0 6.72-3.01 6.72-6.72S12.67 0 8.96 0zm-.747 3.733v3.734l3.196 1.896.538-.903-2.614-1.553V3.733h-1.12z\"></path></symbol><symbol xmlns=\"http://www.w3.org/2000/svg\" viewBox=\"-1 -1 32 32\" id=\"phone\"><path fill-rule=\"evenodd\" d=\"M28.333 20.833c-2 0-4-.332-6-1-.5-.166-1.166 0-1.666.333L17 23.833c-4.668-2.333-8.5-6.332-11-11l3.666-3.666c.5-.5.667-1.168.334-1.667-.5-1.833-.833-3.834-.833-5.833C9.167.667 8.5 0 7.5 0H1.667C.667 0 0 .666 0 1.667 0 17.334 12.666 30 28.333 30c1 0 1.667-.666 1.667-1.667V22.5c0-1-.666-1.667-1.667-1.667z\"></path></symbol><symbol xmlns=\"http://www.w3.org/2000/svg\" viewBox=\"-1 -1 27 27\" id=\"phones\"><path fill-rule=\"evenodd\" d=\"M23.61 17.36c-1.665 0-3.332-.276-5-.832-.415-.139-.97 0-1.388.277l-3.055 3.056c-3.89-1.944-7.084-5.277-9.167-9.166l3.055-3.056c.417-.417.556-.973.278-1.389-.416-1.528-.694-3.195-.694-4.86C7.64.554 7.083 0 6.25 0H1.39C.554 0 0 .555 0 1.39 0 14.444 10.555 25 23.61 25c.835 0 1.39-.555 1.39-1.39v-4.86c0-.833-.555-1.39-1.39-1.39z\"></path></symbol><symbol xmlns=\"http://www.w3.org/2000/svg\" viewBox=\"-1 -1 27.01 27\" id=\"schedule\"><path d=\"M24.002 7.631c-1.318-3.074-3.558-5.31-6.656-6.633A12.28 12.28 0 0012.479 0c-1.694 0-3.305.334-4.852.998C4.554 2.318 2.305 4.552.984 7.631A12.177 12.177 0 000 12.486c0 1.696.323 3.326.984 4.87 1.32 3.079 3.57 5.327 6.643 6.646 1.547.664 3.158.998 4.852.998 1.695 0 3.318-.338 4.866-.998 3.099-1.322 5.339-3.572 6.657-6.647A12.24 12.24 0 0025 12.486a12.17 12.17 0 00-.998-4.855zm-1.995 10.38a10.97 10.97 0 01-4.019 4.008 10.761 10.761 0 01-5.508 1.477 10.58 10.58 0 01-4.265-.876c-1.353-.587-2.522-1.36-3.5-2.338-.977-.978-1.755-2.159-2.336-3.515a10.773 10.773 0 01-.861-4.28c0-1.984.486-3.82 1.462-5.498a10.975 10.975 0 014.005-4.007c1.68-.985 3.513-1.478 5.494-1.478 1.982 0 3.826.496 5.509 1.478a11.003 11.003 0 014.018 4.007c.985 1.682 1.477 3.514 1.477 5.497s-.49 3.831-1.476 5.526zm-8.735-5.634V5.293c0-.424-.369-.766-.793-.766a.77.77 0 00-.751.766v7.193c0 .014.027.069.027.11a.715.715 0 00.205.615l4.087 4.09c.274.273.78.273 1.053 0a.738.738 0 000-1.067l-3.828-3.857z\"></path></symbol><symbol xmlns=\"http://www.w3.org/2000/svg\" viewBox=\"-1 -1 21.81 21.88\" id=\"shop\"><path d=\"M20.702 7.684l-.034-.12s-.017-.034-.017-.051L18.508 1.53a.702.702 0 00-.663-.462H4.104a.719.719 0 00-.663.462L1.315 7.479c-.017.034-.017.068-.034.102l-.068.205c-.017.052-.034.103-.034.171a2.71 2.71 0 00-.102.718c0 1.3.816 2.41 1.972 2.82v8.753c0 .393.307.7.698.7H18.49a.691.691 0 00.697-.7v-8.872c1.004-.496 1.701-1.521 1.701-2.7a2.96 2.96 0 00-.085-.65 1.007 1.007 0 00-.102-.342zm-2.925 11.863H4.444V11.65c.034 0 .085-.018.119-.018a2.992 2.992 0 001.82-1.042 2.954 2.954 0 002.296 1.077 3.01 3.01 0 002.295-1.077 2.954 2.954 0 002.296 1.077 3.01 3.01 0 002.296-1.077c.391.478.918.82 1.53.974.018 0 .035.017.052.017.068.017.136.034.22.051.035 0 .086.018.12.018.05 0 .119.017.17.017.034 0 .085.017.119.017v7.863zm.544-9.333c-.017 0-.017 0 0 0-.085.017-.153.034-.221.051-.068.017-.153.017-.221.017-.102 0-.204-.017-.306-.034-.085-.017-.17-.051-.238-.069-.017 0-.017 0-.034-.017a1.64 1.64 0 01-1.004-1.367v-.121a.69.69 0 00-.697-.7.691.691 0 00-.697.7c0 .034 0 .069-.017.103v.017a1.617 1.617 0 01-1.004 1.367c-.017 0-.017 0-.034.017-.085.035-.17.052-.255.069a1.865 1.865 0 01-.306.034c-.102 0-.204-.017-.306-.034-.085-.017-.17-.051-.238-.069-.017 0-.017 0-.034-.017a1.64 1.64 0 01-1.003-1.367V8.76c0-.035-.017-.052-.017-.086a.69.69 0 00-.698-.7.691.691 0 00-.697.7c0 .034 0 .069-.017.103v.017a1.617 1.617 0 01-1.003 1.367c-.017 0-.017 0-.034.017-.085.035-.17.052-.255.069-.102.017-.204.034-.306.034-.103 0-.205-.017-.307-.034-.085-.017-.17-.051-.255-.069-.017 0-.017 0-.034-.017A1.64 1.64 0 017.08 8.795v-.121a.69.69 0 00-.697-.7.691.691 0 00-.698.7c0 .034 0 .069-.017.103v.017a1.617 1.617 0 01-1.003 1.367c-.017 0-.017 0-.034.017a1.248 1.248 0 01-.238.069c-.102.017-.204.034-.306.034-.051 0-.12-.017-.17-.017-.017 0-.034 0-.068-.017h-.051a1.614 1.614 0 01-1.327-1.59c0-.137.017-.273.068-.444 0-.017.017-.052.017-.069l2.041-5.692h12.755l1.99 5.556s.016.034.016.05l.035.103c0 .017.017.052.017.069.05.17.068.307.068.444 0 .718-.494 1.334-1.157 1.539z\"></path></symbol><symbol xmlns=\"http://www.w3.org/2000/svg\" viewBox=\"-1 -1 20.29 22\" id=\"wallet\"><g transform=\"translate(.923 1)\"><path d=\"M17.064 10.729v-2.58c0-.848-.685-1.537-1.528-1.537H9.445a3.089 3.089 0 00.011-1.553A3.037 3.037 0 0011.77 6.13a3.06 3.06 0 003.05-3.065A3.06 3.06 0 0011.77 0a3.06 3.06 0 00-2.956 3.819A3.037 3.037 0 006.5 2.747a3.06 3.06 0 00-2.944 3.865H1.558c-.843 0-1.529.69-1.529 1.536v10.315A1.535 1.535 0 001.558 20h13.978c.843 0 1.528-.69 1.528-1.537v-2.58a1.421 1.421 0 001.25-1.412v-2.33a1.42 1.42 0 00-1.25-1.412zM11.77 1.293a1.77 1.77 0 011.763 1.772 1.77 1.77 0 01-1.763 1.773 1.77 1.77 0 01-1.764-1.773 1.77 1.77 0 011.764-1.772zM6.5 4.039a1.77 1.77 0 011.764 1.773c0 .282-.065.554-.19.8H4.926a1.767 1.767 0 01-.188-.8A1.77 1.77 0 016.5 4.04zm9.279 14.424a.244.244 0 01-.243.244H1.558a.244.244 0 01-.243-.244V8.148c0-.134.11-.244.243-.244h13.978c.134 0 .243.11.243.244v2.57H11.24c-.754 0-1.368.618-1.368 1.377v2.422c0 .759.614 1.376 1.368 1.376h4.538v2.57zm1.249-3.992a.13.13 0 01-.129.13h-5.612a.129.129 0 01-.129-.13v-2.33a.13.13 0 01.13-.13h5.611a.13.13 0 01.129.13v2.33z\"></path><circle cx=\"12.442\" cy=\"13.306\" r=\"1\"></circle></g></symbol></svg>\\n<div class=\"body-inner\"><div class=\"lotriver-top-banner\" id=\"js-lotriver-top-banner\"><script type=\"text/javascript\">\\n  var normalizeTargetingParameter = function (str) {\\n    var letters = {\\n      \\'\\xc6\\x8f\\': \\'E\\',\\n      \\'\\xc3\\x9c\\': \\'U\\',\\n      \\'\\xc3\\x96\\': \\'O\\',\\n      \\'\\xc4\\x9e\\': \\'Gh\\',\\n      \\'\\xc5\\x9e\\': \\'Sh\\',\\n      \\'\\xc3\\x87\\': \\'Ch\\',\\n      \\'\\xc4\\xb0\\': \\'I\\',\\n      \\'\\xc9\\x99\\': \\'e\\',\\n      \\'\\xc3\\xbc\\': \\'u\\',\\n      \\'\\xc3\\xb6\\': \\'o\\',\\n      \\'\\xc4\\x9f\\': \\'gh\\',\\n      \\'\\xc5\\x9f\\': \\'sh\\',\\n      \\'\\xc3\\xa7\\': \\'ch\\',\\n      \\'\\xc4\\xb1\\': \\'i\\'\\n    }\\n\\n    var categoryNameArr = str.split(\\'\\');\\n    var result = [];\\n\\n    for (var i = 0; i < categoryNameArr.length; i += 1) {\\n      var letter = categoryNameArr[i];\\n      if (Object.keys(letters).indexOf(letter) !== -1) {\\n        result.push(letters[letter]);\\n      } else {\\n        result.push(letter);\\n      }\\n    }\\n\\n    result = result.join(\\'\\').split(\\' \\').join(\\'-\\');\\n    return result.indexOf(\\'-/-\\') >= 0 ? result.split(\\'-/-\\').join(\\'-\\') : result;\\n  };\\n\\n    window.adriverExtentionLoad(0, null, \"js-lotriver-top-banner\")\\n</script>\\n</div><div class=\"header\" data-lotriver-header=\"\"><div class=\"header-bar-container\"><div class=\"header-bar\"><a class=\"header-bar-i header-bar-i_home\" href=\"/\"></a><div class=\"header-bar-i header-bar-i_support-phone\"><span class=\"header-bar-i_support-phone-title\">D\\xc9\\x99st\\xc9\\x99k xidm\\xc9\\x99ti: </span><span class=\"header-bar-i_support-phone-list\">(012) 599-08-01; (012) 505-77-55</span></div><div class=\"header-bar-right\"><a class=\"header-bar-i\" href=\"https://ru.turbo.az/autos/5624701-kia-sorento?desktop_site=1\">\\xd0\\xbf\\xd0\\xbe-\\xd1\\x80\\xd1\\x83\\xd1\\x81\\xd1\\x81\\xd0\\xba\\xd0\\xb8</a><a class=\"header-bar-i header-bar-i--bookmarks\" title=\"Se\\xc3\\xa7ilmi\\xc5\\x9fl\\xc9\\x99r\" href=\"/bookmarks\">Se\\xc3\\xa7ilmi\\xc5\\x9fl\\xc9\\x99r</a><a class=\"header-bar-i header-bar-i--login js-auth-link\" href=\"#\">Giri\\xc5\\x9f</a></div></div></div><div class=\"header-tabs-container\"><div class=\"header-tabs\"><a target=\"_blank\" class=\"header-tabs-i header-tabs-i_bina\" href=\"https://bina.az/?utm_source=turboaz&amp;utm_medium=desktop-nav&amp;utm_campaign=only-logo\">bina.az</a><a target=\"_blank\" class=\"header-tabs-i header-tabs-i_tap\" href=\"https://tap.az/?utm_source=turboaz&amp;utm_medium=desktop-nav&amp;utm_campaign=only-logo\">tap.az</a><a target=\"_blank\" class=\"header-tabs-i header-tabs-i_boss\" href=\"https://boss.az/?utm_source=turboaz&amp;utm_medium=desktop-nav&amp;utm_campaign=only-logo\">boss.az</a></div></div><div class=\"header-top-nav\"><div class=\"nav\"><a class=\"nav-i\" href=\"/autos\">B\\xc3\\xbct\\xc3\\xbcn elanlar</a><a class=\"nav-i\" href=\"/avtosalonlar\">Avtosalonlar</a><div class=\"nav-i--container\"><a class=\"nav-i\" target=\"_blank\" href=\"https://tap.az/elanlar/neqliyyat/ehtiyyat-hisseleri-ve-aksesuarlar?utm_source=turboaz&amp;utm_medium=link&amp;utm_content=accessories&amp;utm_campaign=desktop\">Ehtiyat hiss\\xc9\\x99l\\xc9\\x99ri v\\xc9\\x99 aksesuarlar</a><div class=\"header-top--sub-nav\"><a class=\"header-top--sub-nav-i\" target=\"_blank\" href=\"https://tap.az/elanlar/neqliyyat/ehtiyyat-hisseleri-ve-aksesuarlar?p%5B798%5D=4045&amp;utm_source=turboaz&amp;utm_medium=link&amp;utm_content=accessories&amp;utm_campaign=desktop\">Aksesuarlar</a><a class=\"header-top--sub-nav-i\" target=\"_blank\" href=\"https://tap.az/elanlar/neqliyyat/ehtiyyat-hisseleri-ve-aksesuarlar?p%5B798%5D=4046&amp;utm_source=turboaz&amp;utm_medium=link&amp;utm_content=accessories&amp;utm_campaign=desktop\">Audio v\\xc9\\x99 video texnika</a><a class=\"header-top--sub-nav-i\" target=\"_blank\" href=\"https://tap.az/elanlar/neqliyyat/ehtiyyat-hisseleri-ve-aksesuarlar?p%5B798%5D=4044&amp;utm_source=turboaz&amp;utm_medium=link&amp;utm_content=accessories&amp;utm_campaign=desktop\">Avtokosmetika v\\xc9\\x99 avtokimya</a><a class=\"header-top--sub-nav-i\" target=\"_blank\" href=\"https://tap.az/elanlar/neqliyyat/ehtiyyat-hisseleri-ve-aksesuarlar?p%5B798%5D=4047&amp;utm_source=turboaz&amp;utm_medium=link&amp;utm_content=accessories&amp;utm_campaign=desktop\">Ehtiyat hiss\\xc9\\x99l\\xc9\\x99ri</a><a class=\"header-top--sub-nav-i\" target=\"_blank\" href=\"https://tap.az/elanlar/neqliyyat/ehtiyyat-hisseleri-ve-aksesuarlar?p%5B798%5D=4043&amp;utm_source=turboaz&amp;utm_medium=link&amp;utm_content=accessories&amp;utm_campaign=desktop\">GPS naviqatorlar</a><a class=\"header-top--sub-nav-i\" target=\"_blank\" href=\"https://tap.az/elanlar/neqliyyat/ehtiyyat-hisseleri-ve-aksesuarlar?p%5B798%5D=4119&amp;utm_source=turboaz&amp;utm_medium=link&amp;utm_content=accessories&amp;utm_campaign=desktop\">Qeydiyyat ni\\xc5\\x9fanlar\\xc4\\xb1</a><a class=\"header-top--sub-nav-i\" target=\"_blank\" href=\"https://tap.az/elanlar/neqliyyat/ehtiyyat-hisseleri-ve-aksesuarlar?p%5B798%5D=4048&amp;utm_source=turboaz&amp;utm_medium=link&amp;utm_content=accessories&amp;utm_campaign=desktop\">Siqnalizasiyalar</a><a class=\"header-top--sub-nav-i\" target=\"_blank\" href=\"https://tap.az/elanlar/neqliyyat/ehtiyyat-hisseleri-ve-aksesuarlar?p%5B798%5D=7476&amp;utm_source=turboaz&amp;utm_medium=link&amp;utm_content=accessories&amp;utm_campaign=desktop\">Videoqeydiyyat\\xc3\\xa7\\xc4\\xb1lar</a><a class=\"header-top--sub-nav-i\" target=\"_blank\" href=\"https://tap.az/elanlar/neqliyyat/ehtiyyat-hisseleri-ve-aksesuarlar?p%5B798%5D=4050&amp;utm_source=turboaz&amp;utm_medium=link&amp;utm_content=accessories&amp;utm_campaign=desktop\">\\xc5\\x9einl\\xc9\\x99r, diskl\\xc9\\x99r v\\xc9\\x99 t\\xc9\\x99k\\xc9\\x99rl\\xc9\\x99r</a><a class=\"header-top--sub-nav-i\" target=\"_blank\" href=\"https://tap.az/elanlar/neqliyyat/ehtiyyat-hisseleri-ve-aksesuarlar?p%5B798%5D=4051&amp;utm_source=turboaz&amp;utm_medium=link&amp;utm_content=accessories&amp;utm_campaign=desktop\">Dig\\xc9\\x99r</a></div></div><a class=\"header-new-btn\" href=\"/autos/new\"><span>Elan yerl\\xc9\\x99\\xc5\\x9fdir</span></a></div></div></div><div class=\"main-container\" data-lotriver-wrapper=\"\"><div class=\"section-title section-title_top\"><ul class=\"breadcrumbs-shop\"><li class=\"breadcrumbs-shop-i\"><a href=\"/avtosalonlar\">Avtosalonlar</a></li><li class=\"breadcrumbs-shop-i\"><a href=\"/avtosalonlar/avtosalon-luks-avto\">Avtosalon &quot;L\\xc3\\xbcks Avto&quot;</a></li><li class=\"breadcrumbs-shop-i\"><a href=\"/makes/8-kia\">Kia</a></li><li class=\"breadcrumbs-shop-i\"><a href=\"/autos?q%5Bmake%5D%5B%5D=8&amp;q%5Bmodel%5D%5B%5D=122\">Sorento</a></li></ul><div class=\"lotriver-text-banner\" id=\"js-lotriver-text-banner\"><script type=\"text/javascript\">\\n  var normalizeTargetingParameter = function (str) {\\n    var letters = {\\n      \\'\\xc6\\x8f\\': \\'E\\',\\n      \\'\\xc3\\x9c\\': \\'U\\',\\n      \\'\\xc3\\x96\\': \\'O\\',\\n      \\'\\xc4\\x9e\\': \\'Gh\\',\\n      \\'\\xc5\\x9e\\': \\'Sh\\',\\n      \\'\\xc3\\x87\\': \\'Ch\\',\\n      \\'\\xc4\\xb0\\': \\'I\\',\\n      \\'\\xc9\\x99\\': \\'e\\',\\n      \\'\\xc3\\xbc\\': \\'u\\',\\n      \\'\\xc3\\xb6\\': \\'o\\',\\n      \\'\\xc4\\x9f\\': \\'gh\\',\\n      \\'\\xc5\\x9f\\': \\'sh\\',\\n      \\'\\xc3\\xa7\\': \\'ch\\',\\n      \\'\\xc4\\xb1\\': \\'i\\'\\n    }\\n\\n    var categoryNameArr = str.split(\\'\\');\\n    var result = [];\\n\\n    for (var i = 0; i < categoryNameArr.length; i += 1) {\\n      var letter = categoryNameArr[i];\\n      if (Object.keys(letters).indexOf(letter) !== -1) {\\n        result.push(letters[letter]);\\n      } else {\\n        result.push(letter);\\n      }\\n    }\\n\\n    result = result.join(\\'\\').split(\\' \\').join(\\'-\\');\\n    return result.indexOf(\\'-/-\\') >= 0 ? result.split(\\'-/-\\').join(\\'-\\') : result;\\n  };\\n\\n    window.adriverExtentionLoad(0, null, \"js-lotriver-text-banner\")\\n</script>\\n</div></div><div class=\"page-content\"><div class=\"product product-shop\"><div class=\"shop-container\"><div class=\"shop--cover\" style=\"background-image: url(https://turbo.azstatic.com/uploads/f1010x323/2020%2F03%2F18%2F10%2F19%2F42%2Fbe119030-46c9-4118-ae8b-6880f33201e3%2Fcoverer.png)\"></div><div class=\"shop-header\"><div class=\"shop-header-left\"><div class=\"shop--logo\" style=\"background-image: url(https://turbo.azstatic.com/uploads/f352x352/2020%2F03%2F19%2F14%2F07%2F16%2F57f24f6a-73ea-4287-9b66-421ee0a4715d%2Flogolusk.png)\"></div><a class=\"shop--products-count\" href=\"/avtosalonlar/avtosalon-luks-avto\">44 elan</a></div><div class=\"shop-header-right\"><div class=\"shop-header-text\"><h1 class=\"shop--title\"><a href=\"/avtosalonlar/avtosalon-luks-avto\">Avtosalon &quot;L\\xc3\\xbcks Avto&quot;</a></h1><div class=\"shop-header-table\"><div class=\"shop-header-cell shop-header-cell_description\"><h2 class=\"shop--description\">L\\xc3\\xbcks Avto \\xe2\\x80\\x93 s\\xc9\\x99rf\\xc9\\x99li kredit, lizinq, barter ve ekskluziv sifari\\xc5\\x9f xidm\\xc9\\x99tl\\xc9\\x99rind\\xc9\\x99 etibarl\\xc4\\xb1 t\\xc9\\x99r\\xc9\\x99fda\\xc5\\x9f\\xc4\\xb1n\\xc4\\xb1zd\\xc4\\xb1r!</h2><div class=\"shop--location-wrap\"><svg class=\"icon-svg icon-svg--location\" xmlns=\"http://www.w3.org/2000/svg\"><use xlink:href=\"#location\"></use></svg><a target=\"_blank\" class=\"shop--location\" href=\"https://www.google.com/maps?q=40.360884%2C49.80156&amp;ll=40.360884%2C49.80156&amp;z=15\">Bak\\xc4\\xb1 \\xc5\\x9f., Badamdar q\\xc9\\x99s., Avtomobil Sati\\xc5\\x9f M\\xc9\\x99rk\\xc9\\x99zi</a></div></div><div class=\"shop-header-cell shop-header-cell_feedback\"><div class=\"shop-phones by_columns\"><svg class=\"icon-svg icon-svg--phone\" xmlns=\"http://www.w3.org/2000/svg\"><use xlink:href=\"#phone\"></use></svg><div class=\"shop-phones-i\"><a class=\"shop-phones--number\" data-register-call=\"true\" href=\"tel:(055) 396-00-60\">(055) 396-00-60</a></div><div class=\"shop-phones-i\"><a class=\"shop-phones--number\" data-register-call=\"true\" href=\"tel:(050) 396-00-60\">(050) 396-00-60</a></div><div class=\"shop-phones-i\"><a class=\"shop-phones--number\" data-register-call=\"true\" href=\"tel:(055) 314-44-20\">(055) 314-44-20</a></div><div class=\"shop-phones-i\"><a class=\"shop-phones--number\" data-register-call=\"true\" href=\"tel:(050) 314-44-20\">(050) 314-44-20</a></div></div><div class=\"shop--schedule\">H\\xc9\\x99r g\\xc3\\xbcn: 09:00\\xe2\\x80\\x9320:00</div></div></div></div><div class=\"shop--special-offer\">Etibarl\\xc4\\xb1 t\\xc9\\x99r\\xc9\\x99fda\\xc5\\x9f\\xc4\\xb1n\\xc4\\xb1z!</div></div></div></div><div class=\"product-photos\"><a class=\"product-photos-large\" href=\"https://turbo.azstatic.com/uploads/full/2021%2F10%2F30%2F15%2F31%2F01%2Fe3d5947d-f1ea-417e-a60b-9c01212cab43%2F93261_pmomxDg2Ac_h0ZzIXYbHxA.jpg\"><img alt=\"Kia Sorento\" src=\"https://turbo.azstatic.com/uploads/f460x343/2021%2F10%2F30%2F15%2F31%2F01%2Fe3d5947d-f1ea-417e-a60b-9c01212cab43%2F93261_pmomxDg2Ac_h0ZzIXYbHxA.jpg\" /></a><div class=\"product-photos-thumbnails_m\"><a href=\"https://turbo.azstatic.com/uploads/full/2021%2F10%2F30%2F15%2F31%2F24%2Fb28d681d-6535-4d95-89aa-725ad68a56be%2F14897_6x5rNUp0v2p8nS2W25PkWw.jpg\"><img alt=\"Kia Sorento\" src=\"https://turbo.azstatic.com/uploads/thumbnail/2021%2F10%2F30%2F15%2F31%2F24%2Fb28d681d-6535-4d95-89aa-725ad68a56be%2F14897_6x5rNUp0v2p8nS2W25PkWw.jpg\" /></a><a href=\"https://turbo.azstatic.com/uploads/full/2021%2F10%2F30%2F15%2F31%2F25%2Fc208272b-e6d1-43fd-a115-aff171a91d36%2F9040_bQYDPCAYNVG6BDsZcp3Qvw.jpg\"><img alt=\"Kia Sorento\" src=\"https://turbo.azstatic.com/uploads/thumbnail/2021%2F10%2F30%2F15%2F31%2F25%2Fc208272b-e6d1-43fd-a115-aff171a91d36%2F9040_bQYDPCAYNVG6BDsZcp3Qvw.jpg\" /></a><a href=\"https://turbo.azstatic.com/uploads/full/2021%2F10%2F30%2F15%2F31%2F25%2F18967b92-5a93-4747-ae06-153c80af2eb9%2F93249_U0avFAW5C-xRkm1egmW_rw.jpg\"><img alt=\"Kia Sorento\" src=\"https://turbo.azstatic.com/uploads/thumbnail/2021%2F10%2F30%2F15%2F31%2F25%2F18967b92-5a93-4747-ae06-153c80af2eb9%2F93249_U0avFAW5C-xRkm1egmW_rw.jpg\" /></a><a href=\"https://turbo.azstatic.com/uploads/full/2021%2F10%2F30%2F15%2F31%2F01%2F8531ee72-de3d-4f4f-bfc1-68548fa3fa40%2F10596_ol8Ye-kWSKuiEhIJluLSbA.jpg\"><img alt=\"Kia Sorento\" src=\"https://turbo.azstatic.com/uploads/thumbnail/2021%2F10%2F30%2F15%2F31%2F01%2F8531ee72-de3d-4f4f-bfc1-68548fa3fa40%2F10596_ol8Ye-kWSKuiEhIJluLSbA.jpg\" /></a><a href=\"https://turbo.azstatic.com/uploads/full/2021%2F10%2F30%2F15%2F31%2F02%2F0e21f0b1-d892-43b7-8dc9-c702be5c1d68%2F93011_pS9TbR3GHMvgDZsBsDoYJw.jpg\"><img alt=\"Kia Sorento\" src=\"https://turbo.azstatic.com/uploads/thumbnail/2021%2F10%2F30%2F15%2F31%2F02%2F0e21f0b1-d892-43b7-8dc9-c702be5c1d68%2F93011_pS9TbR3GHMvgDZsBsDoYJw.jpg\" /></a><a href=\"https://turbo.azstatic.com/uploads/full/2021%2F10%2F30%2F15%2F31%2F23%2Fb07d9075-13cd-4605-a168-9f57ac6a1e2f%2F53626_6DnQ9HHeHy2gm0ucxi04tg.jpg\"><img alt=\"Kia Sorento\" src=\"https://turbo.azstatic.com/uploads/thumbnail/2021%2F10%2F30%2F15%2F31%2F23%2Fb07d9075-13cd-4605-a168-9f57ac6a1e2f%2F53626_6DnQ9HHeHy2gm0ucxi04tg.jpg\" /></a><a href=\"https://turbo.azstatic.com/uploads/full/2021%2F10%2F30%2F15%2F31%2F28%2F3f594bdb-d3cf-47c4-acb1-c0fbed3c476c%2F83208_abTPWB2cQHWN9HVWisweDw.jpg\"><img alt=\"Kia Sorento\" src=\"https://turbo.azstatic.com/uploads/thumbnail/2021%2F10%2F30%2F15%2F31%2F28%2F3f594bdb-d3cf-47c4-acb1-c0fbed3c476c%2F83208_abTPWB2cQHWN9HVWisweDw.jpg\" /></a><a href=\"https://turbo.azstatic.com/uploads/full/2021%2F10%2F30%2F15%2F31%2F24%2Fd3b66c36-799e-4b95-a0e3-0ab5374e8315%2F92996_P4lMjYicjiLPXLJ6ocLCeg.jpg\"><img alt=\"Kia Sorento\" src=\"https://turbo.azstatic.com/uploads/thumbnail/2021%2F10%2F30%2F15%2F31%2F24%2Fd3b66c36-799e-4b95-a0e3-0ab5374e8315%2F92996_P4lMjYicjiLPXLJ6ocLCeg.jpg\" /></a><a href=\"https://turbo.azstatic.com/uploads/full/2021%2F10%2F30%2F15%2F31%2F24%2Faf184602-9700-4702-827c-b903ce6d8acc%2F9040_WDnKUASjCvgV1sfaXoV54A.jpg\"><img alt=\"Kia Sorento\" src=\"https://turbo.azstatic.com/uploads/thumbnail/2021%2F10%2F30%2F15%2F31%2F24%2Faf184602-9700-4702-827c-b903ce6d8acc%2F9040_WDnKUASjCvgV1sfaXoV54A.jpg\" /></a><a href=\"https://turbo.azstatic.com/uploads/full/2021%2F10%2F30%2F15%2F31%2F25%2F91b48fd8-6e44-48f1-bbe3-187885da602e%2F52500_TpEf3dcVSOcewN7iChvn7w.jpg\"><img alt=\"Kia Sorento\" src=\"https://turbo.azstatic.com/uploads/thumbnail/2021%2F10%2F30%2F15%2F31%2F25%2F91b48fd8-6e44-48f1-bbe3-187885da602e%2F52500_TpEf3dcVSOcewN7iChvn7w.jpg\" /></a><a href=\"https://turbo.azstatic.com/uploads/full/2021%2F10%2F30%2F15%2F31%2F22%2F629ac122-ae39-400a-9059-c4a1ecff3572%2F63456_L8TAThrE7ptEyZP4E4UZ2g.jpg\"><img alt=\"Kia Sorento\" src=\"https://turbo.azstatic.com/uploads/thumbnail/2021%2F10%2F30%2F15%2F31%2F22%2F629ac122-ae39-400a-9059-c4a1ecff3572%2F63456_L8TAThrE7ptEyZP4E4UZ2g.jpg\" /></a><a href=\"https://turbo.azstatic.com/uploads/full/2021%2F10%2F30%2F15%2F31%2F25%2Fa585fe8a-290b-47c3-ad66-b913dd118f4d%2F88801_Lhlw4ibDLZhND-A2Ic3yxA.jpg\"><img alt=\"Kia Sorento\" src=\"https://turbo.azstatic.com/uploads/thumbnail/2021%2F10%2F30%2F15%2F31%2F25%2Fa585fe8a-290b-47c3-ad66-b913dd118f4d%2F88801_Lhlw4ibDLZhND-A2Ic3yxA.jpg\" /></a><a href=\"https://turbo.azstatic.com/uploads/full/2021%2F10%2F30%2F15%2F31%2F25%2Feef0733e-c19a-4a37-bc3a-778d9938e018%2F63456_YnE3zRMlmN3VB72ZjfXBcw.jpg\"><img alt=\"Kia Sorento\" src=\"https://turbo.azstatic.com/uploads/thumbnail/2021%2F10%2F30%2F15%2F31%2F25%2Feef0733e-c19a-4a37-bc3a-778d9938e018%2F63456_YnE3zRMlmN3VB72ZjfXBcw.jpg\" /></a><a href=\"https://turbo.azstatic.com/uploads/full/2021%2F10%2F30%2F15%2F31%2F25%2F75775920-652a-439c-8964-84dfb8de8d55%2F16279_ujC15S4mN4w77nJv1ATELw.jpg\"><img alt=\"Kia Sorento\" src=\"https://turbo.azstatic.com/uploads/thumbnail/2021%2F10%2F30%2F15%2F31%2F25%2F75775920-652a-439c-8964-84dfb8de8d55%2F16279_ujC15S4mN4w77nJv1ATELw.jpg\" /></a><a href=\"https://turbo.azstatic.com/uploads/full/2021%2F10%2F30%2F15%2F31%2F24%2Ffbcaedbc-74f2-4dd7-b235-f361576b71ce%2F16703_imobxVJrWGSThGjet6Abhg.jpg\"><img alt=\"Kia Sorento\" src=\"https://turbo.azstatic.com/uploads/thumbnail/2021%2F10%2F30%2F15%2F31%2F24%2Ffbcaedbc-74f2-4dd7-b235-f361576b71ce%2F16703_imobxVJrWGSThGjet6Abhg.jpg\" /></a><a href=\"https://turbo.azstatic.com/uploads/full/2021%2F10%2F30%2F15%2F31%2F24%2F1e062bf1-c318-4395-a909-2450a0ee05c4%2F12577_-hjHnpqqs-i4z-gXVZcdEA.jpg\"><img alt=\"Kia Sorento\" src=\"https://turbo.azstatic.com/uploads/thumbnail/2021%2F10%2F30%2F15%2F31%2F24%2F1e062bf1-c318-4395-a909-2450a0ee05c4%2F12577_-hjHnpqqs-i4z-gXVZcdEA.jpg\" /></a><a href=\"https://turbo.azstatic.com/uploads/full/2021%2F10%2F30%2F15%2F31%2F25%2F4e2f9973-c04f-45ec-868c-19dac62721d2%2F88668_RIX2ksY3Hj3GAj3S9ysIKg.jpg\"><img alt=\"Kia Sorento\" src=\"https://turbo.azstatic.com/uploads/thumbnail/2021%2F10%2F30%2F15%2F31%2F25%2F4e2f9973-c04f-45ec-868c-19dac62721d2%2F88668_RIX2ksY3Hj3GAj3S9ysIKg.jpg\" /></a><a href=\"https://turbo.azstatic.com/uploads/full/2021%2F10%2F30%2F15%2F31%2F24%2F8c846ff9-3e7e-43ba-b11f-3fd57b6b6011%2F8553_zGy3GLrmyIcDU2v4FnHVdQ.jpg\"><img alt=\"Kia Sorento\" src=\"https://turbo.azstatic.com/uploads/thumbnail/2021%2F10%2F30%2F15%2F31%2F24%2F8c846ff9-3e7e-43ba-b11f-3fd57b6b6011%2F8553_zGy3GLrmyIcDU2v4FnHVdQ.jpg\" /></a><a href=\"https://turbo.azstatic.com/uploads/full/2021%2F10%2F30%2F15%2F31%2F25%2F1528dc59-d984-493f-b4ed-974cd518354a%2F14278_lQUt9kBCk3dYtMO7jkg44A.jpg\"><img alt=\"Kia Sorento\" src=\"https://turbo.azstatic.com/uploads/thumbnail/2021%2F10%2F30%2F15%2F31%2F25%2F1528dc59-d984-493f-b4ed-974cd518354a%2F14278_lQUt9kBCk3dYtMO7jkg44A.jpg\" /></a><a href=\"https://turbo.azstatic.com/uploads/full/2021%2F10%2F30%2F15%2F31%2F23%2Fdc6ff072-b1e4-409f-b20a-86fbcab80ca2%2F88881_TQUiq06KNhfzhYmDCRhwyQ.jpg\"><img alt=\"Kia Sorento\" src=\"https://turbo.azstatic.com/uploads/thumbnail/2021%2F10%2F30%2F15%2F31%2F23%2Fdc6ff072-b1e4-409f-b20a-86fbcab80ca2%2F88881_TQUiq06KNhfzhYmDCRhwyQ.jpg\" /></a></div></div><div class=\"product-header product-header--shop\"><div class=\"product-price\">32 700 <span>AZN</span></div><div class=\"product-header--middle-block\"><h1 class=\"product-name\">Kia Sorento, <span class=\"nobr\">2.0 L</span>, <span class=\"nobr\">2012 il</span>, <span class=\"nobr\">154 000 km</span></h1><div class=\"services\"><a id=\"bump_open\" class=\"services-i services-i_bump\" data-reveal-id=\"bump_modal\" data-animation=\"fade\" href=\"#bump_open\">Elan\\xc4\\xb1 ir\\xc9\\x99li \\xc3\\xa7\\xc9\\x99k<span class=\"services-i-price\"><span class=\"price-val\">3</span><span class=\"price-cur\">AZN</span>-d\\xc9\\x99n</span></a><div class=\"reveal-modal services-modal\" id=\"bump_modal\"><div class=\"js-services-modal-container services-modal-container\"><div class=\"reveal-header reveal-header-bump\"><span class=\"reveal-title reveal-title--bump\">Elan\\xc4\\xb1 ir\\xc9\\x99li \\xc3\\xa7\\xc9\\x99km\\xc9\\x99k</span><div class=\"close-reveal-modal\"></div><div class=\"description\">Elan\\xc4\\xb1n\\xc4\\xb1z son elanlar b\\xc3\\xb6lm\\xc9\\x99sind\\xc9\\x99 v\\xc9\\x99 axtar\\xc4\\xb1\\xc5\\x9f n\\xc9\\x99tic\\xc9\\x99l\\xc9\\x99rind\\xc9\\x99 birinci yer\\xc9\\x99 qalxacaq.</div></div><input type=\"hidden\" name=\"payment[service_id]\" id=\"payment_service_id\" value=\"bump\" /><div class=\"payment-form\"><div class=\"reveal-content\">\\n<div class=\"pay\">\\n    <div class=\"az-payments-form az-payments-form-azericard\" data-provider=\"azericard\">\\n      <form class=\"new_payment\" id=\"bcf35f22f40c07e0dd39f7237e08f546_new_payment\" action=\"/azericard\" accept-charset=\"UTF-8\" method=\"post\"><input name=\"utf8\" type=\"hidden\" value=\"&#x2713;\" /><input type=\"hidden\" name=\"authenticity_token\" value=\"2YX49uCn/ey6hmW8e/frjH3pGuejSUgutz9o/uLZMTxq6ZYcPHtU3EWsYaqAr6jzx+YPmlZ2atoyCI98ugvkrg==\" /><input value=\"false\" type=\"hidden\" name=\"payment[mobile]\" id=\"bcf35f22f40c07e0dd39f7237e08f546_payment_mobile\" /><input value=\"desktop\" type=\"hidden\" name=\"payment[medium]\" id=\"bcf35f22f40c07e0dd39f7237e08f546_payment_medium\" /><input type=\"hidden\" value=\"Ad\" name=\"payment[target_type]\" id=\"bcf35f22f40c07e0dd39f7237e08f546_payment_target_type\" /><input type=\"hidden\" value=\"5624701\" name=\"payment[target_id]\" id=\"bcf35f22f40c07e0dd39f7237e08f546_payment_target_id\" /><div class=\"reveal-service\">X\\xc4\\xb0DM\\xc6\\x8fT\\xc4\\xb0N M\\xc3\\x9cDD\\xc6\\x8fT\\xc4\\xb0N\\xc4\\xb0 SE\\xc3\\x87\\xc4\\xb0N</div><div class=\"az-service\"><div class=\"az-service-i bump\"><input class=\"az-payments-service-input\" data-price=\"3\" type=\"radio\" value=\"bump\" name=\"payment[service_id]\" id=\"bcf35f22f40c07e0dd39f7237e08f546_payment_service_id_bump\" /><label for=\"bcf35f22f40c07e0dd39f7237e08f546_payment_service_id_bump\"><span class=\"name\">1 d\\xc9\\x99f\\xc9\\x99</span><span class=\"price\"> / 3,00 AZN</span> </label></div><div class=\"az-service-i bump3\"><input class=\"az-payments-service-input\" data-price=\"6\" type=\"radio\" value=\"bump3\" checked=\"checked\" name=\"payment[service_id]\" id=\"bcf35f22f40c07e0dd39f7237e08f546_payment_service_id_bump3\" /><label for=\"bcf35f22f40c07e0dd39f7237e08f546_payment_service_id_bump3\"><span class=\"name\">3 d\\xc9\\x99f\\xc9\\x99 (h\\xc9\\x99r 24 saat)</span><span class=\"price\"> / 6,00 AZN</span> </label></div><div class=\"az-service-i bump5\"><input class=\"az-payments-service-input\" data-price=\"9\" type=\"radio\" value=\"bump5\" name=\"payment[service_id]\" id=\"bcf35f22f40c07e0dd39f7237e08f546_payment_service_id_bump5\" /><label for=\"bcf35f22f40c07e0dd39f7237e08f546_payment_service_id_bump5\"><span class=\"name\">5 d\\xc9\\x99f\\xc9\\x99 (h\\xc9\\x99r 24 saat)</span><span class=\"price\"> / 9,00 AZN</span> </label></div><div class=\"az-service-i bump10\"><input class=\"az-payments-service-input\" data-price=\"15\" type=\"radio\" value=\"bump10\" name=\"payment[service_id]\" id=\"bcf35f22f40c07e0dd39f7237e08f546_payment_service_id_bump10\" /><label for=\"bcf35f22f40c07e0dd39f7237e08f546_payment_service_id_bump10\"><span class=\"name\">10 d\\xc9\\x99f\\xc9\\x99 (h\\xc9\\x99r 24 saat)</span><span class=\"price\"> / 15,00 AZN</span> </label></div></div><div class=\"action\"><button name=\"button\" type=\"submit\">\\xc3\\x96d\\xc9\\x99</button></div><div class=\"reveal-payment-method\">\\xc3\\x96D\\xc6\\x8fN\\xc4\\xb0\\xc5\\x9e \\xc3\\x9cSULUNU SE\\xc3\\x87\\xc4\\xb0N</div><div class=\"az-payments-type\"><div class=\"az-payments-form-i az-payments-type-azericard\"><input class=\"az-payments-type-input\" data-tab=\".az-payments-form-azericard\" type=\"radio\" value=\"azericard\" name=\"payment[payment_provider]\" id=\"bcf35f22f40c07e0dd39f7237e08f546_payment_payment_provider_azericard\" /><label for=\"bcf35f22f40c07e0dd39f7237e08f546_payment_payment_provider_azericard\">Bank kart\\xc4\\xb1</label></div><div class=\"az-payments-form-i portmanat\"><input class=\"az-payments-type-input\" data-tab=\".az-payments-form-portmanat\" type=\"radio\" value=\"portmanat\" name=\"payment[payment_provider]\" id=\"bcf35f22f40c07e0dd39f7237e08f546_payment_payment_provider_portmanat\" /><label for=\"bcf35f22f40c07e0dd39f7237e08f546_payment_payment_provider_portmanat\">Portmanat</label></div><div class=\"az-payments-type-terminal\"><div class=\"az-payments-form-i js-payment-in-terminals-btn\"><span class=\"az-payments-form-i__info-icon\"></span><label class=\"providers-radio payment-in-terminals\">Terminallarda \\xc3\\xb6d\\xc9\\x99ni\\xc5\\x9f</label></div></div></div><div class=\"action\"><button name=\"button\" type=\"submit\">\\xc3\\x96d\\xc9\\x99</button><div class=\"terms\"><div class=\"terms-profile\">\\xc2\\xab\\xc3\\x96d\\xc9\\x99\\xc2\\xbb d\\xc3\\xbcym\\xc9\\x99sini s\\xc4\\xb1xmaqla siz Turbo.az-\\xc4\\xb1n <a target=\"_blank\" href=\"/pages/terms-and-conditions\">\\xc4\\xb0stifad\\xc9\\x99\\xc3\\xa7i raz\\xc4\\xb1la\\xc5\\x9fmas\\xc4\\xb1n\\xc4\\xb1</a> v\\xc9\\x99 <a target=\"_blank\" href=\"/pages/rules\">Qaydalar\\xc4\\xb1n\\xc4\\xb1</a> q\\xc9\\x99bul etdiyinizi t\\xc9\\x99sdiql\\xc9\\x99mi\\xc5\\x9f olursunuz.</div></div></div></form>\\n    </div>\\n    <div class=\"az-payments-form az-payments-form-portmanat\" data-provider=\"portmanat\">\\n      <form class=\"new_payment\" id=\"1aff8d27136d865d73082590bce03e62_new_payment\" action=\"/portmanat\" accept-charset=\"UTF-8\" method=\"post\"><input name=\"utf8\" type=\"hidden\" value=\"&#x2713;\" /><input type=\"hidden\" name=\"authenticity_token\" value=\"bBGAiukk5jPu6jNldCwcE2448ob+Ya1o0G1AEwedBnrFZvMa74R0zOa42c9P4D5rjg6n/Byi7Fensf6pKEA4Qw==\" /><input value=\"false\" type=\"hidden\" name=\"payment[mobile]\" id=\"1aff8d27136d865d73082590bce03e62_payment_mobile\" /><input value=\"desktop\" type=\"hidden\" name=\"payment[medium]\" id=\"1aff8d27136d865d73082590bce03e62_payment_medium\" /><input type=\"hidden\" value=\"Ad\" name=\"payment[target_type]\" id=\"1aff8d27136d865d73082590bce03e62_payment_target_type\" /><input type=\"hidden\" value=\"5624701\" name=\"payment[target_id]\" id=\"1aff8d27136d865d73082590bce03e62_payment_target_id\" /><div class=\"reveal-service\">X\\xc4\\xb0DM\\xc6\\x8fT\\xc4\\xb0N M\\xc3\\x9cDD\\xc6\\x8fT\\xc4\\xb0N\\xc4\\xb0 SE\\xc3\\x87\\xc4\\xb0N</div><div class=\"az-service\"><div class=\"az-service-i bump\"><input class=\"az-payments-service-input\" data-price=\"3\" type=\"radio\" value=\"bump\" name=\"payment[service_id]\" id=\"1aff8d27136d865d73082590bce03e62_payment_service_id_bump\" /><label for=\"1aff8d27136d865d73082590bce03e62_payment_service_id_bump\"><span class=\"name\">1 d\\xc9\\x99f\\xc9\\x99</span><span class=\"price\"> / 3,00 AZN</span> </label></div><div class=\"az-service-i bump3\"><input class=\"az-payments-service-input\" data-price=\"6\" type=\"radio\" value=\"bump3\" checked=\"checked\" name=\"payment[service_id]\" id=\"1aff8d27136d865d73082590bce03e62_payment_service_id_bump3\" /><label for=\"1aff8d27136d865d73082590bce03e62_payment_service_id_bump3\"><span class=\"name\">3 d\\xc9\\x99f\\xc9\\x99 (h\\xc9\\x99r 24 saat)</span><span class=\"price\"> / 6,00 AZN</span> </label></div><div class=\"az-service-i bump5\"><input class=\"az-payments-service-input\" data-price=\"9\" type=\"radio\" value=\"bump5\" name=\"payment[service_id]\" id=\"1aff8d27136d865d73082590bce03e62_payment_service_id_bump5\" /><label for=\"1aff8d27136d865d73082590bce03e62_payment_service_id_bump5\"><span class=\"name\">5 d\\xc9\\x99f\\xc9\\x99 (h\\xc9\\x99r 24 saat)</span><span class=\"price\"> / 9,00 AZN</span> </label></div><div class=\"az-service-i bump10\"><input class=\"az-payments-service-input\" data-price=\"15\" type=\"radio\" value=\"bump10\" name=\"payment[service_id]\" id=\"1aff8d27136d865d73082590bce03e62_payment_service_id_bump10\" /><label for=\"1aff8d27136d865d73082590bce03e62_payment_service_id_bump10\"><span class=\"name\">10 d\\xc9\\x99f\\xc9\\x99 (h\\xc9\\x99r 24 saat)</span><span class=\"price\"> / 15,00 AZN</span> </label></div></div><div class=\"action\"><button name=\"button\" type=\"submit\">\\xc3\\x96d\\xc9\\x99</button></div><div class=\"reveal-payment-method\">\\xc3\\x96D\\xc6\\x8fN\\xc4\\xb0\\xc5\\x9e \\xc3\\x9cSULUNU SE\\xc3\\x87\\xc4\\xb0N</div><div class=\"az-payments-type\"><div class=\"az-payments-form-i az-payments-type-azericard\"><input class=\"az-payments-type-input\" data-tab=\".az-payments-form-azericard\" type=\"radio\" value=\"azericard\" name=\"payment[payment_provider]\" id=\"1aff8d27136d865d73082590bce03e62_payment_payment_provider_azericard\" /><label for=\"1aff8d27136d865d73082590bce03e62_payment_payment_provider_azericard\">Bank kart\\xc4\\xb1</label></div><div class=\"az-payments-form-i portmanat\"><input class=\"az-payments-type-input\" data-tab=\".az-payments-form-portmanat\" type=\"radio\" value=\"portmanat\" name=\"payment[payment_provider]\" id=\"1aff8d27136d865d73082590bce03e62_payment_payment_provider_portmanat\" /><label for=\"1aff8d27136d865d73082590bce03e62_payment_payment_provider_portmanat\">Portmanat</label></div><div class=\"az-payments-type-terminal\"><div class=\"az-payments-form-i js-payment-in-terminals-btn\"><span class=\"az-payments-form-i__info-icon\"></span><label class=\"providers-radio payment-in-terminals\">Terminallarda \\xc3\\xb6d\\xc9\\x99ni\\xc5\\x9f</label></div></div></div><div class=\"action\"><button name=\"button\" type=\"submit\">\\xc3\\x96d\\xc9\\x99</button><div class=\"terms\"><div class=\"terms-profile\">\\xc2\\xab\\xc3\\x96d\\xc9\\x99\\xc2\\xbb d\\xc3\\xbcym\\xc9\\x99sini s\\xc4\\xb1xmaqla siz Turbo.az-\\xc4\\xb1n <a target=\"_blank\" href=\"/pages/terms-and-conditions\">\\xc4\\xb0stifad\\xc9\\x99\\xc3\\xa7i raz\\xc4\\xb1la\\xc5\\x9fmas\\xc4\\xb1n\\xc4\\xb1</a> v\\xc9\\x99 <a target=\"_blank\" href=\"/pages/rules\">Qaydalar\\xc4\\xb1n\\xc4\\xb1</a> q\\xc9\\x99bul etdiyinizi t\\xc9\\x99sdiql\\xc9\\x99mi\\xc5\\x9f olursunuz.</div></div></div></form>\\n    </div>\\n</div>\\n</div></div><div class=\"thank-you\"><p>T\\xc9\\x99\\xc5\\x9f\\xc9\\x99kk\\xc3\\xbcr edirik, \\xc3\\xb6d\\xc9\\x99ni\\xc5\\x9finiz q\\xc9\\x99bul olundu.</p><p>Elan\\xc4\\xb1n\\xc4\\xb1z son elanlar b\\xc3\\xb6lm\\xc9\\x99sind\\xc9\\x99 v\\xc9\\x99 axtar\\xc4\\xb1\\xc5\\x9f n\\xc9\\x99tic\\xc9\\x99l\\xc9\\x99rind\\xc9\\x99 birinci yer\\xc9\\x99 qalxacaq.</p></div></div></div><a id=\"vip_open\" class=\"services-i services-i_vip\" data-reveal-id=\"vip_modal\" data-animation=\"fade\" href=\"#vip_open\">Elan\\xc4\\xb1 VIP et<span class=\"services-i-price\"><span class=\"price-val\">15</span><span class=\"price-cur\">AZN</span>-d\\xc9\\x99n</span></a><div class=\"reveal-modal services-modal\" id=\"vip_modal\"><div class=\"js-services-modal-container services-modal-container\"><div class=\"reveal-header reveal-header-vip\"><span class=\"reveal-title reveal-title--vip\">VIP et</span><div class=\"close-reveal-modal\"></div><div class=\"description\">Elan\\xc4\\xb1n\\xc4\\xb1z ana s\\xc9\\x99hif\\xc9\\x99d\\xc9\\x99ki v\\xc9\\x99 axtar\\xc4\\xb1\\xc5\\x9f n\\xc9\\x99tic\\xc9\\x99l\\xc9\\x99rind\\xc9\\x99ki VIP b\\xc3\\xb6lm\\xc9\\x99sind\\xc9\\x99 t\\xc9\\x99sad\\xc3\\xbcfi qaydada g\\xc3\\xb6st\\xc9\\x99ril\\xc9\\x99c\\xc9\\x99k.</div></div><input type=\"hidden\" name=\"payment[service_id]\" id=\"payment_service_id\" value=\"vip5\" /><div class=\"payment-form\"><div class=\"reveal-content\">\\n<div class=\"pay\">\\n    <div class=\"az-payments-form az-payments-form-azericard\" data-provider=\"azericard\">\\n      <form class=\"new_payment\" id=\"802562a2a35e4e6e0664be48f66153ec_new_payment\" action=\"/azericard\" accept-charset=\"UTF-8\" method=\"post\"><input name=\"utf8\" type=\"hidden\" value=\"&#x2713;\" /><input type=\"hidden\" name=\"authenticity_token\" value=\"PmldDd+aBqCJFEJFjN0O6CDbJCtB4La7sS19xvanSYWNBTPnA0avkHY+RlN3hU2XmtQxVrTflE80GppErnWcFw==\" /><input value=\"false\" type=\"hidden\" name=\"payment[mobile]\" id=\"802562a2a35e4e6e0664be48f66153ec_payment_mobile\" /><input value=\"desktop\" type=\"hidden\" name=\"payment[medium]\" id=\"802562a2a35e4e6e0664be48f66153ec_payment_medium\" /><input type=\"hidden\" value=\"Ad\" name=\"payment[target_type]\" id=\"802562a2a35e4e6e0664be48f66153ec_payment_target_type\" /><input type=\"hidden\" value=\"5624701\" name=\"payment[target_id]\" id=\"802562a2a35e4e6e0664be48f66153ec_payment_target_id\" /><div class=\"paid_until\">24 Fevral 2022, 13:22 tarixin\\xc9\\x99 kimi \\xc3\\xb6d\\xc9\\x99nilib</div><div class=\"reveal-service active\">X\\xc4\\xb0DM\\xc6\\x8fT\\xc4\\xb0N M\\xc3\\x9cDD\\xc6\\x8fT\\xc4\\xb0N\\xc4\\xb0 SE\\xc3\\x87\\xc4\\xb0N</div><div class=\"az-service\"><div class=\"az-service-i vip5\"><input class=\"az-payments-service-input\" data-price=\"15\" type=\"radio\" value=\"vip5\" name=\"payment[service_id]\" id=\"802562a2a35e4e6e0664be48f66153ec_payment_service_id_vip5\" /><label for=\"802562a2a35e4e6e0664be48f66153ec_payment_service_id_vip5\"><span class=\"name\">5 g\\xc3\\xbcn</span><span class=\"price\"> / 15,00 AZN</span> </label></div><div class=\"az-service-i vip15\"><input class=\"az-payments-service-input\" data-price=\"25\" type=\"radio\" value=\"vip15\" checked=\"checked\" name=\"payment[service_id]\" id=\"802562a2a35e4e6e0664be48f66153ec_payment_service_id_vip15\" /><label for=\"802562a2a35e4e6e0664be48f66153ec_payment_service_id_vip15\"><span class=\"name\">15 g\\xc3\\xbcn</span><span class=\"price\"> / 25,00 AZN</span> </label></div><div class=\"az-service-i vip30\"><input class=\"az-payments-service-input\" data-price=\"40\" type=\"radio\" value=\"vip30\" name=\"payment[service_id]\" id=\"802562a2a35e4e6e0664be48f66153ec_payment_service_id_vip30\" /><label for=\"802562a2a35e4e6e0664be48f66153ec_payment_service_id_vip30\"><span class=\"name\">30 g\\xc3\\xbcn</span><span class=\"price\"> / 40,00 AZN</span> </label></div></div><div class=\"action\"><button name=\"button\" type=\"submit\">\\xc3\\x96d\\xc9\\x99</button></div><div class=\"reveal-payment-method\">\\xc3\\x96D\\xc6\\x8fN\\xc4\\xb0\\xc5\\x9e \\xc3\\x9cSULUNU SE\\xc3\\x87\\xc4\\xb0N</div><div class=\"az-payments-type\"><div class=\"az-payments-form-i az-payments-type-azericard\"><input class=\"az-payments-type-input\" data-tab=\".az-payments-form-azericard\" type=\"radio\" value=\"azericard\" name=\"payment[payment_provider]\" id=\"802562a2a35e4e6e0664be48f66153ec_payment_payment_provider_azericard\" /><label for=\"802562a2a35e4e6e0664be48f66153ec_payment_payment_provider_azericard\">Bank kart\\xc4\\xb1</label></div><div class=\"az-payments-form-i portmanat\"><input class=\"az-payments-type-input\" data-tab=\".az-payments-form-portmanat\" type=\"radio\" value=\"portmanat\" name=\"payment[payment_provider]\" id=\"802562a2a35e4e6e0664be48f66153ec_payment_payment_provider_portmanat\" /><label for=\"802562a2a35e4e6e0664be48f66153ec_payment_payment_provider_portmanat\">Portmanat</label></div><div class=\"az-payments-type-terminal\"><div class=\"az-payments-form-i js-payment-in-terminals-btn\"><span class=\"az-payments-form-i__info-icon\"></span><label class=\"providers-radio payment-in-terminals\">Terminallarda \\xc3\\xb6d\\xc9\\x99ni\\xc5\\x9f</label></div></div></div><div class=\"action\"><button name=\"button\" type=\"submit\">\\xc3\\x96d\\xc9\\x99</button><div class=\"terms\"><div class=\"terms-profile\">\\xc2\\xab\\xc3\\x96d\\xc9\\x99\\xc2\\xbb d\\xc3\\xbcym\\xc9\\x99sini s\\xc4\\xb1xmaqla siz Turbo.az-\\xc4\\xb1n <a target=\"_blank\" href=\"/pages/terms-and-conditions\">\\xc4\\xb0stifad\\xc9\\x99\\xc3\\xa7i raz\\xc4\\xb1la\\xc5\\x9fmas\\xc4\\xb1n\\xc4\\xb1</a> v\\xc9\\x99 <a target=\"_blank\" href=\"/pages/rules\">Qaydalar\\xc4\\xb1n\\xc4\\xb1</a> q\\xc9\\x99bul etdiyinizi t\\xc9\\x99sdiql\\xc9\\x99mi\\xc5\\x9f olursunuz.</div></div></div></form>\\n    </div>\\n    <div class=\"az-payments-form az-payments-form-portmanat\" data-provider=\"portmanat\">\\n      <form class=\"new_payment\" id=\"4eb0fd996b8b4eb04b86dab573000fd5_new_payment\" action=\"/portmanat\" accept-charset=\"UTF-8\" method=\"post\"><input name=\"utf8\" type=\"hidden\" value=\"&#x2713;\" /><input type=\"hidden\" name=\"authenticity_token\" value=\"tdPjy2F6cAROnCaZcTMJe3GMQArRxze/9M2ixJjFDg8cpJBbZ9ri+0bOzDNK/ysDkboVcDMEdoCDERx+txgwNg==\" /><input value=\"false\" type=\"hidden\" name=\"payment[mobile]\" id=\"4eb0fd996b8b4eb04b86dab573000fd5_payment_mobile\" /><input value=\"desktop\" type=\"hidden\" name=\"payment[medium]\" id=\"4eb0fd996b8b4eb04b86dab573000fd5_payment_medium\" /><input type=\"hidden\" value=\"Ad\" name=\"payment[target_type]\" id=\"4eb0fd996b8b4eb04b86dab573000fd5_payment_target_type\" /><input type=\"hidden\" value=\"5624701\" name=\"payment[target_id]\" id=\"4eb0fd996b8b4eb04b86dab573000fd5_payment_target_id\" /><div class=\"paid_until\">24 Fevral 2022, 13:22 tarixin\\xc9\\x99 kimi \\xc3\\xb6d\\xc9\\x99nilib</div><div class=\"reveal-service active\">X\\xc4\\xb0DM\\xc6\\x8fT\\xc4\\xb0N M\\xc3\\x9cDD\\xc6\\x8fT\\xc4\\xb0N\\xc4\\xb0 SE\\xc3\\x87\\xc4\\xb0N</div><div class=\"az-service\"><div class=\"az-service-i vip5\"><input class=\"az-payments-service-input\" data-price=\"15\" type=\"radio\" value=\"vip5\" name=\"payment[service_id]\" id=\"4eb0fd996b8b4eb04b86dab573000fd5_payment_service_id_vip5\" /><label for=\"4eb0fd996b8b4eb04b86dab573000fd5_payment_service_id_vip5\"><span class=\"name\">5 g\\xc3\\xbcn</span><span class=\"price\"> / 15,00 AZN</span> </label></div><div class=\"az-service-i vip15\"><input class=\"az-payments-service-input\" data-price=\"25\" type=\"radio\" value=\"vip15\" checked=\"checked\" name=\"payment[service_id]\" id=\"4eb0fd996b8b4eb04b86dab573000fd5_payment_service_id_vip15\" /><label for=\"4eb0fd996b8b4eb04b86dab573000fd5_payment_service_id_vip15\"><span class=\"name\">15 g\\xc3\\xbcn</span><span class=\"price\"> / 25,00 AZN</span> </label></div><div class=\"az-service-i vip30\"><input class=\"az-payments-service-input\" data-price=\"40\" type=\"radio\" value=\"vip30\" name=\"payment[service_id]\" id=\"4eb0fd996b8b4eb04b86dab573000fd5_payment_service_id_vip30\" /><label for=\"4eb0fd996b8b4eb04b86dab573000fd5_payment_service_id_vip30\"><span class=\"name\">30 g\\xc3\\xbcn</span><span class=\"price\"> / 40,00 AZN</span> </label></div></div><div class=\"action\"><button name=\"button\" type=\"submit\">\\xc3\\x96d\\xc9\\x99</button></div><div class=\"reveal-payment-method\">\\xc3\\x96D\\xc6\\x8fN\\xc4\\xb0\\xc5\\x9e \\xc3\\x9cSULUNU SE\\xc3\\x87\\xc4\\xb0N</div><div class=\"az-payments-type\"><div class=\"az-payments-form-i az-payments-type-azericard\"><input class=\"az-payments-type-input\" data-tab=\".az-payments-form-azericard\" type=\"radio\" value=\"azericard\" name=\"payment[payment_provider]\" id=\"4eb0fd996b8b4eb04b86dab573000fd5_payment_payment_provider_azericard\" /><label for=\"4eb0fd996b8b4eb04b86dab573000fd5_payment_payment_provider_azericard\">Bank kart\\xc4\\xb1</label></div><div class=\"az-payments-form-i portmanat\"><input class=\"az-payments-type-input\" data-tab=\".az-payments-form-portmanat\" type=\"radio\" value=\"portmanat\" name=\"payment[payment_provider]\" id=\"4eb0fd996b8b4eb04b86dab573000fd5_payment_payment_provider_portmanat\" /><label for=\"4eb0fd996b8b4eb04b86dab573000fd5_payment_payment_provider_portmanat\">Portmanat</label></div><div class=\"az-payments-type-terminal\"><div class=\"az-payments-form-i js-payment-in-terminals-btn\"><span class=\"az-payments-form-i__info-icon\"></span><label class=\"providers-radio payment-in-terminals\">Terminallarda \\xc3\\xb6d\\xc9\\x99ni\\xc5\\x9f</label></div></div></div><div class=\"action\"><button name=\"button\" type=\"submit\">\\xc3\\x96d\\xc9\\x99</button><div class=\"terms\"><div class=\"terms-profile\">\\xc2\\xab\\xc3\\x96d\\xc9\\x99\\xc2\\xbb d\\xc3\\xbcym\\xc9\\x99sini s\\xc4\\xb1xmaqla siz Turbo.az-\\xc4\\xb1n <a target=\"_blank\" href=\"/pages/terms-and-conditions\">\\xc4\\xb0stifad\\xc9\\x99\\xc3\\xa7i raz\\xc4\\xb1la\\xc5\\x9fmas\\xc4\\xb1n\\xc4\\xb1</a> v\\xc9\\x99 <a target=\"_blank\" href=\"/pages/rules\">Qaydalar\\xc4\\xb1n\\xc4\\xb1</a> q\\xc9\\x99bul etdiyinizi t\\xc9\\x99sdiql\\xc9\\x99mi\\xc5\\x9f olursunuz.</div></div></div></form>\\n    </div>\\n</div>\\n</div></div><div class=\"thank-you\"><p>T\\xc9\\x99\\xc5\\x9f\\xc9\\x99kk\\xc3\\xbcr edirik, \\xc3\\xb6d\\xc9\\x99ni\\xc5\\x9finiz q\\xc9\\x99bul olundu.</p><p>Bir ne\\xc3\\xa7\\xc9\\x99 d\\xc9\\x99qiq\\xc9\\x99d\\xc9\\x99n sonra, elan\\xc4\\xb1n\\xc4\\xb1z ana s\\xc9\\x99hif\\xc9\\x99d\\xc9\\x99ki v\\xc9\\x99 axtar\\xc4\\xb1\\xc5\\x9f n\\xc9\\x99tic\\xc9\\x99l\\xc9\\x99rind\\xc9\\x99ki VIP b\\xc3\\xb6lm\\xc9\\x99sind\\xc9\\x99 yerl\\xc9\\x99\\xc5\\x9fdiril\\xc9\\x99c\\xc9\\x99k.</p></div></div></div><a id=\"featured_open\" class=\"services-i services-i_featured\" data-reveal-id=\"featured_modal\" data-animation=\"fade\" href=\"#featured_open\">Elan\\xc4\\xb1 premium et<span class=\"services-i-price\"><span class=\"price-val\">5</span><span class=\"price-cur\">AZN</span>-d\\xc9\\x99n</span></a><div class=\"reveal-modal services-modal\" id=\"featured_modal\"><div class=\"js-services-modal-container services-modal-container\"><div class=\"reveal-header reveal-header-featured\"><span class=\"reveal-title reveal-title--featured\">Premium et</span><div class=\"close-reveal-modal\"></div><div class=\"description\">Sizin elan sayt\\xc4\\xb1n ana s\\xc9\\x99hif\\xc9\\x99sind\\xc9\\x99 x\\xc3\\xbcsusi ayr\\xc4\\xb1lm\\xc4\\xb1\\xc5\\x9f blokda g\\xc3\\xb6r\\xc3\\xbcn\\xc9\\x99c\\xc9\\x99k v\\xc9\\x99 xidm\\xc9\\x99tin aktivlik m\\xc3\\xbcdd\\xc9\\x99tinin sonunad\\xc9\\x99k orada qalacaq.</div></div><input type=\"hidden\" name=\"payment[service_id]\" id=\"payment_service_id\" value=\"featured1\" /><div class=\"payment-form\"><div class=\"reveal-content\">\\n<div class=\"pay\">\\n    <div class=\"az-payments-form az-payments-form-azericard\" data-provider=\"azericard\">\\n      <form class=\"new_payment\" id=\"ca3c859cfcb952e357192a431576831b_new_payment\" action=\"/azericard\" accept-charset=\"UTF-8\" method=\"post\"><input name=\"utf8\" type=\"hidden\" value=\"&#x2713;\" /><input type=\"hidden\" name=\"authenticity_token\" value=\"vJNXYXMqlKJKArFCF08cjYILYLRgM4EuQ6MqX/L6EGkP/zmLr/Y9krUotVTsF1/yOAR1yZUMo9rGlM3dqijF+w==\" /><input value=\"false\" type=\"hidden\" name=\"payment[mobile]\" id=\"ca3c859cfcb952e357192a431576831b_payment_mobile\" /><input value=\"desktop\" type=\"hidden\" name=\"payment[medium]\" id=\"ca3c859cfcb952e357192a431576831b_payment_medium\" /><input type=\"hidden\" value=\"Ad\" name=\"payment[target_type]\" id=\"ca3c859cfcb952e357192a431576831b_payment_target_type\" /><input type=\"hidden\" value=\"5624701\" name=\"payment[target_id]\" id=\"ca3c859cfcb952e357192a431576831b_payment_target_id\" /><div class=\"reveal-service\">X\\xc4\\xb0DM\\xc6\\x8fT\\xc4\\xb0N M\\xc3\\x9cDD\\xc6\\x8fT\\xc4\\xb0N\\xc4\\xb0 SE\\xc3\\x87\\xc4\\xb0N</div><div class=\"az-service\"><div class=\"az-service-i featured1\"><input class=\"az-payments-service-input\" data-price=\"5\" type=\"radio\" value=\"featured1\" name=\"payment[service_id]\" id=\"ca3c859cfcb952e357192a431576831b_payment_service_id_featured1\" /><label for=\"ca3c859cfcb952e357192a431576831b_payment_service_id_featured1\"><span class=\"name\">1 g\\xc3\\xbcn</span><span class=\"price\"> / 5,00 AZN</span> </label></div><div class=\"az-service-i featured5\"><input class=\"az-payments-service-input\" data-price=\"20\" type=\"radio\" value=\"featured5\" name=\"payment[service_id]\" id=\"ca3c859cfcb952e357192a431576831b_payment_service_id_featured5\" /><label for=\"ca3c859cfcb952e357192a431576831b_payment_service_id_featured5\"><span class=\"name\">5 g\\xc3\\xbcn</span><span class=\"price\"> / 20,00 AZN</span> </label></div><div class=\"az-service-i featured15\"><input class=\"az-payments-service-input\" data-price=\"45\" type=\"radio\" value=\"featured15\" checked=\"checked\" name=\"payment[service_id]\" id=\"ca3c859cfcb952e357192a431576831b_payment_service_id_featured15\" /><label for=\"ca3c859cfcb952e357192a431576831b_payment_service_id_featured15\"><span class=\"name\">15 g\\xc3\\xbcn</span><span class=\"price\"> / 45,00 AZN</span> </label></div><div class=\"az-service-i featured30\"><input class=\"az-payments-service-input\" data-price=\"60\" type=\"radio\" value=\"featured30\" name=\"payment[service_id]\" id=\"ca3c859cfcb952e357192a431576831b_payment_service_id_featured30\" /><label for=\"ca3c859cfcb952e357192a431576831b_payment_service_id_featured30\"><span class=\"name\">30 g\\xc3\\xbcn</span><span class=\"price\"> / 60,00 AZN</span> </label></div></div><div class=\"action\"><button name=\"button\" type=\"submit\">\\xc3\\x96d\\xc9\\x99</button></div><div class=\"reveal-payment-method\">\\xc3\\x96D\\xc6\\x8fN\\xc4\\xb0\\xc5\\x9e \\xc3\\x9cSULUNU SE\\xc3\\x87\\xc4\\xb0N</div><div class=\"az-payments-type\"><div class=\"az-payments-form-i az-payments-type-azericard\"><input class=\"az-payments-type-input\" data-tab=\".az-payments-form-azericard\" type=\"radio\" value=\"azericard\" name=\"payment[payment_provider]\" id=\"ca3c859cfcb952e357192a431576831b_payment_payment_provider_azericard\" /><label for=\"ca3c859cfcb952e357192a431576831b_payment_payment_provider_azericard\">Bank kart\\xc4\\xb1</label></div><div class=\"az-payments-form-i portmanat\"><input class=\"az-payments-type-input\" data-tab=\".az-payments-form-portmanat\" type=\"radio\" value=\"portmanat\" name=\"payment[payment_provider]\" id=\"ca3c859cfcb952e357192a431576831b_payment_payment_provider_portmanat\" /><label for=\"ca3c859cfcb952e357192a431576831b_payment_payment_provider_portmanat\">Portmanat</label></div><div class=\"az-payments-type-terminal\"><div class=\"az-payments-form-i js-payment-in-terminals-btn\"><span class=\"az-payments-form-i__info-icon\"></span><label class=\"providers-radio payment-in-terminals\">Terminallarda \\xc3\\xb6d\\xc9\\x99ni\\xc5\\x9f</label></div></div></div><div class=\"action\"><button name=\"button\" type=\"submit\">\\xc3\\x96d\\xc9\\x99</button><div class=\"terms\"><div class=\"terms-profile\">\\xc2\\xab\\xc3\\x96d\\xc9\\x99\\xc2\\xbb d\\xc3\\xbcym\\xc9\\x99sini s\\xc4\\xb1xmaqla siz Turbo.az-\\xc4\\xb1n <a target=\"_blank\" href=\"/pages/terms-and-conditions\">\\xc4\\xb0stifad\\xc9\\x99\\xc3\\xa7i raz\\xc4\\xb1la\\xc5\\x9fmas\\xc4\\xb1n\\xc4\\xb1</a> v\\xc9\\x99 <a target=\"_blank\" href=\"/pages/rules\">Qaydalar\\xc4\\xb1n\\xc4\\xb1</a> q\\xc9\\x99bul etdiyinizi t\\xc9\\x99sdiql\\xc9\\x99mi\\xc5\\x9f olursunuz.</div></div></div></form>\\n    </div>\\n    <div class=\"az-payments-form az-payments-form-portmanat\" data-provider=\"portmanat\">\\n      <form class=\"new_payment\" id=\"a7cb6256717fc7351f25b8ccb0a95104_new_payment\" action=\"/portmanat\" accept-charset=\"UTF-8\" method=\"post\"><input name=\"utf8\" type=\"hidden\" value=\"&#x2713;\" /><input type=\"hidden\" name=\"authenticity_token\" value=\"HvEVNlWjZYrYsD+uGbiR1GPiTnisbL5ZjJ6DFb2nBM63hmamUwP3ddDi1QQidLOsg9QbAk6v/2b7Qj2vkno69w==\" /><input value=\"false\" type=\"hidden\" name=\"payment[mobile]\" id=\"a7cb6256717fc7351f25b8ccb0a95104_payment_mobile\" /><input value=\"desktop\" type=\"hidden\" name=\"payment[medium]\" id=\"a7cb6256717fc7351f25b8ccb0a95104_payment_medium\" /><input type=\"hidden\" value=\"Ad\" name=\"payment[target_type]\" id=\"a7cb6256717fc7351f25b8ccb0a95104_payment_target_type\" /><input type=\"hidden\" value=\"5624701\" name=\"payment[target_id]\" id=\"a7cb6256717fc7351f25b8ccb0a95104_payment_target_id\" /><div class=\"reveal-service\">X\\xc4\\xb0DM\\xc6\\x8fT\\xc4\\xb0N M\\xc3\\x9cDD\\xc6\\x8fT\\xc4\\xb0N\\xc4\\xb0 SE\\xc3\\x87\\xc4\\xb0N</div><div class=\"az-service\"><div class=\"az-service-i featured1\"><input class=\"az-payments-service-input\" data-price=\"5\" type=\"radio\" value=\"featured1\" name=\"payment[service_id]\" id=\"a7cb6256717fc7351f25b8ccb0a95104_payment_service_id_featured1\" /><label for=\"a7cb6256717fc7351f25b8ccb0a95104_payment_service_id_featured1\"><span class=\"name\">1 g\\xc3\\xbcn</span><span class=\"price\"> / 5,00 AZN</span> </label></div><div class=\"az-service-i featured5\"><input class=\"az-payments-service-input\" data-price=\"20\" type=\"radio\" value=\"featured5\" name=\"payment[service_id]\" id=\"a7cb6256717fc7351f25b8ccb0a95104_payment_service_id_featured5\" /><label for=\"a7cb6256717fc7351f25b8ccb0a95104_payment_service_id_featured5\"><span class=\"name\">5 g\\xc3\\xbcn</span><span class=\"price\"> / 20,00 AZN</span> </label></div><div class=\"az-service-i featured15\"><input class=\"az-payments-service-input\" data-price=\"45\" type=\"radio\" value=\"featured15\" checked=\"checked\" name=\"payment[service_id]\" id=\"a7cb6256717fc7351f25b8ccb0a95104_payment_service_id_featured15\" /><label for=\"a7cb6256717fc7351f25b8ccb0a95104_payment_service_id_featured15\"><span class=\"name\">15 g\\xc3\\xbcn</span><span class=\"price\"> / 45,00 AZN</span> </label></div><div class=\"az-service-i featured30\"><input class=\"az-payments-service-input\" data-price=\"60\" type=\"radio\" value=\"featured30\" name=\"payment[service_id]\" id=\"a7cb6256717fc7351f25b8ccb0a95104_payment_service_id_featured30\" /><label for=\"a7cb6256717fc7351f25b8ccb0a95104_payment_service_id_featured30\"><span class=\"name\">30 g\\xc3\\xbcn</span><span class=\"price\"> / 60,00 AZN</span> </label></div></div><div class=\"action\"><button name=\"button\" type=\"submit\">\\xc3\\x96d\\xc9\\x99</button></div><div class=\"reveal-payment-method\">\\xc3\\x96D\\xc6\\x8fN\\xc4\\xb0\\xc5\\x9e \\xc3\\x9cSULUNU SE\\xc3\\x87\\xc4\\xb0N</div><div class=\"az-payments-type\"><div class=\"az-payments-form-i az-payments-type-azericard\"><input class=\"az-payments-type-input\" data-tab=\".az-payments-form-azericard\" type=\"radio\" value=\"azericard\" name=\"payment[payment_provider]\" id=\"a7cb6256717fc7351f25b8ccb0a95104_payment_payment_provider_azericard\" /><label for=\"a7cb6256717fc7351f25b8ccb0a95104_payment_payment_provider_azericard\">Bank kart\\xc4\\xb1</label></div><div class=\"az-payments-form-i portmanat\"><input class=\"az-payments-type-input\" data-tab=\".az-payments-form-portmanat\" type=\"radio\" value=\"portmanat\" name=\"payment[payment_provider]\" id=\"a7cb6256717fc7351f25b8ccb0a95104_payment_payment_provider_portmanat\" /><label for=\"a7cb6256717fc7351f25b8ccb0a95104_payment_payment_provider_portmanat\">Portmanat</label></div><div class=\"az-payments-type-terminal\"><div class=\"az-payments-form-i js-payment-in-terminals-btn\"><span class=\"az-payments-form-i__info-icon\"></span><label class=\"providers-radio payment-in-terminals\">Terminallarda \\xc3\\xb6d\\xc9\\x99ni\\xc5\\x9f</label></div></div></div><div class=\"action\"><button name=\"button\" type=\"submit\">\\xc3\\x96d\\xc9\\x99</button><div class=\"terms\"><div class=\"terms-profile\">\\xc2\\xab\\xc3\\x96d\\xc9\\x99\\xc2\\xbb d\\xc3\\xbcym\\xc9\\x99sini s\\xc4\\xb1xmaqla siz Turbo.az-\\xc4\\xb1n <a target=\"_blank\" href=\"/pages/terms-and-conditions\">\\xc4\\xb0stifad\\xc9\\x99\\xc3\\xa7i raz\\xc4\\xb1la\\xc5\\x9fmas\\xc4\\xb1n\\xc4\\xb1</a> v\\xc9\\x99 <a target=\"_blank\" href=\"/pages/rules\">Qaydalar\\xc4\\xb1n\\xc4\\xb1</a> q\\xc9\\x99bul etdiyinizi t\\xc9\\x99sdiql\\xc9\\x99mi\\xc5\\x9f olursunuz.</div></div></div></form>\\n    </div>\\n</div>\\n</div></div><div class=\"thank-you\"><p>T\\xc9\\x99\\xc5\\x9f\\xc9\\x99kk\\xc3\\xbcr edirik, \\xc3\\xb6d\\xc9\\x99ni\\xc5\\x9finiz q\\xc9\\x99bul olundu.</p><p>Bir ne\\xc3\\xa7\\xc9\\x99 d\\xc9\\x99qiq\\xc9\\x99d\\xc9\\x99n sonra sizin elan\\xc4\\xb1n\\xc4\\xb1z \\xc9\\x99sas s\\xc9\\x99hif\\xc9\\x99d\\xc9\\x99 \\xe2\\x80\\x9cPremium\\xe2\\x80\\x9d b\\xc3\\xb6lm\\xc9\\x99sind\\xc9\\x99 yerl\\xc9\\x99\\xc5\\x9fdiril\\xc9\\x99c\\xc9\\x99k.</p></div></div></div></div></div><div class=\"product-statistics\"><p><label for=\"ad_hits\">Bax\\xc4\\xb1\\xc5\\x9flar\\xc4\\xb1n say\\xc4\\xb1</label>: 14827</p><p><label for=\"ad_updated_at\">Yenil\\xc9\\x99ndi</label>: 09.02.2022</p><p><label for=\"ad_id\">Elan\\xc4\\xb1n n\\xc3\\xb6mr\\xc9\\x99si</label>: 5624701</p></div></div><div class=\"product-body\"><div class=\"product--contacts-side\"><div class=\"shop-contact\"><div class=\"shop-contact-i shop-contact--phones\"><svg class=\"icon-svg icon-svg--phone\" xmlns=\"http://www.w3.org/2000/svg\"><use xlink:href=\"#phone\"></use></svg><div class=\"shop-contact--phones-list\"><div class=\"shop-contact--phones-i\"><a class=\"shop-contact--phones-number\" data-register-call=\"true\" href=\"tel:(055) 396-00-60\">(055) 396-00-60</a></div><div class=\"shop-contact--phones-i\"><a class=\"shop-contact--phones-number\" data-register-call=\"true\" href=\"tel:(050) 396-00-60\">(050) 396-00-60</a></div><div class=\"shop-contact--phones-i\"><a class=\"shop-contact--phones-number\" data-register-call=\"true\" href=\"tel:(055) 314-44-20\">(055) 314-44-20</a></div><div class=\"shop-contact--phones-i\"><a class=\"shop-contact--phones-number\" data-register-call=\"true\" href=\"tel:(050) 314-44-20\">(050) 314-44-20</a></div></div><a class=\"shop-contact--shop-name\" href=\"/avtosalonlar/avtosalon-luks-avto\">Avtosalon &quot;L\\xc3\\xbcks Avto&quot;</a></div><div class=\"shop-contact-i shop-contact--all-ads\"><a href=\"/avtosalonlar/avtosalon-luks-avto\">Salonun b\\xc3\\xbct\\xc3\\xbcn elanlar\\xc4\\xb1</a></div><div class=\"shop-contact--location\"><a target=\"_blank\" class=\"shop-contact--location-map\" href=\"https://www.google.com/maps?q=40.360884%2C49.80156&amp;ll=40.360884%2C49.80156&amp;z=15\"></a><div class=\"shop-contact--location-address\">Bak\\xc4\\xb1 \\xc5\\x9f., Badamdar q\\xc9\\x99s., Avtomobil Sati\\xc5\\x9f M\\xc9\\x99rk\\xc9\\x99zi</div></div></div></div><div class=\"product--main-content\"><div class=\"product-properties-container\"><ul class=\"product-properties\"><li class=\"product-properties-i\"><label for=\"ad_region\">\\xc5\\x9e\\xc9\\x99h\\xc9\\x99r</label><div class=\"product-properties-value\">Bak\\xc4\\xb1</div></li><li class=\"product-properties-i\"><label for=\"ad_make_id\">Marka</label><div class=\"product-properties-value\"><a target=\"_blank\" href=\"/makes/8-kia\">Kia</a></div></li><li class=\"product-properties-i\"><label for=\"ad_model\">Model</label><div class=\"product-properties-value\"><a target=\"_blank\" href=\"/autos?q%5Bmake%5D%5B%5D=8&amp;q%5Bmodel%5D%5B%5D=122\">Sorento</a></div></li><li class=\"product-properties-i\"><label for=\"ad_reg_year\">Burax\\xc4\\xb1l\\xc4\\xb1\\xc5\\x9f ili</label><div class=\"product-properties-value\"><a target=\"_blank\" href=\"/autos?q%5Bmake%5D%5B%5D=8&amp;q%5Bmodel%5D%5B%5D=122&amp;q%5Byear_from%5D=2012&amp;q%5Byear_to%5D=2012\">2012</a></div></li><li class=\"product-properties-i\"><label for=\"ad_category\">Ban n\\xc3\\xb6v\\xc3\\xbc</label><div class=\"product-properties-value\">Offroader / SUV</div></li><li class=\"product-properties-i\"><label for=\"ad_color\">R\\xc9\\x99ng</label><div class=\"product-properties-value\">G\\xc3\\xbcm\\xc3\\xbc\\xc5\\x9f\\xc3\\xbc</div></li><li class=\"product-properties-i\"><label for=\"ad_engine_volume\">M\\xc3\\xbch\\xc9\\x99rrik</label><div class=\"product-properties-value\">2.0 L</div></li><li class=\"product-properties-i\"><label for=\"ad_power\">M\\xc3\\xbch\\xc9\\x99rrikin g\\xc3\\xbcc\\xc3\\xbc</label><div class=\"product-properties-value\">170 a.g.</div></li><li class=\"product-properties-i\"><label for=\"ad_fuel_type\">Yanacaq n\\xc3\\xb6v\\xc3\\xbc</label><div class=\"product-properties-value\">Dizel</div></li><li class=\"product-properties-i\"><label for=\"ad_mileage\">Y\\xc3\\xbcr\\xc3\\xbc\\xc5\\x9f</label><div class=\"product-properties-value\">154 000 km</div></li><li class=\"product-properties-i\"><label for=\"ad_transmission\">S\\xc3\\xbcr\\xc9\\x99tl\\xc9\\x99r qutusu</label><div class=\"product-properties-value\">Avtomat</div></li><li class=\"product-properties-i\"><label for=\"ad_gear\">\\xc3\\x96t\\xc3\\xbcr\\xc3\\xbcc\\xc3\\xbc</label><div class=\"product-properties-value\">Tam</div></li><li class=\"product-properties-i\"><label for=\"ad_new\">Yeni</label><div class=\"product-properties-value\">Xeyr</div></li><li class=\"product-properties-i product-properties_price\"><label for=\"ad_price\">Qiym\\xc9\\x99t</label><div class=\"product-properties-value\"><div class=\"product-price\">32 700 <span>AZN</span></div></div></li></ul></div><div class=\"product-description\"><div class=\"product-extras\"><p class=\"product-extras-i\">Y\\xc3\\xbcng\\xc3\\xbcl lehimli diskl\\xc9\\x99r</p><p class=\"product-extras-i\">ABS</p><p class=\"product-extras-i\">Lyuk</p><p class=\"product-extras-i\">Ya\\xc4\\x9f\\xc4\\xb1\\xc5\\x9f sensoru</p><p class=\"product-extras-i\">M\\xc9\\x99rk\\xc9\\x99zi qapanma</p><p class=\"product-extras-i\">Park radar\\xc4\\xb1</p><p class=\"product-extras-i\">Kondisioner</p><p class=\"product-extras-i\">Oturacaqlar\\xc4\\xb1n isidilm\\xc9\\x99si</p><p class=\"product-extras-i\">D\\xc9\\x99ri salon</p><p class=\"product-extras-i\">Ksenon lampalar</p><p class=\"product-extras-i\">Arxa g\\xc3\\xb6r\\xc3\\xbcnt\\xc3\\xbc kameras\\xc4\\xb1</p><p class=\"product-extras-i\">Oturacaqlar\\xc4\\xb1n ventilyasiyas\\xc4\\xb1</p></div><h2 class=\"product-text\"><p>Koreyadan yeni g\\xc9\\x99lib. Full komplektasiyadir. Ma\\xc5\\x9f\\xc4\\xb1n tam ideal v\\xc9\\x99ziyy\\xc9\\x99td\\xc9\\x99dir, he\\xc3\\xa7 bir problemi yoxdur, x\\xc9\\x99rc t\\xc9\\x99l\\xc9\\x99b etmir, vuruguna tam cavabdehik. Avtomobil Badamdar Ma\\xc5\\x9f\\xc4\\xb1n Bazar\\xc4\\xb1nda, L\\xc3\\xbcks Avto avtosalonunda yerl\\xc9\\x99\\xc5\\x9fir.\\n<br />Monitor, arxa kamera, 8 yast\\xc4\\xb1q, 4 \\xc5\\x9f\\xc3\\xbc\\xc5\\x9f\\xc9\\x99 qald\\xc4\\xb1ran, avtomatik qatlanan yan g\\xc3\\xbczg\\xc3\\xbcl\\xc9\\x99r, tiptronik, START STOP, panorama, klimat, kruiz, multi s\\xc3\\xbckan, arxa oturacaqlar\\xc4\\xb1n isidilm\\xc9\\x99si, keyless-go, ya\\xc4\\x9f\\xc4\\xb1\\xc5\\x9f v\\xc9\\x99 i\\xc5\\x9f\\xc4\\xb1q sensoru, avtomatik yan oturacaqlar.</p></h2><div class=\"product-like\"><div class=\"fb-like\" data-share=\"true\" data-show-faces=\"true\" data-action=\"like\" data-width=\"330\" data-href=\"https://turbo.az/autos/5624701-kia-sorento\"></div></div><div class=\"reveal-modal pin-recovery\"><div class=\"reveal-modal-popup\"><div class=\"title\">PIN-\\xc5\\x9fifr\\xc9\\x99nin b\\xc9\\x99rpas\\xc4\\xb1<div class=\"close-reveal-modal\"></div></div><div class=\"reveal-modal--content\"><div class=\"pin-recovery-options\"><div class=\"via_sms\"><input type=\"radio\" name=\"pin_recovery\" id=\"pin_recovery_via_sms\" value=\"via_sms\" /><label for=\"pin_recovery_via_sms\">SMS vasit\\xc9\\x99sil\\xc9\\x99</label></div><div class=\"via_email\"><input type=\"radio\" name=\"pin_recovery\" id=\"pin_recovery_via_email\" value=\"via_email\" /><label for=\"pin_recovery_via_email\">Elektron \\xc3\\xbcnvan\\xc4\\xb1 vasit\\xc9\\x99sil\\xc9\\x99</label></div></div><div class=\"email-form-container\">Z\\xc9\\x99hm\\xc9\\x99t olmasa, elektron \\xc3\\xbcnvan\\xc4\\xb1n\\xc4\\xb1z\\xc4\\xb1 qeyd edin.<form class=\"email-form\" action=\"/autos/5624701-kia-sorento/resend_pin\" accept-charset=\"UTF-8\" data-remote=\"true\" method=\"post\"><input name=\"utf8\" type=\"hidden\" value=\"&#x2713;\" /><input type=\"text\" name=\"email\" id=\"email\" required=\"required\" /><button name=\"button\" type=\"submit\" class=\"submit\">G\\xc3\\xb6nd\\xc9\\x99rm\\xc9\\x99k</button><div class=\"error\"></div></form><a class=\"return-to-options\" href=\"/autos/5624701-kia-sorento\">Geri</a></div><div class=\"email-sent\"><p>PIN-\\xc5\\x9fifr\\xc9\\x99niz siz\\xc9\\x99 g\\xc3\\xb6nd\\xc9\\x99rildi.</p><a class=\"return-to-options\" href=\"/autos/5624701-kia-sorento\">Geri</a></div></div></div></div><div class=\"product-actions\"><a class=\"product-actions-i product-actions-i--bookmarking added hide js-unbookmark-item-5624701\" data-remote=\"true\" rel=\"nofollow\" data-method=\"delete\" href=\"/autos/5624701-kia-sorento/bookmarks\">Se\\xc3\\xa7ilmi\\xc5\\x9fl\\xc9\\x99rd\\xc9\\x99dir</a><a class=\"product-actions-i product-actions-i--bookmarking js-bookmark-item-5624701\" data-remote=\"true\" rel=\"nofollow\" data-method=\"post\" href=\"/autos/5624701-kia-sorento/bookmarks\">Se\\xc3\\xa7ilmi\\xc5\\x9fl\\xc9\\x99r\\xc9\\x99 \\xc9\\x99lav\\xc9\\x99 et</a><a class=\"product-actions-i product-report js-product-report\" href=\"/autos/5624701-kia-sorento\">\\xc5\\x9eikay\\xc9\\x99t et</a><br /><a class=\"product-actions-i product-edit js-click-edit-request\" href=\"#\">D\\xc3\\xbcz\\xc9\\x99li\\xc5\\x9f et</a><a class=\"product-actions-i product-expire js-click-expire\" href=\"/autos/5624701-kia-sorento#expire\">Elan\\xc4\\xb1 sil</a></div><div class=\"reveal-modal confirm-edit\"><div class=\"reveal-modal-popup\"><div class=\"title\">\\xc5\\x9e\\xc9\\x99xsiyy\\xc9\\x99tinizi t\\xc9\\x99sdiql\\xc9\\x99yin<div class=\"close-reveal-modal\"></div></div><div class=\"reveal-modal--content\"><div class=\"action-form-container\"><p>Davam etm\\xc9\\x99k \\xc3\\xbc\\xc3\\xa7\\xc3\\xbcn elan\\xc4\\xb1n\\xc4\\xb1z\\xc4\\xb1n PIN-\\xc5\\x9fifr\\xc9\\x99sini qeyd edin.</p> <p>PIN-\\xc5\\x9fifr\\xc9\\x99ni, elan saytda d\\xc9\\x99rc edil\\xc9\\x99rk\\xc9\\x99n Turbo.Az-dan Siz\\xc9\\x99 g\\xc3\\xb6nd\\xc9\\x99ril\\xc9\\x99n m\\xc9\\x99ktubdan g\\xc3\\xb6t\\xc3\\xbcr\\xc9\\x99 bil\\xc9\\x99rsiniz.</p><form class=\"confirm\" action=\"/autos/5624701-kia-sorento/edit\" accept-charset=\"UTF-8\" method=\"get\"><input name=\"utf8\" type=\"hidden\" value=\"&#x2713;\" /><label>Elan\\xc4\\xb1n PIN-\\xc5\\x9fifr\\xc9\\x99si:</label><input type=\"text\" name=\"pincode\" id=\"pincode\" required=\"required\" /><button name=\"button\" type=\"submit\" class=\"submit\">T\\xc9\\x99sdiq et</button><div class=\"error\"></div></form><a id=\"pin-recovery\" href=\"/autos/5624701-kia-sorento\">PIN-\\xc5\\x9fifr\\xc9\\x99ni unutmusuz?</a></div></div></div></div><div class=\"reveal-modal confirm-expire\"><div class=\"reveal-modal-popup\"><div class=\"title\">Elan\\xc4\\xb1 silm\\xc9\\x99k<div class=\"close-reveal-modal\"></div></div><div class=\"reveal-modal--content\"><div class=\"warning\"><p>Bu elan silin\\xc9\\x99c\\xc9\\x99k, lakin onun \\xc3\\xb6d\\xc9\\x99ni\\xc5\\x9fli b\\xc9\\x99rpas\\xc4\\xb1 m\\xc3\\xbcmk\\xc3\\xbcnd\\xc3\\xbcr.</p> <p>Elan\\xc4\\xb1n b\\xc9\\x99rpas\\xc4\\xb1 - 30 AZN.</p></div><div class=\"action-form-container\"><p>Z\\xc9\\x99hm\\xc9\\x99t olmasa, elan\\xc4\\xb1n silinm\\xc9\\x99sini t\\xc9\\x99sdiql\\xc9\\x99m\\xc9\\x99k \\xc3\\xbc\\xc3\\xa7\\xc3\\xbcn PIN-\\xc5\\x9fifr\\xc9\\x99ni daxil edin.</p> <p>PIN-\\xc5\\x9fifr\\xc9\\x99ni, elan saytda d\\xc9\\x99rc olunan zaman Turbo.az-dan Siz\\xc9\\x99 g\\xc3\\xb6nd\\xc9\\x99ril\\xc9\\x99n m\\xc9\\x99ktubda tapa bil\\xc9\\x99rsiniz.</p><form class=\"confirm\" action=\"/autos/5624701-kia-sorento/expire\" accept-charset=\"UTF-8\" data-remote=\"true\" method=\"post\"><input name=\"utf8\" type=\"hidden\" value=\"&#x2713;\" /><label>Elan\\xc4\\xb1n PIN-\\xc5\\x9fifr\\xc9\\x99si:</label><input type=\"text\" name=\"pincode\" id=\"pincode\" required=\"required\" /><button name=\"button\" type=\"submit\" class=\"submit\">T\\xc9\\x99sdiq et</button><div class=\"error\"></div></form><a id=\"pin-recovery\" href=\"/autos/5624701-kia-sorento\">PIN-\\xc5\\x9fifr\\xc9\\x99ni unutmusuz?</a></div></div></div></div></div></div></div><div class=\"report-container\"><form class=\"simple_form new_report\" id=\"new_report\" novalidate=\"novalidate\" action=\"/autos/5624701-kia-sorento/reports\" accept-charset=\"UTF-8\" data-remote=\"true\" method=\"post\"><input name=\"utf8\" type=\"hidden\" value=\"&#x2713;\" /><div class=\"input radio_buttons required report_report_reason\"><input type=\"hidden\" name=\"report[report_reason_id]\" value=\"\" /><span class=\"radio\"><input class=\"radio_buttons required\" type=\"radio\" value=\"1\" name=\"report[report_reason_id]\" id=\"report_report_reason_id_1\" /><label class=\"collection_radio_buttons\" for=\"report_report_reason_id_1\">\\xc6\\x8flaq\\xc9\\x99 saxlamaq olmur</label></span><span class=\"radio\"><input class=\"radio_buttons required\" type=\"radio\" value=\"2\" name=\"report[report_reason_id]\" id=\"report_report_reason_id_2\" /><label class=\"collection_radio_buttons\" for=\"report_report_reason_id_2\">Elan aktual deyil</label></span><span class=\"radio\"><input class=\"radio_buttons required\" type=\"radio\" value=\"3\" name=\"report[report_reason_id]\" id=\"report_report_reason_id_3\" /><label class=\"collection_radio_buttons\" for=\"report_report_reason_id_3\">Yanl\\xc4\\xb1\\xc5\\x9f qiym\\xc9\\x99t</label></span><span class=\"radio\"><input class=\"radio_buttons required\" type=\"radio\" value=\"4\" name=\"report[report_reason_id]\" id=\"report_report_reason_id_4\" /><label class=\"collection_radio_buttons\" for=\"report_report_reason_id_4\">\\xc5\\x9e\\xc9\\x99kill\\xc9\\x99r d\\xc3\\xbczg\\xc3\\xbcn deyil</label></span><span class=\"radio\"><input class=\"radio_buttons required\" type=\"radio\" value=\"5\" name=\"report[report_reason_id]\" id=\"report_report_reason_id_5\" /><label class=\"collection_radio_buttons\" for=\"report_report_reason_id_5\">Yanl\\xc4\\xb1\\xc5\\x9f g\\xc3\\xb6st\\xc9\\x99ricil\\xc9\\x99r</label></span><span class=\"radio\"><input class=\"radio_buttons required\" type=\"radio\" value=\"6\" name=\"report[report_reason_id]\" id=\"report_report_reason_id_6\" /><label class=\"collection_radio_buttons\" for=\"report_report_reason_id_6\">T\\xc9\\x99krar elan</label></span><span class=\"radio\"><input class=\"radio_buttons required\" type=\"radio\" value=\"7\" name=\"report[report_reason_id]\" id=\"report_report_reason_id_7\" /><label class=\"collection_radio_buttons\" for=\"report_report_reason_id_7\">Yanl\\xc4\\xb1\\xc5\\x9f \\xc5\\x9f\\xc9\\x99h\\xc9\\x99r</label></span><span class=\"radio\"><input class=\"radio_buttons required\" type=\"radio\" value=\"8\" name=\"report[report_reason_id]\" id=\"report_report_reason_id_8\" /><label class=\"collection_radio_buttons\" for=\"report_report_reason_id_8\">Avtomobil salondand\\xc4\\xb1r</label></span></div></form></div><div class=\"report_response\" id=\"report_response\"></div></div><div class=\"product-embed-and-related\"><div class=\"products-container\"><div class=\"section-title\"><p class=\"section-title_name\">AVTOSALONUN D\\xc4\\xb0G\\xc6\\x8fR ELANLARI</p><a class=\"section-title_more\" target=\"_blank\" href=\"/avtosalonlar/avtosalon-luks-avto\">Ham\\xc4\\xb1s\\xc4\\xb1n\\xc4\\xb1 g\\xc3\\xb6st\\xc9\\x99r</a></div><div class=\"products\"><div class=\"products-i vipped salon\"><a class=\"products-i__link\" target=\"_blank\" href=\"/autos/5928701-mercedes-s-350\"></a><a class=\"js-bookmark-item-5928701\" data-remote=\"true\" rel=\"nofollow\" data-method=\"post\" href=\"/autos/5928701-mercedes-s-350/bookmarks\"><div class=\"bookmarking\"></div></a><a class=\"hide js-unbookmark-item-5928701\" data-remote=\"true\" rel=\"nofollow\" data-method=\"delete\" href=\"/autos/5928701-mercedes-s-350/bookmarks\"><div class=\"bookmarking added\"></div></a><div class=\"products-i__top\"><img alt=\"Mercedes S 350\" loading=\"lazy\" src=\"https://turbo.azstatic.com/uploads/f460x343/2022%2F01%2F27%2F16%2F31%2F28%2Fa122df0f-47ed-4a15-ae47-837a6691a419%2F59169_3DO9fA1zDkDb5nnxUu51Xg.jpg\" /><div class=\"products-i__label products-i__label--salon\">Salon</div><div class=\"products-i__paid\"><span class=\"vipped-icon\"></span></div><div class=\"products-i__info\"></div></div><div class=\"products-i__bottom\"><div class=\"products-i__price products-i__bottom-text\"><div class=\"product-price\">27 900 <span>$</span></div></div><div class=\"products-i__name products-i__bottom-text\">Mercedes S 350</div><div class=\"products-i__attributes products-i__bottom-text\">2011, 3.5 L, 172 000 km</div><div class=\"products-i__datetime\">Bak\\xc4\\xb1, bug\\xc3\\xbcn 13:36</div></div></div><div class=\"products-i vipped salon\"><a class=\"products-i__link\" target=\"_blank\" href=\"/autos/5678605-jeep-grand-cherokee\"></a><a class=\"js-bookmark-item-5678605\" data-remote=\"true\" rel=\"nofollow\" data-method=\"post\" href=\"/autos/5678605-jeep-grand-cherokee/bookmarks\"><div class=\"bookmarking\"></div></a><a class=\"hide js-unbookmark-item-5678605\" data-remote=\"true\" rel=\"nofollow\" data-method=\"delete\" href=\"/autos/5678605-jeep-grand-cherokee/bookmarks\"><div class=\"bookmarking added\"></div></a><div class=\"products-i__top\"><img alt=\"Jeep Grand Cherokee\" loading=\"lazy\" src=\"https://turbo.azstatic.com/uploads/f460x343/2021%2F11%2F16%2F11%2F25%2F16%2F9dade5f5-c408-4e4a-a767-12cb1a55b0b5%2F81748_Y2dYYSZ3DmvkpS70HXcmzg.jpg\" /><div class=\"products-i__label products-i__label--salon\">Salon</div><div class=\"products-i__paid\"><span class=\"vipped-icon\"></span></div><div class=\"products-i__info\"></div></div><div class=\"products-i__bottom\"><div class=\"products-i__price products-i__bottom-text\"><div class=\"product-price\">33 900 <span>$</span></div></div><div class=\"products-i__name products-i__bottom-text\">Jeep Grand Cherokee</div><div class=\"products-i__attributes products-i__bottom-text\">2014, 3.0 L, 83 000 km</div><div class=\"products-i__datetime\">Bak\\xc4\\xb1, bug\\xc3\\xbcn 13:25</div></div></div><div class=\"products-i vipped salon\"><a class=\"products-i__link\" target=\"_blank\" href=\"/autos/5758692-kia-sorento\"></a><a class=\"js-bookmark-item-5758692\" data-remote=\"true\" rel=\"nofollow\" data-method=\"post\" href=\"/autos/5758692-kia-sorento/bookmarks\"><div class=\"bookmarking\"></div></a><a class=\"hide js-unbookmark-item-5758692\" data-remote=\"true\" rel=\"nofollow\" data-method=\"delete\" href=\"/autos/5758692-kia-sorento/bookmarks\"><div class=\"bookmarking added\"></div></a><div class=\"products-i__top\"><img alt=\"Kia Sorento\" loading=\"lazy\" src=\"https://turbo.azstatic.com/uploads/f460x343/2021%2F12%2F09%2F12%2F16%2F42%2F146eba79-9ad7-4b0d-a093-2938ad9bc255%2F65273_8Mqj6pzFgtr4pP_oyMPzpA.jpg\" /><div class=\"products-i__label products-i__label--salon\">Salon</div><div class=\"products-i__paid\"><span class=\"vipped-icon\"></span></div><div class=\"products-i__info\"></div></div><div class=\"products-i__bottom\"><div class=\"products-i__price products-i__bottom-text\"><div class=\"product-price\">44 000 <span>AZN</span></div></div><div class=\"products-i__name products-i__bottom-text\">Kia Sorento</div><div class=\"products-i__attributes products-i__bottom-text\">2015, 2.0 L, 178 000 km</div><div class=\"products-i__datetime\">Bak\\xc4\\xb1, bug\\xc3\\xbcn 13:24</div></div></div><div class=\"products-i vipped salon\"><a class=\"products-i__link\" target=\"_blank\" href=\"/autos/5758883-bmw-x6\"></a><a class=\"js-bookmark-item-5758883\" data-remote=\"true\" rel=\"nofollow\" data-method=\"post\" href=\"/autos/5758883-bmw-x6/bookmarks\"><div class=\"bookmarking\"></div></a><a class=\"hide js-unbookmark-item-5758883\" data-remote=\"true\" rel=\"nofollow\" data-method=\"delete\" href=\"/autos/5758883-bmw-x6/bookmarks\"><div class=\"bookmarking added\"></div></a><div class=\"products-i__top\"><img alt=\"BMW X6\" loading=\"lazy\" src=\"https://turbo.azstatic.com/uploads/f460x343/2021%2F12%2F09%2F12%2F59%2F06%2Fd733b0e1-5ea7-42ef-80bd-597e70ae9cf9%2F75237_Wkn-58-_5GGNoOXdT_mGsg.jpg\" /><div class=\"products-i__label products-i__label--salon\">Salon</div><div class=\"products-i__paid\"><span class=\"vipped-icon\"></span></div><div class=\"products-i__info\"></div></div><div class=\"products-i__bottom\"><div class=\"products-i__price products-i__bottom-text\"><div class=\"product-price\">21 900 <span>$</span></div></div><div class=\"products-i__name products-i__bottom-text\">BMW X6</div><div class=\"products-i__attributes products-i__bottom-text\">2009, 3.0 L, 135 000 km</div><div class=\"products-i__datetime\">Bak\\xc4\\xb1, bug\\xc3\\xbcn 13:22</div></div></div><div class=\"products-i salon\"><a class=\"products-i__link\" target=\"_blank\" href=\"/autos/4262982-hyundai-sonata\"></a><a class=\"js-bookmark-item-4262982\" data-remote=\"true\" rel=\"nofollow\" data-method=\"post\" href=\"/autos/4262982-hyundai-sonata/bookmarks\"><div class=\"bookmarking\"></div></a><a class=\"hide js-unbookmark-item-4262982\" data-remote=\"true\" rel=\"nofollow\" data-method=\"delete\" href=\"/autos/4262982-hyundai-sonata/bookmarks\"><div class=\"bookmarking added\"></div></a><div class=\"products-i__top\"><img alt=\"Hyundai Sonata\" loading=\"lazy\" src=\"https://turbo.azstatic.com/uploads/f460x343/2020%2F08%2F24%2F16%2F12%2F34%2F6c3b05a3-af9d-4b4f-b196-a1b208c18254%2F4778_dfqF2jd0nthPDA7H6N9UaA.jpg\" /><div class=\"products-i__label products-i__label--salon\">Salon</div><div class=\"products-i__info\"></div></div><div class=\"products-i__bottom\"><div class=\"products-i__price products-i__bottom-text\"><div class=\"product-price\">16 500 <span>AZN</span></div></div><div class=\"products-i__name products-i__bottom-text\">Hyundai Sonata</div><div class=\"products-i__attributes products-i__bottom-text\">2007, 2.0 L, 253 000 km</div><div class=\"products-i__datetime\">Bak\\xc4\\xb1, bug\\xc3\\xbcn 13:21</div></div></div><div class=\"products-i salon\"><a class=\"products-i__link\" target=\"_blank\" href=\"/autos/5758709-toyota-camry\"></a><a class=\"js-bookmark-item-5758709\" data-remote=\"true\" rel=\"nofollow\" data-method=\"post\" href=\"/autos/5758709-toyota-camry/bookmarks\"><div class=\"bookmarking\"></div></a><a class=\"hide js-unbookmark-item-5758709\" data-remote=\"true\" rel=\"nofollow\" data-method=\"delete\" href=\"/autos/5758709-toyota-camry/bookmarks\"><div class=\"bookmarking added\"></div></a><div class=\"products-i__top\"><img alt=\"Toyota Camry\" loading=\"lazy\" src=\"https://turbo.azstatic.com/uploads/f460x343/2021%2F12%2F09%2F12%2F22%2F06%2F9b147eee-27a0-4234-bd80-97024d551184%2F17872_mRxKLq4KqYn5Zp8wC1kYJA.jpg\" /><div class=\"products-i__label products-i__label--salon\">Salon</div><div class=\"products-i__info\"></div></div><div class=\"products-i__bottom\"><div class=\"products-i__price products-i__bottom-text\"><div class=\"product-price\">28 000 <span>$</span></div></div><div class=\"products-i__name products-i__bottom-text\">Toyota Camry</div><div class=\"products-i__attributes products-i__bottom-text\">2016, 2.5 L, 173 000 km</div><div class=\"products-i__datetime\">Bak\\xc4\\xb1, bug\\xc3\\xbcn 13:00</div></div></div><div class=\"products-i salon\"><a class=\"products-i__link\" target=\"_blank\" href=\"/autos/5973254-kia-sorento\"></a><a class=\"js-bookmark-item-5973254\" data-remote=\"true\" rel=\"nofollow\" data-method=\"post\" href=\"/autos/5973254-kia-sorento/bookmarks\"><div class=\"bookmarking\"></div></a><a class=\"hide js-unbookmark-item-5973254\" data-remote=\"true\" rel=\"nofollow\" data-method=\"delete\" href=\"/autos/5973254-kia-sorento/bookmarks\"><div class=\"bookmarking added\"></div></a><div class=\"products-i__top\"><img alt=\"Kia Sorento\" loading=\"lazy\" src=\"https://turbo.azstatic.com/uploads/f460x343/2022%2F02%2F08%2F15%2F49%2F48%2Fabd45dcf-2705-4fbd-84cf-682187411ed9%2F59031_0MMXsmiQs92wNeZ-jsEJew.jpg\" /><div class=\"products-i__label products-i__label--salon\">Salon</div><div class=\"products-i__info\"></div></div><div class=\"products-i__bottom\"><div class=\"products-i__price products-i__bottom-text\"><div class=\"product-price\">34 000 <span>AZN</span></div></div><div class=\"products-i__name products-i__bottom-text\">Kia Sorento</div><div class=\"products-i__attributes products-i__bottom-text\">2013, 2.4 L, 133 000 km</div><div class=\"products-i__datetime\">Bak\\xc4\\xb1, d\\xc3\\xbcn\\xc9\\x99n 18:02</div></div></div><div class=\"products-i salon\"><a class=\"products-i__link\" target=\"_blank\" href=\"/autos/5973222-toyota-rav-4\"></a><a class=\"js-bookmark-item-5973222\" data-remote=\"true\" rel=\"nofollow\" data-method=\"post\" href=\"/autos/5973222-toyota-rav-4/bookmarks\"><div class=\"bookmarking\"></div></a><a class=\"hide js-unbookmark-item-5973222\" data-remote=\"true\" rel=\"nofollow\" data-method=\"delete\" href=\"/autos/5973222-toyota-rav-4/bookmarks\"><div class=\"bookmarking added\"></div></a><div class=\"products-i__top\"><img alt=\"Toyota RAV 4\" loading=\"lazy\" src=\"https://turbo.azstatic.com/uploads/f460x343/2022%2F02%2F08%2F15%2F45%2F25%2Fd7e12630-bdab-4a2c-9f15-a291d5801fe1%2F67497_O701f-AdyO6D-SF02D5XHg.jpg\" /><div class=\"products-i__label products-i__label--salon\">Salon</div><div class=\"products-i__info\"></div></div><div class=\"products-i__bottom\"><div class=\"products-i__price products-i__bottom-text\"><div class=\"product-price\">32 000 <span>AZN</span></div></div><div class=\"products-i__name products-i__bottom-text\">Toyota RAV 4</div><div class=\"products-i__attributes products-i__bottom-text\">2012, 2.0 L, 162 000 km</div><div class=\"products-i__datetime\">Bak\\xc4\\xb1, d\\xc3\\xbcn\\xc9\\x99n 15:48</div></div></div><div class=\"products-i salon\"><a class=\"products-i__link\" target=\"_blank\" href=\"/autos/5973205-bmw-328\"></a><a class=\"js-bookmark-item-5973205\" data-remote=\"true\" rel=\"nofollow\" data-method=\"post\" href=\"/autos/5973205-bmw-328/bookmarks\"><div class=\"bookmarking\"></div></a><a class=\"hide js-unbookmark-item-5973205\" data-remote=\"true\" rel=\"nofollow\" data-method=\"delete\" href=\"/autos/5973205-bmw-328/bookmarks\"><div class=\"bookmarking added\"></div></a><div class=\"products-i__top\"><img alt=\"BMW 328\" loading=\"lazy\" src=\"https://turbo.azstatic.com/uploads/f460x343/2022%2F02%2F08%2F15%2F40%2F10%2Fb19dedc7-767a-4853-9352-0144caa7bb93%2F69405_DtKPZ9rnh4UU80jMoGAiWQ.jpg\" /><div class=\"products-i__label products-i__label--salon\">Salon</div><div class=\"products-i__info\"></div></div><div class=\"products-i__bottom\"><div class=\"products-i__price products-i__bottom-text\"><div class=\"product-price\">27 800 <span>AZN</span></div></div><div class=\"products-i__name products-i__bottom-text\">BMW 328</div><div class=\"products-i__attributes products-i__bottom-text\">2015, 2.0 L, 242 000 km</div><div class=\"products-i__datetime\">Bak\\xc4\\xb1, d\\xc3\\xbcn\\xc9\\x99n 15:45</div></div></div><div class=\"products-i salon\"><a class=\"products-i__link\" target=\"_blank\" href=\"/autos/5973175-hyundai-accent\"></a><a class=\"js-bookmark-item-5973175\" data-remote=\"true\" rel=\"nofollow\" data-method=\"post\" href=\"/autos/5973175-hyundai-accent/bookmarks\"><div class=\"bookmarking\"></div></a><a class=\"hide js-unbookmark-item-5973175\" data-remote=\"true\" rel=\"nofollow\" data-method=\"delete\" href=\"/autos/5973175-hyundai-accent/bookmarks\"><div class=\"bookmarking added\"></div></a><div class=\"products-i__top\"><img alt=\"Hyundai Accent\" loading=\"lazy\" src=\"https://turbo.azstatic.com/uploads/f460x343/2022%2F02%2F08%2F15%2F38%2F05%2F064f1ec3-daa5-4685-940c-fa1b6e0a393a%2F66557_1q1rvS-iiAuW-EzzoBmxpg.jpg\" /><div class=\"products-i__label products-i__label--salon\">Salon</div><div class=\"products-i__info\"></div></div><div class=\"products-i__bottom\"><div class=\"products-i__price products-i__bottom-text\"><div class=\"product-price\">17 800 <span>AZN</span></div></div><div class=\"products-i__name products-i__bottom-text\">Hyundai Accent</div><div class=\"products-i__attributes products-i__bottom-text\">2012, 1.4 L, 200 890 km</div><div class=\"products-i__datetime\">Bak\\xc4\\xb1, d\\xc3\\xbcn\\xc9\\x99n 15:42</div></div></div><div class=\"products-i salon\"><a class=\"products-i__link\" target=\"_blank\" href=\"/autos/5973158-bmw-x5\"></a><a class=\"js-bookmark-item-5973158\" data-remote=\"true\" rel=\"nofollow\" data-method=\"post\" href=\"/autos/5973158-bmw-x5/bookmarks\"><div class=\"bookmarking\"></div></a><a class=\"hide js-unbookmark-item-5973158\" data-remote=\"true\" rel=\"nofollow\" data-method=\"delete\" href=\"/autos/5973158-bmw-x5/bookmarks\"><div class=\"bookmarking added\"></div></a><div class=\"products-i__top\"><img alt=\"BMW X5\" loading=\"lazy\" src=\"https://turbo.azstatic.com/uploads/f460x343/2022%2F02%2F08%2F15%2F34%2F31%2Fcf3bea46-5fd5-45e5-ad34-d994921f1945%2F43703_KIG9ZxroJkHW4VURt9w9yw.jpg\" /><div class=\"products-i__label products-i__label--salon\">Salon</div><div class=\"products-i__info\"></div></div><div class=\"products-i__bottom\"><div class=\"products-i__price products-i__bottom-text\"><div class=\"product-price\">16 900 <span>AZN</span></div></div><div class=\"products-i__name products-i__bottom-text\">BMW X5</div><div class=\"products-i__attributes products-i__bottom-text\">2003, 3.0 L, 294 000 km</div><div class=\"products-i__datetime\">Bak\\xc4\\xb1, bug\\xc3\\xbcn 13:31</div></div></div><div class=\"products-i salon\"><a class=\"products-i__link\" target=\"_blank\" href=\"/autos/5973129-nissan-tiida\"></a><a class=\"js-bookmark-item-5973129\" data-remote=\"true\" rel=\"nofollow\" data-method=\"post\" href=\"/autos/5973129-nissan-tiida/bookmarks\"><div class=\"bookmarking\"></div></a><a class=\"hide js-unbookmark-item-5973129\" data-remote=\"true\" rel=\"nofollow\" data-method=\"delete\" href=\"/autos/5973129-nissan-tiida/bookmarks\"><div class=\"bookmarking added\"></div></a><div class=\"products-i__top\"><img alt=\"Nissan Tiida\" loading=\"lazy\" src=\"https://turbo.azstatic.com/uploads/f460x343/2022%2F02%2F08%2F15%2F29%2F28%2F9b91e845-d203-4f6d-8288-8dab08aca1ad%2F3877_1aQabraCEUCWAjfA4w8Y7w.jpg\" /><div class=\"products-i__label products-i__label--salon\">Salon</div><div class=\"products-i__info\"></div></div><div class=\"products-i__bottom\"><div class=\"products-i__price products-i__bottom-text\"><div class=\"product-price\">15 500 <span>AZN</span></div></div><div class=\"products-i__name products-i__bottom-text\">Nissan Tiida</div><div class=\"products-i__attributes products-i__bottom-text\">2008, 1.8 L, 105 000 km</div><div class=\"products-i__datetime\">Bak\\xc4\\xb1, bug\\xc3\\xbcn 15:28</div></div></div></div></div><div class=\"section-title\"><a href=\"https://tap.az/elanlar/neqliyyat/ehtiyyat-hisseleri-ve-aksesuarlar\" target=\"_blank\"><p class=\"section-title_name\">Ehtiyat hiss\\xc9\\x99l\\xc9\\x99ri v\\xc9\\x99 aksesuarlar</p></a></div><iframe class=\"embed embed--products\" frameborder=\"0\" src=\"https://tap.az/embed/turboaz.html?category=parts-accessories&amp;amp;block_type=ad-page\"></iframe><div class=\"section-title\"><a href=\"https://tap.az/all/consumer-electronics/phones\" target=\"_blank\"><p class=\"section-title_name\">Telefonlar 50 AZN-d\\xc9\\x99n</p></a></div><iframe class=\"embed embed--products\" frameborder=\"0\" src=\"https://tap.az/embed/turboaz.html?category=phones&amp;amp;block_type=ad-page\"></iframe></div><div class=\"reveal-modal reveal-modal_service\" id=\"pin_recovery_modal\"><div class=\"reveal-modal-popup\"><div class=\"title\"><span class=\"pin_recovery\">PIN-\\xc5\\x9fifr\\xc9\\x99nin b\\xc9\\x99rpas\\xc4\\xb1</span><div class=\"close-reveal-modal\"></div></div><div class=\"reveal-modal--content\"><div class=\"description\"><p>PIN-\\xc5\\x9fifr\\xc9\\x99ni SMS vasit\\xc9\\x99sil\\xc9\\x99 \\xc9\\x99ld\\xc9\\x99 etm\\xc9\\x99k.</p><p>Xidm\\xc9\\x99tin qiym\\xc9\\x99ti - <b>1 AZN</b>.</p></div><div class=\"prompt\" data-action=\"/payments/verify\"><label>Sizin elan\\xc4\\xb1n\\xc4\\xb1z\\xc4\\xb1n n\\xc3\\xb6mr\\xc9\\x99si</label><input type=\"text\" name=\"item_id\" id=\"item_id\" /><button name=\"button\" type=\"submit\" class=\"next\">Davam etm\\xc9\\x99k</button></div><div class=\"verification\"><span class=\"result\">Siz <a href=\\'/autos/5624701-kia-sorento\\'>Kia Sorento</a> elan \\xc3\\xbc\\xc3\\xa7\\xc3\\xbcn \\xc3\\xb6d\\xc9\\x99ni\\xc5\\x9f ke\\xc3\\xa7irirsiz</span><a class=\"change-id\" href=\"#\">(d\\xc9\\x99yi\\xc5\\x9fm\\xc9\\x99k)</a></div><input type=\"hidden\" name=\"payment[service_id]\" id=\"payment_service_id\" value=\"pin_recovery\" /><div class=\"payment-form\">\\n<div class=\"pay\">\\n    <div class=\"az-payments-form az-payments-form-azericard\" data-provider=\"azericard\">\\n      <form class=\"new_payment\" id=\"82e8d9190023337c4ea1a65cda90b716_new_payment\" action=\"/azericard\" accept-charset=\"UTF-8\" method=\"post\"><input name=\"utf8\" type=\"hidden\" value=\"&#x2713;\" /><input type=\"hidden\" name=\"authenticity_token\" value=\"z7t7cYXKtrOm+KPjbm47l8p8UF6uouJwFSs1c3aA2Kl81xWbWRYfg1nSp/WVNnjocHNFI1udwISQHNLxLlINOw==\" /><input value=\"false\" type=\"hidden\" name=\"payment[mobile]\" id=\"82e8d9190023337c4ea1a65cda90b716_payment_mobile\" /><input value=\"desktop\" type=\"hidden\" name=\"payment[medium]\" id=\"82e8d9190023337c4ea1a65cda90b716_payment_medium\" /><input type=\"hidden\" value=\"Ad\" name=\"payment[target_type]\" id=\"82e8d9190023337c4ea1a65cda90b716_payment_target_type\" /><input type=\"hidden\" value=\"5624701\" name=\"payment[target_id]\" id=\"82e8d9190023337c4ea1a65cda90b716_payment_target_id\" /><div class=\"az-payments-type\" data-priority=\"false\"><div class=\"az-payments-form-i az-payments-type-azericard\"><input class=\"az-payments-type-input\" data-tab=\".az-payments-form-azericard\" type=\"radio\" value=\"azericard\" name=\"payment[payment_provider]\" id=\"82e8d9190023337c4ea1a65cda90b716_payment_payment_provider_azericard\" /><label for=\"82e8d9190023337c4ea1a65cda90b716_payment_payment_provider_azericard\">Bank kart\\xc4\\xb1</label></div><div class=\"az-payments-form-i portmanat\"><input class=\"az-payments-type-input\" data-tab=\".az-payments-form-portmanat\" type=\"radio\" value=\"portmanat\" name=\"payment[payment_provider]\" id=\"82e8d9190023337c4ea1a65cda90b716_payment_payment_provider_portmanat\" /><label for=\"82e8d9190023337c4ea1a65cda90b716_payment_payment_provider_portmanat\">Portmanat</label></div><div class=\"az-payments-type-terminal\"><div class=\"az-payments-form-i js-payment-in-terminals-btn\"><span class=\"az-payments-form-i__info-icon\"></span><label class=\"providers-radio payment-in-terminals\">Terminallarda \\xc3\\xb6d\\xc9\\x99ni\\xc5\\x9f</label></div></div></div><div class=\"action\"><button name=\"button\" type=\"submit\">\\xc3\\x96d\\xc9\\x99</button><div class=\"terms\"><div class=\"terms-profile\">\\xc2\\xab\\xc3\\x96d\\xc9\\x99\\xc2\\xbb d\\xc3\\xbcym\\xc9\\x99sini s\\xc4\\xb1xmaqla siz Turbo.az-\\xc4\\xb1n <a target=\"_blank\" href=\"/pages/terms-and-conditions\">\\xc4\\xb0stifad\\xc9\\x99\\xc3\\xa7i raz\\xc4\\xb1la\\xc5\\x9fmas\\xc4\\xb1n\\xc4\\xb1</a> v\\xc9\\x99 <a target=\"_blank\" href=\"/pages/rules\">Qaydalar\\xc4\\xb1n\\xc4\\xb1</a> q\\xc9\\x99bul etdiyinizi t\\xc9\\x99sdiql\\xc9\\x99mi\\xc5\\x9f olursunuz.</div></div></div><div class=\"az-service\"><div class=\"az-service-i pin_recovery\"><input class=\"az-payments-service-input\" data-price=\"1\" type=\"radio\" value=\"pin_recovery\" checked=\"checked\" name=\"payment[service_id]\" id=\"82e8d9190023337c4ea1a65cda90b716_payment_service_id_pin_recovery\" /><label for=\"82e8d9190023337c4ea1a65cda90b716_payment_service_id_pin_recovery\"><span class=\"name\">PIN-\\xc5\\x9fifr\\xc9\\x99ni SMS vasit\\xc9\\x99sil\\xc9\\x99 \\xc9\\x99ld\\xc9\\x99 etm\\xc9\\x99k</span><span class=\"price\"> / 1,00 AZN</span> </label></div></div><div class=\"action\"><button name=\"button\" type=\"submit\">\\xc3\\x96d\\xc9\\x99</button></div></form>\\n    </div>\\n    <div class=\"az-payments-form az-payments-form-portmanat\" data-provider=\"portmanat\">\\n      <form class=\"new_payment\" id=\"dd67dff27e4cb4f2c7942cd27325ef9c_new_payment\" action=\"/portmanat\" accept-charset=\"UTF-8\" method=\"post\"><input name=\"utf8\" type=\"hidden\" value=\"&#x2713;\" /><input type=\"hidden\" name=\"authenticity_token\" value=\"06+MgcP/KWW2rEo8uaZX6qx4j8Y0yWdXARpJjLnqjLd62P8RxV+7mr7+oJaCanWSTE7avNYKJmh2xvc2ljeyjg==\" /><input value=\"false\" type=\"hidden\" name=\"payment[mobile]\" id=\"dd67dff27e4cb4f2c7942cd27325ef9c_payment_mobile\" /><input value=\"desktop\" type=\"hidden\" name=\"payment[medium]\" id=\"dd67dff27e4cb4f2c7942cd27325ef9c_payment_medium\" /><input type=\"hidden\" value=\"Ad\" name=\"payment[target_type]\" id=\"dd67dff27e4cb4f2c7942cd27325ef9c_payment_target_type\" /><input type=\"hidden\" value=\"5624701\" name=\"payment[target_id]\" id=\"dd67dff27e4cb4f2c7942cd27325ef9c_payment_target_id\" /><div class=\"az-payments-type\" data-priority=\"false\"><div class=\"az-payments-form-i az-payments-type-azericard\"><input class=\"az-payments-type-input\" data-tab=\".az-payments-form-azericard\" type=\"radio\" value=\"azericard\" name=\"payment[payment_provider]\" id=\"dd67dff27e4cb4f2c7942cd27325ef9c_payment_payment_provider_azericard\" /><label for=\"dd67dff27e4cb4f2c7942cd27325ef9c_payment_payment_provider_azericard\">Bank kart\\xc4\\xb1</label></div><div class=\"az-payments-form-i portmanat\"><input class=\"az-payments-type-input\" data-tab=\".az-payments-form-portmanat\" type=\"radio\" value=\"portmanat\" name=\"payment[payment_provider]\" id=\"dd67dff27e4cb4f2c7942cd27325ef9c_payment_payment_provider_portmanat\" /><label for=\"dd67dff27e4cb4f2c7942cd27325ef9c_payment_payment_provider_portmanat\">Portmanat</label></div><div class=\"az-payments-type-terminal\"><div class=\"az-payments-form-i js-payment-in-terminals-btn\"><span class=\"az-payments-form-i__info-icon\"></span><label class=\"providers-radio payment-in-terminals\">Terminallarda \\xc3\\xb6d\\xc9\\x99ni\\xc5\\x9f</label></div></div></div><div class=\"action\"><button name=\"button\" type=\"submit\">\\xc3\\x96d\\xc9\\x99</button><div class=\"terms\"><div class=\"terms-profile\">\\xc2\\xab\\xc3\\x96d\\xc9\\x99\\xc2\\xbb d\\xc3\\xbcym\\xc9\\x99sini s\\xc4\\xb1xmaqla siz Turbo.az-\\xc4\\xb1n <a target=\"_blank\" href=\"/pages/terms-and-conditions\">\\xc4\\xb0stifad\\xc9\\x99\\xc3\\xa7i raz\\xc4\\xb1la\\xc5\\x9fmas\\xc4\\xb1n\\xc4\\xb1</a> v\\xc9\\x99 <a target=\"_blank\" href=\"/pages/rules\">Qaydalar\\xc4\\xb1n\\xc4\\xb1</a> q\\xc9\\x99bul etdiyinizi t\\xc9\\x99sdiql\\xc9\\x99mi\\xc5\\x9f olursunuz.</div></div></div><div class=\"az-service\"><div class=\"az-service-i pin_recovery\"><input class=\"az-payments-service-input\" data-price=\"1\" type=\"radio\" value=\"pin_recovery\" checked=\"checked\" name=\"payment[service_id]\" id=\"dd67dff27e4cb4f2c7942cd27325ef9c_payment_service_id_pin_recovery\" /><label for=\"dd67dff27e4cb4f2c7942cd27325ef9c_payment_service_id_pin_recovery\"><span class=\"name\">PIN-\\xc5\\x9fifr\\xc9\\x99ni SMS vasit\\xc9\\x99sil\\xc9\\x99 \\xc9\\x99ld\\xc9\\x99 etm\\xc9\\x99k</span><span class=\"price\"> / 1,00 AZN</span> </label></div></div><div class=\"action\"><button name=\"button\" type=\"submit\">\\xc3\\x96d\\xc9\\x99</button></div></form>\\n    </div>\\n</div>\\n</div><div class=\"thank-you\"><p>T\\xc9\\x99\\xc5\\x9f\\xc9\\x99kk\\xc3\\xbcr edirik, \\xc3\\xb6d\\xc9\\x99ni\\xc5\\x9finiz q\\xc9\\x99bul olundu.</p><p>PIN-\\xc5\\x9fifr\\xc9\\x99 0503960060 n\\xc3\\xb6mr\\xc9\\x99sin\\xc9\\x99 g\\xc3\\xb6nd\\xc9\\x99rildi.</p></div><img class=\"spinner\" src=\"https://turbo.azstatic.com/assets/loading-e611bd10da5752d2c77c75664d6ec0cc16491d9d1d85012a753624374ccfeeae.gif\" /></div></div></div></div><div class=\"reveal-modal reveal-modal--terminal-promotion\" id=\"terminal-promotion-modal\"><div class=\"reveal-modal-popup\"><div class=\"terminal-promotion\"><div class=\"close-reveal-modal\"></div><div class=\"terminal-promotion__title\">Elan\\xc4\\xb1 terminal vasit\\xc9\\x99sil\\xc9\\x99 nec\\xc9\\x99 ir\\xc9\\x99lil\\xc9\\x99tm\\xc9\\x99k olar?</div><p class=\"terminal-promotion__go-to-terminal\">Elan\\xc4\\xb1n n\\xc3\\xb6mr\\xc9\\x99si il\\xc9\\x99 Milli\\xc3\\x96n v\\xc9\\x99 ya eManat terminal\\xc4\\xb1na yax\\xc4\\xb1nla\\xc5\\x9f\\xc4\\xb1n</p><div class=\"terminal-promotion__product-id\">5624701</div><div class=\"terminal-promotion__product-id-hint\">Sizin <a href=\"/autos/5624701-kia-sorento\">Kia Sorento</a> elan\\xc4\\xb1n\\xc4\\xb1z\\xc4\\xb1n n\\xc3\\xb6mr\\xc9\\x99si</div><div class=\"terminal-promotion__steps\"><p class=\"terminal-promotion__steps_i\"><span class=\"terminal-promotion__steps_row\"><span class=\"terminal-promotion__steps_number\">1</span><span class=\"terminal-promotion__steps_rule\">Terminal\\xc4\\xb1n ekran\\xc4\\xb1nda \\xe2\\x80\\x9c\\xc4\\xb0r\\xc9\\x99li\\xe2\\x80\\x9d d\\xc3\\xbcym\\xc9\\x99sini s\\xc4\\xb1x\\xc4\\xb1n</span></span></p><p class=\"terminal-promotion__steps_i\"><span class=\"terminal-promotion__steps_row\"><span class=\"terminal-promotion__steps_number\">2</span><span class=\"terminal-promotion__steps_rule\">\\xe2\\x80\\x9cElanlar v\\xc9\\x99 kuponlar\\xe2\\x80\\x9d b\\xc3\\xb6lm\\xc9\\x99sini se\\xc3\\xa7in</span></span></p><p class=\"terminal-promotion__steps_i\"><span class=\"terminal-promotion__steps_row\"><span class=\"terminal-promotion__steps_number\">3</span><span class=\"terminal-promotion__steps_rule\">A\\xc3\\xa7\\xc4\\xb1lan b\\xc3\\xb6lm\\xc9\\x99d\\xc9\\x99 \\xe2\\x80\\x9cTurbo.az\\xe2\\x80\\x9d-\\xc4\\xb1 se\\xc3\\xa7in</span></span></p><p class=\"terminal-promotion__steps_i\"><span class=\"terminal-promotion__steps_row\"><span class=\"terminal-promotion__steps_number\">4</span><span class=\"terminal-promotion__steps_rule\">Elan\\xc4\\xb1n\\xc4\\xb1z\\xc4\\xb1n n\\xc3\\xb6mr\\xc9\\x99sini daxil edin \\xe2\\x80\\x93 <span class=\"terminal-promotion__steps_product-id\">5624701</span></span></span></p><p class=\"terminal-promotion__steps_i\"><span class=\"terminal-promotion__steps_row\"><span class=\"terminal-promotion__steps_number\">5</span><span class=\"terminal-promotion__steps_rule\">Elan m\\xc9\\x99lumatlar\\xc4\\xb1n\\xc4\\xb1n d\\xc3\\xbczg\\xc3\\xbcnl\\xc3\\xbcy\\xc3\\xbcn\\xc9\\x99 \\xc9\\x99min olun</span></span></p><p class=\"terminal-promotion__steps_i\"><span class=\"terminal-promotion__steps_row\"><span class=\"terminal-promotion__steps_number\">6</span><span class=\"terminal-promotion__steps_rule\">Siyah\\xc4\\xb1dan laz\\xc4\\xb1m olan xidm\\xc9\\x99ti se\\xc3\\xa7in</span></span></p><p class=\"terminal-promotion__steps_i\"><span class=\"terminal-promotion__steps_row\"><span class=\"terminal-promotion__steps_number\">7</span><span class=\"terminal-promotion__steps_rule\">\\xe2\\x80\\x9cNa\\xc4\\x9fd pulla \\xc3\\xb6d\\xc9\\x99ni\\xc5\\x9f\\xe2\\x80\\x9d \\xc3\\xbcsulunu se\\xc3\\xa7in</span></span></p><p class=\"terminal-promotion__steps_i\"><span class=\"terminal-promotion__steps_row\"><span class=\"terminal-promotion__steps_number\">8</span><span class=\"terminal-promotion__steps_rule\">\\xc6\\x8fsginaslar\\xc4\\xb1 terminala daxil edin, \\xe2\\x80\\x9c\\xc4\\xb0r\\xc9\\x99li\\xe2\\x80\\x9d d\\xc3\\xbcym\\xc9\\x99sini s\\xc4\\xb1x\\xc4\\xb1n v\\xc9\\x99 \\xc3\\xa7eki g\\xc3\\xb6t\\xc3\\xbcr\\xc3\\xbcn</span></span></p></div><div class=\"terminal-promotion__back-btn js-terminal-back-btn\">Geriy\\xc9\\x99</div></div></div></div></div><div class=\"footer-container\"><div class=\"footer\"><div class=\"footer-info\"><p class=\"footer-agreement\"><a target=\"_blank\" href=\"/pages/terms-and-conditions\">\\xc4\\xb0stifad\\xc9\\x99\\xc3\\xa7i raz\\xc4\\xb1la\\xc5\\x9fmas\\xc4\\xb1</a></p><p class=\"footer-agreement\"><a target=\"_blank\" href=\"/pages/rules\">Qaydalar</a><a class=\"law\" target=\"_blank\" href=\"/pages/law\">Qanun</a></p><p class=\"footer-agreement\"><a target=\"_blank\" href=\"/pages/privacy\">M\\xc9\\x99xfilik siyas\\xc9\\x99ti</a></p><p class=\"copyright\"><span>&copy</span>2006-2022 Digital Classifieds MMC.<br>V\\xc3\\x96EN: 1405631661</p><p class=\"footer-phone\"><svg class=\"icon-svg icon-svg--phone\" xmlns=\"http://www.w3.org/2000/svg\"><use xlink:href=\"#phone\"></use></svg>(012) 599-08-01; (012) 505-77-55</p><p class=\"footer-email\"><a href=\"mailto:turbo@turbo.az\">turbo@turbo.az</a></p><p class=\"footer-mobile\"><a href=\"/autos/5624701-kia-sorento?mobile_site=1\">Mobil versiyas\\xc4\\xb1</a></p></div><div class=\"footer-text\"><p class=\"responsibility\">Sayt\\xc4\\xb1n Administrasiyas\\xc4\\xb1 reklam bannerl\\xc9\\x99rinin v\\xc9\\x99 yerl\\xc9\\x99\\xc5\\x9fdirilmi\\xc5\\x9f elanlar\\xc4\\xb1n m\\xc9\\x99zmununa g\\xc3\\xb6r\\xc9\\x99 m\\xc9\\x99suliyy\\xc9\\x99t da\\xc5\\x9f\\xc4\\xb1m\\xc4\\xb1r.</p><p class=\"ownership\">H\\xc9\\x99r hans\\xc4\\xb1 bir m\\xc9\\x99lumat\\xc4\\xb1, material\\xc4\\xb1 v\\xc9\\x99 foto\\xc5\\x9f\\xc9\\x99kili administrasiyan\\xc4\\xb1n yaz\\xc4\\xb1l\\xc4\\xb1 icaz\\xc9\\x99si olmadan istifad\\xc9\\x99 etm\\xc9\\x99k qeyri-qanuni hesab edil\\xc9\\x99c\\xc9\\x99k v\\xc9\\x99 Az\\xc9\\x99rbaycan Respublikas\\xc4\\xb1n\\xc4\\xb1n Qanunlar\\xc4\\xb1na \\xc9\\x99sas\\xc9\\x99n c\\xc9\\x99zaland\\xc4\\xb1r\\xc4\\xb1lacaqd\\xc4\\xb1r.</p><a target=\"_blank\" href=\"/pages/advert\">Reklam yerl\\xc9\\x99\\xc5\\x9fdirin</a></div><div class=\"footer-counter\"><a rel=\"nofollow noopener\" target=\"_blank\" href=\"https://www.liveinternet.ru/rating/az/auto/month.html\"><img title=\"LiveInternet: \\xd0\\xbf\\xd0\\xbe\\xd0\\xba\\xd0\\xb0\\xd0\\xb7\\xd0\\xb0\\xd0\\xbd\\xd0\\xbe \\xd0\\xba\\xd0\\xbe\\xd0\\xbb\\xd0\\xb8\\xd1\\x87\\xd0\\xb5\\xd1\\x81\\xd1\\x82\\xd0\\xb2\\xd0\\xbe \\xd0\\xbf\\xd1\\x80\\xd0\\xbe\\xd1\\x81\\xd0\\xbc\\xd0\\xbe\\xd1\\x82\\xd1\\x80\\xd0\\xbe\\xd0\\xb2 \\xd0\\xb8 \\xd0\\xbf\\xd0\\xbe\\xd1\\x81\\xd0\\xb5\\xd1\\x82\\xd0\\xb8\\xd1\\x82\\xd0\\xb5\\xd0\\xbb\\xd0\\xb5\\xd0\\xb9\" border=\"0\" width=\"88\" height=\"120\" src=\"//counter.yadro.ru/logo?27.6\" /></a></div></div></div><div id=\"js-lotriver-bg-banner\" data-hidden=\"true\" data-category-name=\"Offroader / SUV\" data-price=\"32700\" data-year=\"2012\" data-make=\"kia\" data-mileage=\"154000\" data-loan=\"\" data-barter=\"\" data-model=\"sorento\" data-fuel-type=\"Dizel\" data-transmission=\"Avtomat\" data-engine-volume=\"2000\"></div></div><div id=\"catfish\" data-hidden=\"true\" data-category-name=\"Offroader / SUV\" data-price=\"32700\" data-year=\"2012\" data-make=\"kia\" data-mileage=\"154000\" data-loan=\"\" data-barter=\"\" data-model=\"sorento\" data-fuel-type=\"Dizel\" data-transmission=\"Avtomat\" data-engine-volume=\"2000\"></div><iframe frameBorder=\"0\" height=\"1\" scrolling=\"no\" src=\"https://creativecdn.com/tags?id=pr_si26zyM0rfjkp2j8F0iJ_custom_usergroup_3\" style=\"display: none;\" width=\"1\"></iframe><div class=\"reveal-modal auth-modal\" id=\"js-auth-modal\"><div class=\"auth\"><span class=\"auth__close-btn js-auth-close-btn\"></span><div><div class=\"auth__logo\"></div><div class=\"auth__promo\">\\xc3\\x96z elanlar\\xc4\\xb1n\\xc4\\xb1za baxma\\xc4\\x9f\\xc4\\xb1n, onlar\\xc4\\xb1 redakt\\xc9\\x99 v\\xc9\\x99 b\\xc9\\x99rpa etm\\xc9\\x99yin rahat yolu</div><a class=\"auth__btn auth__btn--default\" href=\"https://hello.turbo.az//?return_to=aHR0cHM6Ly90dXJiby5hei9hdXRvcy81NjI0NzAxLWtpYS1zb3JlbnRv\">Telefon n\\xc3\\xb6mr\\xc9\\x99si il\\xc9\\x99 giri\\xc5\\x9f</a><a class=\"auth__btn auth__btn--business\" href=\"/session/new?origin=%2Fautos%2F5624701-kia-sorento\">Biznes hesab\\xc4\\xb1n\\xc4\\xb1za giri\\xc5\\x9f</a></div></div><div class=\"auth-confirmation\">Saytda avtorizasiyadan ke\\xc3\\xa7m\\xc9\\x99kl\\xc9\\x99 siz Turbo.az-\\xc4\\xb1n <a target=\"_blank\" href=\"/pages/terms-and-conditions\">\\xc4\\xb0stifad\\xc9\\x99\\xc3\\xa7i raz\\xc4\\xb1la\\xc5\\x9fmas\\xc4\\xb1n\\xc4\\xb1</a> v\\xc9\\x99 <a target=\"_blank\" href=\"/pages/rules\">Qaydalar\\xc4\\xb1n\\xc4\\xb1</a> q\\xc9\\x99bul etdiyinizi t\\xc9\\x99sdiql\\xc9\\x99mi\\xc5\\x9f olursunuz.</div></div></body></html>'"
            ]
          },
          "metadata": {},
          "execution_count": 14
        }
      ]
    },
    {
      "cell_type": "code",
      "source": [
        "len(responses)"
      ],
      "metadata": {
        "colab": {
          "base_uri": "https://localhost:8080/"
        },
        "id": "uz7xwtpIYFmZ",
        "outputId": "76791698-badf-408b-f44e-09a7fa32f7c4"
      },
      "execution_count": 15,
      "outputs": [
        {
          "output_type": "execute_result",
          "data": {
            "text/plain": [
              "3868"
            ]
          },
          "metadata": {},
          "execution_count": 15
        }
      ]
    },
    {
      "cell_type": "code",
      "source": [
        "htmls = []\n",
        "for x in range(len(responses)):\n",
        "  html = responses[x].content\n",
        "  htmls.append(html)"
      ],
      "metadata": {
        "id": "PY304SmIX64O"
      },
      "execution_count": 16,
      "outputs": []
    },
    {
      "cell_type": "markdown",
      "source": [
        "# Choosing a parser"
      ],
      "metadata": {
        "id": "3XHukQnwZ9kC"
      }
    },
    {
      "cell_type": "code",
      "source": [
        "soups = []\n",
        "for x in range(len(htmls)):\n",
        "  soup = BeautifulSoup(htmls[x], 'lxml')\n",
        "  soups.append(soup)"
      ],
      "metadata": {
        "id": "yR51HNwuXVBX"
      },
      "execution_count": 17,
      "outputs": []
    },
    {
      "cell_type": "markdown",
      "source": [
        "# Obtaining the element contains all the data"
      ],
      "metadata": {
        "id": "y5g4xzGadNBs"
      }
    },
    {
      "cell_type": "code",
      "source": [
        "with open('wiki_response.html', 'wb') as file:\n",
        "    file.write(soups[1].prettify('utf-8'))"
      ],
      "metadata": {
        "id": "D72g7FXFaBiY"
      },
      "execution_count": 20,
      "outputs": []
    },
    {
      "cell_type": "code",
      "source": [
        "divss = []\n",
        "for x in range(len(soups)):\n",
        "  div = soups[x].find_all('div', {'class': 'product-properties-container'})\n",
        "  divss.append(div)"
      ],
      "metadata": {
        "id": "t8wkG2aKXVDI"
      },
      "execution_count": 21,
      "outputs": []
    },
    {
      "cell_type": "markdown",
      "source": [
        "# Extracting"
      ],
      "metadata": {
        "id": "yyjKEsqOm97p"
      }
    },
    {
      "cell_type": "code",
      "source": [
        "city = []\n",
        "brand = []\n",
        "model = []\n",
        "year = []\n",
        "body_type = []\n",
        "color = []\n",
        "engine = []\n",
        "engine_power = []\n",
        "fuel_type = []\n",
        "kilometrage = []\n",
        "transmission = []\n",
        "drivetrain = []\n",
        "new = []\n",
        "price = []\n",
        "for x in divss:\n",
        "  try:\n",
        "    for i in range(1):\n",
        "      c = x[i].find_all('div', class_ = 'product-properties-value')\n",
        "      d = x[i].find_all('div', class_ = 'product-price')\n",
        "      city.append(c[0].string)\n",
        "      brand.append(c[1].string)\n",
        "      model.append(c[2].string)\n",
        "      year.append(c[3].string)\n",
        "      body_type.append(c[4].string)\n",
        "      color.append(c[5].string)\n",
        "      engine.append(c[6].string)\n",
        "      engine_power.append(c[7].string)\n",
        "      fuel_type.append(c[8].string)\n",
        "      kilometrage.append(c[9].string)\n",
        "      transmission.append(c[10].string)\n",
        "      drivetrain.append(c[11].string)\n",
        "      new.append(c[12].string)\n",
        "      price.append(d[0].text)\n",
        "  except:\n",
        "    pass"
      ],
      "metadata": {
        "id": "qDUAFmJB3ChY"
      },
      "execution_count": 44,
      "outputs": []
    },
    {
      "cell_type": "code",
      "source": [
        "len(price)"
      ],
      "metadata": {
        "colab": {
          "base_uri": "https://localhost:8080/"
        },
        "id": "Nd2lYcPO8Lwq",
        "outputId": "8975c50d-1eea-4a2e-c2cb-808213bfc6c4"
      },
      "execution_count": 53,
      "outputs": [
        {
          "output_type": "execute_result",
          "data": {
            "text/plain": [
              "3867"
            ]
          },
          "metadata": {},
          "execution_count": 53
        }
      ]
    },
    {
      "cell_type": "markdown",
      "source": [
        "# Export data in a structured form"
      ],
      "metadata": {
        "id": "54XEKYm9wRbz"
      }
    },
    {
      "cell_type": "code",
      "source": [
        "kia_cars = pd.DataFrame()\n",
        "kia_cars['city'] = city\n",
        "kia_cars['year'] = year\n",
        "kia_cars['brand'] = brand\n",
        "kia_cars['model'] = model\n",
        "kia_cars['color'] = color\n",
        "kia_cars['body_type'] = body_type\n",
        "kia_cars['engine'] = engine\n",
        "kia_cars['engine_power'] = engine_power\n",
        "kia_cars['fuel_type'] = fuel_type\n",
        "kia_cars['kilometrage'] = kilometrage\n",
        "kia_cars['transmission'] = transmission\n",
        "kia_cars['drivetrain'] = drivetrain\n",
        "kia_cars['new'] = new\n",
        "kia_cars['price'] = price"
      ],
      "metadata": {
        "id": "uXXkR1chwYze"
      },
      "execution_count": 47,
      "outputs": []
    },
    {
      "cell_type": "code",
      "source": [
        "kia_cars.head()"
      ],
      "metadata": {
        "colab": {
          "base_uri": "https://localhost:8080/",
          "height": 250
        },
        "id": "ebls0Q0-xZrZ",
        "outputId": "d8835688-d29d-49f8-9edf-9d044517434f"
      },
      "execution_count": 48,
      "outputs": [
        {
          "output_type": "execute_result",
          "data": {
            "text/html": [
              "\n",
              "  <div id=\"df-ba955bbc-20f2-46aa-b750-f2d38ef4c0c3\">\n",
              "    <div class=\"colab-df-container\">\n",
              "      <div>\n",
              "<style scoped>\n",
              "    .dataframe tbody tr th:only-of-type {\n",
              "        vertical-align: middle;\n",
              "    }\n",
              "\n",
              "    .dataframe tbody tr th {\n",
              "        vertical-align: top;\n",
              "    }\n",
              "\n",
              "    .dataframe thead th {\n",
              "        text-align: right;\n",
              "    }\n",
              "</style>\n",
              "<table border=\"1\" class=\"dataframe\">\n",
              "  <thead>\n",
              "    <tr style=\"text-align: right;\">\n",
              "      <th></th>\n",
              "      <th>city</th>\n",
              "      <th>year</th>\n",
              "      <th>brand</th>\n",
              "      <th>model</th>\n",
              "      <th>color</th>\n",
              "      <th>body_type</th>\n",
              "      <th>engine</th>\n",
              "      <th>engine_power</th>\n",
              "      <th>fuel_type</th>\n",
              "      <th>kilometrage</th>\n",
              "      <th>transmission</th>\n",
              "      <th>drivetrain</th>\n",
              "      <th>new</th>\n",
              "      <th>price</th>\n",
              "    </tr>\n",
              "  </thead>\n",
              "  <tbody>\n",
              "    <tr>\n",
              "      <th>0</th>\n",
              "      <td>Sumqayıt</td>\n",
              "      <td>2008</td>\n",
              "      <td>Kia</td>\n",
              "      <td>Ceed</td>\n",
              "      <td>Göy</td>\n",
              "      <td>Universal</td>\n",
              "      <td>1.6 L</td>\n",
              "      <td>115 a.g.</td>\n",
              "      <td>Dizel</td>\n",
              "      <td>167 055 km</td>\n",
              "      <td>Mexaniki</td>\n",
              "      <td>Ön</td>\n",
              "      <td>Xeyr</td>\n",
              "      <td>14 300 AZN</td>\n",
              "    </tr>\n",
              "    <tr>\n",
              "      <th>1</th>\n",
              "      <td>Bakı</td>\n",
              "      <td>2012</td>\n",
              "      <td>Kia</td>\n",
              "      <td>Sorento</td>\n",
              "      <td>Gümüşü</td>\n",
              "      <td>Offroader / SUV</td>\n",
              "      <td>2.0 L</td>\n",
              "      <td>170 a.g.</td>\n",
              "      <td>Dizel</td>\n",
              "      <td>154 000 km</td>\n",
              "      <td>Avtomat</td>\n",
              "      <td>Tam</td>\n",
              "      <td>Xeyr</td>\n",
              "      <td>32 700 AZN</td>\n",
              "    </tr>\n",
              "    <tr>\n",
              "      <th>2</th>\n",
              "      <td>Bakı</td>\n",
              "      <td>2015</td>\n",
              "      <td>Kia</td>\n",
              "      <td>Sorento</td>\n",
              "      <td>Ağ</td>\n",
              "      <td>Offroader / SUV</td>\n",
              "      <td>2.2 L</td>\n",
              "      <td>197 a.g.</td>\n",
              "      <td>Dizel</td>\n",
              "      <td>97 000 km</td>\n",
              "      <td>Avtomat</td>\n",
              "      <td>Tam</td>\n",
              "      <td>Xeyr</td>\n",
              "      <td>43 900 AZN</td>\n",
              "    </tr>\n",
              "    <tr>\n",
              "      <th>3</th>\n",
              "      <td>Sumqayıt</td>\n",
              "      <td>2008</td>\n",
              "      <td>Kia</td>\n",
              "      <td>Ceed</td>\n",
              "      <td>Gümüşü</td>\n",
              "      <td>Hetçbek / Liftbek</td>\n",
              "      <td>1.4 L</td>\n",
              "      <td>109 a.g.</td>\n",
              "      <td>Benzin</td>\n",
              "      <td>152 524 km</td>\n",
              "      <td>Mexaniki</td>\n",
              "      <td>Ön</td>\n",
              "      <td>Xeyr</td>\n",
              "      <td>13 200 AZN</td>\n",
              "    </tr>\n",
              "    <tr>\n",
              "      <th>4</th>\n",
              "      <td>Bakı</td>\n",
              "      <td>2013</td>\n",
              "      <td>Kia</td>\n",
              "      <td>Sorento</td>\n",
              "      <td>Ağ</td>\n",
              "      <td>Offroader / SUV</td>\n",
              "      <td>2.0 L</td>\n",
              "      <td>184 a.g.</td>\n",
              "      <td>Dizel</td>\n",
              "      <td>61 838 km</td>\n",
              "      <td>Avtomat</td>\n",
              "      <td>Tam</td>\n",
              "      <td>Xeyr</td>\n",
              "      <td>32 850 AZN</td>\n",
              "    </tr>\n",
              "  </tbody>\n",
              "</table>\n",
              "</div>\n",
              "      <button class=\"colab-df-convert\" onclick=\"convertToInteractive('df-ba955bbc-20f2-46aa-b750-f2d38ef4c0c3')\"\n",
              "              title=\"Convert this dataframe to an interactive table.\"\n",
              "              style=\"display:none;\">\n",
              "        \n",
              "  <svg xmlns=\"http://www.w3.org/2000/svg\" height=\"24px\"viewBox=\"0 0 24 24\"\n",
              "       width=\"24px\">\n",
              "    <path d=\"M0 0h24v24H0V0z\" fill=\"none\"/>\n",
              "    <path d=\"M18.56 5.44l.94 2.06.94-2.06 2.06-.94-2.06-.94-.94-2.06-.94 2.06-2.06.94zm-11 1L8.5 8.5l.94-2.06 2.06-.94-2.06-.94L8.5 2.5l-.94 2.06-2.06.94zm10 10l.94 2.06.94-2.06 2.06-.94-2.06-.94-.94-2.06-.94 2.06-2.06.94z\"/><path d=\"M17.41 7.96l-1.37-1.37c-.4-.4-.92-.59-1.43-.59-.52 0-1.04.2-1.43.59L10.3 9.45l-7.72 7.72c-.78.78-.78 2.05 0 2.83L4 21.41c.39.39.9.59 1.41.59.51 0 1.02-.2 1.41-.59l7.78-7.78 2.81-2.81c.8-.78.8-2.07 0-2.86zM5.41 20L4 18.59l7.72-7.72 1.47 1.35L5.41 20z\"/>\n",
              "  </svg>\n",
              "      </button>\n",
              "      \n",
              "  <style>\n",
              "    .colab-df-container {\n",
              "      display:flex;\n",
              "      flex-wrap:wrap;\n",
              "      gap: 12px;\n",
              "    }\n",
              "\n",
              "    .colab-df-convert {\n",
              "      background-color: #E8F0FE;\n",
              "      border: none;\n",
              "      border-radius: 50%;\n",
              "      cursor: pointer;\n",
              "      display: none;\n",
              "      fill: #1967D2;\n",
              "      height: 32px;\n",
              "      padding: 0 0 0 0;\n",
              "      width: 32px;\n",
              "    }\n",
              "\n",
              "    .colab-df-convert:hover {\n",
              "      background-color: #E2EBFA;\n",
              "      box-shadow: 0px 1px 2px rgba(60, 64, 67, 0.3), 0px 1px 3px 1px rgba(60, 64, 67, 0.15);\n",
              "      fill: #174EA6;\n",
              "    }\n",
              "\n",
              "    [theme=dark] .colab-df-convert {\n",
              "      background-color: #3B4455;\n",
              "      fill: #D2E3FC;\n",
              "    }\n",
              "\n",
              "    [theme=dark] .colab-df-convert:hover {\n",
              "      background-color: #434B5C;\n",
              "      box-shadow: 0px 1px 3px 1px rgba(0, 0, 0, 0.15);\n",
              "      filter: drop-shadow(0px 1px 2px rgba(0, 0, 0, 0.3));\n",
              "      fill: #FFFFFF;\n",
              "    }\n",
              "  </style>\n",
              "\n",
              "      <script>\n",
              "        const buttonEl =\n",
              "          document.querySelector('#df-ba955bbc-20f2-46aa-b750-f2d38ef4c0c3 button.colab-df-convert');\n",
              "        buttonEl.style.display =\n",
              "          google.colab.kernel.accessAllowed ? 'block' : 'none';\n",
              "\n",
              "        async function convertToInteractive(key) {\n",
              "          const element = document.querySelector('#df-ba955bbc-20f2-46aa-b750-f2d38ef4c0c3');\n",
              "          const dataTable =\n",
              "            await google.colab.kernel.invokeFunction('convertToInteractive',\n",
              "                                                     [key], {});\n",
              "          if (!dataTable) return;\n",
              "\n",
              "          const docLinkHtml = 'Like what you see? Visit the ' +\n",
              "            '<a target=\"_blank\" href=https://colab.research.google.com/notebooks/data_table.ipynb>data table notebook</a>'\n",
              "            + ' to learn more about interactive tables.';\n",
              "          element.innerHTML = '';\n",
              "          dataTable['output_type'] = 'display_data';\n",
              "          await google.colab.output.renderOutput(dataTable, element);\n",
              "          const docLink = document.createElement('div');\n",
              "          docLink.innerHTML = docLinkHtml;\n",
              "          element.appendChild(docLink);\n",
              "        }\n",
              "      </script>\n",
              "    </div>\n",
              "  </div>\n",
              "  "
            ],
            "text/plain": [
              "       city  year brand    model  ... transmission drivetrain   new       price\n",
              "0  Sumqayıt  2008   Kia     Ceed  ...     Mexaniki         Ön  Xeyr  14 300 AZN\n",
              "1      Bakı  2012   Kia  Sorento  ...      Avtomat        Tam  Xeyr  32 700 AZN\n",
              "2      Bakı  2015   Kia  Sorento  ...      Avtomat        Tam  Xeyr  43 900 AZN\n",
              "3  Sumqayıt  2008   Kia     Ceed  ...     Mexaniki         Ön  Xeyr  13 200 AZN\n",
              "4      Bakı  2013   Kia  Sorento  ...      Avtomat        Tam  Xeyr  32 850 AZN\n",
              "\n",
              "[5 rows x 14 columns]"
            ]
          },
          "metadata": {},
          "execution_count": 48
        }
      ]
    },
    {
      "cell_type": "code",
      "source": [
        "kia_cars.to_csv('kia_cars.csv', index = False , header = True)"
      ],
      "metadata": {
        "id": "Oxt1PbDdyF68"
      },
      "execution_count": 50,
      "outputs": []
    }
  ]
}